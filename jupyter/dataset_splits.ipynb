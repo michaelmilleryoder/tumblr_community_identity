{
 "cells": [
  {
   "cell_type": "markdown",
   "id": "ac493dcb-ecf3-4d6f-98da-7f3e599ffca4",
   "metadata": {
    "tags": []
   },
   "source": [
    "# Split dataset based on community breakdown of instances"
   ]
  },
  {
   "cell_type": "markdown",
   "id": "35d43492-3685-462c-833e-50d7f9e91f45",
   "metadata": {},
   "source": [
    "## Make a community match-only dataset for training"
   ]
  },
  {
   "cell_type": "code",
   "execution_count": 13,
   "id": "436c1e31-d428-4a89-8be6-5ef22cd2dd6e",
   "metadata": {},
   "outputs": [
    {
     "name": "stdout",
     "output_type": "stream",
     "text": [
      "82\n"
     ]
    },
    {
     "name": "stderr",
     "output_type": "stream",
     "text": [
      "/projects/tumblr_community_identity/code/conda_env/lib/python3.6/site-packages/IPython/core/interactiveshell.py:3072: DtypeWarning: Columns (12,29,38,42,51,54) have mixed types.Specify dtype option on import or set low_memory=False.\n",
      "  interactivity=interactivity, compiler=compiler, result=result)\n"
     ]
    },
    {
     "name": "stdout",
     "output_type": "stream",
     "text": [
      "(110922, 79)\n"
     ]
    },
    {
     "data": {
      "text/plain": [
       "(77547, 79)"
      ]
     },
     "execution_count": 13,
     "metadata": {},
     "output_type": "execute_result"
    }
   ],
   "source": [
    "# Load communities\n",
    "import pandas as pd\n",
    "\n",
    "commpath = '/data/tumblr_community_identity/dataset114k/louvain_communities.txt'\n",
    "comms = {}\n",
    "with open(commpath) as f:\n",
    "    for i,line in enumerate(f.read().splitlines()):\n",
    "        comms[i+1] = [int(tumblog_id) for tumblog_id in line.split()]\n",
    "print(len(comms))\n",
    "\n",
    "id2comm = {}\n",
    "for n, comm in comms.items():\n",
    "    for tumblog_id in comm:\n",
    "        id2comm[tumblog_id] = n\n",
    "        \n",
    "# Load reblog prediction dataset\n",
    "data_fpath = '/data/tumblr_community_identity/dataset114k/matched_reblogs_nonreblogs_dataset114k.csv'\n",
    "data = pd.read_csv(data_fpath)\n",
    "\n",
    "# Add community columns to reblog data\n",
    "for user in ['follower_reblog', 'followee_reblog', 'followee_nonreblog']:\n",
    "    data[f'community_{user}'] = data[f'tumblog_id_{user}'].map(id2comm.get)\n",
    "print(data.shape)\n",
    "\n",
    "# Filter dataset\n",
    "split_defs = [ # (name, description, query)\n",
    "    ('all3_match', 'All 3 match',\n",
    "    'community_follower_reblog == community_followee_reblog == community_followee_nonreblog'),\n",
    "    ('not_all3_match', \"At least one doesn't match\",\n",
    "    'community_follower_reblog != community_followee_reblog or '\n",
    "     'community_follower_reblog != community_followee_nonreblog or '\n",
    "        'community_followee_reblog != community_followee_nonreblog'),\n",
    "]\n",
    "splits = {}\n",
    "\n",
    "for name, desc, query in split_defs:\n",
    "    splits[name] = data.query(query)\n",
    "    \n",
    "splits['all3_match'].shape"
   ]
  },
  {
   "cell_type": "code",
   "execution_count": 14,
   "id": "3356957c-d01b-4116-a091-86f929f19c50",
   "metadata": {},
   "outputs": [
    {
     "data": {
      "text/plain": [
       "(33375, 79)"
      ]
     },
     "execution_count": 14,
     "metadata": {},
     "output_type": "execute_result"
    }
   ],
   "source": [
    "splits['not_all3_match'].shape"
   ]
  },
  {
   "cell_type": "code",
   "execution_count": 15,
   "id": "1e81cec4-04fc-467c-b87a-35d8162f8a5e",
   "metadata": {},
   "outputs": [],
   "source": [
    "# Save out\n",
    "# splits['all3_match'].to_csv('/data/tumblr_community_identity/dataset114k/matched_reblogs_variants/matched_reblogs_communities_match.csv')\n",
    "splits['not_all3_match'].to_csv('/data/tumblr_community_identity/dataset114k/matched_reblogs_variants/matched_reblogs_communities_no_match.csv')"
   ]
  },
  {
   "cell_type": "markdown",
   "id": "e9e15f39-5174-4b3a-9592-15440f0c8c6f",
   "metadata": {},
   "source": [
    "## Perfomance on existing dev set"
   ]
  },
  {
   "cell_type": "code",
   "execution_count": 1,
   "id": "cb926199-7377-4dff-8fb4-b8e80ff3259a",
   "metadata": {},
   "outputs": [
    {
     "name": "stderr",
     "output_type": "stream",
     "text": [
      "/projects/tumblr_community_identity/code/conda_env/lib/python3.6/site-packages/IPython/core/interactiveshell.py:3072: DtypeWarning: Columns (12,29,38,42,51,54) have mixed types.Specify dtype option on import or set low_memory=False.\n",
      "  interactivity=interactivity, compiler=compiler, result=result)\n"
     ]
    },
    {
     "name": "stdout",
     "output_type": "stream",
     "text": [
      "82\n"
     ]
    },
    {
     "data": {
      "text/plain": [
       "(110922, 79)"
      ]
     },
     "execution_count": 1,
     "metadata": {},
     "output_type": "execute_result"
    }
   ],
   "source": [
    "# Load dev set instances\n",
    "from sklearn.model_selection import train_test_split\n",
    "import pandas as pd\n",
    "\n",
    "# Load reblog prediction dataset\n",
    "data_fpath = '/data/tumblr_community_identity/dataset114k/matched_reblogs_nonreblogs_dataset114k.csv'\n",
    "data = pd.read_csv(data_fpath)\n",
    "\n",
    "# Load communities\n",
    "commpath = '/data/tumblr_community_identity/dataset114k/louvain_communities.txt'\n",
    "comms = {}\n",
    "with open(commpath) as f:\n",
    "    for i,line in enumerate(f.read().splitlines()):\n",
    "        comms[i+1] = [int(tumblog_id) for tumblog_id in line.split()]\n",
    "print(len(comms))\n",
    "\n",
    "id2comm = {}\n",
    "for n, comm in comms.items():\n",
    "    for tumblog_id in comm:\n",
    "        id2comm[tumblog_id] = n\n",
    "\n",
    "# Add community columns to reblog data\n",
    "for user in ['follower_reblog', 'followee_reblog', 'followee_nonreblog']:\n",
    "    data[f'community_{user}'] = data[f'tumblog_id_{user}'].map(id2comm.get)\n",
    "data.shape"
   ]
  },
  {
   "cell_type": "code",
   "execution_count": 2,
   "id": "4d8cfed4-963b-43d2-9e2f-a23a6d1334a1",
   "metadata": {},
   "outputs": [
    {
     "data": {
      "text/plain": [
       "0         0\n",
       "1         1\n",
       "2         0\n",
       "3         1\n",
       "4         1\n",
       "         ..\n",
       "110917    0\n",
       "110918    1\n",
       "110919    1\n",
       "110920    1\n",
       "110921    1\n",
       "Name: label, Length: 110922, dtype: int64"
      ]
     },
     "execution_count": 2,
     "metadata": {},
     "output_type": "execute_result"
    }
   ],
   "source": [
    "# Load gold labels\n",
    "import numpy as np\n",
    "\n",
    "def add_random_labels(data):\n",
    "    \"\"\" Add random 0 and 1 labels for ordering reblog/nonreblogs\n",
    "        for learning-to-rank organization \"\"\"\n",
    "    half_len = int(len(data)/2)\n",
    "    np.random.seed(9)\n",
    "    labels = [0]*half_len + [1]*half_len\n",
    "    np.random.shuffle(labels)\n",
    "    data['label'] = labels\n",
    "    return data\n",
    "\n",
    "data = add_random_labels(data)\n",
    "data.label"
   ]
  },
  {
   "cell_type": "code",
   "execution_count": 3,
   "id": "754dcabd-b07e-4168-9120-a8c7a7eb8b9e",
   "metadata": {},
   "outputs": [
    {
     "name": "stdout",
     "output_type": "stream",
     "text": [
      "(66552, 80)\n",
      "(22185, 80)\n",
      "(22185, 80)\n"
     ]
    }
   ],
   "source": [
    "# Split into train and test sets\n",
    "train, test = train_test_split(\n",
    "    data, test_size=.2, random_state=9)\n",
    "train, dev, = train_test_split(\n",
    "    train, test_size=len(test), random_state=9)\n",
    "print(train.shape)\n",
    "print(dev.shape)\n",
    "print(test.shape)"
   ]
  },
  {
   "cell_type": "code",
   "execution_count": 4,
   "id": "34cb9e19-03cb-4bfe-867e-eb7ab018b978",
   "metadata": {},
   "outputs": [
    {
     "data": {
      "text/plain": [
       "(22185,)"
      ]
     },
     "execution_count": 4,
     "metadata": {},
     "output_type": "execute_result"
    }
   ],
   "source": [
    "# Load predictions\n",
    "preds_path = '/projects/tumblr_community_identity/output/post+text_unigrams_lr/dev_preds.txt'\n",
    "preds = np.loadtxt(preds_path)\n",
    "preds.shape"
   ]
  },
  {
   "cell_type": "code",
   "execution_count": 6,
   "id": "32a7178f-73e6-4b6d-aabb-1497c98dbbcb",
   "metadata": {},
   "outputs": [
    {
     "name": "stdout",
     "output_type": "stream",
     "text": [
      "All 3 match: 15467,  69.7% (15467/22185)\n",
      "At least one doesn't match: 6718,  30.3% (6718/22185)\n",
      "Followees don't match, but follower matches one: 5160,  23.3% (5160/22185)\n",
      "Reblog followee matches only follower: 3022,  13.6% (3022/22185)\n",
      "Reblog followee matches only non-follower: 2138,  9.6% (2138/22185)\n"
     ]
    }
   ],
   "source": [
    "# Compare predictions with labels\n",
    "dev['pred'] = preds\n",
    "dev['correct'] = dev['pred']==dev['label']\n",
    "dev['correct']\n",
    "\n",
    "# Get dev set community makeup\n",
    "# Split when communities do and don't match\n",
    "split_defs = [ # (name, description, query)\n",
    "    ('all3_match', 'All 3 match',\n",
    "    'community_follower_reblog == community_followee_reblog == community_followee_nonreblog'),\n",
    "    ('not_all3_match', \"At least one doesn't match\",\n",
    "    'community_follower_reblog != community_followee_reblog or '\n",
    "     'community_follower_reblog != community_followee_nonreblog or '\n",
    "        'community_followee_reblog != community_followee_nonreblog'),\n",
    "    ('follower_matches_someone', \"Followees don't match, but follower matches one\", \n",
    "     'community_followee_reblog != community_followee_nonreblog and '\n",
    "                                                '(community_follower_reblog == community_followee_reblog or '\n",
    "                                                 'community_follower_reblog == community_followee_nonreblog)'),\n",
    "    ('reblogger_match', 'Reblog followee matches only follower', 'community_follower_reblog == community_followee_reblog '\n",
    "                                             'and community_follower_reblog != community_followee_nonreblog'),\n",
    "    ('nonreblogger_match', 'Reblog followee matches only non-follower', 'community_follower_reblog != community_followee_reblog '\n",
    "                                             'and community_follower_reblog == community_followee_nonreblog'),\n",
    "]\n",
    "splits = {}\n",
    "\n",
    "for name, desc, query in split_defs:\n",
    "    splits[name] = dev.query(query)\n",
    "    print(f'{desc}: {len(splits[name])}, {len(splits[name])/len(dev): .1%} ({len(splits[name])}/{len(dev)})')"
   ]
  },
  {
   "cell_type": "code",
   "execution_count": 7,
   "id": "8ff756a3-2155-4b7d-9f8a-b764b7a66868",
   "metadata": {},
   "outputs": [
    {
     "name": "stdout",
     "output_type": "stream",
     "text": [
      "All 3 match correct:  59.5% (9196/15467)\n",
      "At least one doesn't match correct:  60.9% (4093/6718)\n",
      "Followees don't match, but follower matches one correct:  60.8% (3139/5160)\n",
      "Reblog followee matches only follower correct:  60.6% (1830/3022)\n",
      "Reblog followee matches only non-follower correct:  61.2% (1309/2138)\n"
     ]
    }
   ],
   "source": [
    "# Breakdown in correct proportion\n",
    "for name, desc, _ in split_defs:\n",
    "    num = splits[name]['correct'].sum()\n",
    "    den = len(splits[name])\n",
    "    print(f'{desc} correct: {num/den: .1%} ({num}/{den})')"
   ]
  },
  {
   "cell_type": "code",
   "execution_count": 9,
   "id": "5e242a3a-df49-4f86-ad37-7365475313b1",
   "metadata": {},
   "outputs": [
    {
     "data": {
      "text/plain": [
       "Ttest_indResult(statistic=-0.4852741123775066, pvalue=0.6275025262877671)"
      ]
     },
     "execution_count": 9,
     "metadata": {},
     "output_type": "execute_result"
    }
   ],
   "source": [
    "# Test for significance between follower matches reblogger's community and doesn't\n",
    "from scipy.stats import ttest_ind\n",
    "ttest_ind(splits['reblogger_match']['correct'], splits['nonreblogger_match']['correct'])"
   ]
  },
  {
   "cell_type": "code",
   "execution_count": 8,
   "id": "7c77fddc-e26c-4c20-8db8-78ea897c3ee3",
   "metadata": {},
   "outputs": [
    {
     "data": {
      "text/plain": [
       "Ttest_indResult(statistic=-2.053164524748214, pvalue=0.04006832435079456)"
      ]
     },
     "execution_count": 8,
     "metadata": {},
     "output_type": "execute_result"
    }
   ],
   "source": [
    "# Test for significance between all 3 match and those that don't\n",
    "from scipy.stats import ttest_ind\n",
    "ttest_ind(splits['all3_match']['correct'], splits['not_all3_match']['correct'])"
   ]
  }
 ],
 "metadata": {
  "kernelspec": {
   "display_name": "Python 3",
   "language": "python",
   "name": "python3"
  },
  "language_info": {
   "codemirror_mode": {
    "name": "ipython",
    "version": 3
   },
   "file_extension": ".py",
   "mimetype": "text/x-python",
   "name": "python",
   "nbconvert_exporter": "python",
   "pygments_lexer": "ipython3",
   "version": "3.6.12"
  }
 },
 "nbformat": 4,
 "nbformat_minor": 5
}
