{
 "cells": [
  {
   "cell_type": "markdown",
   "metadata": {},
   "source": [
    "# Check for multicollinearity among features"
   ]
  },
  {
   "cell_type": "code",
   "execution_count": 15,
   "metadata": {},
   "outputs": [
    {
     "data": {
      "text/plain": [
       "(66538, 6)"
      ]
     },
     "execution_count": 15,
     "metadata": {},
     "output_type": "execute_result"
    }
   ],
   "source": [
    "# Load experimental dataset\n",
    "import pickle\n",
    "\n",
    "path = '/projects/tumblr_community_identity/tmp/post_tags+comms_unigrams_lr_data.pkl'\n",
    "with open(path, 'rb') as f:\n",
    "    X_train, y_train, X_dev, y_dev, X_test, y_test = pickle.load(f)\n",
    "X_train.shape"
   ]
  },
  {
   "cell_type": "code",
   "execution_count": 16,
   "metadata": {},
   "outputs": [
    {
     "data": {
      "text/html": [
       "<div>\n",
       "<style scoped>\n",
       "    .dataframe tbody tr th:only-of-type {\n",
       "        vertical-align: middle;\n",
       "    }\n",
       "\n",
       "    .dataframe tbody tr th {\n",
       "        vertical-align: top;\n",
       "    }\n",
       "\n",
       "    .dataframe thead th {\n",
       "        text-align: right;\n",
       "    }\n",
       "</style>\n",
       "<table border=\"1\" class=\"dataframe\">\n",
       "  <thead>\n",
       "    <tr style=\"text-align: right;\">\n",
       "      <th></th>\n",
       "      <th>factor0</th>\n",
       "      <th>factor1</th>\n",
       "      <th>factor2</th>\n",
       "      <th>factor3</th>\n",
       "      <th>factor4</th>\n",
       "      <th>comm_match_follower-followee</th>\n",
       "    </tr>\n",
       "  </thead>\n",
       "  <tbody>\n",
       "    <tr>\n",
       "      <th>0</th>\n",
       "      <td>-0.001475</td>\n",
       "      <td>-0.003261</td>\n",
       "      <td>0.000722</td>\n",
       "      <td>-0.002868</td>\n",
       "      <td>-0.004665</td>\n",
       "      <td>-0.000249</td>\n",
       "    </tr>\n",
       "    <tr>\n",
       "      <th>1</th>\n",
       "      <td>-0.001475</td>\n",
       "      <td>-0.003261</td>\n",
       "      <td>0.000722</td>\n",
       "      <td>-0.002868</td>\n",
       "      <td>-0.004665</td>\n",
       "      <td>-0.000249</td>\n",
       "    </tr>\n",
       "    <tr>\n",
       "      <th>2</th>\n",
       "      <td>-0.001475</td>\n",
       "      <td>-0.003261</td>\n",
       "      <td>0.000722</td>\n",
       "      <td>-0.002868</td>\n",
       "      <td>-0.004665</td>\n",
       "      <td>-0.000249</td>\n",
       "    </tr>\n",
       "    <tr>\n",
       "      <th>3</th>\n",
       "      <td>-0.001475</td>\n",
       "      <td>-0.003261</td>\n",
       "      <td>0.000722</td>\n",
       "      <td>-0.002868</td>\n",
       "      <td>-0.004665</td>\n",
       "      <td>-2.074561</td>\n",
       "    </tr>\n",
       "    <tr>\n",
       "      <th>4</th>\n",
       "      <td>-0.001475</td>\n",
       "      <td>-0.003261</td>\n",
       "      <td>0.000722</td>\n",
       "      <td>-0.002868</td>\n",
       "      <td>-0.004665</td>\n",
       "      <td>-0.000249</td>\n",
       "    </tr>\n",
       "    <tr>\n",
       "      <th>...</th>\n",
       "      <td>...</td>\n",
       "      <td>...</td>\n",
       "      <td>...</td>\n",
       "      <td>...</td>\n",
       "      <td>...</td>\n",
       "      <td>...</td>\n",
       "    </tr>\n",
       "    <tr>\n",
       "      <th>66533</th>\n",
       "      <td>0.066341</td>\n",
       "      <td>0.383799</td>\n",
       "      <td>-0.024714</td>\n",
       "      <td>0.045792</td>\n",
       "      <td>0.118698</td>\n",
       "      <td>2.074062</td>\n",
       "    </tr>\n",
       "    <tr>\n",
       "      <th>66534</th>\n",
       "      <td>-0.001475</td>\n",
       "      <td>-0.003261</td>\n",
       "      <td>0.000722</td>\n",
       "      <td>-0.002868</td>\n",
       "      <td>-0.004665</td>\n",
       "      <td>-2.074561</td>\n",
       "    </tr>\n",
       "    <tr>\n",
       "      <th>66535</th>\n",
       "      <td>-0.001475</td>\n",
       "      <td>-0.003261</td>\n",
       "      <td>0.000722</td>\n",
       "      <td>-0.002868</td>\n",
       "      <td>-0.004665</td>\n",
       "      <td>-0.000249</td>\n",
       "    </tr>\n",
       "    <tr>\n",
       "      <th>66536</th>\n",
       "      <td>-0.001475</td>\n",
       "      <td>-0.003261</td>\n",
       "      <td>0.000722</td>\n",
       "      <td>-0.002868</td>\n",
       "      <td>-0.004665</td>\n",
       "      <td>-0.000249</td>\n",
       "    </tr>\n",
       "    <tr>\n",
       "      <th>66537</th>\n",
       "      <td>-0.001475</td>\n",
       "      <td>-0.003261</td>\n",
       "      <td>0.000722</td>\n",
       "      <td>-0.002868</td>\n",
       "      <td>-0.004665</td>\n",
       "      <td>-0.000249</td>\n",
       "    </tr>\n",
       "  </tbody>\n",
       "</table>\n",
       "<p>66538 rows × 6 columns</p>\n",
       "</div>"
      ],
      "text/plain": [
       "        factor0   factor1   factor2   factor3   factor4  \\\n",
       "0     -0.001475 -0.003261  0.000722 -0.002868 -0.004665   \n",
       "1     -0.001475 -0.003261  0.000722 -0.002868 -0.004665   \n",
       "2     -0.001475 -0.003261  0.000722 -0.002868 -0.004665   \n",
       "3     -0.001475 -0.003261  0.000722 -0.002868 -0.004665   \n",
       "4     -0.001475 -0.003261  0.000722 -0.002868 -0.004665   \n",
       "...         ...       ...       ...       ...       ...   \n",
       "66533  0.066341  0.383799 -0.024714  0.045792  0.118698   \n",
       "66534 -0.001475 -0.003261  0.000722 -0.002868 -0.004665   \n",
       "66535 -0.001475 -0.003261  0.000722 -0.002868 -0.004665   \n",
       "66536 -0.001475 -0.003261  0.000722 -0.002868 -0.004665   \n",
       "66537 -0.001475 -0.003261  0.000722 -0.002868 -0.004665   \n",
       "\n",
       "       comm_match_follower-followee  \n",
       "0                         -0.000249  \n",
       "1                         -0.000249  \n",
       "2                         -0.000249  \n",
       "3                         -2.074561  \n",
       "4                         -0.000249  \n",
       "...                             ...  \n",
       "66533                      2.074062  \n",
       "66534                     -2.074561  \n",
       "66535                     -0.000249  \n",
       "66536                     -0.000249  \n",
       "66537                     -0.000249  \n",
       "\n",
       "[66538 rows x 6 columns]"
      ]
     },
     "execution_count": 16,
     "metadata": {},
     "output_type": "execute_result"
    }
   ],
   "source": [
    "import pandas as pd\n",
    "df = pd.DataFrame(X_train, columns=[f'factor{i}' for i in range(5)] + ['comm_match_follower-followee'])\n",
    "df"
   ]
  },
  {
   "cell_type": "code",
   "execution_count": 19,
   "metadata": {},
   "outputs": [
    {
     "name": "stdout",
     "output_type": "stream",
     "text": [
      "factor0\n",
      "1.0000075145879785\n",
      "1.039175959206089e-17\n",
      "-69.34031918606424\n",
      "205.17869276323248\n",
      "\n",
      "factor1\n",
      "1.000007514587718\n",
      "9.39730090277568e-18\n",
      "-61.507230554150524\n",
      "28.912657795221122\n",
      "\n",
      "factor2\n",
      "1.0000075145878806\n",
      "4.591862941129025e-18\n",
      "-41.973429601321286\n",
      "43.63687051616032\n",
      "\n",
      "factor3\n",
      "1.0000075145879364\n",
      "7.42173196298761e-18\n",
      "-28.0980183039563\n",
      "32.23440654910987\n",
      "\n",
      "factor4\n",
      "1.0000075145878413\n",
      "-5.099103614858394e-18\n",
      "-22.329827289891597\n",
      "35.50683132816204\n",
      "\n",
      "comm_match_follower-followee\n",
      "1.000007514587963\n",
      "1.5590976497786924e-17\n",
      "-2.0745608474127666\n",
      "2.0740620499860447\n",
      "\n"
     ]
    }
   ],
   "source": [
    "for col in df.columns:\n",
    "    print(col)\n",
    "    print(df[col].std())\n",
    "    print(df[col].mean())\n",
    "    print(df[col].min())\n",
    "    print(df[col].max())\n",
    "    print()"
   ]
  },
  {
   "cell_type": "code",
   "execution_count": 12,
   "metadata": {},
   "outputs": [
    {
     "data": {
      "text/html": [
       "<div>\n",
       "<style scoped>\n",
       "    .dataframe tbody tr th:only-of-type {\n",
       "        vertical-align: middle;\n",
       "    }\n",
       "\n",
       "    .dataframe tbody tr th {\n",
       "        vertical-align: top;\n",
       "    }\n",
       "\n",
       "    .dataframe thead th {\n",
       "        text-align: right;\n",
       "    }\n",
       "</style>\n",
       "<table border=\"1\" class=\"dataframe\">\n",
       "  <thead>\n",
       "    <tr style=\"text-align: right;\">\n",
       "      <th></th>\n",
       "      <th>factor0</th>\n",
       "      <th>factor1</th>\n",
       "      <th>factor2</th>\n",
       "      <th>factor3</th>\n",
       "      <th>factor4</th>\n",
       "      <th>comm_match_follower-followee</th>\n",
       "    </tr>\n",
       "  </thead>\n",
       "  <tbody>\n",
       "    <tr>\n",
       "      <th>factor0</th>\n",
       "      <td>1.00</td>\n",
       "      <td>-0.08</td>\n",
       "      <td>0.02</td>\n",
       "      <td>0.06</td>\n",
       "      <td>0.03</td>\n",
       "      <td>-0.00</td>\n",
       "    </tr>\n",
       "    <tr>\n",
       "      <th>factor1</th>\n",
       "      <td>-0.08</td>\n",
       "      <td>1.00</td>\n",
       "      <td>-0.02</td>\n",
       "      <td>-0.02</td>\n",
       "      <td>-0.09</td>\n",
       "      <td>0.01</td>\n",
       "    </tr>\n",
       "    <tr>\n",
       "      <th>factor2</th>\n",
       "      <td>0.02</td>\n",
       "      <td>-0.02</td>\n",
       "      <td>1.00</td>\n",
       "      <td>-0.01</td>\n",
       "      <td>-0.01</td>\n",
       "      <td>0.02</td>\n",
       "    </tr>\n",
       "    <tr>\n",
       "      <th>factor3</th>\n",
       "      <td>0.06</td>\n",
       "      <td>-0.02</td>\n",
       "      <td>-0.01</td>\n",
       "      <td>1.00</td>\n",
       "      <td>0.04</td>\n",
       "      <td>-0.01</td>\n",
       "    </tr>\n",
       "    <tr>\n",
       "      <th>factor4</th>\n",
       "      <td>0.03</td>\n",
       "      <td>-0.09</td>\n",
       "      <td>-0.01</td>\n",
       "      <td>0.04</td>\n",
       "      <td>1.00</td>\n",
       "      <td>-0.01</td>\n",
       "    </tr>\n",
       "    <tr>\n",
       "      <th>comm_match_follower-followee</th>\n",
       "      <td>-0.00</td>\n",
       "      <td>0.01</td>\n",
       "      <td>0.02</td>\n",
       "      <td>-0.01</td>\n",
       "      <td>-0.01</td>\n",
       "      <td>1.00</td>\n",
       "    </tr>\n",
       "  </tbody>\n",
       "</table>\n",
       "</div>"
      ],
      "text/plain": [
       "                              factor0  factor1  factor2  factor3  factor4  \\\n",
       "factor0                          1.00    -0.08     0.02     0.06     0.03   \n",
       "factor1                         -0.08     1.00    -0.02    -0.02    -0.09   \n",
       "factor2                          0.02    -0.02     1.00    -0.01    -0.01   \n",
       "factor3                          0.06    -0.02    -0.01     1.00     0.04   \n",
       "factor4                          0.03    -0.09    -0.01     0.04     1.00   \n",
       "comm_match_follower-followee    -0.00     0.01     0.02    -0.01    -0.01   \n",
       "\n",
       "                              comm_match_follower-followee  \n",
       "factor0                                              -0.00  \n",
       "factor1                                               0.01  \n",
       "factor2                                               0.02  \n",
       "factor3                                              -0.01  \n",
       "factor4                                              -0.01  \n",
       "comm_match_follower-followee                          1.00  "
      ]
     },
     "execution_count": 12,
     "metadata": {},
     "output_type": "execute_result"
    }
   ],
   "source": [
    "df.corr().round(2)"
   ]
  },
  {
   "cell_type": "markdown",
   "metadata": {
    "heading_collapsed": "true",
    "tags": []
   },
   "source": [
    "# PCA on post baseline hashtags\n",
    "Now integrated into extract_features.py"
   ]
  },
  {
   "cell_type": "code",
   "execution_count": 1,
   "metadata": {},
   "outputs": [
    {
     "name": "stderr",
     "output_type": "stream",
     "text": [
      "/projects/tumblr_community_identity/code/conda_env/lib/python3.6/site-packages/IPython/core/interactiveshell.py:3072: DtypeWarning: Columns (12,29,38,42,51,54) have mixed types.Specify dtype option on import or set low_memory=False.\n",
      "  interactivity=interactivity, compiler=compiler, result=result)\n"
     ]
    },
    {
     "data": {
      "text/plain": [
       "['post_tags_reblog_str', 'post_tags_nonreblog_str']"
      ]
     },
     "execution_count": 1,
     "metadata": {},
     "output_type": "execute_result"
    }
   ],
   "source": [
    "# Load baseline hashtag features\n",
    "import pandas as pd\n",
    "data = pd.read_csv('/data/tumblr_community_identity/dataset114k/matched_reblogs_nonreblogs_dataset114k.csv')\n",
    "[col for col in data.columns if 'tags' in col]"
   ]
  },
  {
   "cell_type": "code",
   "execution_count": 4,
   "metadata": {},
   "outputs": [
    {
     "name": "stdout",
     "output_type": "stream",
     "text": [
      "6543\n"
     ]
    }
   ],
   "source": [
    "# Load hashtag vectorizer\n",
    "import pickle\n",
    "\n",
    "vec_fpath = '/projects/tumblr_community_identity/tmp/post_tag_names_vec.pkl'\n",
    "with open(vec_fpath, 'rb') as f:\n",
    "    vec = pickle.load(f)\n",
    "print(len(vec.get_feature_names()))"
   ]
  },
  {
   "cell_type": "code",
   "execution_count": 2,
   "metadata": {},
   "outputs": [],
   "source": [
    "def string_list2str(string_list):\n",
    "    \"\"\" Convert a list in string form, like '[one, two]', to a space-separated\n",
    "        string of the items. For exampel '[one, two]' -> 'one two'\n",
    "    \"\"\"\n",
    "    if isinstance(string_list, float):\n",
    "        return ''\n",
    "    return ' '.join(string_list[1:-1].split(', '))"
   ]
  },
  {
   "cell_type": "code",
   "execution_count": 6,
   "metadata": {},
   "outputs": [
    {
     "data": {
      "text/plain": [
       "(199658, 6543)"
      ]
     },
     "execution_count": 6,
     "metadata": {},
     "output_type": "execute_result"
    }
   ],
   "source": [
    "from sklearn.model_selection import train_test_split\n",
    "import scipy.sparse\n",
    "\n",
    "data['post_tags_reblog'] = data['post_tags_reblog_str'].map(string_list2str)\n",
    "data['post_tags_nonreblog'] = data['post_tags_nonreblog_str'].map(string_list2str)\n",
    "data_train, data_test = train_test_split(data, test_size=.1, random_state=9)\n",
    "\n",
    "X_train = scipy.sparse.vstack([vec.transform(data_train['post_tags_reblog']), vec.transform(data_train['post_tags_nonreblog'])])\n",
    "X_train.shape"
   ]
  },
  {
   "cell_type": "code",
   "execution_count": 8,
   "metadata": {},
   "outputs": [],
   "source": [
    "# Learn PCA\n",
    "from sklearn.decomposition import TruncatedSVD\n",
    "\n",
    "svd = TruncatedSVD(10)\n",
    "reduced = svd.fit_transform(X_train)"
   ]
  },
  {
   "cell_type": "code",
   "execution_count": 9,
   "metadata": {},
   "outputs": [
    {
     "data": {
      "text/plain": [
       "(10, 6543)"
      ]
     },
     "execution_count": 9,
     "metadata": {},
     "output_type": "execute_result"
    }
   ],
   "source": [
    "svd.components_.shape"
   ]
  },
  {
   "cell_type": "code",
   "execution_count": 12,
   "metadata": {},
   "outputs": [],
   "source": [
    "import numpy as np\n",
    "\n",
    "def feats_for_factors(feature_names, pca, n_factors=20, n_feats=40):\n",
    "    top = np.flip(np.argsort(pca.components_)[:n_factors, -1*n_feats:], axis=1)\n",
    "    vec = np.vectorize(lambda x: feature_names[x])\n",
    "    return vec(top)"
   ]
  },
  {
   "cell_type": "code",
   "execution_count": 14,
   "metadata": {},
   "outputs": [
    {
     "data": {
      "text/plain": [
       "array([['tumblr', 'com', 'https', 'media', 'height', 'width', 'jpg',\n",
       "        'url', '78', 'data', '66', 'src', '500', '75', 'figure',\n",
       "        'caption', '100', '400', 'false', 'exif', 'is_panorama',\n",
       "        'original_size', 'alt_sizes', '250', 'blockquote', 'img', '640',\n",
       "        'image', 'alt', '540', 'post', 'http', 'mexico', 'the', 'href',\n",
       "        'you', 'class', 'mentions', 'tags', 'format'],\n",
       "       ['and', 'the', 'to', 'of', 'this', 'it', 'is', 'my', 'you', 'so',\n",
       "        'in', 'data', 'me', 'for', 'that', 'but', 'people', 'like', 'br',\n",
       "        'by', 'love', 'was', 'on', 'with', 'just', 'src', 'all', 'not',\n",
       "        'he', 'be', 'have', 'they', 'are', 'can', 'at', 'art', 'one',\n",
       "        'about', 'im', 'figure'],\n",
       "       ['data', 'src', 'figure', '78', '500', 'img', 'image', 'alt',\n",
       "        'mexico', 'jpg', 'you', 'thank', '333', 'png', 'blockquote',\n",
       "        'know', 'target', 'half', 'where', 'class', 'tumblr_blog',\n",
       "        'post', 'culture', 'writer', 'colors', 'food', 'title', 'write',\n",
       "        'say', 'href', 'writing', 'our', 'kind', 'went', 'any', 'those',\n",
       "        'part', 've', 'http', 'only'],\n",
       "       ['and', 'br', 'people', 'by', 'emotional', 'wise', 'lack',\n",
       "        'natural', 'constant', 'social', 'over', 'data', 'respect',\n",
       "        'aries', 'control', 'high', 'mind', 'trying', 'self', 'charm',\n",
       "        'their', 'wisdom', 'knowledge', 'given', 'resources', 'problems',\n",
       "        'innocent', 'conversation', 'inner', 'everybody', 'inspiring',\n",
       "        'fix', 'deep', 'src', 'future', 'personal', '78', 'blockquote',\n",
       "        'white', 'black'],\n",
       "       ['the', 'of', 'sims', 'br', 'by', '66', 'jpg', 'imagine',\n",
       "        'people', 'ts4', 'and', 'rings', 'lord', 'legacy', 'doctor',\n",
       "        '100', 'star', 'best', 'evil', 'data', 'gameplay', 'world',\n",
       "        'emotional', 'hobbit', 'zone', 'legend', 'milk', 'lotr', 'one',\n",
       "        'series', 'avengers', 'vs', 'korra', 'last', 'forces', 'bellamy',\n",
       "        'wise', 'lack', 'end', 'loud'],\n",
       "       ['66', 'jpg', 'data', 'src', 'of', 'figure', 'my', '500',\n",
       "        'houses', 'celtic', 'image', 'alt', 'img', '400', 'dreams',\n",
       "        'mexico', 'to', 'as', '640', 'you', 'books', 'li', 'shows',\n",
       "        'choices', 'netflix', '600', 'thank', 'but', 'life', 'body',\n",
       "        'songs', 'target', 'love', 'has', 'polish', 'honestly',\n",
       "        'traditional', 'positivity', 'changed', 'know'],\n",
       "       ['gay', 'girls', 'art', 'sexy', 'porn', 'hot', 'love', 'sex',\n",
       "        'girl', 'beautiful', 'my', 'cute', 'teen', 'big', 'pretty',\n",
       "        'video', 'the', 'ass', 'tits', 'nude', 'gif', 'quotes', 'teens',\n",
       "        'nsfw', 'black', 'anal', 'asian', 'cock', 'pussy', 'porno',\n",
       "        'men', '18', 'dick', 'naked', 'boy', 'legs', 'nudes', 'boys',\n",
       "        'women', 'babe'],\n",
       "       ['art', 'love', 'my', 'this', 'is', 'of', 'quotes', 'the', 'and',\n",
       "        'so', 'br', 'by', 'fan', 'fanart', 'oh', 'good', 'people',\n",
       "        'digital', 'god', 'data', 'illustration', 'artists', 'aesthetic',\n",
       "        'much', 'painting', 'hero', 'artist', 'tumblr', 'quote', 'heart',\n",
       "        'drawing', 'amazing', 'bnha', 'photography', 'academia',\n",
       "        'design', 'history', 'op', 'src', 'look'],\n",
       "       ['this', 'is', 'love', 'so', 'gay', 'quotes', 'and', 'sexy',\n",
       "        'girls', 'cute', 'the', 'hot', 'beautiful', 'porn', 'jpg', 'sex',\n",
       "        'much', 'br', 'pretty', 'about', 'he', 'good', 'people', 'teen',\n",
       "        'video', 'data', 'girl', 'fucking', 'by', 'big', 'him', 'tits',\n",
       "        'teens', '66', 'media', 'omg', 'why', 'men', 'src', 'porno'],\n",
       "       ['love', 'you', 'quotes', 'gay', 'me', 'for', 'much', 'quote',\n",
       "        'him', 'so', 'about', 'the', 're', 'them', 'all', 'thank', 'of',\n",
       "        'her', 'your', 'words', 'do', 'life', 'boyfriend', 'nice',\n",
       "        'reader', 'to', 'queue', 'couple', 'bucky', 'movie', 'are',\n",
       "        'relationship', 'give', 'when', 'good', 'spilled', 'incorrect',\n",
       "        'man', 'follow', 'happy']], dtype='<U13')"
      ]
     },
     "execution_count": 14,
     "metadata": {},
     "output_type": "execute_result"
    }
   ],
   "source": [
    "factor_loadings = feats_for_factors(vec.get_feature_names(), svd)\n",
    "factor_loadings"
   ]
  },
  {
   "cell_type": "markdown",
   "metadata": {
    "heading_collapsed": "true",
    "tags": []
   },
   "source": [
    "# Check for pairs with specific terms (from domain-specific unigram features)"
   ]
  },
  {
   "cell_type": "code",
   "execution_count": 1,
   "metadata": {
    "scrolled": true,
    "tags": []
   },
   "outputs": [
    {
     "name": "stderr",
     "output_type": "stream",
     "text": [
      "/projects/tumblr_community_identity/code/conda_env/lib/python3.6/site-packages/IPython/core/interactiveshell.py:3072: DtypeWarning: Columns (12,29,38,42,51,54) have mixed types.Specify dtype option on import or set low_memory=False.\n",
      "  interactivity=interactivity, compiler=compiler, result=result)\n"
     ]
    },
    {
     "name": "stdout",
     "output_type": "stream",
     "text": [
      "82\n"
     ]
    }
   ],
   "source": [
    "# Load pairs of blog descriptions\n",
    "import pandas as pd\n",
    "\n",
    "path = '/data/tumblr_community_identity/dataset114k/matched_reblogs_nonreblogs_dataset114k.csv'\n",
    "pairs = pd.read_csv(path)\n",
    "# pairs\n",
    "\n",
    "# desc_cols = [col for col in pairs.columns if 'description' in col and not 'processed' in col]\n",
    "desc_cols = [col for col in pairs.columns if 'description' in col and 'processed' in col]\n",
    "# desc_cols\n",
    "\n",
    "id_cols = [col for col in pairs.columns if 'tumblog_id' in col]\n",
    "# id_cols\n",
    "\n",
    "# Load communities\n",
    "commpath = '/data/tumblr_community_identity/dataset114k/louvain_communities.txt'\n",
    "with open(commpath) as f:\n",
    "    comms = [[int(tumblog_id) for tumblog_id in comm.split()] for comm in f.read().splitlines()]\n",
    "print(len(comms))\n",
    "# comms[0]"
   ]
  },
  {
   "cell_type": "code",
   "execution_count": 5,
   "metadata": {},
   "outputs": [
    {
     "data": {
      "text/html": [
       "<div>\n",
       "<style scoped>\n",
       "    .dataframe tbody tr th:only-of-type {\n",
       "        vertical-align: middle;\n",
       "    }\n",
       "\n",
       "    .dataframe tbody tr th {\n",
       "        vertical-align: top;\n",
       "    }\n",
       "\n",
       "    .dataframe thead th {\n",
       "        text-align: right;\n",
       "    }\n",
       "</style>\n",
       "<table border=\"1\" class=\"dataframe\">\n",
       "  <thead>\n",
       "    <tr style=\"text-align: right;\">\n",
       "      <th></th>\n",
       "      <th>processed_tumblr_blog_description_follower_reblog</th>\n",
       "      <th>processed_tumblr_blog_description_followee_reblog</th>\n",
       "      <th>processed_tumblr_blog_description_followee_nonreblog</th>\n",
       "    </tr>\n",
       "  </thead>\n",
       "  <tbody>\n",
       "    <tr>\n",
       "      <th>45787</th>\n",
       "      <td>just trying to make new friends everyday</td>\n",
       "      <td>guhh ... ? my name is ande [ he/him ] , 24 . isfj . i 'm just me and kind of exist and like everything .</td>\n",
       "      <td>i 'm a * cough-cough * year old shy , geeky , introverted `` bear '' . i 've been with my huzbear ( i think the term is cute ) for almost 18 years ... wow , time flies . i do n't have any singular 'fandom ' ; i like to think my interests are fairly broad . if you see what i post , you 'll get an idea of what i enjoy . it 's just a bunch of stuff i find interesting , fun , odd and/or sexy . there 's no rhyme or reason to it - much like my brain . i might even post something i know absolutely nothing about just because it looks neat . feel free to drop a note , a question , a comment , a photo , a `` hi '' or whatever . i 'll answer just about anything as honestly and openly as i can . you should be at least 18 years old to view some of this stuff . there is a lot of naughty stuff here . not safe for work . most are images i 've picked up elsewhere .</td>\n",
       "    </tr>\n",
       "    <tr>\n",
       "      <th>104586</th>\n",
       "      <td>men i dream about ! if i accidentally post an image that you own , please let me know and i 'll remove it .</td>\n",
       "      <td>hello . so ... i 'm refocusing this tumblr . material will be at most a hard r , but no longer ☓ for anything new . pretty gay , loads of wieners , soft and hard , but nothing overtly sexual from now onwards . still nsfw , so caution and your own discretion a must .</td>\n",
       "      <td>nsfw over 18 only . men only🍆💦please reblog and follow me</td>\n",
       "    </tr>\n",
       "    <tr>\n",
       "      <th>43000</th>\n",
       "      <td>thanks for checking out my blog .. this is me seen through various different forms of expression . each posting has a piece of me incased in it ! message me , i 'll write back . : ) anon is ok too . get to know me ! - jai kik : jaixboixrl snapchat : jaixboixrl</td>\n",
       "      <td>cali boy with new york dreams ...</td>\n",
       "      <td>hi there ! welcome to my page where i mainly reblog stuff and some times post rants about life . if you want to talk or get to know me , message me !</td>\n",
       "    </tr>\n",
       "    <tr>\n",
       "      <th>65655</th>\n",
       "      <td>getting started , new to this : thanks for your patience . re-blogging to start , 25 yrs of archives to come . adult blog ! under age leave now !</td>\n",
       "      <td>it 's so fapping good for you !</td>\n",
       "      <td>probably the hottest things you ’ ll watch today ffollow me for more ! 😜💦🇳🇱here</td>\n",
       "    </tr>\n",
       "    <tr>\n",
       "      <th>30946</th>\n",
       "      <td>21 years old~ gay🌈new yorker turned cali ( long beach ) ~ just a few boring selfies and things that peak my interests .</td>\n",
       "      <td>local tired boy ( tm ) i draw and do other stuff . do n't really know where i 'm going , but it 's somewhere . wan na come with me ? it 'll be fun , probably .</td>\n",
       "      <td>aquele gordinho lindo , charmoso , tesudo , gostoso e maravilhoso que eu amo ❤🐻😍 sou 👉🏿 interior sp 🇧🇷</td>\n",
       "    </tr>\n",
       "    <tr>\n",
       "      <th>50443</th>\n",
       "      <td>bit of a chav , bit of an exhibitionist ! like to show off myself and my boyfriend . you 'll see some of us and some reblogging of things that turn me on . feel free to reblog my posts ( i get a thrill from it really )</td>\n",
       "      <td>my wank bank . my selfie aviators</td>\n",
       "      <td>manchester/leeds , uk . 20 . butts and other things i like ( but mostly butts ) |🦄👨🏻‍🔬✌🏻| whorifices for porn | me | insta | - new name , same ho</td>\n",
       "    </tr>\n",
       "    <tr>\n",
       "      <th>57764</th>\n",
       "      <td>i am new to tumblr ! not really sure how to use it ... but anyways , im gerardo i am : 20 yrs old 5'10 thats it for now lol</td>\n",
       "      <td>ig : da_danieladame</td>\n",
       "      <td>mexicano🇲🇽 . anime , butts and chingaderas , tagged/ me . feel free to ask , trying to make friends ! don ’ t follow me if you ’ re under 18 , or you ’ ll be blocked .</td>\n",
       "    </tr>\n",
       "    <tr>\n",
       "      <th>2798</th>\n",
       "      <td>the name is jacob/pup kirby , i 'm 22 , and live in san antonio . i am the proud sir/alpha to 2 amazing pups , kai and rowan . my posts are selfies , butts , cuties , bearded men , pokemon , anime , funny things . nsfw you youngins , so i must ask you politely to go away . chat me up . i love new friends . snapchat or kik ?</td>\n",
       "      <td>chicago based blog that is really just an expression of me . basically a window into me ... damn that was kinda deep . i have been looking at tumblr accounts and decided that it is time that i do one.if there is a picture of you that you want removed , please let me know . also , this is nsfw and 18+ only . i hope you enjoy ! ! !</td>\n",
       "      <td>( nsfw ) i am a bipoly pagan cub from the portland , oregon area . if you want to see what i 'm into , follow my other blog elven cub house ( @ cuboftheelvenvariety ) . for my artistic side check out @ elvengallery . feel free to ask me anything or just say hi . i love interacting with my followers . wish list , you buy it , i 'll model it out or use it for you ( or use it on someone else for you ) http : --amazon-com-registry-wishlist-112iqvlctx8ec</td>\n",
       "    </tr>\n",
       "    <tr>\n",
       "      <th>28107</th>\n",
       "      <td>i 'm jim parker , i 've been writing and shooting photos &amp; videos for over a decade . i 'm now looking to put more content out , sharing the bits that have been held back as well as create new series .</td>\n",
       "      <td>adults only if you are under 18 go away !</td>\n",
       "      <td>bearded/furry/sexy/hot handsome men of all shapes and sizes ... enjoy ! `` must be 18 yrs . or older to view ! '' most if not all pic 's taken from other blog 's or the net , if any pic 's need to be removed of yourself , i 'll do so ! ! to all who follows ... thanks enjoy !</td>\n",
       "    </tr>\n",
       "    <tr>\n",
       "      <th>67573</th>\n",
       "      <td>jockstrap lover northern new jersey here any other guys in new jersey ? ? ? ?</td>\n",
       "      <td>vers/btm guy here that likes long , sweaty , connected sessions of marathon sex . or a quick fuck or bj if you promise we 'll do the other stuff later . you 'll be back .</td>\n",
       "      <td>only guys who fuck real</td>\n",
       "    </tr>\n",
       "    <tr>\n",
       "      <th>81885</th>\n",
       "      <td>always up for making new friends snapchat user : mjnasso . i 'm a 24 year old taken gaymer from miami . : )</td>\n",
       "      <td>gay bear mean bilder ... porno ... love ... sex ... ich suche keine sexuelle partner ... bin nur zum spaß hir .. hier ok</td>\n",
       "      <td>not appropriate for people under the legal age to view adult items . if you stay and look be over 18 . all materials posted here came from the web and their subjects are assumed to be over the age of 18 . i do not claim copyright of any pictures : should you find a photo or video of yourself ( or a photo/video that you own ) on this site , and you wish to have it removed , simply send me a message with a link to the item in question and i 'll take it down immediately . thanks and enjoy my blog !</td>\n",
       "    </tr>\n",
       "    <tr>\n",
       "      <th>28588</th>\n",
       "      <td>just a laid back , horny , bi dude that loves his thick , beefy , stocky , curvy boys and girls .... i am a sucker for big asses , big cocks , wet pussies , big tits and horniness ! ! ! to bad that new york city does help with my addiction ! coming soon : a new blog featuring real , amateur thick/beefy/stocky latino and black men from the bronx snapchat : chubbythickpa</td>\n",
       "      <td>none of these are mine . if one is yours and would like it taken down , i ’ ll take it down no questions asked . nsfw 18+ . submissions welcomed . kik : warnerrobbins</td>\n",
       "      <td>horny bi dude that loves eating all types of holes .. sharing images and videos that make my hole wink , and my cock tingle . feel free to send me your pics i love getting straight cock 's , pussy 's , ass holes ! living in orange county if your around the area i 'm down to suck # str8 discretely http : --bendaz11-tumblr-com-archive</td>\n",
       "    </tr>\n",
       "    <tr>\n",
       "      <th>83011</th>\n",
       "      <td>just a teddy bear with a variety of interest . you 'll see a picture of me here and there but i mostly reblog things i find on the internet . if you want something taken down , just ask !</td>\n",
       "      <td>thanks for coming to my page , it consists of men , sex , anime , all the things i love in life , do n't forget to reblog if you see something you like , and do n't forget to message me ! ! i 'm always open to making and meeting new friends , let 's have some fun ! ! ! 😘</td>\n",
       "      <td>hi , hello , bonjour , hola ... i 'm donny dukes , a 5'10 330lbs bi ( bicurious ) southern fried french black teddy bear of a man outta new orleans , louisiana in america , on here to save , fave , reblog and repost my favorite pics and vids as well as post my own stuff ( mind you some of my stuff may contain nudity ) ... my ethnic background is of african-american , french , irish , haitian , brazilian &amp; portuguese descent ... i am somewhat trilingual ( i know english , spanish and french ) ... i 'm a 2 time grad with degrees in english literature &amp; general studies with majors in psychology , law , asl &amp; computers ... on other social medias i 'm known as poppadaddypiscean ( ig ) , donny `` the cajunteddy '' dukes ( fb ) , dukes_87 ( twitter ) , &amp; don.dukes87 ( skype ) ... things i like and like doing include food ( especially anyhing cajun , like crawfish and shrimp , nachos and pizza ) watching and reading movies , shows and books about mystery , horror , suspense and action as well as books on psychology , law , mythology ( greek &amp; roman ) and foreign language ... musicwise , i love anything that sounds good , but esp rock and country music as well as r and b and indie ... love anything disney , cartoon network , nickelodeon , marvel , dc comics &amp; capcom as well as classical art and fan art ... love studing new languages , playing piano and drums , powerwalking , writing my own poems and song lyrics , surfing the web ( mostly youtube ) and karate and wrestling ( esp wwe ) ... i know judo , tae kwon do , and bo staff with black belts in all three ... got a big obsession for shoes esp timbalands , cowboy boots , sneakers ( particularly nike air force 1s ) dress shoes and clogs ... but most of all i love love love video games ( especiall fighting games like street fighter , tekken , mortal kombat , pokemon , zelda &amp; mario ) as well as playing the ps4 &amp; nintendo ds ... things i hate and hate to do include racists , bigots , ppl who bash on the lgbt community , bullies ( cyberbullying ) , arrogance , politics , mathematics &amp; violence and bitchassness of any kind ... sexually i 'm an aggressive ( sometimes submissive ) bi bootsexual who love both men and women especially big ppl ... not usually into twinks , musclehunks , and skinner guys but depending on your personality alone i 'd go for them and really anybody for that matter that can oppositely match my introvertness and mysterious nature ... i like my women big usually and women who like wearing stilettos and high heels to bed as well as women who can cook and is strong and independent ... as for my men i love bears , cubs , otters and chubs of all sizes and racial backgrounds esp leather bears and daddies ) , men who love wearing boots , sneakers and sandals to bed while fucking and masturbating are a huge cum-gusher for me ( in fact its the only thing that turns me on ) and big men in suits and dress clothes and shoes makes me cum all ova too , and it a big plus if they have beards ... turn offs include girls who fart and belch , over-domination , not being in control of my own body while having sex , ppl who dont wash or bathe , watersports ( pissing ) , scat ( shit ) , blood , ppl who fuck and jerk off in their socks , stinky gentalia and ppl who are boring , dull , rude and immature ... i hate sexually thirsty ppl and size queens most of all ... i by no means hate transpeople , cis , or fem men , they 're the shit and all , but sexually arent for me ... i think that 's all i have to say about me , hopefully i answered all of your questions , if you have any more hit me up in my tumblr dm on here or the social medias i mention up top ... note : i dont respond to blank profiles , show me a current or recent photo or 2 of your face and we 'll talk ... i dont respond to one worders in my dm ( i.e . hey , hi , sup , wyd ? , yo etc ) as well as endearments ( i.e . baby , honey , sweetie , sugar , sweetheart , daddy , papa , buddy , pal etc ) ... plz ask me first b4 using and posting my personal gpoy pics on your blog or you will be blocked , reported , and legalized ... keep your judgemental , bigot , &amp; racist ass comments and questions to your fucking self ... if i post anything that is yours or personally offends you hit me up and ill gladly take it down , but be warned that anything you post belongs to the public eye to save , screenshot and repost back up without your permission , so be super careful about what you post ... this is a nsfw blog , meaning no one under 18 is allowed , if you are i suggest you leave the premises now and never return ( until you 're of legal age that is ) ... well that 's all folks , have a nice day and enjoy : ) - donny dukes</td>\n",
       "    </tr>\n",
       "  </tbody>\n",
       "</table>\n",
       "</div>"
      ],
      "text/plain": [
       "                                                                                                                                                                                                                                                                                                                                          processed_tumblr_blog_description_follower_reblog  \\\n",
       "45787                                                                                                                                                                                                                                                                                                                                              just trying to make new friends everyday   \n",
       "104586                                                                                                                                                                                                                                                                          men i dream about ! if i accidentally post an image that you own , please let me know and i 'll remove it .   \n",
       "43000                                                                                                                  thanks for checking out my blog .. this is me seen through various different forms of expression . each posting has a piece of me incased in it ! message me , i 'll write back . : ) anon is ok too . get to know me ! - jai kik : jaixboixrl snapchat : jaixboixrl   \n",
       "65655                                                                                                                                                                                                                                     getting started , new to this : thanks for your patience . re-blogging to start , 25 yrs of archives to come . adult blog ! under age leave now !   \n",
       "30946                                                                                                                                                                                                                                                               21 years old~ gay🌈new yorker turned cali ( long beach ) ~ just a few boring selfies and things that peak my interests .   \n",
       "50443                                                                                                                                                            bit of a chav , bit of an exhibitionist ! like to show off myself and my boyfriend . you 'll see some of us and some reblogging of things that turn me on . feel free to reblog my posts ( i get a thrill from it really )   \n",
       "57764                                                                                                                                                                                                                                                           i am new to tumblr ! not really sure how to use it ... but anyways , im gerardo i am : 20 yrs old 5'10 thats it for now lol   \n",
       "2798                                                  the name is jacob/pup kirby , i 'm 22 , and live in san antonio . i am the proud sir/alpha to 2 amazing pups , kai and rowan . my posts are selfies , butts , cuties , bearded men , pokemon , anime , funny things . nsfw you youngins , so i must ask you politely to go away . chat me up . i love new friends . snapchat or kik ?   \n",
       "28107                                                                                                                                                                             i 'm jim parker , i 've been writing and shooting photos & videos for over a decade . i 'm now looking to put more content out , sharing the bits that have been held back as well as create new series .   \n",
       "67573                                                                                                                                                                                                                                                                                                         jockstrap lover northern new jersey here any other guys in new jersey ? ? ? ?   \n",
       "81885                                                                                                                                                                                                                                                                           always up for making new friends snapchat user : mjnasso . i 'm a 24 year old taken gaymer from miami . : )   \n",
       "28588   just a laid back , horny , bi dude that loves his thick , beefy , stocky , curvy boys and girls .... i am a sucker for big asses , big cocks , wet pussies , big tits and horniness ! ! ! to bad that new york city does help with my addiction ! coming soon : a new blog featuring real , amateur thick/beefy/stocky latino and black men from the bronx snapchat : chubbythickpa   \n",
       "83011                                                                                                                                                                                           just a teddy bear with a variety of interest . you 'll see a picture of me here and there but i mostly reblog things i find on the internet . if you want something taken down , just ask !   \n",
       "\n",
       "                                                                                                                                                                                                                                                                                                  processed_tumblr_blog_description_followee_reblog  \\\n",
       "45787                                                                                                                                                                                                                                      guhh ... ? my name is ande [ he/him ] , 24 . isfj . i 'm just me and kind of exist and like everything .   \n",
       "104586                                                                   hello . so ... i 'm refocusing this tumblr . material will be at most a hard r , but no longer ☓ for anything new . pretty gay , loads of wieners , soft and hard , but nothing overtly sexual from now onwards . still nsfw , so caution and your own discretion a must .   \n",
       "43000                                                                                                                                                                                                                                                                                                             cali boy with new york dreams ...   \n",
       "65655                                                                                                                                                                                                                                                                                                               it 's so fapping good for you !   \n",
       "30946                                                                                                                                                                               local tired boy ( tm ) i draw and do other stuff . do n't really know where i 'm going , but it 's somewhere . wan na come with me ? it 'll be fun , probably .   \n",
       "50443                                                                                                                                                                                                                                                                                                             my wank bank . my selfie aviators   \n",
       "57764                                                                                                                                                                                                                                                                                                                           ig : da_danieladame   \n",
       "2798    chicago based blog that is really just an expression of me . basically a window into me ... damn that was kinda deep . i have been looking at tumblr accounts and decided that it is time that i do one.if there is a picture of you that you want removed , please let me know . also , this is nsfw and 18+ only . i hope you enjoy ! ! !   \n",
       "28107                                                                                                                                                                                                                                                                                                     adults only if you are under 18 go away !   \n",
       "67573                                                                                                                                                                    vers/btm guy here that likes long , sweaty , connected sessions of marathon sex . or a quick fuck or bj if you promise we 'll do the other stuff later . you 'll be back .   \n",
       "81885                                                                                                                                                                                                                      gay bear mean bilder ... porno ... love ... sex ... ich suche keine sexuelle partner ... bin nur zum spaß hir .. hier ok   \n",
       "28588                                                                                                                                                                        none of these are mine . if one is yours and would like it taken down , i ’ ll take it down no questions asked . nsfw 18+ . submissions welcomed . kik : warnerrobbins   \n",
       "83011                                                               thanks for coming to my page , it consists of men , sex , anime , all the things i love in life , do n't forget to reblog if you see something you like , and do n't forget to message me ! ! i 'm always open to making and meeting new friends , let 's have some fun ! ! ! 😘   \n",
       "\n",
       "                                                                                                                                                                                                                                                                                                                                                                                                                                                                                                                                                                                                                                                                                                                                                                                                                                                                                                                                                                                                                                                                                                                                                                                                                                                                                                                                                                                                                                                                                                                                                                                                                                                                                                                                                                                                                                                                                                                                                                                                                                                                                                                                                                                                                                                                                                                                                                                                                                                                                                                                                                                                                                                                                                                                                                                                                                                                                                                                                                                                                                                                                                                                                                                                                                                                                                                                                                                                                                                                                                                                                                                                                                                                                                                                                                                                                                                                                                                                                                                                                                                                                                                                                                                                                                                                                                                                                                                                                                                                                                                                                                                                                                                                                                                                                                                                                                             processed_tumblr_blog_description_followee_nonreblog  \n",
       "45787                                                                                                                                                                                                                                                                                                                                                                                                                                                                                                                                                                                                                                                                                                                                                                                                                                                                                                                                                                                                                                                                                                                                                                                                                                                                                                                                                                                                                                                                                                                                                                                                                                                                                                                                                                                                                                                                                                                                                                                                                                                                                                                                                                                                                                                                                                                                                                                                                                                                                                                                                                                                                                                                                                                                                                                                                                                                                                                                                                                                                                                                                                                                                                                                                                                                                                                                                                                                                                                                                                                                                                                                                                                                                                                                                                                                                                                                                                                                                                                                i 'm a * cough-cough * year old shy , geeky , introverted `` bear '' . i 've been with my huzbear ( i think the term is cute ) for almost 18 years ... wow , time flies . i do n't have any singular 'fandom ' ; i like to think my interests are fairly broad . if you see what i post , you 'll get an idea of what i enjoy . it 's just a bunch of stuff i find interesting , fun , odd and/or sexy . there 's no rhyme or reason to it - much like my brain . i might even post something i know absolutely nothing about just because it looks neat . feel free to drop a note , a question , a comment , a photo , a `` hi '' or whatever . i 'll answer just about anything as honestly and openly as i can . you should be at least 18 years old to view some of this stuff . there is a lot of naughty stuff here . not safe for work . most are images i 've picked up elsewhere .  \n",
       "104586                                                                                                                                                                                                                                                                                                                                                                                                                                                                                                                                                                                                                                                                                                                                                                                                                                                                                                                                                                                                                                                                                                                                                                                                                                                                                                                                                                                                                                                                                                                                                                                                                                                                                                                                                                                                                                                                                                                                                                                                                                                                                                                                                                                                                                                                                                                                                                                                                                                                                                                                                                                                                                                                                                                                                                                                                                                                                                                                                                                                                                                                                                                                                                                                                                                                                                                                                                                                                                                                                                                                                                                                                                                                                                                                                                                                                                                                                                                                                                                                                                                                                                                                                                                                                                                                                                                                                                                                                                                                                                                                                                                                                                                                                                                                                                                                                                  nsfw over 18 only . men only🍆💦please reblog and follow me  \n",
       "43000                                                                                                                                                                                                                                                                                                                                                                                                                                                                                                                                                                                                                                                                                                                                                                                                                                                                                                                                                                                                                                                                                                                                                                                                                                                                                                                                                                                                                                                                                                                                                                                                                                                                                                                                                                                                                                                                                                                                                                                                                                                                                                                                                                                                                                                                                                                                                                                                                                                                                                                                                                                                                                                                                                                                                                                                                                                                                                                                                                                                                                                                                                                                                                                                                                                                                                                                                                                                                                                                                                                                                                                                                                                                                                                                                                                                                                                                                                                                                                                                                                                                                                                                                                                                                                                                                                                                                                                                                                                                                                                                                                                                                                                                                                                                       hi there ! welcome to my page where i mainly reblog stuff and some times post rants about life . if you want to talk or get to know me , message me !  \n",
       "65655                                                                                                                                                                                                                                                                                                                                                                                                                                                                                                                                                                                                                                                                                                                                                                                                                                                                                                                                                                                                                                                                                                                                                                                                                                                                                                                                                                                                                                                                                                                                                                                                                                                                                                                                                                                                                                                                                                                                                                                                                                                                                                                                                                                                                                                                                                                                                                                                                                                                                                                                                                                                                                                                                                                                                                                                                                                                                                                                                                                                                                                                                                                                                                                                                                                                                                                                                                                                                                                                                                                                                                                                                                                                                                                                                                                                                                                                                                                                                                                                                                                                                                                                                                                                                                                                                                                                                                                                                                                                                                                                                                                                                                                                                                                                                                                                             probably the hottest things you ’ ll watch today ffollow me for more ! 😜💦🇳🇱here  \n",
       "30946                                                                                                                                                                                                                                                                                                                                                                                                                                                                                                                                                                                                                                                                                                                                                                                                                                                                                                                                                                                                                                                                                                                                                                                                                                                                                                                                                                                                                                                                                                                                                                                                                                                                                                                                                                                                                                                                                                                                                                                                                                                                                                                                                                                                                                                                                                                                                                                                                                                                                                                                                                                                                                                                                                                                                                                                                                                                                                                                                                                                                                                                                                                                                                                                                                                                                                                                                                                                                                                                                                                                                                                                                                                                                                                                                                                                                                                                                                                                                                                                                                                                                                                                                                                                                                                                                                                                                                                                                                                                                                                                                                                                                                                                                                                                                                                      aquele gordinho lindo , charmoso , tesudo , gostoso e maravilhoso que eu amo ❤🐻😍 sou 👉🏿 interior sp 🇧🇷  \n",
       "50443                                                                                                                                                                                                                                                                                                                                                                                                                                                                                                                                                                                                                                                                                                                                                                                                                                                                                                                                                                                                                                                                                                                                                                                                                                                                                                                                                                                                                                                                                                                                                                                                                                                                                                                                                                                                                                                                                                                                                                                                                                                                                                                                                                                                                                                                                                                                                                                                                                                                                                                                                                                                                                                                                                                                                                                                                                                                                                                                                                                                                                                                                                                                                                                                                                                                                                                                                                                                                                                                                                                                                                                                                                                                                                                                                                                                                                                                                                                                                                                                                                                                                                                                                                                                                                                                                                                                                                                                                                                                                                                                                                                                                                                                                                                                           manchester/leeds , uk . 20 . butts and other things i like ( but mostly butts ) |🦄👨🏻‍🔬✌🏻| whorifices for porn | me | insta | - new name , same ho  \n",
       "57764                                                                                                                                                                                                                                                                                                                                                                                                                                                                                                                                                                                                                                                                                                                                                                                                                                                                                                                                                                                                                                                                                                                                                                                                                                                                                                                                                                                                                                                                                                                                                                                                                                                                                                                                                                                                                                                                                                                                                                                                                                                                                                                                                                                                                                                                                                                                                                                                                                                                                                                                                                                                                                                                                                                                                                                                                                                                                                                                                                                                                                                                                                                                                                                                                                                                                                                                                                                                                                                                                                                                                                                                                                                                                                                                                                                                                                                                                                                                                                                                                                                                                                                                                                                                                                                                                                                                                                                                                                                                                                                                                                                                                                                                                                                     mexicano🇲🇽 . anime , butts and chingaderas , tagged/ me . feel free to ask , trying to make friends ! don ’ t follow me if you ’ re under 18 , or you ’ ll be blocked .  \n",
       "2798                                                                                                                                                                                                                                                                                                                                                                                                                                                                                                                                                                                                                                                                                                                                                                                                                                                                                                                                                                                                                                                                                                                                                                                                                                                                                                                                                                                                                                                                                                                                                                                                                                                                                                                                                                                                                                                                                                                                                                                                                                                                                                                                                                                                                                                                                                                                                                                                                                                                                                                                                                                                                                                                                                                                                                                                                                                                                                                                                                                                                                                                                                                                                                                                                                                                                                                                                                                                                                                                                                                                                                                                                                                                                                                                                                                                                                                                                                                                                                                                                                                                                                                                                                                                                                                                                                                                                                                                                        ( nsfw ) i am a bipoly pagan cub from the portland , oregon area . if you want to see what i 'm into , follow my other blog elven cub house ( @ cuboftheelvenvariety ) . for my artistic side check out @ elvengallery . feel free to ask me anything or just say hi . i love interacting with my followers . wish list , you buy it , i 'll model it out or use it for you ( or use it on someone else for you ) http : --amazon-com-registry-wishlist-112iqvlctx8ec  \n",
       "28107                                                                                                                                                                                                                                                                                                                                                                                                                                                                                                                                                                                                                                                                                                                                                                                                                                                                                                                                                                                                                                                                                                                                                                                                                                                                                                                                                                                                                                                                                                                                                                                                                                                                                                                                                                                                                                                                                                                                                                                                                                                                                                                                                                                                                                                                                                                                                                                                                                                                                                                                                                                                                                                                                                                                                                                                                                                                                                                                                                                                                                                                                                                                                                                                                                                                                                                                                                                                                                                                                                                                                                                                                                                                                                                                                                                                                                                                                                                                                                                                                                                                                                                                                                                                                                                                                                                                                                                                                                                                                                                                                                                                         bearded/furry/sexy/hot handsome men of all shapes and sizes ... enjoy ! `` must be 18 yrs . or older to view ! '' most if not all pic 's taken from other blog 's or the net , if any pic 's need to be removed of yourself , i 'll do so ! ! to all who follows ... thanks enjoy !  \n",
       "67573                                                                                                                                                                                                                                                                                                                                                                                                                                                                                                                                                                                                                                                                                                                                                                                                                                                                                                                                                                                                                                                                                                                                                                                                                                                                                                                                                                                                                                                                                                                                                                                                                                                                                                                                                                                                                                                                                                                                                                                                                                                                                                                                                                                                                                                                                                                                                                                                                                                                                                                                                                                                                                                                                                                                                                                                                                                                                                                                                                                                                                                                                                                                                                                                                                                                                                                                                                                                                                                                                                                                                                                                                                                                                                                                                                                                                                                                                                                                                                                                                                                                                                                                                                                                                                                                                                                                                                                                                                                                                                                                                                                                                                                                                                                                                                                                                                                                     only guys who fuck real  \n",
       "81885                                                                                                                                                                                                                                                                                                                                                                                                                                                                                                                                                                                                                                                                                                                                                                                                                                                                                                                                                                                                                                                                                                                                                                                                                                                                                                                                                                                                                                                                                                                                                                                                                                                                                                                                                                                                                                                                                                                                                                                                                                                                                                                                                                                                                                                                                                                                                                                                                                                                                                                                                                                                                                                                                                                                                                                                                                                                                                                                                                                                                                                                                                                                                                                                                                                                                                                                                                                                                                                                                                                                                                                                                                                                                                                                                                                                                                                                                                                                                                                                                                                                                                                                                                                                                                                                                                                                                                        not appropriate for people under the legal age to view adult items . if you stay and look be over 18 . all materials posted here came from the web and their subjects are assumed to be over the age of 18 . i do not claim copyright of any pictures : should you find a photo or video of yourself ( or a photo/video that you own ) on this site , and you wish to have it removed , simply send me a message with a link to the item in question and i 'll take it down immediately . thanks and enjoy my blog !  \n",
       "28588                                                                                                                                                                                                                                                                                                                                                                                                                                                                                                                                                                                                                                                                                                                                                                                                                                                                                                                                                                                                                                                                                                                                                                                                                                                                                                                                                                                                                                                                                                                                                                                                                                                                                                                                                                                                                                                                                                                                                                                                                                                                                                                                                                                                                                                                                                                                                                                                                                                                                                                                                                                                                                                                                                                                                                                                                                                                                                                                                                                                                                                                                                                                                                                                                                                                                                                                                                                                                                                                                                                                                                                                                                                                                                                                                                                                                                                                                                                                                                                                                                                                                                                                                                                                                                                                                                                                                                                                                                                                                                                                              horny bi dude that loves eating all types of holes .. sharing images and videos that make my hole wink , and my cock tingle . feel free to send me your pics i love getting straight cock 's , pussy 's , ass holes ! living in orange county if your around the area i 'm down to suck # str8 discretely http : --bendaz11-tumblr-com-archive  \n",
       "83011   hi , hello , bonjour , hola ... i 'm donny dukes , a 5'10 330lbs bi ( bicurious ) southern fried french black teddy bear of a man outta new orleans , louisiana in america , on here to save , fave , reblog and repost my favorite pics and vids as well as post my own stuff ( mind you some of my stuff may contain nudity ) ... my ethnic background is of african-american , french , irish , haitian , brazilian & portuguese descent ... i am somewhat trilingual ( i know english , spanish and french ) ... i 'm a 2 time grad with degrees in english literature & general studies with majors in psychology , law , asl & computers ... on other social medias i 'm known as poppadaddypiscean ( ig ) , donny `` the cajunteddy '' dukes ( fb ) , dukes_87 ( twitter ) , & don.dukes87 ( skype ) ... things i like and like doing include food ( especially anyhing cajun , like crawfish and shrimp , nachos and pizza ) watching and reading movies , shows and books about mystery , horror , suspense and action as well as books on psychology , law , mythology ( greek & roman ) and foreign language ... musicwise , i love anything that sounds good , but esp rock and country music as well as r and b and indie ... love anything disney , cartoon network , nickelodeon , marvel , dc comics & capcom as well as classical art and fan art ... love studing new languages , playing piano and drums , powerwalking , writing my own poems and song lyrics , surfing the web ( mostly youtube ) and karate and wrestling ( esp wwe ) ... i know judo , tae kwon do , and bo staff with black belts in all three ... got a big obsession for shoes esp timbalands , cowboy boots , sneakers ( particularly nike air force 1s ) dress shoes and clogs ... but most of all i love love love video games ( especiall fighting games like street fighter , tekken , mortal kombat , pokemon , zelda & mario ) as well as playing the ps4 & nintendo ds ... things i hate and hate to do include racists , bigots , ppl who bash on the lgbt community , bullies ( cyberbullying ) , arrogance , politics , mathematics & violence and bitchassness of any kind ... sexually i 'm an aggressive ( sometimes submissive ) bi bootsexual who love both men and women especially big ppl ... not usually into twinks , musclehunks , and skinner guys but depending on your personality alone i 'd go for them and really anybody for that matter that can oppositely match my introvertness and mysterious nature ... i like my women big usually and women who like wearing stilettos and high heels to bed as well as women who can cook and is strong and independent ... as for my men i love bears , cubs , otters and chubs of all sizes and racial backgrounds esp leather bears and daddies ) , men who love wearing boots , sneakers and sandals to bed while fucking and masturbating are a huge cum-gusher for me ( in fact its the only thing that turns me on ) and big men in suits and dress clothes and shoes makes me cum all ova too , and it a big plus if they have beards ... turn offs include girls who fart and belch , over-domination , not being in control of my own body while having sex , ppl who dont wash or bathe , watersports ( pissing ) , scat ( shit ) , blood , ppl who fuck and jerk off in their socks , stinky gentalia and ppl who are boring , dull , rude and immature ... i hate sexually thirsty ppl and size queens most of all ... i by no means hate transpeople , cis , or fem men , they 're the shit and all , but sexually arent for me ... i think that 's all i have to say about me , hopefully i answered all of your questions , if you have any more hit me up in my tumblr dm on here or the social medias i mention up top ... note : i dont respond to blank profiles , show me a current or recent photo or 2 of your face and we 'll talk ... i dont respond to one worders in my dm ( i.e . hey , hi , sup , wyd ? , yo etc ) as well as endearments ( i.e . baby , honey , sweetie , sugar , sweetheart , daddy , papa , buddy , pal etc ) ... plz ask me first b4 using and posting my personal gpoy pics on your blog or you will be blocked , reported , and legalized ... keep your judgemental , bigot , & racist ass comments and questions to your fucking self ... if i post anything that is yours or personally offends you hit me up and ill gladly take it down , but be warned that anything you post belongs to the public eye to save , screenshot and repost back up without your permission , so be super careful about what you post ... this is a nsfw blog , meaning no one under 18 is allowed , if you are i suggest you leave the premises now and never return ( until you 're of legal age that is ) ... well that 's all folks , have a nice day and enjoy : ) - donny dukes  "
      ]
     },
     "execution_count": 5,
     "metadata": {},
     "output_type": "execute_result"
    }
   ],
   "source": [
    "# Investigate\n",
    "comm = 3\n",
    "terms = ['new', 'll']\n",
    "\n",
    "commlines = pairs[pairs['tumblog_id_follower_reblog'].isin(comms[comm-1]) & pairs['tumblog_id_followee_reblog'].isin(comms[comm-1]) & \\\n",
    "                 pairs['tumblog_id_followee_nonreblog'].isin(comms[comm-1])]\n",
    "commlines\n",
    "\n",
    "import re\n",
    "import pdb\n",
    "pd.set_option('display.max_colwidth', None)\n",
    "\n",
    "def terms_in_descs(descs):\n",
    "    \"\"\" Search for the search terms being in the descriptions \"\"\"\n",
    "    follower, followee_reblog, followee_nonreblog = descs\n",
    "    if not isinstance(follower, str):\n",
    "        return False\n",
    "    pat1 = '\\\\b{}\\\\b'.format(terms[0])\n",
    "    pat2 = '\\\\b{}\\\\b'.format(terms[1])\n",
    "    if re.search(pat1, follower.lower()):\n",
    "        if re.search(pat2, followee_reblog) or re.search(pat2, followee_nonreblog):\n",
    "            return True\n",
    "    elif re.search(pat2, follower.lower()):\n",
    "        if re.search(pat1, followee_reblog) or re.search(pat1, followee_nonreblog):\n",
    "            return True\n",
    "    return False\n",
    "\n",
    "paired_descs = list(zip(*[commlines[colname] for colname in desc_cols]))\n",
    "matches = commlines.loc[[terms_in_descs(descs) for descs in paired_descs], desc_cols]\n",
    "matches.sample(min(30, len(matches)))"
   ]
  },
  {
   "cell_type": "markdown",
   "metadata": {
    "heading_collapsed": "true",
    "tags": []
   },
   "source": [
    "# Examine features in training and test sets for different datasets"
   ]
  },
  {
   "cell_type": "code",
   "execution_count": 18,
   "metadata": {},
   "outputs": [
    {
     "name": "stdout",
     "output_type": "stream",
     "text": [
      "dataset114k+exp1+exp2_all_lr\n",
      "(101327, 27551)\n",
      "(11259, 27551)\n",
      "\n"
     ]
    },
    {
     "data": {
      "application/vnd.jupyter.widget-view+json": {
       "model_id": "9f9940dacbf24ca4adcdf3a8c8b0cf03",
       "version_major": 2,
       "version_minor": 0
      },
      "text/plain": [
       "HBox(children=(HTML(value=''), FloatProgress(value=0.0, max=27551.0), HTML(value='')))"
      ]
     },
     "metadata": {},
     "output_type": "display_data"
    },
    {
     "name": "stdout",
     "output_type": "stream",
     "text": [
      "\n",
      "218\n",
      "27551\n",
      "\n"
     ]
    },
    {
     "data": {
      "application/vnd.jupyter.widget-view+json": {
       "model_id": "627cbea99e1a4efd960add7826520b43",
       "version_major": 2,
       "version_minor": 0
      },
      "text/plain": [
       "HBox(children=(HTML(value=''), FloatProgress(value=0.0, max=27551.0), HTML(value='')))"
      ]
     },
     "metadata": {},
     "output_type": "display_data"
    },
    {
     "name": "stdout",
     "output_type": "stream",
     "text": [
      "\n",
      "18163\n",
      "17955\n",
      "baseline_randomtest+exp1+exp2_all_lr\n",
      "(641403, 17744)\n",
      "(71267, 17744)\n",
      "\n"
     ]
    },
    {
     "data": {
      "application/vnd.jupyter.widget-view+json": {
       "model_id": "e1544fca0fe545839b59759accb4edc3",
       "version_major": 2,
       "version_minor": 0
      },
      "text/plain": [
       "HBox(children=(HTML(value=''), FloatProgress(value=0.0, max=17744.0), HTML(value='')))"
      ]
     },
     "metadata": {},
     "output_type": "display_data"
    },
    {
     "name": "stdout",
     "output_type": "stream",
     "text": [
      "\n",
      "8\n",
      "17744\n",
      "\n"
     ]
    },
    {
     "data": {
      "application/vnd.jupyter.widget-view+json": {
       "model_id": "4a640c6c7dc343859c7141c946d7bd51",
       "version_major": 2,
       "version_minor": 0
      },
      "text/plain": [
       "HBox(children=(HTML(value=''), FloatProgress(value=0.0, max=17744.0), HTML(value='')))"
      ]
     },
     "metadata": {},
     "output_type": "display_data"
    },
    {
     "name": "stdout",
     "output_type": "stream",
     "text": [
      "\n",
      "5683\n",
      "5675\n"
     ]
    }
   ],
   "source": [
    "# Load features\n",
    "import os\n",
    "import pickle\n",
    "from tqdm.notebook import tqdm\n",
    "\n",
    "zero_test_features = {}\n",
    "total_features = {}\n",
    "runs = [\n",
    "    'baseline_randomtest+exp1+exp2_all_lr'\n",
    "    'dataset114k+exp1+exp2_all_lr',\n",
    "]\n",
    "\n",
    "for run in runs:\n",
    "    print(run)\n",
    "    run_fname = run + '_features.pkl'\n",
    "    features_dirpath = '/projects/websci2020_tumblr_identity/output/features'\n",
    "    features_fpath = os.path.join(features_dirpath, run_fname)\n",
    "    with open(features_fpath, 'rb') as f:\n",
    "        X_train, y_train, X_test, y_test = pickle.load(f)\n",
    "    print(X_train.shape)\n",
    "    print(X_test.shape)\n",
    "    print()\n",
    "\n",
    "    # Count features seen in training set that are never seen in the test set\n",
    "    X_train_arr = X_train.A\n",
    "    empty_features_train = []\n",
    "    for col in tqdm(range(X_train.shape[1])):\n",
    "        if not X_train_arr[:,col].any():\n",
    "            empty_features_train.append(col)\n",
    "    print(len(empty_features_train)) # why are there any?\n",
    "    total_features[run] = len(X_train.shape[1])\n",
    "    print(X_train.shape[1])\n",
    "    print()\n",
    "\n",
    "    X_test_arr = X_test.A\n",
    "    empty_features_test = []\n",
    "    for col in tqdm(range(X_test.shape[1])):\n",
    "        if not X_test_arr[:,col].any():\n",
    "            empty_features_test.append(col)\n",
    "    print(len(empty_features_test))\n",
    "    zero_test_features[run] = len(set(empty_features_test) - set(empty_features_train))\n",
    "    print(zero_test_features[run])\n",
    "    print()"
   ]
  },
  {
   "cell_type": "code",
   "execution_count": 20,
   "metadata": {},
   "outputs": [],
   "source": [
    "total_features = {'baseline_randomtest+exp1+exp2_all_lr': 17744,\n",
    "    'dataset114k+exp1+exp2_all_lr': 27551}"
   ]
  },
  {
   "cell_type": "code",
   "execution_count": 21,
   "metadata": {},
   "outputs": [
    {
     "data": {
      "text/plain": [
       "{'dataset114k+exp1+exp2_all_lr': 0.6517004827410984,\n",
       " 'baseline_randomtest+exp1+exp2_all_lr': 0.3198264201983769}"
      ]
     },
     "execution_count": 21,
     "metadata": {},
     "output_type": "execute_result"
    }
   ],
   "source": [
    "proportions_empty_features = {key: zero_test_features[key]/total_features[key] for key in zero_test_features}\n",
    "proportions_empty_features"
   ]
  }
 ],
 "metadata": {
  "kernelspec": {
   "display_name": "Python 3",
   "language": "python",
   "name": "python3"
  },
  "language_info": {
   "codemirror_mode": {
    "name": "ipython",
    "version": 3
   },
   "file_extension": ".py",
   "mimetype": "text/x-python",
   "name": "python",
   "nbconvert_exporter": "python",
   "pygments_lexer": "ipython3",
   "version": "3.6.12"
  }
 },
 "nbformat": 4,
 "nbformat_minor": 4
}
