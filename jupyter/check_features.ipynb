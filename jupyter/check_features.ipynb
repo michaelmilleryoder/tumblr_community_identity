{
 "cells": [
  {
   "cell_type": "markdown",
   "metadata": {},
   "source": [
    "# Examine features in training and test sets for different datasets"
   ]
  },
  {
   "cell_type": "code",
   "execution_count": 18,
   "metadata": {},
   "outputs": [
    {
     "name": "stdout",
     "output_type": "stream",
     "text": [
      "dataset114k+exp1+exp2_all_lr\n",
      "(101327, 27551)\n",
      "(11259, 27551)\n",
      "\n"
     ]
    },
    {
     "data": {
      "application/vnd.jupyter.widget-view+json": {
       "model_id": "9f9940dacbf24ca4adcdf3a8c8b0cf03",
       "version_major": 2,
       "version_minor": 0
      },
      "text/plain": [
       "HBox(children=(HTML(value=''), FloatProgress(value=0.0, max=27551.0), HTML(value='')))"
      ]
     },
     "metadata": {},
     "output_type": "display_data"
    },
    {
     "name": "stdout",
     "output_type": "stream",
     "text": [
      "\n",
      "218\n",
      "27551\n",
      "\n"
     ]
    },
    {
     "data": {
      "application/vnd.jupyter.widget-view+json": {
       "model_id": "627cbea99e1a4efd960add7826520b43",
       "version_major": 2,
       "version_minor": 0
      },
      "text/plain": [
       "HBox(children=(HTML(value=''), FloatProgress(value=0.0, max=27551.0), HTML(value='')))"
      ]
     },
     "metadata": {},
     "output_type": "display_data"
    },
    {
     "name": "stdout",
     "output_type": "stream",
     "text": [
      "\n",
      "18163\n",
      "17955\n",
      "baseline_randomtest+exp1+exp2_all_lr\n",
      "(641403, 17744)\n",
      "(71267, 17744)\n",
      "\n"
     ]
    },
    {
     "data": {
      "application/vnd.jupyter.widget-view+json": {
       "model_id": "e1544fca0fe545839b59759accb4edc3",
       "version_major": 2,
       "version_minor": 0
      },
      "text/plain": [
       "HBox(children=(HTML(value=''), FloatProgress(value=0.0, max=17744.0), HTML(value='')))"
      ]
     },
     "metadata": {},
     "output_type": "display_data"
    },
    {
     "name": "stdout",
     "output_type": "stream",
     "text": [
      "\n",
      "8\n",
      "17744\n",
      "\n"
     ]
    },
    {
     "data": {
      "application/vnd.jupyter.widget-view+json": {
       "model_id": "4a640c6c7dc343859c7141c946d7bd51",
       "version_major": 2,
       "version_minor": 0
      },
      "text/plain": [
       "HBox(children=(HTML(value=''), FloatProgress(value=0.0, max=17744.0), HTML(value='')))"
      ]
     },
     "metadata": {},
     "output_type": "display_data"
    },
    {
     "name": "stdout",
     "output_type": "stream",
     "text": [
      "\n",
      "5683\n",
      "5675\n"
     ]
    }
   ],
   "source": [
    "# Load features\n",
    "import os\n",
    "import pickle\n",
    "from tqdm.notebook import tqdm\n",
    "\n",
    "zero_test_features = {}\n",
    "total_features = {}\n",
    "runs = [\n",
    "    'baseline_randomtest+exp1+exp2_all_lr'\n",
    "    'dataset114k+exp1+exp2_all_lr',\n",
    "]\n",
    "\n",
    "for run in runs:\n",
    "    print(run)\n",
    "    run_fname = run + '_features.pkl'\n",
    "    features_dirpath = '/projects/websci2020_tumblr_identity/output/features'\n",
    "    features_fpath = os.path.join(features_dirpath, run_fname)\n",
    "    with open(features_fpath, 'rb') as f:\n",
    "        X_train, y_train, X_test, y_test = pickle.load(f)\n",
    "    print(X_train.shape)\n",
    "    print(X_test.shape)\n",
    "    print()\n",
    "\n",
    "    # Count features seen in training set that are never seen in the test set\n",
    "    X_train_arr = X_train.A\n",
    "    empty_features_train = []\n",
    "    for col in tqdm(range(X_train.shape[1])):\n",
    "        if not X_train_arr[:,col].any():\n",
    "            empty_features_train.append(col)\n",
    "    print(len(empty_features_train)) # why are there any?\n",
    "    total_features[run] = len(X_train.shape[1])\n",
    "    print(X_train.shape[1])\n",
    "    print()\n",
    "\n",
    "    X_test_arr = X_test.A\n",
    "    empty_features_test = []\n",
    "    for col in tqdm(range(X_test.shape[1])):\n",
    "        if not X_test_arr[:,col].any():\n",
    "            empty_features_test.append(col)\n",
    "    print(len(empty_features_test))\n",
    "    zero_test_features[run] = len(set(empty_features_test) - set(empty_features_train))\n",
    "    print(zero_test_features[run])\n",
    "    print()"
   ]
  },
  {
   "cell_type": "code",
   "execution_count": 20,
   "metadata": {},
   "outputs": [],
   "source": [
    "total_features = {'baseline_randomtest+exp1+exp2_all_lr': 17744,\n",
    "    'dataset114k+exp1+exp2_all_lr': 27551}"
   ]
  },
  {
   "cell_type": "code",
   "execution_count": 21,
   "metadata": {},
   "outputs": [
    {
     "data": {
      "text/plain": [
       "{'dataset114k+exp1+exp2_all_lr': 0.6517004827410984,\n",
       " 'baseline_randomtest+exp1+exp2_all_lr': 0.3198264201983769}"
      ]
     },
     "execution_count": 21,
     "metadata": {},
     "output_type": "execute_result"
    }
   ],
   "source": [
    "proportions_empty_features = {key: zero_test_features[key]/total_features[key] for key in zero_test_features}\n",
    "proportions_empty_features"
   ]
  }
 ],
 "metadata": {
  "kernelspec": {
   "display_name": "Python 3",
   "language": "python",
   "name": "python3"
  },
  "language_info": {
   "codemirror_mode": {
    "name": "ipython",
    "version": 3
   },
   "file_extension": ".py",
   "mimetype": "text/x-python",
   "name": "python",
   "nbconvert_exporter": "python",
   "pygments_lexer": "ipython3",
   "version": "3.7.9"
  }
 },
 "nbformat": 4,
 "nbformat_minor": 4
}
