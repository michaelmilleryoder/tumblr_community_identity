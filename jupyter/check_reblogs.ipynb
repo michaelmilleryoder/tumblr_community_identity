{
 "cells": [
  {
   "cell_type": "markdown",
   "id": "overhead-moisture",
   "metadata": {},
   "source": [
    "# Check community outliers"
   ]
  },
  {
   "cell_type": "code",
   "execution_count": 7,
   "id": "automated-registrar",
   "metadata": {},
   "outputs": [
    {
     "name": "stdout",
     "output_type": "stream",
     "text": [
      "82\n"
     ]
    }
   ],
   "source": [
    "# Load communities\n",
    "commpath = '/data/tumblr_community_identity/dataset114k/louvain_communities.txt'\n",
    "comms = {}\n",
    "with open(commpath) as f:\n",
    "    for i,line in enumerate(f.read().splitlines()):\n",
    "        comms[i+1] = [int(tumblog_id) for tumblog_id in line.split()]\n",
    "print(len(comms))\n",
    "\n",
    "id2comm = {}\n",
    "for n, comm in comms.items():\n",
    "    for tumblog_id in comm:\n",
    "        id2comm[tumblog_id] = n"
   ]
  },
  {
   "cell_type": "markdown",
   "id": "separated-feeding",
   "metadata": {
    "heading_collapsed": "true",
    "tags": []
   },
   "source": [
    "## Plot communities"
   ]
  },
  {
   "cell_type": "code",
   "execution_count": 7,
   "id": "continued-cooling",
   "metadata": {
    "scrolled": true,
    "tags": []
   },
   "outputs": [
    {
     "data": {
      "text/plain": [
       "[('59', 111205),\n",
       " ('6', 55514),\n",
       " ('49', 43234),\n",
       " ('3', 32602),\n",
       " ('22', 13910),\n",
       " ('11', 13182),\n",
       " ('63', 6763),\n",
       " ('42', 5072),\n",
       " ('10', 4960),\n",
       " ('7', 3698),\n",
       " ('5', 3485),\n",
       " ('2', 2999),\n",
       " ('4', 1656),\n",
       " ('17', 1508),\n",
       " ('15', 804),\n",
       " ('71', 287),\n",
       " ('1', 266),\n",
       " ('32', 265),\n",
       " ('20', 54),\n",
       " ('23', 32),\n",
       " ('67', 19),\n",
       " ('27', 17),\n",
       " ('51', 15),\n",
       " ('14', 12),\n",
       " ('19', 12),\n",
       " ('24', 11),\n",
       " ('25', 8),\n",
       " ('28', 6),\n",
       " ('54', 6),\n",
       " ('26', 5)]"
      ]
     },
     "execution_count": 7,
     "metadata": {},
     "output_type": "execute_result"
    }
   ],
   "source": [
    "import plotly.express as px\n",
    "\n",
    "comm_lens = {str(n): len(ids) for n, ids in comms.items()}\n",
    "sorted_comms = sorted(comm_lens.items(), key=lambda x: x[1], reverse=True)[:30]\n",
    "sorted_comms"
   ]
  },
  {
   "cell_type": "code",
   "execution_count": 13,
   "id": "nasty-samba",
   "metadata": {},
   "outputs": [
    {
     "data": {
      "application/vnd.plotly.v1+json": {
       "config": {
        "plotlyServerURL": "https://plot.ly"
       },
       "data": [
        {
         "alignmentgroup": "True",
         "hovertemplate": "Community=%{x}<br>Number of users=%{y}<extra></extra>",
         "legendgroup": "",
         "marker": {
          "color": "#636efa"
         },
         "name": "",
         "offsetgroup": "",
         "orientation": "v",
         "showlegend": false,
         "textposition": "auto",
         "type": "bar",
         "x": [
          "59",
          "6",
          "49",
          "3",
          "22",
          "11",
          "63",
          "42",
          "10",
          "7",
          "5",
          "2",
          "4",
          "17",
          "15",
          "71",
          "1",
          "32",
          "20",
          "23"
         ],
         "xaxis": "x",
         "y": [
          111205,
          55514,
          43234,
          32602,
          13910,
          13182,
          6763,
          5072,
          4960,
          3698,
          3485,
          2999,
          1656,
          1508,
          804,
          287,
          266,
          265,
          54,
          32
         ],
         "yaxis": "y"
        }
       ],
       "layout": {
        "autosize": true,
        "barmode": "relative",
        "legend": {
         "tracegroupgap": 0
        },
        "template": {
         "data": {
          "bar": [
           {
            "error_x": {
             "color": "#2a3f5f"
            },
            "error_y": {
             "color": "#2a3f5f"
            },
            "marker": {
             "line": {
              "color": "#E5ECF6",
              "width": 0.5
             }
            },
            "type": "bar"
           }
          ],
          "barpolar": [
           {
            "marker": {
             "line": {
              "color": "#E5ECF6",
              "width": 0.5
             }
            },
            "type": "barpolar"
           }
          ],
          "carpet": [
           {
            "aaxis": {
             "endlinecolor": "#2a3f5f",
             "gridcolor": "white",
             "linecolor": "white",
             "minorgridcolor": "white",
             "startlinecolor": "#2a3f5f"
            },
            "baxis": {
             "endlinecolor": "#2a3f5f",
             "gridcolor": "white",
             "linecolor": "white",
             "minorgridcolor": "white",
             "startlinecolor": "#2a3f5f"
            },
            "type": "carpet"
           }
          ],
          "choropleth": [
           {
            "colorbar": {
             "outlinewidth": 0,
             "ticks": ""
            },
            "type": "choropleth"
           }
          ],
          "contour": [
           {
            "colorbar": {
             "outlinewidth": 0,
             "ticks": ""
            },
            "colorscale": [
             [
              0,
              "#0d0887"
             ],
             [
              0.1111111111111111,
              "#46039f"
             ],
             [
              0.2222222222222222,
              "#7201a8"
             ],
             [
              0.3333333333333333,
              "#9c179e"
             ],
             [
              0.4444444444444444,
              "#bd3786"
             ],
             [
              0.5555555555555556,
              "#d8576b"
             ],
             [
              0.6666666666666666,
              "#ed7953"
             ],
             [
              0.7777777777777778,
              "#fb9f3a"
             ],
             [
              0.8888888888888888,
              "#fdca26"
             ],
             [
              1,
              "#f0f921"
             ]
            ],
            "type": "contour"
           }
          ],
          "contourcarpet": [
           {
            "colorbar": {
             "outlinewidth": 0,
             "ticks": ""
            },
            "type": "contourcarpet"
           }
          ],
          "heatmap": [
           {
            "colorbar": {
             "outlinewidth": 0,
             "ticks": ""
            },
            "colorscale": [
             [
              0,
              "#0d0887"
             ],
             [
              0.1111111111111111,
              "#46039f"
             ],
             [
              0.2222222222222222,
              "#7201a8"
             ],
             [
              0.3333333333333333,
              "#9c179e"
             ],
             [
              0.4444444444444444,
              "#bd3786"
             ],
             [
              0.5555555555555556,
              "#d8576b"
             ],
             [
              0.6666666666666666,
              "#ed7953"
             ],
             [
              0.7777777777777778,
              "#fb9f3a"
             ],
             [
              0.8888888888888888,
              "#fdca26"
             ],
             [
              1,
              "#f0f921"
             ]
            ],
            "type": "heatmap"
           }
          ],
          "heatmapgl": [
           {
            "colorbar": {
             "outlinewidth": 0,
             "ticks": ""
            },
            "colorscale": [
             [
              0,
              "#0d0887"
             ],
             [
              0.1111111111111111,
              "#46039f"
             ],
             [
              0.2222222222222222,
              "#7201a8"
             ],
             [
              0.3333333333333333,
              "#9c179e"
             ],
             [
              0.4444444444444444,
              "#bd3786"
             ],
             [
              0.5555555555555556,
              "#d8576b"
             ],
             [
              0.6666666666666666,
              "#ed7953"
             ],
             [
              0.7777777777777778,
              "#fb9f3a"
             ],
             [
              0.8888888888888888,
              "#fdca26"
             ],
             [
              1,
              "#f0f921"
             ]
            ],
            "type": "heatmapgl"
           }
          ],
          "histogram": [
           {
            "marker": {
             "colorbar": {
              "outlinewidth": 0,
              "ticks": ""
             }
            },
            "type": "histogram"
           }
          ],
          "histogram2d": [
           {
            "colorbar": {
             "outlinewidth": 0,
             "ticks": ""
            },
            "colorscale": [
             [
              0,
              "#0d0887"
             ],
             [
              0.1111111111111111,
              "#46039f"
             ],
             [
              0.2222222222222222,
              "#7201a8"
             ],
             [
              0.3333333333333333,
              "#9c179e"
             ],
             [
              0.4444444444444444,
              "#bd3786"
             ],
             [
              0.5555555555555556,
              "#d8576b"
             ],
             [
              0.6666666666666666,
              "#ed7953"
             ],
             [
              0.7777777777777778,
              "#fb9f3a"
             ],
             [
              0.8888888888888888,
              "#fdca26"
             ],
             [
              1,
              "#f0f921"
             ]
            ],
            "type": "histogram2d"
           }
          ],
          "histogram2dcontour": [
           {
            "colorbar": {
             "outlinewidth": 0,
             "ticks": ""
            },
            "colorscale": [
             [
              0,
              "#0d0887"
             ],
             [
              0.1111111111111111,
              "#46039f"
             ],
             [
              0.2222222222222222,
              "#7201a8"
             ],
             [
              0.3333333333333333,
              "#9c179e"
             ],
             [
              0.4444444444444444,
              "#bd3786"
             ],
             [
              0.5555555555555556,
              "#d8576b"
             ],
             [
              0.6666666666666666,
              "#ed7953"
             ],
             [
              0.7777777777777778,
              "#fb9f3a"
             ],
             [
              0.8888888888888888,
              "#fdca26"
             ],
             [
              1,
              "#f0f921"
             ]
            ],
            "type": "histogram2dcontour"
           }
          ],
          "mesh3d": [
           {
            "colorbar": {
             "outlinewidth": 0,
             "ticks": ""
            },
            "type": "mesh3d"
           }
          ],
          "parcoords": [
           {
            "line": {
             "colorbar": {
              "outlinewidth": 0,
              "ticks": ""
             }
            },
            "type": "parcoords"
           }
          ],
          "pie": [
           {
            "automargin": true,
            "type": "pie"
           }
          ],
          "scatter": [
           {
            "marker": {
             "colorbar": {
              "outlinewidth": 0,
              "ticks": ""
             }
            },
            "type": "scatter"
           }
          ],
          "scatter3d": [
           {
            "line": {
             "colorbar": {
              "outlinewidth": 0,
              "ticks": ""
             }
            },
            "marker": {
             "colorbar": {
              "outlinewidth": 0,
              "ticks": ""
             }
            },
            "type": "scatter3d"
           }
          ],
          "scattercarpet": [
           {
            "marker": {
             "colorbar": {
              "outlinewidth": 0,
              "ticks": ""
             }
            },
            "type": "scattercarpet"
           }
          ],
          "scattergeo": [
           {
            "marker": {
             "colorbar": {
              "outlinewidth": 0,
              "ticks": ""
             }
            },
            "type": "scattergeo"
           }
          ],
          "scattergl": [
           {
            "marker": {
             "colorbar": {
              "outlinewidth": 0,
              "ticks": ""
             }
            },
            "type": "scattergl"
           }
          ],
          "scattermapbox": [
           {
            "marker": {
             "colorbar": {
              "outlinewidth": 0,
              "ticks": ""
             }
            },
            "type": "scattermapbox"
           }
          ],
          "scatterpolar": [
           {
            "marker": {
             "colorbar": {
              "outlinewidth": 0,
              "ticks": ""
             }
            },
            "type": "scatterpolar"
           }
          ],
          "scatterpolargl": [
           {
            "marker": {
             "colorbar": {
              "outlinewidth": 0,
              "ticks": ""
             }
            },
            "type": "scatterpolargl"
           }
          ],
          "scatterternary": [
           {
            "marker": {
             "colorbar": {
              "outlinewidth": 0,
              "ticks": ""
             }
            },
            "type": "scatterternary"
           }
          ],
          "surface": [
           {
            "colorbar": {
             "outlinewidth": 0,
             "ticks": ""
            },
            "colorscale": [
             [
              0,
              "#0d0887"
             ],
             [
              0.1111111111111111,
              "#46039f"
             ],
             [
              0.2222222222222222,
              "#7201a8"
             ],
             [
              0.3333333333333333,
              "#9c179e"
             ],
             [
              0.4444444444444444,
              "#bd3786"
             ],
             [
              0.5555555555555556,
              "#d8576b"
             ],
             [
              0.6666666666666666,
              "#ed7953"
             ],
             [
              0.7777777777777778,
              "#fb9f3a"
             ],
             [
              0.8888888888888888,
              "#fdca26"
             ],
             [
              1,
              "#f0f921"
             ]
            ],
            "type": "surface"
           }
          ],
          "table": [
           {
            "cells": {
             "fill": {
              "color": "#EBF0F8"
             },
             "line": {
              "color": "white"
             }
            },
            "header": {
             "fill": {
              "color": "#C8D4E3"
             },
             "line": {
              "color": "white"
             }
            },
            "type": "table"
           }
          ]
         },
         "layout": {
          "annotationdefaults": {
           "arrowcolor": "#2a3f5f",
           "arrowhead": 0,
           "arrowwidth": 1
          },
          "autotypenumbers": "strict",
          "coloraxis": {
           "colorbar": {
            "outlinewidth": 0,
            "ticks": ""
           }
          },
          "colorscale": {
           "diverging": [
            [
             0,
             "#8e0152"
            ],
            [
             0.1,
             "#c51b7d"
            ],
            [
             0.2,
             "#de77ae"
            ],
            [
             0.3,
             "#f1b6da"
            ],
            [
             0.4,
             "#fde0ef"
            ],
            [
             0.5,
             "#f7f7f7"
            ],
            [
             0.6,
             "#e6f5d0"
            ],
            [
             0.7,
             "#b8e186"
            ],
            [
             0.8,
             "#7fbc41"
            ],
            [
             0.9,
             "#4d9221"
            ],
            [
             1,
             "#276419"
            ]
           ],
           "sequential": [
            [
             0,
             "#0d0887"
            ],
            [
             0.1111111111111111,
             "#46039f"
            ],
            [
             0.2222222222222222,
             "#7201a8"
            ],
            [
             0.3333333333333333,
             "#9c179e"
            ],
            [
             0.4444444444444444,
             "#bd3786"
            ],
            [
             0.5555555555555556,
             "#d8576b"
            ],
            [
             0.6666666666666666,
             "#ed7953"
            ],
            [
             0.7777777777777778,
             "#fb9f3a"
            ],
            [
             0.8888888888888888,
             "#fdca26"
            ],
            [
             1,
             "#f0f921"
            ]
           ],
           "sequentialminus": [
            [
             0,
             "#0d0887"
            ],
            [
             0.1111111111111111,
             "#46039f"
            ],
            [
             0.2222222222222222,
             "#7201a8"
            ],
            [
             0.3333333333333333,
             "#9c179e"
            ],
            [
             0.4444444444444444,
             "#bd3786"
            ],
            [
             0.5555555555555556,
             "#d8576b"
            ],
            [
             0.6666666666666666,
             "#ed7953"
            ],
            [
             0.7777777777777778,
             "#fb9f3a"
            ],
            [
             0.8888888888888888,
             "#fdca26"
            ],
            [
             1,
             "#f0f921"
            ]
           ]
          },
          "colorway": [
           "#636efa",
           "#EF553B",
           "#00cc96",
           "#ab63fa",
           "#FFA15A",
           "#19d3f3",
           "#FF6692",
           "#B6E880",
           "#FF97FF",
           "#FECB52"
          ],
          "font": {
           "color": "#2a3f5f"
          },
          "geo": {
           "bgcolor": "white",
           "lakecolor": "white",
           "landcolor": "#E5ECF6",
           "showlakes": true,
           "showland": true,
           "subunitcolor": "white"
          },
          "hoverlabel": {
           "align": "left"
          },
          "hovermode": "closest",
          "mapbox": {
           "style": "light"
          },
          "paper_bgcolor": "white",
          "plot_bgcolor": "#E5ECF6",
          "polar": {
           "angularaxis": {
            "gridcolor": "white",
            "linecolor": "white",
            "ticks": ""
           },
           "bgcolor": "#E5ECF6",
           "radialaxis": {
            "gridcolor": "white",
            "linecolor": "white",
            "ticks": ""
           }
          },
          "scene": {
           "xaxis": {
            "backgroundcolor": "#E5ECF6",
            "gridcolor": "white",
            "gridwidth": 2,
            "linecolor": "white",
            "showbackground": true,
            "ticks": "",
            "zerolinecolor": "white"
           },
           "yaxis": {
            "backgroundcolor": "#E5ECF6",
            "gridcolor": "white",
            "gridwidth": 2,
            "linecolor": "white",
            "showbackground": true,
            "ticks": "",
            "zerolinecolor": "white"
           },
           "zaxis": {
            "backgroundcolor": "#E5ECF6",
            "gridcolor": "white",
            "gridwidth": 2,
            "linecolor": "white",
            "showbackground": true,
            "ticks": "",
            "zerolinecolor": "white"
           }
          },
          "shapedefaults": {
           "line": {
            "color": "#2a3f5f"
           }
          },
          "ternary": {
           "aaxis": {
            "gridcolor": "white",
            "linecolor": "white",
            "ticks": ""
           },
           "baxis": {
            "gridcolor": "white",
            "linecolor": "white",
            "ticks": ""
           },
           "bgcolor": "#E5ECF6",
           "caxis": {
            "gridcolor": "white",
            "linecolor": "white",
            "ticks": ""
           }
          },
          "title": {
           "x": 0.05
          },
          "xaxis": {
           "automargin": true,
           "gridcolor": "white",
           "linecolor": "white",
           "ticks": "",
           "title": {
            "standoff": 15
           },
           "zerolinecolor": "white",
           "zerolinewidth": 2
          },
          "yaxis": {
           "automargin": true,
           "gridcolor": "white",
           "linecolor": "white",
           "ticks": "",
           "title": {
            "standoff": 15
           },
           "zerolinecolor": "white",
           "zerolinewidth": 2
          }
         }
        },
        "title": {
         "text": "Community sizes"
        },
        "xaxis": {
         "anchor": "y",
         "autorange": true,
         "domain": [
          0,
          1
         ],
         "range": [
          -0.5,
          19.5
         ],
         "title": {
          "text": "Community"
         },
         "type": "category"
        },
        "yaxis": {
         "anchor": "x",
         "autorange": true,
         "domain": [
          0,
          1
         ],
         "range": [
          1.3084291818689777,
          5.242845110887542
         ],
         "title": {
          "text": "Number of users"
         },
         "type": "log"
        }
       }
      },
      "image/png": "[encoded data removed]",
      "text/html": [
       "<div>                            <div id=\"ea723464-b68b-4988-9853-984c2d8b3647\" class=\"plotly-graph-div\" style=\"height:525px; width:100%;\"></div>            <script type=\"text/javascript\">                require([\"plotly\"], function(Plotly) {                    window.PLOTLYENV=window.PLOTLYENV || {};                                    if (document.getElementById(\"ea723464-b68b-4988-9853-984c2d8b3647\")) {                    Plotly.newPlot(                        \"ea723464-b68b-4988-9853-984c2d8b3647\",                        [{\"alignmentgroup\": \"True\", \"hovertemplate\": \"Community=%{x}<br>Number of users=%{y}<extra></extra>\", \"legendgroup\": \"\", \"marker\": {\"color\": \"#636efa\"}, \"name\": \"\", \"offsetgroup\": \"\", \"orientation\": \"v\", \"showlegend\": false, \"textposition\": \"auto\", \"type\": \"bar\", \"x\": [\"59\", \"6\", \"49\", \"3\", \"22\", \"11\", \"63\", \"42\", \"10\", \"7\", \"5\", \"2\", \"4\", \"17\", \"15\", \"71\", \"1\", \"32\", \"20\", \"23\"], \"xaxis\": \"x\", \"y\": [111205, 55514, 43234, 32602, 13910, 13182, 6763, 5072, 4960, 3698, 3485, 2999, 1656, 1508, 804, 287, 266, 265, 54, 32], \"yaxis\": \"y\"}],                        {\"barmode\": \"relative\", \"legend\": {\"tracegroupgap\": 0}, \"template\": {\"data\": {\"bar\": [{\"error_x\": {\"color\": \"#2a3f5f\"}, \"error_y\": {\"color\": \"#2a3f5f\"}, \"marker\": {\"line\": {\"color\": \"#E5ECF6\", \"width\": 0.5}}, \"type\": \"bar\"}], \"barpolar\": [{\"marker\": {\"line\": {\"color\": \"#E5ECF6\", \"width\": 0.5}}, \"type\": \"barpolar\"}], \"carpet\": [{\"aaxis\": {\"endlinecolor\": \"#2a3f5f\", \"gridcolor\": \"white\", \"linecolor\": \"white\", \"minorgridcolor\": \"white\", \"startlinecolor\": \"#2a3f5f\"}, \"baxis\": {\"endlinecolor\": \"#2a3f5f\", \"gridcolor\": \"white\", \"linecolor\": \"white\", \"minorgridcolor\": \"white\", \"startlinecolor\": \"#2a3f5f\"}, \"type\": \"carpet\"}], \"choropleth\": [{\"colorbar\": {\"outlinewidth\": 0, \"ticks\": \"\"}, \"type\": \"choropleth\"}], \"contour\": [{\"colorbar\": {\"outlinewidth\": 0, \"ticks\": \"\"}, \"colorscale\": [[0.0, \"#0d0887\"], [0.1111111111111111, \"#46039f\"], [0.2222222222222222, \"#7201a8\"], [0.3333333333333333, \"#9c179e\"], [0.4444444444444444, \"#bd3786\"], [0.5555555555555556, \"#d8576b\"], [0.6666666666666666, \"#ed7953\"], [0.7777777777777778, \"#fb9f3a\"], [0.8888888888888888, \"#fdca26\"], [1.0, \"#f0f921\"]], \"type\": \"contour\"}], \"contourcarpet\": [{\"colorbar\": {\"outlinewidth\": 0, \"ticks\": \"\"}, \"type\": \"contourcarpet\"}], \"heatmap\": [{\"colorbar\": {\"outlinewidth\": 0, \"ticks\": \"\"}, \"colorscale\": [[0.0, \"#0d0887\"], [0.1111111111111111, \"#46039f\"], [0.2222222222222222, \"#7201a8\"], [0.3333333333333333, \"#9c179e\"], [0.4444444444444444, \"#bd3786\"], [0.5555555555555556, \"#d8576b\"], [0.6666666666666666, \"#ed7953\"], [0.7777777777777778, \"#fb9f3a\"], [0.8888888888888888, \"#fdca26\"], [1.0, \"#f0f921\"]], \"type\": \"heatmap\"}], \"heatmapgl\": [{\"colorbar\": {\"outlinewidth\": 0, \"ticks\": \"\"}, \"colorscale\": [[0.0, \"#0d0887\"], [0.1111111111111111, \"#46039f\"], [0.2222222222222222, \"#7201a8\"], [0.3333333333333333, \"#9c179e\"], [0.4444444444444444, \"#bd3786\"], [0.5555555555555556, \"#d8576b\"], [0.6666666666666666, \"#ed7953\"], [0.7777777777777778, \"#fb9f3a\"], [0.8888888888888888, \"#fdca26\"], [1.0, \"#f0f921\"]], \"type\": \"heatmapgl\"}], \"histogram\": [{\"marker\": {\"colorbar\": {\"outlinewidth\": 0, \"ticks\": \"\"}}, \"type\": \"histogram\"}], \"histogram2d\": [{\"colorbar\": {\"outlinewidth\": 0, \"ticks\": \"\"}, \"colorscale\": [[0.0, \"#0d0887\"], [0.1111111111111111, \"#46039f\"], [0.2222222222222222, \"#7201a8\"], [0.3333333333333333, \"#9c179e\"], [0.4444444444444444, \"#bd3786\"], [0.5555555555555556, \"#d8576b\"], [0.6666666666666666, \"#ed7953\"], [0.7777777777777778, \"#fb9f3a\"], [0.8888888888888888, \"#fdca26\"], [1.0, \"#f0f921\"]], \"type\": \"histogram2d\"}], \"histogram2dcontour\": [{\"colorbar\": {\"outlinewidth\": 0, \"ticks\": \"\"}, \"colorscale\": [[0.0, \"#0d0887\"], [0.1111111111111111, \"#46039f\"], [0.2222222222222222, \"#7201a8\"], [0.3333333333333333, \"#9c179e\"], [0.4444444444444444, \"#bd3786\"], [0.5555555555555556, \"#d8576b\"], [0.6666666666666666, \"#ed7953\"], [0.7777777777777778, \"#fb9f3a\"], [0.8888888888888888, \"#fdca26\"], [1.0, \"#f0f921\"]], \"type\": \"histogram2dcontour\"}], \"mesh3d\": [{\"colorbar\": {\"outlinewidth\": 0, \"ticks\": \"\"}, \"type\": \"mesh3d\"}], \"parcoords\": [{\"line\": {\"colorbar\": {\"outlinewidth\": 0, \"ticks\": \"\"}}, \"type\": \"parcoords\"}], \"pie\": [{\"automargin\": true, \"type\": \"pie\"}], \"scatter\": [{\"marker\": {\"colorbar\": {\"outlinewidth\": 0, \"ticks\": \"\"}}, \"type\": \"scatter\"}], \"scatter3d\": [{\"line\": {\"colorbar\": {\"outlinewidth\": 0, \"ticks\": \"\"}}, \"marker\": {\"colorbar\": {\"outlinewidth\": 0, \"ticks\": \"\"}}, \"type\": \"scatter3d\"}], \"scattercarpet\": [{\"marker\": {\"colorbar\": {\"outlinewidth\": 0, \"ticks\": \"\"}}, \"type\": \"scattercarpet\"}], \"scattergeo\": [{\"marker\": {\"colorbar\": {\"outlinewidth\": 0, \"ticks\": \"\"}}, \"type\": \"scattergeo\"}], \"scattergl\": [{\"marker\": {\"colorbar\": {\"outlinewidth\": 0, \"ticks\": \"\"}}, \"type\": \"scattergl\"}], \"scattermapbox\": [{\"marker\": {\"colorbar\": {\"outlinewidth\": 0, \"ticks\": \"\"}}, \"type\": \"scattermapbox\"}], \"scatterpolar\": [{\"marker\": {\"colorbar\": {\"outlinewidth\": 0, \"ticks\": \"\"}}, \"type\": \"scatterpolar\"}], \"scatterpolargl\": [{\"marker\": {\"colorbar\": {\"outlinewidth\": 0, \"ticks\": \"\"}}, \"type\": \"scatterpolargl\"}], \"scatterternary\": [{\"marker\": {\"colorbar\": {\"outlinewidth\": 0, \"ticks\": \"\"}}, \"type\": \"scatterternary\"}], \"surface\": [{\"colorbar\": {\"outlinewidth\": 0, \"ticks\": \"\"}, \"colorscale\": [[0.0, \"#0d0887\"], [0.1111111111111111, \"#46039f\"], [0.2222222222222222, \"#7201a8\"], [0.3333333333333333, \"#9c179e\"], [0.4444444444444444, \"#bd3786\"], [0.5555555555555556, \"#d8576b\"], [0.6666666666666666, \"#ed7953\"], [0.7777777777777778, \"#fb9f3a\"], [0.8888888888888888, \"#fdca26\"], [1.0, \"#f0f921\"]], \"type\": \"surface\"}], \"table\": [{\"cells\": {\"fill\": {\"color\": \"#EBF0F8\"}, \"line\": {\"color\": \"white\"}}, \"header\": {\"fill\": {\"color\": \"#C8D4E3\"}, \"line\": {\"color\": \"white\"}}, \"type\": \"table\"}]}, \"layout\": {\"annotationdefaults\": {\"arrowcolor\": \"#2a3f5f\", \"arrowhead\": 0, \"arrowwidth\": 1}, \"autotypenumbers\": \"strict\", \"coloraxis\": {\"colorbar\": {\"outlinewidth\": 0, \"ticks\": \"\"}}, \"colorscale\": {\"diverging\": [[0, \"#8e0152\"], [0.1, \"#c51b7d\"], [0.2, \"#de77ae\"], [0.3, \"#f1b6da\"], [0.4, \"#fde0ef\"], [0.5, \"#f7f7f7\"], [0.6, \"#e6f5d0\"], [0.7, \"#b8e186\"], [0.8, \"#7fbc41\"], [0.9, \"#4d9221\"], [1, \"#276419\"]], \"sequential\": [[0.0, \"#0d0887\"], [0.1111111111111111, \"#46039f\"], [0.2222222222222222, \"#7201a8\"], [0.3333333333333333, \"#9c179e\"], [0.4444444444444444, \"#bd3786\"], [0.5555555555555556, \"#d8576b\"], [0.6666666666666666, \"#ed7953\"], [0.7777777777777778, \"#fb9f3a\"], [0.8888888888888888, \"#fdca26\"], [1.0, \"#f0f921\"]], \"sequentialminus\": [[0.0, \"#0d0887\"], [0.1111111111111111, \"#46039f\"], [0.2222222222222222, \"#7201a8\"], [0.3333333333333333, \"#9c179e\"], [0.4444444444444444, \"#bd3786\"], [0.5555555555555556, \"#d8576b\"], [0.6666666666666666, \"#ed7953\"], [0.7777777777777778, \"#fb9f3a\"], [0.8888888888888888, \"#fdca26\"], [1.0, \"#f0f921\"]]}, \"colorway\": [\"#636efa\", \"#EF553B\", \"#00cc96\", \"#ab63fa\", \"#FFA15A\", \"#19d3f3\", \"#FF6692\", \"#B6E880\", \"#FF97FF\", \"#FECB52\"], \"font\": {\"color\": \"#2a3f5f\"}, \"geo\": {\"bgcolor\": \"white\", \"lakecolor\": \"white\", \"landcolor\": \"#E5ECF6\", \"showlakes\": true, \"showland\": true, \"subunitcolor\": \"white\"}, \"hoverlabel\": {\"align\": \"left\"}, \"hovermode\": \"closest\", \"mapbox\": {\"style\": \"light\"}, \"paper_bgcolor\": \"white\", \"plot_bgcolor\": \"#E5ECF6\", \"polar\": {\"angularaxis\": {\"gridcolor\": \"white\", \"linecolor\": \"white\", \"ticks\": \"\"}, \"bgcolor\": \"#E5ECF6\", \"radialaxis\": {\"gridcolor\": \"white\", \"linecolor\": \"white\", \"ticks\": \"\"}}, \"scene\": {\"xaxis\": {\"backgroundcolor\": \"#E5ECF6\", \"gridcolor\": \"white\", \"gridwidth\": 2, \"linecolor\": \"white\", \"showbackground\": true, \"ticks\": \"\", \"zerolinecolor\": \"white\"}, \"yaxis\": {\"backgroundcolor\": \"#E5ECF6\", \"gridcolor\": \"white\", \"gridwidth\": 2, \"linecolor\": \"white\", \"showbackground\": true, \"ticks\": \"\", \"zerolinecolor\": \"white\"}, \"zaxis\": {\"backgroundcolor\": \"#E5ECF6\", \"gridcolor\": \"white\", \"gridwidth\": 2, \"linecolor\": \"white\", \"showbackground\": true, \"ticks\": \"\", \"zerolinecolor\": \"white\"}}, \"shapedefaults\": {\"line\": {\"color\": \"#2a3f5f\"}}, \"ternary\": {\"aaxis\": {\"gridcolor\": \"white\", \"linecolor\": \"white\", \"ticks\": \"\"}, \"baxis\": {\"gridcolor\": \"white\", \"linecolor\": \"white\", \"ticks\": \"\"}, \"bgcolor\": \"#E5ECF6\", \"caxis\": {\"gridcolor\": \"white\", \"linecolor\": \"white\", \"ticks\": \"\"}}, \"title\": {\"x\": 0.05}, \"xaxis\": {\"automargin\": true, \"gridcolor\": \"white\", \"linecolor\": \"white\", \"ticks\": \"\", \"title\": {\"standoff\": 15}, \"zerolinecolor\": \"white\", \"zerolinewidth\": 2}, \"yaxis\": {\"automargin\": true, \"gridcolor\": \"white\", \"linecolor\": \"white\", \"ticks\": \"\", \"title\": {\"standoff\": 15}, \"zerolinecolor\": \"white\", \"zerolinewidth\": 2}}}, \"title\": {\"text\": \"Community sizes\"}, \"xaxis\": {\"anchor\": \"y\", \"domain\": [0.0, 1.0], \"title\": {\"text\": \"Community\"}}, \"yaxis\": {\"anchor\": \"x\", \"domain\": [0.0, 1.0], \"title\": {\"text\": \"Number of users\"}, \"type\": \"log\"}},                        {\"responsive\": true}                    ).then(function(){\n",
       "                            \n",
       "var gd = document.getElementById('ea723464-b68b-4988-9853-984c2d8b3647');\n",
       "var x = new MutationObserver(function (mutations, observer) {{\n",
       "        var display = window.getComputedStyle(gd).display;\n",
       "        if (!display || display === 'none') {{\n",
       "            console.log([gd, 'removed!']);\n",
       "            Plotly.purge(gd);\n",
       "            observer.disconnect();\n",
       "        }}\n",
       "}});\n",
       "\n",
       "// Listen for the removal of the full notebook cells\n",
       "var notebookContainer = gd.closest('#notebook-container');\n",
       "if (notebookContainer) {{\n",
       "    x.observe(notebookContainer, {childList: true});\n",
       "}}\n",
       "\n",
       "// Listen for the clearing of the current output cell\n",
       "var outputEl = gd.closest('.output');\n",
       "if (outputEl) {{\n",
       "    x.observe(outputEl, {childList: true});\n",
       "}}\n",
       "\n",
       "                        })                };                });            </script>        </div>"
      ]
     },
     "metadata": {},
     "output_type": "display_data"
    }
   ],
   "source": [
    "comm_nums, lens = list(zip(*sorted_comms[:20]))\n",
    "px.bar(x=comm_nums, y=lens, log_y=True, title=\"Community sizes\", labels=dict(x='Community', y='Number of users'))"
   ]
  },
  {
   "cell_type": "markdown",
   "id": "average-asian",
   "metadata": {},
   "source": [
    "## Get vectors for blog descriptions\n",
    "Average word2vec embeddings"
   ]
  },
  {
   "cell_type": "code",
   "execution_count": 2,
   "id": "third-theme",
   "metadata": {},
   "outputs": [
    {
     "data": {
      "text/html": [
       "<div>\n",
       "<style scoped>\n",
       "    .dataframe tbody tr th:only-of-type {\n",
       "        vertical-align: middle;\n",
       "    }\n",
       "\n",
       "    .dataframe tbody tr th {\n",
       "        vertical-align: top;\n",
       "    }\n",
       "\n",
       "    .dataframe thead th {\n",
       "        text-align: right;\n",
       "    }\n",
       "</style>\n",
       "<table border=\"1\" class=\"dataframe\">\n",
       "  <thead>\n",
       "    <tr style=\"text-align: right;\">\n",
       "      <th></th>\n",
       "      <th>tumblog_id</th>\n",
       "      <th>tumblr_blog_name</th>\n",
       "      <th>tumblr_blog_url</th>\n",
       "      <th>tumblr_blog_description</th>\n",
       "      <th>processed_tumblr_blog_description</th>\n",
       "      <th>tumblr_blog_title</th>\n",
       "      <th>language</th>\n",
       "      <th>created_time_epoch</th>\n",
       "      <th>is_primary</th>\n",
       "      <th>is_private</th>\n",
       "      <th>updated_time_epoch</th>\n",
       "      <th>post_count</th>\n",
       "      <th>is_group_blog</th>\n",
       "      <th>activity_time_epoch</th>\n",
       "    </tr>\n",
       "  </thead>\n",
       "  <tbody>\n",
       "    <tr>\n",
       "      <th>0</th>\n",
       "      <td>165015715</td>\n",
       "      <td>goteambravo</td>\n",
       "      <td>http://goteambravo.tumblr.com/</td>\n",
       "      <td>&lt;p&gt;Ace/29/female/happily taken by galactic-kni...</td>\n",
       "      <td>ace/29/female/happily taken by galactic-knight...</td>\n",
       "      <td>Go! Go! Bravo!</td>\n",
       "      <td>en_US</td>\n",
       "      <td>1.389199e+12</td>\n",
       "      <td>True</td>\n",
       "      <td>false</td>\n",
       "      <td>1546211412000</td>\n",
       "      <td>NaN</td>\n",
       "      <td>False</td>\n",
       "      <td>1546211412</td>\n",
       "    </tr>\n",
       "    <tr>\n",
       "      <th>1</th>\n",
       "      <td>16189626</td>\n",
       "      <td>tomicen</td>\n",
       "      <td>https://tomicen.tumblr.com/</td>\n",
       "      <td>Amy, 23, Sydney, Australia. ✨ Graphic design a...</td>\n",
       "      <td>amy , 23 , sydney , australia . ✨ graphic desi...</td>\n",
       "      <td>枚方生まれ、枚方育ち</td>\n",
       "      <td>en_US</td>\n",
       "      <td>1.301928e+12</td>\n",
       "      <td>False</td>\n",
       "      <td>false</td>\n",
       "      <td>1546224795000</td>\n",
       "      <td>NaN</td>\n",
       "      <td>False</td>\n",
       "      <td>1562581644</td>\n",
       "    </tr>\n",
       "    <tr>\n",
       "      <th>2</th>\n",
       "      <td>15711631</td>\n",
       "      <td>sparkle148</td>\n",
       "      <td>https://sparkle148.tumblr.com/</td>\n",
       "      <td>&lt;p&gt;I post a lot of TMNT and other garbage.&lt;/p&gt;</td>\n",
       "      <td>i post a lot of tmnt and other garbage .</td>\n",
       "      <td>Pessimistic Procrastination</td>\n",
       "      <td>en_US</td>\n",
       "      <td>1.301189e+12</td>\n",
       "      <td>False</td>\n",
       "      <td>False</td>\n",
       "      <td>1543078924000.0</td>\n",
       "      <td>31420.0</td>\n",
       "      <td>False</td>\n",
       "      <td>1544982349</td>\n",
       "    </tr>\n",
       "    <tr>\n",
       "      <th>3</th>\n",
       "      <td>94232773</td>\n",
       "      <td>goddamnalientourists</td>\n",
       "      <td>http://goddamnalientourists.tumblr.com/</td>\n",
       "      <td>Name's Lizzie, I'm 20, she/her, a huge sci-fi ...</td>\n",
       "      <td>name 's lizzie , i 'm 20 , she/her , a huge sc...</td>\n",
       "      <td>Sold My Soul To Wynonna Earp</td>\n",
       "      <td>en_US</td>\n",
       "      <td>1.361120e+12</td>\n",
       "      <td>False</td>\n",
       "      <td>false</td>\n",
       "      <td>1530044420000</td>\n",
       "      <td>NaN</td>\n",
       "      <td>False</td>\n",
       "      <td>1543260493</td>\n",
       "    </tr>\n",
       "    <tr>\n",
       "      <th>4</th>\n",
       "      <td>3003245</td>\n",
       "      <td>wherethepotterthingsare</td>\n",
       "      <td>https://wherethepotterthingsare.tumblr.com/</td>\n",
       "      <td>kendra, 22, canada</td>\n",
       "      <td>kendra , 22 , canada</td>\n",
       "      <td>just a face and a name</td>\n",
       "      <td>en_US</td>\n",
       "      <td>1.263865e+12</td>\n",
       "      <td>False</td>\n",
       "      <td>false</td>\n",
       "      <td>1545681604000</td>\n",
       "      <td>NaN</td>\n",
       "      <td>False</td>\n",
       "      <td>1565400429</td>\n",
       "    </tr>\n",
       "    <tr>\n",
       "      <th>...</th>\n",
       "      <td>...</td>\n",
       "      <td>...</td>\n",
       "      <td>...</td>\n",
       "      <td>...</td>\n",
       "      <td>...</td>\n",
       "      <td>...</td>\n",
       "      <td>...</td>\n",
       "      <td>...</td>\n",
       "      <td>...</td>\n",
       "      <td>...</td>\n",
       "      <td>...</td>\n",
       "      <td>...</td>\n",
       "      <td>...</td>\n",
       "      <td>...</td>\n",
       "    </tr>\n",
       "    <tr>\n",
       "      <th>294248</th>\n",
       "      <td>177356292</td>\n",
       "      <td>ceranimoo</td>\n",
       "      <td>https://ceranimoo.tumblr.com/</td>\n",
       "      <td>&lt;p&gt;ig/anlakbulat&lt;/p&gt;</td>\n",
       "      <td>ig/anlakbulat</td>\n",
       "      <td>Anıl</td>\n",
       "      <td>tr_TR</td>\n",
       "      <td>1.395695e+12</td>\n",
       "      <td>False</td>\n",
       "      <td>false</td>\n",
       "      <td>1536688976000</td>\n",
       "      <td>715.0</td>\n",
       "      <td>False</td>\n",
       "      <td>1545951611</td>\n",
       "    </tr>\n",
       "    <tr>\n",
       "      <th>294249</th>\n",
       "      <td>27783944</td>\n",
       "      <td>totescrepe</td>\n",
       "      <td>https://totescrepe.tumblr.com/</td>\n",
       "      <td>My name is Kayla and I am a french pancake.</td>\n",
       "      <td>my name is kayla and i am a french pancake .</td>\n",
       "      <td>Rocks Fall, Everyone Dies</td>\n",
       "      <td>en_US</td>\n",
       "      <td>1.314938e+12</td>\n",
       "      <td>False</td>\n",
       "      <td>False</td>\n",
       "      <td>1545757036000.0</td>\n",
       "      <td>43.0</td>\n",
       "      <td>False</td>\n",
       "      <td>1562464888</td>\n",
       "    </tr>\n",
       "    <tr>\n",
       "      <th>294250</th>\n",
       "      <td>381006151</td>\n",
       "      <td>kymsmith</td>\n",
       "      <td>https://kymsmith.tumblr.com/</td>\n",
       "      <td>This is my everything blog, hope you enjoy it ...</td>\n",
       "      <td>this is my everything blog , hope you enjoy it...</td>\n",
       "      <td>NaN</td>\n",
       "      <td>es_ES</td>\n",
       "      <td>1.512251e+12</td>\n",
       "      <td>False</td>\n",
       "      <td>false</td>\n",
       "      <td>1550947633000</td>\n",
       "      <td>NaN</td>\n",
       "      <td>False</td>\n",
       "      <td>1562703127</td>\n",
       "    </tr>\n",
       "    <tr>\n",
       "      <th>294251</th>\n",
       "      <td>402758953</td>\n",
       "      <td>radicallyimpatient</td>\n",
       "      <td>https://radicallyimpatient.tumblr.com/</td>\n",
       "      <td>| Memes | Terf safe | UK | 17 | Janine |</td>\n",
       "      <td>| memes | terf safe | uk | 17 | janine |</td>\n",
       "      <td>\"B i t c h i n\"</td>\n",
       "      <td>en_US</td>\n",
       "      <td>1.521362e+12</td>\n",
       "      <td>False</td>\n",
       "      <td>false</td>\n",
       "      <td>1528903149000</td>\n",
       "      <td>NaN</td>\n",
       "      <td>False</td>\n",
       "      <td>1530654530</td>\n",
       "    </tr>\n",
       "    <tr>\n",
       "      <th>294252</th>\n",
       "      <td>448637255</td>\n",
       "      <td>crazyfangirlofeverything4</td>\n",
       "      <td>https://crazyfangirlofeverything4.tumblr.com/</td>\n",
       "      <td>this is the 4th fucking time i had to make ano...</td>\n",
       "      <td>this is the 4th fucking time i had to make ano...</td>\n",
       "      <td>Im not sorry</td>\n",
       "      <td>en_US</td>\n",
       "      <td>1.543512e+12</td>\n",
       "      <td>False</td>\n",
       "      <td>false</td>\n",
       "      <td>1543601516000</td>\n",
       "      <td>360.0</td>\n",
       "      <td>False</td>\n",
       "      <td>1557781737</td>\n",
       "    </tr>\n",
       "  </tbody>\n",
       "</table>\n",
       "<p>294253 rows × 14 columns</p>\n",
       "</div>"
      ],
      "text/plain": [
       "        tumblog_id           tumblr_blog_name  \\\n",
       "0        165015715                goteambravo   \n",
       "1         16189626                    tomicen   \n",
       "2         15711631                 sparkle148   \n",
       "3         94232773       goddamnalientourists   \n",
       "4          3003245    wherethepotterthingsare   \n",
       "...            ...                        ...   \n",
       "294248   177356292                  ceranimoo   \n",
       "294249    27783944                 totescrepe   \n",
       "294250   381006151                   kymsmith   \n",
       "294251   402758953         radicallyimpatient   \n",
       "294252   448637255  crazyfangirlofeverything4   \n",
       "\n",
       "                                      tumblr_blog_url  \\\n",
       "0                      http://goteambravo.tumblr.com/   \n",
       "1                         https://tomicen.tumblr.com/   \n",
       "2                      https://sparkle148.tumblr.com/   \n",
       "3             http://goddamnalientourists.tumblr.com/   \n",
       "4         https://wherethepotterthingsare.tumblr.com/   \n",
       "...                                               ...   \n",
       "294248                  https://ceranimoo.tumblr.com/   \n",
       "294249                 https://totescrepe.tumblr.com/   \n",
       "294250                   https://kymsmith.tumblr.com/   \n",
       "294251         https://radicallyimpatient.tumblr.com/   \n",
       "294252  https://crazyfangirlofeverything4.tumblr.com/   \n",
       "\n",
       "                                  tumblr_blog_description  \\\n",
       "0       <p>Ace/29/female/happily taken by galactic-kni...   \n",
       "1       Amy, 23, Sydney, Australia. ✨ Graphic design a...   \n",
       "2          <p>I post a lot of TMNT and other garbage.</p>   \n",
       "3       Name's Lizzie, I'm 20, she/her, a huge sci-fi ...   \n",
       "4                                      kendra, 22, canada   \n",
       "...                                                   ...   \n",
       "294248                               <p>ig/anlakbulat</p>   \n",
       "294249        My name is Kayla and I am a french pancake.   \n",
       "294250  This is my everything blog, hope you enjoy it ...   \n",
       "294251           | Memes | Terf safe | UK | 17 | Janine |   \n",
       "294252  this is the 4th fucking time i had to make ano...   \n",
       "\n",
       "                        processed_tumblr_blog_description  \\\n",
       "0       ace/29/female/happily taken by galactic-knight...   \n",
       "1       amy , 23 , sydney , australia . ✨ graphic desi...   \n",
       "2                i post a lot of tmnt and other garbage .   \n",
       "3       name 's lizzie , i 'm 20 , she/her , a huge sc...   \n",
       "4                                    kendra , 22 , canada   \n",
       "...                                                   ...   \n",
       "294248                                      ig/anlakbulat   \n",
       "294249       my name is kayla and i am a french pancake .   \n",
       "294250  this is my everything blog , hope you enjoy it...   \n",
       "294251           | memes | terf safe | uk | 17 | janine |   \n",
       "294252  this is the 4th fucking time i had to make ano...   \n",
       "\n",
       "                   tumblr_blog_title language  created_time_epoch  is_primary  \\\n",
       "0                     Go! Go! Bravo!    en_US        1.389199e+12        True   \n",
       "1                         枚方生まれ、枚方育ち    en_US        1.301928e+12       False   \n",
       "2        Pessimistic Procrastination    en_US        1.301189e+12       False   \n",
       "3       Sold My Soul To Wynonna Earp    en_US        1.361120e+12       False   \n",
       "4             just a face and a name    en_US        1.263865e+12       False   \n",
       "...                              ...      ...                 ...         ...   \n",
       "294248                          Anıl    tr_TR        1.395695e+12       False   \n",
       "294249     Rocks Fall, Everyone Dies    en_US        1.314938e+12       False   \n",
       "294250                           NaN    es_ES        1.512251e+12       False   \n",
       "294251               \"B i t c h i n\"    en_US        1.521362e+12       False   \n",
       "294252                  Im not sorry    en_US        1.543512e+12       False   \n",
       "\n",
       "       is_private updated_time_epoch  post_count  is_group_blog  \\\n",
       "0           false      1546211412000         NaN          False   \n",
       "1           false      1546224795000         NaN          False   \n",
       "2           False    1543078924000.0     31420.0          False   \n",
       "3           false      1530044420000         NaN          False   \n",
       "4           false      1545681604000         NaN          False   \n",
       "...           ...                ...         ...            ...   \n",
       "294248      false      1536688976000       715.0          False   \n",
       "294249      False    1545757036000.0        43.0          False   \n",
       "294250      false      1550947633000         NaN          False   \n",
       "294251      false      1528903149000         NaN          False   \n",
       "294252      false      1543601516000       360.0          False   \n",
       "\n",
       "       activity_time_epoch  \n",
       "0               1546211412  \n",
       "1               1562581644  \n",
       "2               1544982349  \n",
       "3               1543260493  \n",
       "4               1565400429  \n",
       "...                    ...  \n",
       "294248          1545951611  \n",
       "294249          1562464888  \n",
       "294250          1562703127  \n",
       "294251          1530654530  \n",
       "294252          1557781737  \n",
       "\n",
       "[294253 rows x 14 columns]"
      ]
     },
     "execution_count": 2,
     "metadata": {},
     "output_type": "execute_result"
    }
   ],
   "source": [
    "# Load blog descriptions\n",
    "import pandas as pd\n",
    "desc_path = '/data/tumblr_community_identity/dataset114k/blog_info_dataset114k.csv'\n",
    "data = pd.read_csv(desc_path)\n",
    "data"
   ]
  },
  {
   "cell_type": "code",
   "execution_count": 3,
   "id": "advance-philadelphia",
   "metadata": {},
   "outputs": [
    {
     "data": {
      "text/plain": [
       "64"
      ]
     },
     "execution_count": 3,
     "metadata": {},
     "output_type": "execute_result"
    }
   ],
   "source": [
    "# Load embeddings\n",
    "from gensim.models import word2vec\n",
    "\n",
    "emb_path = '/projects/tumblr_community_identity/websci_exp_20210107/model/post+all_blog_sg_w2v.model'\n",
    "word_embs = word2vec.Word2Vec.load(emb_path)\n",
    "word_embs.vector_size"
   ]
  },
  {
   "cell_type": "code",
   "execution_count": 4,
   "id": "joined-chile",
   "metadata": {},
   "outputs": [],
   "source": [
    "# Get embeddings for blog descriptions in communities\n",
    "import numpy as np\n",
    "import string\n",
    "\n",
    "stops = [c for c in string.punctuation]\n",
    "\n",
    "def word_embeddings(text):\n",
    "    \"\"\" Returns an embedding for a given text, which has\n",
    "        space-separated tokens. \"\"\"\n",
    "    return_arr = np.zeros(64)\n",
    "    if not isinstance(text, float) and text != '' :\n",
    "        tokens = text.split()\n",
    "        embeddings = []\n",
    "        for word in tokens:\n",
    "            if word in word_embs.wv and word not in stops:\n",
    "                embeddings.append(word_embs.wv[word])\n",
    "        if len(embeddings) > 0:\n",
    "            return_arr = np.mean(embeddings, axis=0)\n",
    "    return return_arr"
   ]
  },
  {
   "cell_type": "code",
   "execution_count": 8,
   "id": "aware-precipitation",
   "metadata": {},
   "outputs": [
    {
     "data": {
      "text/html": [
       "<div>\n",
       "<style scoped>\n",
       "    .dataframe tbody tr th:only-of-type {\n",
       "        vertical-align: middle;\n",
       "    }\n",
       "\n",
       "    .dataframe tbody tr th {\n",
       "        vertical-align: top;\n",
       "    }\n",
       "\n",
       "    .dataframe thead th {\n",
       "        text-align: right;\n",
       "    }\n",
       "</style>\n",
       "<table border=\"1\" class=\"dataframe\">\n",
       "  <thead>\n",
       "    <tr style=\"text-align: right;\">\n",
       "      <th></th>\n",
       "      <th>tumblog_id</th>\n",
       "      <th>community</th>\n",
       "    </tr>\n",
       "  </thead>\n",
       "  <tbody>\n",
       "    <tr>\n",
       "      <th>0</th>\n",
       "      <td>165015715</td>\n",
       "      <td>59.0</td>\n",
       "    </tr>\n",
       "    <tr>\n",
       "      <th>1</th>\n",
       "      <td>16189626</td>\n",
       "      <td>59.0</td>\n",
       "    </tr>\n",
       "    <tr>\n",
       "      <th>2</th>\n",
       "      <td>15711631</td>\n",
       "      <td>59.0</td>\n",
       "    </tr>\n",
       "    <tr>\n",
       "      <th>3</th>\n",
       "      <td>94232773</td>\n",
       "      <td>59.0</td>\n",
       "    </tr>\n",
       "    <tr>\n",
       "      <th>4</th>\n",
       "      <td>3003245</td>\n",
       "      <td>59.0</td>\n",
       "    </tr>\n",
       "    <tr>\n",
       "      <th>...</th>\n",
       "      <td>...</td>\n",
       "      <td>...</td>\n",
       "    </tr>\n",
       "    <tr>\n",
       "      <th>294248</th>\n",
       "      <td>177356292</td>\n",
       "      <td>10.0</td>\n",
       "    </tr>\n",
       "    <tr>\n",
       "      <th>294249</th>\n",
       "      <td>27783944</td>\n",
       "      <td>59.0</td>\n",
       "    </tr>\n",
       "    <tr>\n",
       "      <th>294250</th>\n",
       "      <td>381006151</td>\n",
       "      <td>59.0</td>\n",
       "    </tr>\n",
       "    <tr>\n",
       "      <th>294251</th>\n",
       "      <td>402758953</td>\n",
       "      <td>6.0</td>\n",
       "    </tr>\n",
       "    <tr>\n",
       "      <th>294252</th>\n",
       "      <td>448637255</td>\n",
       "      <td>59.0</td>\n",
       "    </tr>\n",
       "  </tbody>\n",
       "</table>\n",
       "<p>294253 rows × 2 columns</p>\n",
       "</div>"
      ],
      "text/plain": [
       "        tumblog_id  community\n",
       "0        165015715       59.0\n",
       "1         16189626       59.0\n",
       "2         15711631       59.0\n",
       "3         94232773       59.0\n",
       "4          3003245       59.0\n",
       "...            ...        ...\n",
       "294248   177356292       10.0\n",
       "294249    27783944       59.0\n",
       "294250   381006151       59.0\n",
       "294251   402758953        6.0\n",
       "294252   448637255       59.0\n",
       "\n",
       "[294253 rows x 2 columns]"
      ]
     },
     "execution_count": 8,
     "metadata": {},
     "output_type": "execute_result"
    }
   ],
   "source": [
    "data['community'] = data.tumblog_id.map(id2comm.get)\n",
    "data[['tumblog_id', 'community']]"
   ]
  },
  {
   "cell_type": "code",
   "execution_count": 11,
   "id": "classical-bangkok",
   "metadata": {},
   "outputs": [
    {
     "data": {
      "text/html": [
       "<div>\n",
       "<style scoped>\n",
       "    .dataframe tbody tr th:only-of-type {\n",
       "        vertical-align: middle;\n",
       "    }\n",
       "\n",
       "    .dataframe tbody tr th {\n",
       "        vertical-align: top;\n",
       "    }\n",
       "\n",
       "    .dataframe thead th {\n",
       "        text-align: right;\n",
       "    }\n",
       "</style>\n",
       "<table border=\"1\" class=\"dataframe\">\n",
       "  <thead>\n",
       "    <tr style=\"text-align: right;\">\n",
       "      <th></th>\n",
       "      <th>tumblog_id</th>\n",
       "      <th>desc_emb</th>\n",
       "    </tr>\n",
       "  </thead>\n",
       "  <tbody>\n",
       "    <tr>\n",
       "      <th>0</th>\n",
       "      <td>165015715</td>\n",
       "      <td>[-0.061108943, -0.104792595, -0.53758216, -0.0...</td>\n",
       "    </tr>\n",
       "    <tr>\n",
       "      <th>1</th>\n",
       "      <td>16189626</td>\n",
       "      <td>[-0.11849274, -0.3071503, -0.34691578, 0.01619...</td>\n",
       "    </tr>\n",
       "    <tr>\n",
       "      <th>2</th>\n",
       "      <td>15711631</td>\n",
       "      <td>[-0.0893156, -0.40070975, -0.24252635, -0.0328...</td>\n",
       "    </tr>\n",
       "    <tr>\n",
       "      <th>3</th>\n",
       "      <td>94232773</td>\n",
       "      <td>[-0.2271202, -0.16542883, -0.31510505, -0.0066...</td>\n",
       "    </tr>\n",
       "    <tr>\n",
       "      <th>4</th>\n",
       "      <td>3003245</td>\n",
       "      <td>[-0.09768275, 0.07000937, -0.18964179, 0.47976...</td>\n",
       "    </tr>\n",
       "    <tr>\n",
       "      <th>...</th>\n",
       "      <td>...</td>\n",
       "      <td>...</td>\n",
       "    </tr>\n",
       "    <tr>\n",
       "      <th>294248</th>\n",
       "      <td>177356292</td>\n",
       "      <td>[0.0, 0.0, 0.0, 0.0, 0.0, 0.0, 0.0, 0.0, 0.0, ...</td>\n",
       "    </tr>\n",
       "    <tr>\n",
       "      <th>294249</th>\n",
       "      <td>27783944</td>\n",
       "      <td>[-0.13581648, -0.29073384, -0.29113567, -0.072...</td>\n",
       "    </tr>\n",
       "    <tr>\n",
       "      <th>294250</th>\n",
       "      <td>381006151</td>\n",
       "      <td>[-0.074816786, -0.21571168, -0.24323438, -0.18...</td>\n",
       "    </tr>\n",
       "    <tr>\n",
       "      <th>294251</th>\n",
       "      <td>402758953</td>\n",
       "      <td>[-0.27134824, -0.12634525, -0.33478975, 0.1792...</td>\n",
       "    </tr>\n",
       "    <tr>\n",
       "      <th>294252</th>\n",
       "      <td>448637255</td>\n",
       "      <td>[-0.110823184, -0.20903088, -0.32832488, -0.05...</td>\n",
       "    </tr>\n",
       "  </tbody>\n",
       "</table>\n",
       "<p>294253 rows × 2 columns</p>\n",
       "</div>"
      ],
      "text/plain": [
       "        tumblog_id                                           desc_emb\n",
       "0        165015715  [-0.061108943, -0.104792595, -0.53758216, -0.0...\n",
       "1         16189626  [-0.11849274, -0.3071503, -0.34691578, 0.01619...\n",
       "2         15711631  [-0.0893156, -0.40070975, -0.24252635, -0.0328...\n",
       "3         94232773  [-0.2271202, -0.16542883, -0.31510505, -0.0066...\n",
       "4          3003245  [-0.09768275, 0.07000937, -0.18964179, 0.47976...\n",
       "...            ...                                                ...\n",
       "294248   177356292  [0.0, 0.0, 0.0, 0.0, 0.0, 0.0, 0.0, 0.0, 0.0, ...\n",
       "294249    27783944  [-0.13581648, -0.29073384, -0.29113567, -0.072...\n",
       "294250   381006151  [-0.074816786, -0.21571168, -0.24323438, -0.18...\n",
       "294251   402758953  [-0.27134824, -0.12634525, -0.33478975, 0.1792...\n",
       "294252   448637255  [-0.110823184, -0.20903088, -0.32832488, -0.05...\n",
       "\n",
       "[294253 rows x 2 columns]"
      ]
     },
     "execution_count": 11,
     "metadata": {},
     "output_type": "execute_result"
    }
   ],
   "source": [
    "from tqdm.notebook import tqdm\n",
    "\n",
    "data['desc_emb'] = [word_embeddings(desc) for desc in tqdm(data.processed_tumblr_blog_description)]\n",
    "data[['tumblog_id', 'desc_emb']]"
   ]
  },
  {
   "cell_type": "markdown",
   "id": "considerable-norfolk",
   "metadata": {},
   "source": [
    "## Find community insiders, outliers"
   ]
  },
  {
   "cell_type": "code",
   "execution_count": 28,
   "id": "compact-franchise",
   "metadata": {},
   "outputs": [
    {
     "name": "stdout",
     "output_type": "stream",
     "text": [
      "(64,)\n"
     ]
    },
    {
     "data": {
      "text/plain": [
       "array([-0.14305649, -0.16753082, -0.30300586,  0.08688861,  0.09540139,\n",
       "        0.13037913,  0.03061104,  0.14038097, -0.42434014,  0.22451277,\n",
       "        0.17716841, -0.3874356 , -0.02621631, -0.10006882,  0.17784311,\n",
       "       -0.15076856, -0.15452168, -0.0193628 ,  0.09679414, -0.15189481,\n",
       "        0.30321317, -0.02968911, -0.03368578, -0.14651812,  0.03226735,\n",
       "        0.08195536,  0.35691582, -0.10960505,  0.11643869,  0.18418995,\n",
       "        0.13359325, -0.12406744, -0.15763175, -0.00654212, -0.17939166,\n",
       "       -0.11387083,  0.15640165, -0.20759582, -0.05693148, -0.20200958,\n",
       "        0.02940662,  0.28937752,  0.03678539,  0.06751926, -0.3293485 ,\n",
       "        0.02285299, -0.11561672,  0.60173283, -0.24964383,  0.05801235,\n",
       "       -0.03738741, -0.19147716, -0.60057947, -0.13660478,  0.07686635,\n",
       "       -0.31137182,  0.26238872, -0.02757065,  0.23514082,  0.00566664,\n",
       "        0.26390417,  0.02178404,  0.23462434, -0.23061851])"
      ]
     },
     "execution_count": 28,
     "metadata": {},
     "output_type": "execute_result"
    }
   ],
   "source": [
    "community = 2 # taylor swift\n",
    "comm_data = data[data['community']==community].copy()\n",
    "comm_mean = np.mean(np.vstack(comm_data['desc_emb']), axis=0)\n",
    "print(comm_mean.shape)\n",
    "comm_mean"
   ]
  },
  {
   "cell_type": "code",
   "execution_count": 30,
   "id": "critical-period",
   "metadata": {},
   "outputs": [
    {
     "data": {
      "text/plain": [
       "532       0.060997\n",
       "534       0.238851\n",
       "2297      0.095143\n",
       "3102      0.094213\n",
       "3103      0.115878\n",
       "            ...   \n",
       "292475    0.289250\n",
       "292476    0.032723\n",
       "292507    0.571737\n",
       "294199    0.224808\n",
       "294200    0.093393\n",
       "Name: cosine_dist_mean, Length: 2945, dtype: float64"
      ]
     },
     "execution_count": 30,
     "metadata": {},
     "output_type": "execute_result"
    }
   ],
   "source": [
    "import scipy\n",
    "comm_data['cosine_dist_mean'] = comm_data['desc_emb'].map(lambda x: scipy.spatial.distance.cosine(x, comm_mean))\n",
    "comm_data['cosine_dist_mean']"
   ]
  },
  {
   "cell_type": "code",
   "execution_count": 34,
   "id": "adapted-tackle",
   "metadata": {
    "scrolled": true,
    "tags": []
   },
   "outputs": [
    {
     "data": {
      "text/html": [
       "<div>\n",
       "<style scoped>\n",
       "    .dataframe tbody tr th:only-of-type {\n",
       "        vertical-align: middle;\n",
       "    }\n",
       "\n",
       "    .dataframe tbody tr th {\n",
       "        vertical-align: top;\n",
       "    }\n",
       "\n",
       "    .dataframe thead th {\n",
       "        text-align: right;\n",
       "    }\n",
       "</style>\n",
       "<table border=\"1\" class=\"dataframe\">\n",
       "  <thead>\n",
       "    <tr style=\"text-align: right;\">\n",
       "      <th></th>\n",
       "      <th>tumblog_id</th>\n",
       "      <th>tumblr_blog_url</th>\n",
       "      <th>processed_tumblr_blog_description</th>\n",
       "      <th>cosine_dist_mean</th>\n",
       "    </tr>\n",
       "  </thead>\n",
       "  <tbody>\n",
       "    <tr>\n",
       "      <th>106255</th>\n",
       "      <td>203133489</td>\n",
       "      <td>https://tayswayallday13.tumblr.com/</td>\n",
       "      <td>reputation tour houston &amp; dc night 2 ,1989 tour houston &amp; tampa and , red tour houston i 've traveled 17 hours to see taylor &lt; 3 `` katlyn what have you done hahahahahaha '' -ts i 'm katlyn , a huge swiftie since 2006 tay is bae . if you start a conversation with me a : it 's about taylor or b : we are going to end up talking about taylor taylor followed 2/18/15 twitter : tayswayallday13 instagram : tayswayallday_13</td>\n",
       "      <td>0.017141</td>\n",
       "    </tr>\n",
       "    <tr>\n",
       "      <th>43816</th>\n",
       "      <td>30762562</td>\n",
       "      <td>http://ohlooknewmusic.tumblr.com/</td>\n",
       "      <td>hi ! my name is nicole and i 'm dutch . feeling 22 . tourism university student . sagittarius . i 'm going to the reputation tour in manchester on june 8 with @ swiftxgrande13 &amp; @ inmyworstlies ( bk 107 , a , 176-178 ) and dublin june 16 with @ swiftxgrande13 ( bk1 , row p , seats 54-53 ) and i ca n't wait to have the time of my life there ! 😍 1 february 2014 was the best day ever so far because i was invited to stand front row at the red tour in london and ed came along . music is my life and i loove : ~taylor swift , ed sheeran , tom odell , amy winehouse , prince , queen , nickelback , halestorm , selena gomez , guns n roses . but also : ~ cats , movies , books , poems , baking , lyrics , writing and exploring the world . instagram : swiftieeforever13 . twitter : ohlooknewmusic . if you ever need help or just want to talk , my inbox is always open ! love love love</td>\n",
       "      <td>0.017366</td>\n",
       "    </tr>\n",
       "    <tr>\n",
       "      <th>220938</th>\n",
       "      <td>45285894</td>\n",
       "      <td>https://thereputationofaswiftie.tumblr.com/</td>\n",
       "      <td>kimberly || 25 || pennsylvania || assistant preschool teacher , before &amp; after care teacher , dog walker &amp; sitter ✨ ✨met taylor 10-18-2017 at the rhode island secret sessions✨ ✨taylor followed 08-31-2015 at 12:42am✨ taylor liked x3 2019 prime day concert✨ `` i 'm sorry , the old kim ca n't come to the phone right now .. why ? ohh ! 'cause taylor killed her ! '' taylor swift is not only my idol but also my best friend . i ’ m forever thankful for all she ’ s helped me through and everything she does for us . fearless tour - august 1 , 2009 philly . red tour - july 19 , 2013 philly . 1989 tour - june 13 , 2015 philly . reputation stadium tour - philly july 13 &amp; 14 , 2018 , foxborough july 27 , 2018 , pittsburgh august 7 , 2018 . instagram : thereputationofaswiftie twitter : xswiftiekimmy</td>\n",
       "      <td>0.017839</td>\n",
       "    </tr>\n",
       "    <tr>\n",
       "      <th>98648</th>\n",
       "      <td>412916266</td>\n",
       "      <td>https://thebesttayever.tumblr.com/</td>\n",
       "      <td>julia , 25 , brazilian . i love taylor with all my heart , she inspires me everyday . # 1 the archer , new romantics and holy ground stan . swiftie since ‘ 06 . olivia benson stan ! tn follows ! t liked my edits 3x . never been to a tour or met taylor . living in brazil with my heart stuck in new york . 🌸</td>\n",
       "      <td>0.018047</td>\n",
       "    </tr>\n",
       "    <tr>\n",
       "      <th>100045</th>\n",
       "      <td>9119549</td>\n",
       "      <td>http://goodgirlwhoshopeful.tumblr.com/</td>\n",
       "      <td>please support my gofundme to help my mum with her legal fees , under /tagged/personal •• they say the number 13 is unlucky ... but may 13th , 2015 , an anon left me hate and my friend taylor swift appeared and corrected their grammar ... then on october friday 13th , 2017 , she invited me to her house for an early album listen and squishy best friend cuddles . ( see header gif ) . # repsecretsession 13-10-17 🐍 # loveofmylife ✨•• india rose . ♛ 22 • swiftie since 2006 . • film graduate from the university of nottingham . i 'm proudly 'the girl who walks weird . ' ( i have cerebral palsy and i refuse to be defined by it . ) i spend my life creating in photoshop [ you can find all my edits that have hit 1k in the /my-bestsellers tag ] , writing songs and screeching about outlander , our girl , taylor and fat regal cat named louis . taylor follows ( january 29th 2015 was a wonderful day ) &amp; sometimes she likes to show up here ... ( tagged/taylor-swift-was-here ) 😳• rep manchester night 2 • rep wembley 1 &amp; 2 ( extra for swift™️ and proud ) ✨👯‍♀️ • redlondon 2014 • 1989 glasgow • manchester 2015 • ☼ instagrams : goodgirlwhoshopeful/ indiarosereality ☼</td>\n",
       "      <td>0.018242</td>\n",
       "    </tr>\n",
       "    <tr>\n",
       "      <th>123784</th>\n",
       "      <td>42806111</td>\n",
       "      <td>http://taylorswiftornothing.tumblr.com/</td>\n",
       "      <td>section 110 , row 1 , seats 10-11 metlife stadium night 2 new jersey , july 21 ! ! ! i 'm 20 . med student , dancer and dolphin lover♡ ☼ecuador☼ she followed me 04-05-15 and has liked x14 ! she joined my ig livestream 10-12-17 ! she reblogged and lurked me 10-31-17 rip me ! taylor ’ s my hero , my role model and my inspiration ... i 've been a swiftie since 2008 and will stay forever ! wildest dreams , ciwyw &amp; dress # 1 stan ! ♡ instagram : taylorswiftornothing twitter : tswiftornothing cant wait to hug taylor !</td>\n",
       "      <td>0.018717</td>\n",
       "    </tr>\n",
       "    <tr>\n",
       "      <th>239713</th>\n",
       "      <td>209022541</td>\n",
       "      <td>https://wldestsdreams.tumblr.com/</td>\n",
       "      <td>20 &amp; gay 🦋🌈//taylor followed 2/6/15 taylor liked my photo 10-29-14 and saved it and now i 'm in her camera roll taylor liked x5 : ) @ flyslikeajetstream is my girlfriend &lt; 3 1989 tour tampa &amp; raleigh rep tour gilette 7/27/18 twitter is wldestsdreams</td>\n",
       "      <td>0.020952</td>\n",
       "    </tr>\n",
       "    <tr>\n",
       "      <th>211573</th>\n",
       "      <td>420799148</td>\n",
       "      <td>https://call13whatyouwant.tumblr.com/</td>\n",
       "      <td>caroline 🦋💫🍬🗽 11 going on 24 year old swiftie .... but still waiting to get noticed &amp; meet taylor . taylor is a baby genius &amp; all too well is the greatest masterpiece ever written . fearless : columbus speak now : columbus reputation : columbus , east rutherford and arlington 1 &amp; 2 always happy to help , message me !</td>\n",
       "      <td>0.020995</td>\n",
       "    </tr>\n",
       "    <tr>\n",
       "      <th>23414</th>\n",
       "      <td>218935691</td>\n",
       "      <td>http://twothousandswiftteen.tumblr.com/</td>\n",
       "      <td>hi i 'm zoë , i am 18 , obsessed with cats and all things taylor swift . north carolina . seeing taylor on my 18th birthday ( 7/10 ) in dc ! sec 35 , row 2 , seat 10 instagram : zoeyork &amp; twothousandswiftteen twitter : 2000swiftteen &amp; zkyork theswiftlife : zoe</td>\n",
       "      <td>0.021323</td>\n",
       "    </tr>\n",
       "    <tr>\n",
       "      <th>31699</th>\n",
       "      <td>209233551</td>\n",
       "      <td>https://asummerviolet.tumblr.com/</td>\n",
       "      <td>swiftie forever💗texasgirl my name is carolina chavez , 22 from dallas . taylor alison swift is everything . i hope to one day meet her , thank her and give her a big hug ! twitter &amp; ig : summerviolet_ arlington night 1 sec l row 15 seat 13</td>\n",
       "      <td>0.021473</td>\n",
       "    </tr>\n",
       "    <tr>\n",
       "      <th>41147</th>\n",
       "      <td>90264211</td>\n",
       "      <td>http://couldyoutrytolisten.tumblr.com/</td>\n",
       "      <td>21 | 🇲🇺mauritian but i ’ ll fly around the world for taylor ( ahem especially to her house ) tn follows | rep tour london 1 &amp; 2 | red ( album ) , sad beautiful tragic and taylor swift ( not the bongo calf ) enthusiast</td>\n",
       "      <td>0.021721</td>\n",
       "    </tr>\n",
       "    <tr>\n",
       "      <th>21920</th>\n",
       "      <td>236545392</td>\n",
       "      <td>https://crxwlingforyouhoney.tumblr.com/</td>\n",
       "      <td>detroit sec 106 row 20 seat 14-18 ; aug 28 taylor liked and called me gorgeous 10-20-17 fun fact about me : my favorite color is yellow my sister and i have been to fearless , speak now , red , 1989 , and can not wait to see reputation !</td>\n",
       "      <td>0.022112</td>\n",
       "    </tr>\n",
       "    <tr>\n",
       "      <th>83741</th>\n",
       "      <td>223246241</td>\n",
       "      <td>http://allieblogzthings.tumblr.com/</td>\n",
       "      <td>💜rep tour dates : may 25th ( denver ! ) august 14th ( tampa ! ) and august 25th ( nashville ! ) 💜heyy ! i 'm allison ( taylor ) , but you can call me allie ! i 'm an og swiftie from 2006 ! tx girl living in florida ! i 'm an avidbaker , musician , and taylor swift fanatic . my dog ( colette ) and i make science videos on youtube to reach out to young girls about how fun stem can be ! instagram : @ alliebee09 ♡petty zoo♡</td>\n",
       "      <td>0.022123</td>\n",
       "    </tr>\n",
       "    <tr>\n",
       "      <th>137237</th>\n",
       "      <td>419326125</td>\n",
       "      <td>https://swiftlybeingsteph.tumblr.com/</td>\n",
       "      <td>hey ! im steph i ’ m 19 years old and i will be attending the reputation stadium tour in melbourne on october 26 2018 ! ! i 'm super excited for this show as i have n't seen taylor since the red tour ( that is close to 5 years ago ! ) i will be sitting in section a4 row j i truly can not wait follow me on instagram : @ swiftlybeingsteph previous tours : fearless ( melbourne ) speak now ( sydney ) red ( melbourne ) ed sheeran x ( melbourne ) divide ( melbourne ) steph , 19 , melbourne australia , swiftie ( since '08 )</td>\n",
       "      <td>0.022417</td>\n",
       "    </tr>\n",
       "    <tr>\n",
       "      <th>121917</th>\n",
       "      <td>216582836</td>\n",
       "      <td>https://swiftie92.tumblr.com/</td>\n",
       "      <td>isabell i germany i my art ♥ 06-16-2018 ♥ taylor liked 5x but doesn ’ t follow me ( who is swiftie92 anyway ew ) ~tn follows~ a twenty something living with her two cats ed and taylor ( yes you read that right ; ) ) 🐱full time health care managerin who loves to draw in her freetime 🎨taylor is my biggest inspiration 💗 insta : swiftie_92 1989 world tour cologne night 1 &amp; 2 i rep tour dublin night 1 &amp; 2 💞 header by : tinita @ notaprincessimyourqueen</td>\n",
       "      <td>0.022545</td>\n",
       "    </tr>\n",
       "    <tr>\n",
       "      <th>234269</th>\n",
       "      <td>374678630</td>\n",
       "      <td>https://longlive94.tumblr.com/</td>\n",
       "      <td>all things taylor swift ( mostly taylor swift😏🤗 ) , and other cool things ! enjoy ! instagram : littleraeofsonshine twitter : mikelandongal i 'm rachel , 24 , and from long island ! daughter of the king✝️❤️👑 , celiac disease sufferer , autistic♾❤️💛💙zumba instructor , big michael landon geek ! taylorette swiftlet since october of 2010 ! speak now stan for life ! taylor liked 2x ! ❤️❤️❤️ taylor nation followed on twitter ( september 26 , 2018 ) , liked 2xs and replied to a tweet 1x ( november 10th , 2018 , anniversary of reputation ) ! ❤️❤️❤️🤗</td>\n",
       "      <td>0.022611</td>\n",
       "    </tr>\n",
       "    <tr>\n",
       "      <th>241194</th>\n",
       "      <td>206383932</td>\n",
       "      <td>https://kolavia13.tumblr.com/</td>\n",
       "      <td>taylor followed march 25.2015 . liked 6x rhode island secret session night 2 instagram : kirstenlaurie13 ( personal ) crystalskies6.14.15 ( fan account ) twitter : crystalskies89 when you think of taylor swift , i hope you think of me . ily north carolina 1996</td>\n",
       "      <td>0.022656</td>\n",
       "    </tr>\n",
       "    <tr>\n",
       "      <th>109469</th>\n",
       "      <td>57199334</td>\n",
       "      <td>http://thatredlipclassicthingthatulike.tumblr.com/</td>\n",
       "      <td>it 's a new soundtrack i could dance to this beat i 'm 26 ! hi i 'm lisa , i love love love taylor swift . i got married to my best friend and soulmate on 15-05-15 and it was the best day of my life : ) taylor followed me on 28-06-15 ! anything else you may want to know just ask : ) manchester 24th june 1989 world tour ! taylor liked on 27-09-15 and another 2 times ! manchester 8th june reputation tour section a4 row b seats 4 and 5 ! ! ! ! !</td>\n",
       "      <td>0.022801</td>\n",
       "    </tr>\n",
       "    <tr>\n",
       "      <th>69213</th>\n",
       "      <td>73583247</td>\n",
       "      <td>http://keepcruising.tumblr.com/</td>\n",
       "      <td>- lauren - 20 - md - i play guitar , mandolin , ukulele , and i sing - rep tour dc both nights and first night in philly - always remember how lucky you are to have yourself '' - kevin gave my brother and i front row tickets at the 1989 tour 7/14/15 - taylor alison swift followed me 10/6/14 -</td>\n",
       "      <td>0.022857</td>\n",
       "    </tr>\n",
       "    <tr>\n",
       "      <th>80134</th>\n",
       "      <td>96409364</td>\n",
       "      <td>http://sweptswiftlyaway.tumblr.com/</td>\n",
       "      <td>sophia . 18 . greek . pa . i really love taylor swift . basically that 's it . taylor followed me at 11:51pm on september 16th 2015 and i have still not recovered . big machine follows too ! ! ! 🏳️‍🌈</td>\n",
       "      <td>0.023541</td>\n",
       "    </tr>\n",
       "    <tr>\n",
       "      <th>153808</th>\n",
       "      <td>211446266</td>\n",
       "      <td>https://confessionsofanawkwardswiftie.tumblr.com/</td>\n",
       "      <td>hi , i ’ m tracie ! she/her . 23 . ravenclaw , virgo , bookworm , lipstick collector , iced coffee enthusiast , and proud speak now album stan . i still forget to ask for decaf when ordering my coffee . i ’ ve been a swiftie since 2007 ! andrea swift touched my hand on 5/19/18 ! i stood next to scott swift on 5/19/18 ! taylor followed august 23rd , 2017 ! taylor liked 4x ! red tour 2013// jingle ball 2014// 1989 world tour 2015// reputation stadium tour 2018</td>\n",
       "      <td>0.023561</td>\n",
       "    </tr>\n",
       "    <tr>\n",
       "      <th>131309</th>\n",
       "      <td>308392461</td>\n",
       "      <td>https://baetayswift.tumblr.com/</td>\n",
       "      <td>standing by taylor forever : ) t follows &amp; liked x9 ♡ “ caroline ! ! ! this is so adorable i can ’ t deal❤️❤️❤️❤️❤️❤️❤️❤️ ” -ts red tour tacoma 1989 tour seattle and santa clara night 2 rep tour santa clara nights 1 &amp; 2 and seattle ! insta// smilesforswift</td>\n",
       "      <td>0.023667</td>\n",
       "    </tr>\n",
       "    <tr>\n",
       "      <th>110005</th>\n",
       "      <td>25231184</td>\n",
       "      <td>http://beautiiful-and-magical.tumblr.com/</td>\n",
       "      <td>hi , i 'm ana . : ) i 'm a 21-year-old girl from miami , fl with an unconditional love for music . taylor swift has been the person i look up to since i was 11 , and that will never change ( we even have the same birthday ! ! dec 13th ! ! ) . reputation miami section 230 row 3 seats 7-9 instagram : @ ana_franco13 youtube : http : //youtu.be/elogwkvufjq</td>\n",
       "      <td>0.023699</td>\n",
       "    </tr>\n",
       "    <tr>\n",
       "      <th>217333</th>\n",
       "      <td>197001103</td>\n",
       "      <td>https://meredithgreyyswift.tumblr.com/</td>\n",
       "      <td>17 // california // swiftie waiting to get that magical hug from taylor ! ! rep tour 7/21/18 east rutherford { taylor followed 7/16/15 } { taylor liked on 9/2/17 and 12/3/17 } { upgraded to 1989 san diego b-stage pit 8/29/15 by andrea swift } andrea swift : `` hi honey ! '' `` i feel like i 've met you before ! ''</td>\n",
       "      <td>0.023842</td>\n",
       "    </tr>\n",
       "    <tr>\n",
       "      <th>278102</th>\n",
       "      <td>211329544</td>\n",
       "      <td>https://alibcook.tumblr.com/</td>\n",
       "      <td>35 year old mama of daughters . swiftie since tim mcgraw . also a ballet dancer , chocolate eater , coffee drinker , disneyland obsessor . ❤️going on 13 years of loving and obsessing over taylor . saw her open for brad paisley in 2007 , red tour portland or 2013 , 1989 2015 seattle wa , reputation stadium tour 2018 seattle wa . missed out on fearless and speak now😭 due to being out of town and giving birth 😊goal in 2019 is to be able to hug taylor and tell her how important she is to me 💕</td>\n",
       "      <td>0.023996</td>\n",
       "    </tr>\n",
       "    <tr>\n",
       "      <th>233230</th>\n",
       "      <td>203096372</td>\n",
       "      <td>http://lauralovestaylor.tumblr.com/</td>\n",
       "      <td>hi ! my name is laura and i 'm a taylor swift enthusiast , and it 's been like that since i was 10. : ) taylor follows : ) and has liked 6x . reputation tour london both nights . jingle bell ball london . 1989 tour london . red tour berlin . wishing for the day when i can finally change my profile picture to me and taylor . ig-lauralovestaylor twitter-lauralovestaylo</td>\n",
       "      <td>0.024024</td>\n",
       "    </tr>\n",
       "    <tr>\n",
       "      <th>16743</th>\n",
       "      <td>213435642</td>\n",
       "      <td>https://worldsoldestswiftie.tumblr.com/</td>\n",
       "      <td>swifties come in all sizes , shapes and ages . i am obsessed with the green shake if off dress ! ! she wore it for vancouver 1989 , i almost passed out ... tracey living in canada eh ! also super proud senior swiftie ! oct 22 i went to la and listened to rep in taylor 's home forever grateful ! taylor followed july 6 2015 @ 10:13pm ! red 6/13 london 11-26-13 1989 8/2015 rep may 22 seattle !</td>\n",
       "      <td>0.024274</td>\n",
       "    </tr>\n",
       "    <tr>\n",
       "      <th>29932</th>\n",
       "      <td>2576476</td>\n",
       "      <td>http://day-dream-look-in-your-eye.tumblr.com/</td>\n",
       "      <td>my names dina and all i want in life is to drink wine with taylor swift . insta : swift_sparkles twitter : thedinasaur 👑✨ seattle / 23 / reputation 🖤 swift_sparkles on ig✨</td>\n",
       "      <td>0.024378</td>\n",
       "    </tr>\n",
       "    <tr>\n",
       "      <th>229367</th>\n",
       "      <td>245268908</td>\n",
       "      <td>https://taylorsavedsonia.tumblr.com/</td>\n",
       "      <td>swiftie from thailand 🇹🇭 always traveling for miss tay ✈️ 1989 tour : singapore rep tour : perth melbourne tokyo ig &amp; twitter : taysavedsonia taylor swift keeps my heart happy || ❁ “ baby , you ’ re so full of love ! taylor ’ s going to appreciate this so much “ - andrea swift to me❁</td>\n",
       "      <td>0.025140</td>\n",
       "    </tr>\n",
       "    <tr>\n",
       "      <th>90347</th>\n",
       "      <td>235732358</td>\n",
       "      <td>https://dominiquebober.tumblr.com/</td>\n",
       "      <td>dominique . 20 . new jersey . philly july 14th floor f10 , row 37 , seats 5 &amp; 6 ! ! ! ! ready for reputation ❤ taylor followed 9/17/15 . taylor liked 2x and i died . tn liked 1x . life goal : meet taylor swift and thank her for all the days and nights her and her music have got me through 💜 say you 'll ℛℯмℯмвℯʀ ℳℯ standing in a nice dress staring at the 🌅</td>\n",
       "      <td>0.025453</td>\n",
       "    </tr>\n",
       "  </tbody>\n",
       "</table>\n",
       "</div>"
      ],
      "text/plain": [
       "        tumblog_id                                     tumblr_blog_url  \\\n",
       "106255   203133489                 https://tayswayallday13.tumblr.com/   \n",
       "43816     30762562                   http://ohlooknewmusic.tumblr.com/   \n",
       "220938    45285894         https://thereputationofaswiftie.tumblr.com/   \n",
       "98648    412916266                  https://thebesttayever.tumblr.com/   \n",
       "100045     9119549              http://goodgirlwhoshopeful.tumblr.com/   \n",
       "123784    42806111             http://taylorswiftornothing.tumblr.com/   \n",
       "239713   209022541                   https://wldestsdreams.tumblr.com/   \n",
       "211573   420799148               https://call13whatyouwant.tumblr.com/   \n",
       "23414    218935691             http://twothousandswiftteen.tumblr.com/   \n",
       "31699    209233551                   https://asummerviolet.tumblr.com/   \n",
       "41147     90264211              http://couldyoutrytolisten.tumblr.com/   \n",
       "21920    236545392             https://crxwlingforyouhoney.tumblr.com/   \n",
       "83741    223246241                 http://allieblogzthings.tumblr.com/   \n",
       "137237   419326125               https://swiftlybeingsteph.tumblr.com/   \n",
       "121917   216582836                       https://swiftie92.tumblr.com/   \n",
       "234269   374678630                      https://longlive94.tumblr.com/   \n",
       "241194   206383932                       https://kolavia13.tumblr.com/   \n",
       "109469    57199334  http://thatredlipclassicthingthatulike.tumblr.com/   \n",
       "69213     73583247                     http://keepcruising.tumblr.com/   \n",
       "80134     96409364                 http://sweptswiftlyaway.tumblr.com/   \n",
       "153808   211446266   https://confessionsofanawkwardswiftie.tumblr.com/   \n",
       "131309   308392461                     https://baetayswift.tumblr.com/   \n",
       "110005    25231184           http://beautiiful-and-magical.tumblr.com/   \n",
       "217333   197001103              https://meredithgreyyswift.tumblr.com/   \n",
       "278102   211329544                        https://alibcook.tumblr.com/   \n",
       "233230   203096372                 http://lauralovestaylor.tumblr.com/   \n",
       "16743    213435642             https://worldsoldestswiftie.tumblr.com/   \n",
       "29932      2576476       http://day-dream-look-in-your-eye.tumblr.com/   \n",
       "229367   245268908                https://taylorsavedsonia.tumblr.com/   \n",
       "90347    235732358                  https://dominiquebober.tumblr.com/   \n",
       "\n",
       "                                                                                                                                                                                                                                                                                                                                                                                                                                                                                                                                                                                                                                                                                                                                                                                                                                                                                                                                                                                                                                                                                                                                                                                   processed_tumblr_blog_description  \\\n",
       "106255                                                                                                                                                                                                                                                                                                                                                                                                                                                                                                                                                                                                                                                                                                                                                                           reputation tour houston & dc night 2 ,1989 tour houston & tampa and , red tour houston i 've traveled 17 hours to see taylor < 3 `` katlyn what have you done hahahahahaha '' -ts i 'm katlyn , a huge swiftie since 2006 tay is bae . if you start a conversation with me a : it 's about taylor or b : we are going to end up talking about taylor taylor followed 2/18/15 twitter : tayswayallday13 instagram : tayswayallday_13   \n",
       "43816                                                                                                                                                                                                                                                                                                hi ! my name is nicole and i 'm dutch . feeling 22 . tourism university student . sagittarius . i 'm going to the reputation tour in manchester on june 8 with @ swiftxgrande13 & @ inmyworstlies ( bk 107 , a , 176-178 ) and dublin june 16 with @ swiftxgrande13 ( bk1 , row p , seats 54-53 ) and i ca n't wait to have the time of my life there ! 😍 1 february 2014 was the best day ever so far because i was invited to stand front row at the red tour in london and ed came along . music is my life and i loove : ~taylor swift , ed sheeran , tom odell , amy winehouse , prince , queen , nickelback , halestorm , selena gomez , guns n roses . but also : ~ cats , movies , books , poems , baking , lyrics , writing and exploring the world . instagram : swiftieeforever13 . twitter : ohlooknewmusic . if you ever need help or just want to talk , my inbox is always open ! love love love   \n",
       "220938                                                                                                                                                                                                                                                                                                                                                                                  kimberly || 25 || pennsylvania || assistant preschool teacher , before & after care teacher , dog walker & sitter ✨ ✨met taylor 10-18-2017 at the rhode island secret sessions✨ ✨taylor followed 08-31-2015 at 12:42am✨ taylor liked x3 2019 prime day concert✨ `` i 'm sorry , the old kim ca n't come to the phone right now .. why ? ohh ! 'cause taylor killed her ! '' taylor swift is not only my idol but also my best friend . i ’ m forever thankful for all she ’ s helped me through and everything she does for us . fearless tour - august 1 , 2009 philly . red tour - july 19 , 2013 philly . 1989 tour - june 13 , 2015 philly . reputation stadium tour - philly july 13 & 14 , 2018 , foxborough july 27 , 2018 , pittsburgh august 7 , 2018 . instagram : thereputationofaswiftie twitter : xswiftiekimmy   \n",
       "98648                                                                                                                                                                                                                                                                                                                                                                                                                                                                                                                                                                                                                                                                                                                                                                                                                                                                                             julia , 25 , brazilian . i love taylor with all my heart , she inspires me everyday . # 1 the archer , new romantics and holy ground stan . swiftie since ‘ 06 . olivia benson stan ! tn follows ! t liked my edits 3x . never been to a tour or met taylor . living in brazil with my heart stuck in new york . 🌸   \n",
       "100045  please support my gofundme to help my mum with her legal fees , under /tagged/personal •• they say the number 13 is unlucky ... but may 13th , 2015 , an anon left me hate and my friend taylor swift appeared and corrected their grammar ... then on october friday 13th , 2017 , she invited me to her house for an early album listen and squishy best friend cuddles . ( see header gif ) . # repsecretsession 13-10-17 🐍 # loveofmylife ✨•• india rose . ♛ 22 • swiftie since 2006 . • film graduate from the university of nottingham . i 'm proudly 'the girl who walks weird . ' ( i have cerebral palsy and i refuse to be defined by it . ) i spend my life creating in photoshop [ you can find all my edits that have hit 1k in the /my-bestsellers tag ] , writing songs and screeching about outlander , our girl , taylor and fat regal cat named louis . taylor follows ( january 29th 2015 was a wonderful day ) & sometimes she likes to show up here ... ( tagged/taylor-swift-was-here ) 😳• rep manchester night 2 • rep wembley 1 & 2 ( extra for swift™️ and proud ) ✨👯‍♀️ • redlondon 2014 • 1989 glasgow • manchester 2015 • ☼ instagrams : goodgirlwhoshopeful/ indiarosereality ☼   \n",
       "123784                                                                                                                                                                                                                                                                                                                                                                                                                                                                                                                                                                                                                                                                         section 110 , row 1 , seats 10-11 metlife stadium night 2 new jersey , july 21 ! ! ! i 'm 20 . med student , dancer and dolphin lover♡ ☼ecuador☼ she followed me 04-05-15 and has liked x14 ! she joined my ig livestream 10-12-17 ! she reblogged and lurked me 10-31-17 rip me ! taylor ’ s my hero , my role model and my inspiration ... i 've been a swiftie since 2008 and will stay forever ! wildest dreams , ciwyw & dress # 1 stan ! ♡ instagram : taylorswiftornothing twitter : tswiftornothing cant wait to hug taylor !   \n",
       "239713                                                                                                                                                                                                                                                                                                                                                                                                                                                                                                                                                                                                                                                                                                                                                                                                                                                                                                                                                     20 & gay 🦋🌈//taylor followed 2/6/15 taylor liked my photo 10-29-14 and saved it and now i 'm in her camera roll taylor liked x5 : ) @ flyslikeajetstream is my girlfriend < 3 1989 tour tampa & raleigh rep tour gilette 7/27/18 twitter is wldestsdreams   \n",
       "211573                                                                                                                                                                                                                                                                                                                                                                                                                                                                                                                                                                                                                                                                                                                                                                                                                                                                                caroline 🦋💫🍬🗽 11 going on 24 year old swiftie .... but still waiting to get noticed & meet taylor . taylor is a baby genius & all too well is the greatest masterpiece ever written . fearless : columbus speak now : columbus reputation : columbus , east rutherford and arlington 1 & 2 always happy to help , message me !   \n",
       "23414                                                                                                                                                                                                                                                                                                                                                                                                                                                                                                                                                                                                                                                                                                                                                                                                                                                                                                                                           hi i 'm zoë , i am 18 , obsessed with cats and all things taylor swift . north carolina . seeing taylor on my 18th birthday ( 7/10 ) in dc ! sec 35 , row 2 , seat 10 instagram : zoeyork & twothousandswiftteen twitter : 2000swiftteen & zkyork theswiftlife : zoe   \n",
       "31699                                                                                                                                                                                                                                                                                                                                                                                                                                                                                                                                                                                                                                                                                                                                                                                                                                                                                                                                                                swiftie forever💗texasgirl my name is carolina chavez , 22 from dallas . taylor alison swift is everything . i hope to one day meet her , thank her and give her a big hug ! twitter & ig : summerviolet_ arlington night 1 sec l row 15 seat 13   \n",
       "41147                                                                                                                                                                                                                                                                                                                                                                                                                                                                                                                                                                                                                                                                                                                                                                                                                                                                                                                                                                                      21 | 🇲🇺mauritian but i ’ ll fly around the world for taylor ( ahem especially to her house ) tn follows | rep tour london 1 & 2 | red ( album ) , sad beautiful tragic and taylor swift ( not the bongo calf ) enthusiast   \n",
       "21920                                                                                                                                                                                                                                                                                                                                                                                                                                                                                                                                                                                                                                                                                                                                                                                                                                                                                                                                                                  detroit sec 106 row 20 seat 14-18 ; aug 28 taylor liked and called me gorgeous 10-20-17 fun fact about me : my favorite color is yellow my sister and i have been to fearless , speak now , red , 1989 , and can not wait to see reputation !   \n",
       "83741                                                                                                                                                                                                                                                                                                                                                                                                                                                                                                                                                                                                                                                                                                                                                                        💜rep tour dates : may 25th ( denver ! ) august 14th ( tampa ! ) and august 25th ( nashville ! ) 💜heyy ! i 'm allison ( taylor ) , but you can call me allie ! i 'm an og swiftie from 2006 ! tx girl living in florida ! i 'm an avidbaker , musician , and taylor swift fanatic . my dog ( colette ) and i make science videos on youtube to reach out to young girls about how fun stem can be ! instagram : @ alliebee09 ♡petty zoo♡   \n",
       "137237                                                                                                                                                                                                                                                                                                                                                                                                                                                                                                                                                                                                                                                                    hey ! im steph i ’ m 19 years old and i will be attending the reputation stadium tour in melbourne on october 26 2018 ! ! i 'm super excited for this show as i have n't seen taylor since the red tour ( that is close to 5 years ago ! ) i will be sitting in section a4 row j i truly can not wait follow me on instagram : @ swiftlybeingsteph previous tours : fearless ( melbourne ) speak now ( sydney ) red ( melbourne ) ed sheeran x ( melbourne ) divide ( melbourne ) steph , 19 , melbourne australia , swiftie ( since '08 )   \n",
       "121917                                                                                                                                                                                                                                                                                                                                                                                                                                                                                                                                                                                                                                                                                                                                            isabell i germany i my art ♥ 06-16-2018 ♥ taylor liked 5x but doesn ’ t follow me ( who is swiftie92 anyway ew ) ~tn follows~ a twenty something living with her two cats ed and taylor ( yes you read that right ; ) ) 🐱full time health care managerin who loves to draw in her freetime 🎨taylor is my biggest inspiration 💗 insta : swiftie_92 1989 world tour cologne night 1 & 2 i rep tour dublin night 1 & 2 💞 header by : tinita @ notaprincessimyourqueen   \n",
       "234269                                                                                                                                                                                                                                                                                                                                                                                                                                                                                                                                                                                                                                           all things taylor swift ( mostly taylor swift😏🤗 ) , and other cool things ! enjoy ! instagram : littleraeofsonshine twitter : mikelandongal i 'm rachel , 24 , and from long island ! daughter of the king✝️❤️👑 , celiac disease sufferer , autistic♾❤️💛💙zumba instructor , big michael landon geek ! taylorette swiftlet since october of 2010 ! speak now stan for life ! taylor liked 2x ! ❤️❤️❤️ taylor nation followed on twitter ( september 26 , 2018 ) , liked 2xs and replied to a tweet 1x ( november 10th , 2018 , anniversary of reputation ) ! ❤️❤️❤️🤗   \n",
       "241194                                                                                                                                                                                                                                                                                                                                                                                                                                                                                                                                                                                                                                                                                                                                                                                                                                                                                                                                          taylor followed march 25.2015 . liked 6x rhode island secret session night 2 instagram : kirstenlaurie13 ( personal ) crystalskies6.14.15 ( fan account ) twitter : crystalskies89 when you think of taylor swift , i hope you think of me . ily north carolina 1996   \n",
       "109469                                                                                                                                                                                                                                                                                                                                                                                                                                                                                                                                                                                                                                                                                                                                                it 's a new soundtrack i could dance to this beat i 'm 26 ! hi i 'm lisa , i love love love taylor swift . i got married to my best friend and soulmate on 15-05-15 and it was the best day of my life : ) taylor followed me on 28-06-15 ! anything else you may want to know just ask : ) manchester 24th june 1989 world tour ! taylor liked on 27-09-15 and another 2 times ! manchester 8th june reputation tour section a4 row b seats 4 and 5 ! ! ! ! !   \n",
       "69213                                                                                                                                                                                                                                                                                                                                                                                                                                                                                                                                                                                                                                                                                                                                                                                                                                                                                                          - lauren - 20 - md - i play guitar , mandolin , ukulele , and i sing - rep tour dc both nights and first night in philly - always remember how lucky you are to have yourself '' - kevin gave my brother and i front row tickets at the 1989 tour 7/14/15 - taylor alison swift followed me 10/6/14 -   \n",
       "80134                                                                                                                                                                                                                                                                                                                                                                                                                                                                                                                                                                                                                                                                                                                                                                                                                                                                                                                                                                                                        sophia . 18 . greek . pa . i really love taylor swift . basically that 's it . taylor followed me at 11:51pm on september 16th 2015 and i have still not recovered . big machine follows too ! ! ! 🏳️‍🌈   \n",
       "153808                                                                                                                                                                                                                                                                                                                                                                                                                                                                                                                                                                                                                                                                                                                                hi , i ’ m tracie ! she/her . 23 . ravenclaw , virgo , bookworm , lipstick collector , iced coffee enthusiast , and proud speak now album stan . i still forget to ask for decaf when ordering my coffee . i ’ ve been a swiftie since 2007 ! andrea swift touched my hand on 5/19/18 ! i stood next to scott swift on 5/19/18 ! taylor followed august 23rd , 2017 ! taylor liked 4x ! red tour 2013// jingle ball 2014// 1989 world tour 2015// reputation stadium tour 2018   \n",
       "131309                                                                                                                                                                                                                                                                                                                                                                                                                                                                                                                                                                                                                                                                                                                                                                                                                                                                                                                                              standing by taylor forever : ) t follows & liked x9 ♡ “ caroline ! ! ! this is so adorable i can ’ t deal❤️❤️❤️❤️❤️❤️❤️❤️ ” -ts red tour tacoma 1989 tour seattle and santa clara night 2 rep tour santa clara nights 1 & 2 and seattle ! insta// smilesforswift   \n",
       "110005                                                                                                                                                                                                                                                                                                                                                                                                                                                                                                                                                                                                                                                                                                                                                                                                                                            hi , i 'm ana . : ) i 'm a 21-year-old girl from miami , fl with an unconditional love for music . taylor swift has been the person i look up to since i was 11 , and that will never change ( we even have the same birthday ! ! dec 13th ! ! ) . reputation miami section 230 row 3 seats 7-9 instagram : @ ana_franco13 youtube : http : //youtu.be/elogwkvufjq   \n",
       "217333                                                                                                                                                                                                                                                                                                                                                                                                                                                                                                                                                                                                                                                                                                                                                                                                                                                                                   17 // california // swiftie waiting to get that magical hug from taylor ! ! rep tour 7/21/18 east rutherford { taylor followed 7/16/15 } { taylor liked on 9/2/17 and 12/3/17 } { upgraded to 1989 san diego b-stage pit 8/29/15 by andrea swift } andrea swift : `` hi honey ! '' `` i feel like i 've met you before ! ''   \n",
       "278102                                                                                                                                                                                                                                                                                                                                                                                                                                                                                                                                                                                                                                                                                                 35 year old mama of daughters . swiftie since tim mcgraw . also a ballet dancer , chocolate eater , coffee drinker , disneyland obsessor . ❤️going on 13 years of loving and obsessing over taylor . saw her open for brad paisley in 2007 , red tour portland or 2013 , 1989 2015 seattle wa , reputation stadium tour 2018 seattle wa . missed out on fearless and speak now😭 due to being out of town and giving birth 😊goal in 2019 is to be able to hug taylor and tell her how important she is to me 💕   \n",
       "233230                                                                                                                                                                                                                                                                                                                                                                                                                                                                                                                                                                                                                                                                                                                                                                                                                             hi ! my name is laura and i 'm a taylor swift enthusiast , and it 's been like that since i was 10. : ) taylor follows : ) and has liked 6x . reputation tour london both nights . jingle bell ball london . 1989 tour london . red tour berlin . wishing for the day when i can finally change my profile picture to me and taylor . ig-lauralovestaylor twitter-lauralovestaylo   \n",
       "16743                                                                                                                                                                                                                                                                                                                                                                                                                                                                                                                                                                                                                                                                                                                                                                                                      swifties come in all sizes , shapes and ages . i am obsessed with the green shake if off dress ! ! she wore it for vancouver 1989 , i almost passed out ... tracey living in canada eh ! also super proud senior swiftie ! oct 22 i went to la and listened to rep in taylor 's home forever grateful ! taylor followed july 6 2015 @ 10:13pm ! red 6/13 london 11-26-13 1989 8/2015 rep may 22 seattle !   \n",
       "29932                                                                                                                                                                                                                                                                                                                                                                                                                                                                                                                                                                                                                                                                                                                                                                                                                                                                                                                                                                                                                                    my names dina and all i want in life is to drink wine with taylor swift . insta : swift_sparkles twitter : thedinasaur 👑✨ seattle / 23 / reputation 🖤 swift_sparkles on ig✨   \n",
       "229367                                                                                                                                                                                                                                                                                                                                                                                                                                                                                                                                                                                                                                                                                                                                                                                                                                                                                                                  swiftie from thailand 🇹🇭 always traveling for miss tay ✈️ 1989 tour : singapore rep tour : perth melbourne tokyo ig & twitter : taysavedsonia taylor swift keeps my heart happy || ❁ “ baby , you ’ re so full of love ! taylor ’ s going to appreciate this so much “ - andrea swift to me❁   \n",
       "90347                                                                                                                                                                                                                                                                                                                                                                                                                                                                                                                                                                                                                                                                                                                                                                                                                                          dominique . 20 . new jersey . philly july 14th floor f10 , row 37 , seats 5 & 6 ! ! ! ! ready for reputation ❤ taylor followed 9/17/15 . taylor liked 2x and i died . tn liked 1x . life goal : meet taylor swift and thank her for all the days and nights her and her music have got me through 💜 say you 'll ℛℯмℯмвℯʀ ℳℯ standing in a nice dress staring at the 🌅   \n",
       "\n",
       "        cosine_dist_mean  \n",
       "106255          0.017141  \n",
       "43816           0.017366  \n",
       "220938          0.017839  \n",
       "98648           0.018047  \n",
       "100045          0.018242  \n",
       "123784          0.018717  \n",
       "239713          0.020952  \n",
       "211573          0.020995  \n",
       "23414           0.021323  \n",
       "31699           0.021473  \n",
       "41147           0.021721  \n",
       "21920           0.022112  \n",
       "83741           0.022123  \n",
       "137237          0.022417  \n",
       "121917          0.022545  \n",
       "234269          0.022611  \n",
       "241194          0.022656  \n",
       "109469          0.022801  \n",
       "69213           0.022857  \n",
       "80134           0.023541  \n",
       "153808          0.023561  \n",
       "131309          0.023667  \n",
       "110005          0.023699  \n",
       "217333          0.023842  \n",
       "278102          0.023996  \n",
       "233230          0.024024  \n",
       "16743           0.024274  \n",
       "29932           0.024378  \n",
       "229367          0.025140  \n",
       "90347           0.025453  "
      ]
     },
     "execution_count": 34,
     "metadata": {},
     "output_type": "execute_result"
    }
   ],
   "source": [
    "pd.set_option('display.max_colwidth', None)\n",
    "comm_data.sort_values('cosine_dist_mean')[['tumblog_id', 'tumblr_blog_url', 'processed_tumblr_blog_description', 'cosine_dist_mean']].head(30)"
   ]
  },
  {
   "cell_type": "code",
   "execution_count": 36,
   "id": "extensive-indication",
   "metadata": {
    "scrolled": true,
    "tags": []
   },
   "outputs": [
    {
     "data": {
      "text/html": [
       "<div>\n",
       "<style scoped>\n",
       "    .dataframe tbody tr th:only-of-type {\n",
       "        vertical-align: middle;\n",
       "    }\n",
       "\n",
       "    .dataframe tbody tr th {\n",
       "        vertical-align: top;\n",
       "    }\n",
       "\n",
       "    .dataframe thead th {\n",
       "        text-align: right;\n",
       "    }\n",
       "</style>\n",
       "<table border=\"1\" class=\"dataframe\">\n",
       "  <thead>\n",
       "    <tr style=\"text-align: right;\">\n",
       "      <th></th>\n",
       "      <th>tumblog_id</th>\n",
       "      <th>tumblr_blog_url</th>\n",
       "      <th>processed_tumblr_blog_description</th>\n",
       "      <th>cosine_dist_mean</th>\n",
       "    </tr>\n",
       "  </thead>\n",
       "  <tbody>\n",
       "    <tr>\n",
       "      <th>75221</th>\n",
       "      <td>345999689</td>\n",
       "      <td>https://winedarkodyssea.tumblr.com/</td>\n",
       "      <td>hellenismos | ♑️ .</td>\n",
       "      <td>0.729991</td>\n",
       "    </tr>\n",
       "    <tr>\n",
       "      <th>236086</th>\n",
       "      <td>413094139</td>\n",
       "      <td>https://taylorswiftinwonderland.tumblr.com/</td>\n",
       "      <td>🌈🦋💗fuck sewing machines💗🦋🌈</td>\n",
       "      <td>0.668894</td>\n",
       "    </tr>\n",
       "    <tr>\n",
       "      <th>221937</th>\n",
       "      <td>431824240</td>\n",
       "      <td>https://bananaofswift-stuff.tumblr.com/</td>\n",
       "      <td>stuffs</td>\n",
       "      <td>0.629706</td>\n",
       "    </tr>\n",
       "    <tr>\n",
       "      <th>110970</th>\n",
       "      <td>243539755</td>\n",
       "      <td>https://im-dying-in-a-getaway-car.tumblr.com/</td>\n",
       "      <td>swift🖤 harmonizer 😭😍</td>\n",
       "      <td>0.625359</td>\n",
       "    </tr>\n",
       "    <tr>\n",
       "      <th>286804</th>\n",
       "      <td>8909922</td>\n",
       "      <td>http://hedalyciaa.tumblr.com/</td>\n",
       "      <td>alycia/lexa trash</td>\n",
       "      <td>0.622530</td>\n",
       "    </tr>\n",
       "    <tr>\n",
       "      <th>131568</th>\n",
       "      <td>2340025</td>\n",
       "      <td>http://fuckyeahprettylittleliar.tumblr.com/</td>\n",
       "      <td>⠀⠀ᴋʀɪsᴛʏ/ʟɪᴀʀ ᴡᴏʟғ ᴠɪxᴇɴ/ᴛᴀᴄᴏs ᴀʀᴇ ᴛᴀsᴛʏ</td>\n",
       "      <td>0.621887</td>\n",
       "    </tr>\n",
       "    <tr>\n",
       "      <th>252108</th>\n",
       "      <td>9414773</td>\n",
       "      <td>https://birthdad.tumblr.com/</td>\n",
       "      <td>༺ jaz ༻ he/him</td>\n",
       "      <td>0.602423</td>\n",
       "    </tr>\n",
       "    <tr>\n",
       "      <th>83915</th>\n",
       "      <td>422602435</td>\n",
       "      <td>https://t-swift89.tumblr.com/</td>\n",
       "      <td>t .</td>\n",
       "      <td>0.588854</td>\n",
       "    </tr>\n",
       "    <tr>\n",
       "      <th>19141</th>\n",
       "      <td>316826952</td>\n",
       "      <td>https://swiftiefangirl.tumblr.com/</td>\n",
       "      <td>taylor followed 24-08-17 ㅤ ㅤ ㅤ ㅤ ㅤ ㅤ</td>\n",
       "      <td>0.575296</td>\n",
       "    </tr>\n",
       "    <tr>\n",
       "      <th>181840</th>\n",
       "      <td>91553273</td>\n",
       "      <td>http://mineisbetterr.tumblr.com/</td>\n",
       "      <td>`` ``</td>\n",
       "      <td>0.571737</td>\n",
       "    </tr>\n",
       "    <tr>\n",
       "      <th>109470</th>\n",
       "      <td>170547637</td>\n",
       "      <td>https://lovewithoutreason123.tumblr.com/</td>\n",
       "      <td>`` ``</td>\n",
       "      <td>0.571737</td>\n",
       "    </tr>\n",
       "    <tr>\n",
       "      <th>292507</th>\n",
       "      <td>192281009</td>\n",
       "      <td>https://newromantis.tumblr.com/</td>\n",
       "      <td>`` ``</td>\n",
       "      <td>0.571737</td>\n",
       "    </tr>\n",
       "    <tr>\n",
       "      <th>132624</th>\n",
       "      <td>303184441</td>\n",
       "      <td>https://calmdownyourebeingtooloud.tumblr.com/</td>\n",
       "      <td>25 | she/her | 🏳️‍🌈</td>\n",
       "      <td>0.562607</td>\n",
       "    </tr>\n",
       "    <tr>\n",
       "      <th>199026</th>\n",
       "      <td>8916931</td>\n",
       "      <td>http://wasred.tumblr.com/</td>\n",
       "      <td>murjana . 25 .</td>\n",
       "      <td>0.562607</td>\n",
       "    </tr>\n",
       "    <tr>\n",
       "      <th>290799</th>\n",
       "      <td>55371389</td>\n",
       "      <td>http://eternal-swiftie13.tumblr.com/</td>\n",
       "      <td>♡ fσяєνєя αи∂ αℓωαуѕ α ѕωιfтιє ♡</td>\n",
       "      <td>0.556633</td>\n",
       "    </tr>\n",
       "    <tr>\n",
       "      <th>259876</th>\n",
       "      <td>430484251</td>\n",
       "      <td>https://lovertourts.tumblr.com/</td>\n",
       "      <td>ig : reputationstadiumtour</td>\n",
       "      <td>0.551139</td>\n",
       "    </tr>\n",
       "    <tr>\n",
       "      <th>24827</th>\n",
       "      <td>231901803</td>\n",
       "      <td>http://ohshitkaylor.tumblr.com/</td>\n",
       "      <td>▪️t.s . + k.k . ▪️</td>\n",
       "      <td>0.544482</td>\n",
       "    </tr>\n",
       "    <tr>\n",
       "      <th>244436</th>\n",
       "      <td>82104574</td>\n",
       "      <td>https://wcnderfucked.tumblr.com/</td>\n",
       "      <td>c l e o</td>\n",
       "      <td>0.530313</td>\n",
       "    </tr>\n",
       "    <tr>\n",
       "      <th>61512</th>\n",
       "      <td>17352035</td>\n",
       "      <td>http://slammingscreendoors.tumblr.com/</td>\n",
       "      <td>christina nj/nyc 7/13/13 &amp; 10-13-14 &amp; 11-14-14 &amp; 11-13-17</td>\n",
       "      <td>0.520999</td>\n",
       "    </tr>\n",
       "    <tr>\n",
       "      <th>59906</th>\n",
       "      <td>76471232</td>\n",
       "      <td>http://violentfickledelights.tumblr.com/</td>\n",
       "      <td>kat | she/her | poetry/writing : katsage-tumblr-com</td>\n",
       "      <td>0.516408</td>\n",
       "    </tr>\n",
       "    <tr>\n",
       "      <th>84340</th>\n",
       "      <td>278293057</td>\n",
       "      <td>https://wildestdreams94.tumblr.com/</td>\n",
       "      <td>💘october 22nd , 2016💘</td>\n",
       "      <td>0.513683</td>\n",
       "    </tr>\n",
       "    <tr>\n",
       "      <th>239663</th>\n",
       "      <td>329850200</td>\n",
       "      <td>https://whitlovestaylor.tumblr.com/</td>\n",
       "      <td>utah/14/tiwwchnt stan</td>\n",
       "      <td>0.513288</td>\n",
       "    </tr>\n",
       "    <tr>\n",
       "      <th>110003</th>\n",
       "      <td>332272074</td>\n",
       "      <td>https://koriswift13.tumblr.com/</td>\n",
       "      <td>ciwyw &amp; dwoht stan</td>\n",
       "      <td>0.513288</td>\n",
       "    </tr>\n",
       "    <tr>\n",
       "      <th>37455</th>\n",
       "      <td>235809676</td>\n",
       "      <td>https://princesssamanthaelizabeth.tumblr.com/</td>\n",
       "      <td>happily taken ~ 8/27/2028</td>\n",
       "      <td>0.511521</td>\n",
       "    </tr>\n",
       "    <tr>\n",
       "      <th>20861</th>\n",
       "      <td>191496235</td>\n",
       "      <td>https://loverthealbum.tumblr.com/</td>\n",
       "      <td>ig &amp; sc : amanykay</td>\n",
       "      <td>0.503647</td>\n",
       "    </tr>\n",
       "    <tr>\n",
       "      <th>240531</th>\n",
       "      <td>231193878</td>\n",
       "      <td>http://swiftlet-ellie.tumblr.com/</td>\n",
       "      <td>21</td>\n",
       "      <td>0.494857</td>\n",
       "    </tr>\n",
       "    <tr>\n",
       "      <th>250708</th>\n",
       "      <td>234619708</td>\n",
       "      <td>https://itsdelicute.tumblr.com/</td>\n",
       "      <td>+autumn # useraudi 22</td>\n",
       "      <td>0.493835</td>\n",
       "    </tr>\n",
       "    <tr>\n",
       "      <th>279529</th>\n",
       "      <td>363431148</td>\n",
       "      <td>https://theflashbackstarts.tumblr.com/</td>\n",
       "      <td>☼ taylor swift enthusiast ☼ ☼ 09-25-15 | 08-25-18 ☼ ☼ instagram : reminiscingtaylor ☼</td>\n",
       "      <td>0.493831</td>\n",
       "    </tr>\n",
       "    <tr>\n",
       "      <th>171605</th>\n",
       "      <td>365401494</td>\n",
       "      <td>http://aimlocked.tumblr.com/</td>\n",
       "      <td>» — 𝙖𝙢𝙞 | 𝙭𝙭𝙞 | 𝙝𝙪𝙛𝙛𝙡𝙚𝙥𝙪𝙛𝙛 | 𝙚𝙙𝙞𝙩𝙨 — « 𝘥𝘳𝘦𝘢𝘮𝘪𝘯𝘨 𝘥𝘳𝘦𝘢𝘮𝘴 𝘸𝘪𝘵𝘩 𝘩𝘢𝘱𝘱𝘺 𝘦𝘯𝘥𝘪𝘯𝘨𝘴</td>\n",
       "      <td>0.486863</td>\n",
       "    </tr>\n",
       "    <tr>\n",
       "      <th>87566</th>\n",
       "      <td>79330528</td>\n",
       "      <td>http://proved-me-right.tumblr.com/</td>\n",
       "      <td>daniya // وَلَا يَحْزُنْكَ قَوْلُهُمْ</td>\n",
       "      <td>0.482175</td>\n",
       "    </tr>\n",
       "    <tr>\n",
       "      <th>106299</th>\n",
       "      <td>17936694</td>\n",
       "      <td>http://witchesburnt.tumblr.com/</td>\n",
       "      <td>anis / malaysia</td>\n",
       "      <td>0.480429</td>\n",
       "    </tr>\n",
       "    <tr>\n",
       "      <th>136358</th>\n",
       "      <td>383477081</td>\n",
       "      <td>https://heldmekloss13.tumblr.com/</td>\n",
       "      <td>g o l d e n t a t t o o u n d e r c o v e r</td>\n",
       "      <td>0.477608</td>\n",
       "    </tr>\n",
       "    <tr>\n",
       "      <th>18815</th>\n",
       "      <td>61822871</td>\n",
       "      <td>http://mycorneroffeels.tumblr.com/</td>\n",
       "      <td>alejandro</td>\n",
       "      <td>0.474638</td>\n",
       "    </tr>\n",
       "    <tr>\n",
       "      <th>286032</th>\n",
       "      <td>121543234</td>\n",
       "      <td>http://rainyendtoaperfectday.tumblr.com/</td>\n",
       "      <td>jennifer-21-s. florida</td>\n",
       "      <td>0.474402</td>\n",
       "    </tr>\n",
       "    <tr>\n",
       "      <th>191755</th>\n",
       "      <td>27025119</td>\n",
       "      <td>http://stickycorazons.tumblr.com/</td>\n",
       "      <td>arly</td>\n",
       "      <td>0.471756</td>\n",
       "    </tr>\n",
       "    <tr>\n",
       "      <th>148579</th>\n",
       "      <td>363058030</td>\n",
       "      <td>https://firstmetme13.tumblr.com/</td>\n",
       "      <td>hamza🐍 15 🤷🏽‍♂️ german guy🇩🇪</td>\n",
       "      <td>0.468573</td>\n",
       "    </tr>\n",
       "    <tr>\n",
       "      <th>60692</th>\n",
       "      <td>208959710</td>\n",
       "      <td>https://sheeranfromrealitay.tumblr.com/</td>\n",
       "      <td>worthless</td>\n",
       "      <td>0.457137</td>\n",
       "    </tr>\n",
       "    <tr>\n",
       "      <th>42111</th>\n",
       "      <td>250044529</td>\n",
       "      <td>https://javiiswift.tumblr.com/</td>\n",
       "      <td>1989tour london reptour london</td>\n",
       "      <td>0.455503</td>\n",
       "    </tr>\n",
       "    <tr>\n",
       "      <th>87812</th>\n",
       "      <td>373744661</td>\n",
       "      <td>https://thetitsmcgee.tumblr.com/</td>\n",
       "      <td>asks open</td>\n",
       "      <td>0.451101</td>\n",
       "    </tr>\n",
       "    <tr>\n",
       "      <th>249829</th>\n",
       "      <td>106267586</td>\n",
       "      <td>http://warrior-skyscraper.tumblr.com/</td>\n",
       "      <td>consistently inconsistent</td>\n",
       "      <td>0.448353</td>\n",
       "    </tr>\n",
       "  </tbody>\n",
       "</table>\n",
       "</div>"
      ],
      "text/plain": [
       "        tumblog_id                                tumblr_blog_url  \\\n",
       "75221    345999689            https://winedarkodyssea.tumblr.com/   \n",
       "236086   413094139    https://taylorswiftinwonderland.tumblr.com/   \n",
       "221937   431824240        https://bananaofswift-stuff.tumblr.com/   \n",
       "110970   243539755  https://im-dying-in-a-getaway-car.tumblr.com/   \n",
       "286804     8909922                  http://hedalyciaa.tumblr.com/   \n",
       "131568     2340025    http://fuckyeahprettylittleliar.tumblr.com/   \n",
       "252108     9414773                   https://birthdad.tumblr.com/   \n",
       "83915    422602435                  https://t-swift89.tumblr.com/   \n",
       "19141    316826952             https://swiftiefangirl.tumblr.com/   \n",
       "181840    91553273               http://mineisbetterr.tumblr.com/   \n",
       "109470   170547637       https://lovewithoutreason123.tumblr.com/   \n",
       "292507   192281009                https://newromantis.tumblr.com/   \n",
       "132624   303184441  https://calmdownyourebeingtooloud.tumblr.com/   \n",
       "199026     8916931                      http://wasred.tumblr.com/   \n",
       "290799    55371389           http://eternal-swiftie13.tumblr.com/   \n",
       "259876   430484251                https://lovertourts.tumblr.com/   \n",
       "24827    231901803                http://ohshitkaylor.tumblr.com/   \n",
       "244436    82104574               https://wcnderfucked.tumblr.com/   \n",
       "61512     17352035         http://slammingscreendoors.tumblr.com/   \n",
       "59906     76471232       http://violentfickledelights.tumblr.com/   \n",
       "84340    278293057            https://wildestdreams94.tumblr.com/   \n",
       "239663   329850200            https://whitlovestaylor.tumblr.com/   \n",
       "110003   332272074                https://koriswift13.tumblr.com/   \n",
       "37455    235809676  https://princesssamanthaelizabeth.tumblr.com/   \n",
       "20861    191496235              https://loverthealbum.tumblr.com/   \n",
       "240531   231193878              http://swiftlet-ellie.tumblr.com/   \n",
       "250708   234619708                https://itsdelicute.tumblr.com/   \n",
       "279529   363431148         https://theflashbackstarts.tumblr.com/   \n",
       "171605   365401494                   http://aimlocked.tumblr.com/   \n",
       "87566     79330528             http://proved-me-right.tumblr.com/   \n",
       "106299    17936694                http://witchesburnt.tumblr.com/   \n",
       "136358   383477081              https://heldmekloss13.tumblr.com/   \n",
       "18815     61822871             http://mycorneroffeels.tumblr.com/   \n",
       "286032   121543234       http://rainyendtoaperfectday.tumblr.com/   \n",
       "191755    27025119              http://stickycorazons.tumblr.com/   \n",
       "148579   363058030               https://firstmetme13.tumblr.com/   \n",
       "60692    208959710        https://sheeranfromrealitay.tumblr.com/   \n",
       "42111    250044529                 https://javiiswift.tumblr.com/   \n",
       "87812    373744661               https://thetitsmcgee.tumblr.com/   \n",
       "249829   106267586          http://warrior-skyscraper.tumblr.com/   \n",
       "\n",
       "                                                            processed_tumblr_blog_description  \\\n",
       "75221                                                                      hellenismos | ♑️ .   \n",
       "236086                                                             🌈🦋💗fuck sewing machines💗🦋🌈   \n",
       "221937                                                                                 stuffs   \n",
       "110970                                                                   swift🖤 harmonizer 😭😍   \n",
       "286804                                                                      alycia/lexa trash   \n",
       "131568                                               ⠀⠀ᴋʀɪsᴛʏ/ʟɪᴀʀ ᴡᴏʟғ ᴠɪxᴇɴ/ᴛᴀᴄᴏs ᴀʀᴇ ᴛᴀsᴛʏ   \n",
       "252108                                                                         ༺ jaz ༻ he/him   \n",
       "83915                                                                                     t .   \n",
       "19141                                                    taylor followed 24-08-17 ㅤ ㅤ ㅤ ㅤ ㅤ ㅤ   \n",
       "181840                                                                                  `` ``   \n",
       "109470                                                                                  `` ``   \n",
       "292507                                                                                  `` ``   \n",
       "132624                                                                    25 | she/her | 🏳️‍🌈   \n",
       "199026                                                                         murjana . 25 .   \n",
       "290799                                                       ♡ fσяєνєя αи∂ αℓωαуѕ α ѕωιfтιє ♡   \n",
       "259876                                                             ig : reputationstadiumtour   \n",
       "24827                                                                      ▪️t.s . + k.k . ▪️   \n",
       "244436                                                                                c l e o   \n",
       "61512                               christina nj/nyc 7/13/13 & 10-13-14 & 11-14-14 & 11-13-17   \n",
       "59906                                     kat | she/her | poetry/writing : katsage-tumblr-com   \n",
       "84340                                                                   💘october 22nd , 2016💘   \n",
       "239663                                                                  utah/14/tiwwchnt stan   \n",
       "110003                                                                     ciwyw & dwoht stan   \n",
       "37455                                                               happily taken ~ 8/27/2028   \n",
       "20861                                                                      ig & sc : amanykay   \n",
       "240531                                                                                     21   \n",
       "250708                                                                  +autumn # useraudi 22   \n",
       "279529  ☼ taylor swift enthusiast ☼ ☼ 09-25-15 | 08-25-18 ☼ ☼ instagram : reminiscingtaylor ☼   \n",
       "171605              » — 𝙖𝙢𝙞 | 𝙭𝙭𝙞 | 𝙝𝙪𝙛𝙛𝙡𝙚𝙥𝙪𝙛𝙛 | 𝙚𝙙𝙞𝙩𝙨 — « 𝘥𝘳𝘦𝘢𝘮𝘪𝘯𝘨 𝘥𝘳𝘦𝘢𝘮𝘴 𝘸𝘪𝘵𝘩 𝘩𝘢𝘱𝘱𝘺 𝘦𝘯𝘥𝘪𝘯𝘨𝘴   \n",
       "87566                                                   daniya // وَلَا يَحْزُنْكَ قَوْلُهُمْ   \n",
       "106299                                                                        anis / malaysia   \n",
       "136358                                            g o l d e n t a t t o o u n d e r c o v e r   \n",
       "18815                                                                               alejandro   \n",
       "286032                                                                 jennifer-21-s. florida   \n",
       "191755                                                                                   arly   \n",
       "148579                                                           hamza🐍 15 🤷🏽‍♂️ german guy🇩🇪   \n",
       "60692                                                                               worthless   \n",
       "42111                                                          1989tour london reptour london   \n",
       "87812                                                                               asks open   \n",
       "249829                                                              consistently inconsistent   \n",
       "\n",
       "        cosine_dist_mean  \n",
       "75221           0.729991  \n",
       "236086          0.668894  \n",
       "221937          0.629706  \n",
       "110970          0.625359  \n",
       "286804          0.622530  \n",
       "131568          0.621887  \n",
       "252108          0.602423  \n",
       "83915           0.588854  \n",
       "19141           0.575296  \n",
       "181840          0.571737  \n",
       "109470          0.571737  \n",
       "292507          0.571737  \n",
       "132624          0.562607  \n",
       "199026          0.562607  \n",
       "290799          0.556633  \n",
       "259876          0.551139  \n",
       "24827           0.544482  \n",
       "244436          0.530313  \n",
       "61512           0.520999  \n",
       "59906           0.516408  \n",
       "84340           0.513683  \n",
       "239663          0.513288  \n",
       "110003          0.513288  \n",
       "37455           0.511521  \n",
       "20861           0.503647  \n",
       "240531          0.494857  \n",
       "250708          0.493835  \n",
       "279529          0.493831  \n",
       "171605          0.486863  \n",
       "87566           0.482175  \n",
       "106299          0.480429  \n",
       "136358          0.477608  \n",
       "18815           0.474638  \n",
       "286032          0.474402  \n",
       "191755          0.471756  \n",
       "148579          0.468573  \n",
       "60692           0.457137  \n",
       "42111           0.455503  \n",
       "87812           0.451101  \n",
       "249829          0.448353  "
      ]
     },
     "execution_count": 36,
     "metadata": {},
     "output_type": "execute_result"
    }
   ],
   "source": [
    "comm_data.sort_values('cosine_dist_mean', ascending=False)[['tumblog_id', 'tumblr_blog_url', 'processed_tumblr_blog_description', 'cosine_dist_mean']].head(40)"
   ]
  },
  {
   "cell_type": "markdown",
   "id": "musical-choice",
   "metadata": {},
   "source": [
    "## Sample reblogs from 'unusual' users in their communities"
   ]
  },
  {
   "cell_type": "code",
   "execution_count": 38,
   "id": "applicable-colleague",
   "metadata": {
    "scrolled": true,
    "tags": []
   },
   "outputs": [
    {
     "name": "stderr",
     "output_type": "stream",
     "text": [
      "/projects/tumblr_community_identity/code/conda_env/lib/python3.6/site-packages/IPython/core/interactiveshell.py:3072: DtypeWarning: Columns (12,29,38,42,51,54) have mixed types.Specify dtype option on import or set low_memory=False.\n",
      "  interactivity=interactivity, compiler=compiler, result=result)\n"
     ]
    },
    {
     "name": "stdout",
     "output_type": "stream",
     "text": [
      "Index(['post_id_reblog', 'activity_time_epoch_reblog', 'activity_date_reblog',\n",
      "       'post_title_reblog', 'post_short_url_reblog', 'post_slug_reblog',\n",
      "       'post_type_reblog', 'post_caption_reblog', 'post_format_reblog',\n",
      "       'post_note_count_reblog', 'reblogged_from_post_id_reblog',\n",
      "       'created_time_epoch_reblog', 'updated_time_epoch_reblog',\n",
      "       'source_url_reblog', 'post_id_nonreblog',\n",
      "       'activity_time_epoch_nonreblog', 'activity_date_nonreblog',\n",
      "       'post_title_nonreblog', 'post_short_url_nonreblog',\n",
      "       'post_slug_nonreblog', 'post_type_nonreblog', 'post_caption_nonreblog',\n",
      "       'post_format_nonreblog', 'post_note_count_nonreblog',\n",
      "       'reblogged_from_post_id_nonreblog', 'created_time_epoch_nonreblog',\n",
      "       'updated_time_epoch_nonreblog', 'source_url_nonreblog',\n",
      "       'tumblog_id_follower_reblog', 'activity_time_epoch_follower_reblog',\n",
      "       'tumblr_blog_name_follower_reblog', 'tumblr_blog_title_follower_reblog',\n",
      "       'tumblr_blog_description_follower_reblog',\n",
      "       'tumblr_blog_url_follower_reblog', 'is_group_blog_follower_reblog',\n",
      "       'is_primary_follower_reblog', 'is_private_follower_reblog',\n",
      "       'created_time_epoch_follower_reblog',\n",
      "       'updated_time_epoch_follower_reblog', 'language_follower_reblog',\n",
      "       'post_count_follower_reblog', 'tumblog_id_followee_reblog',\n",
      "       'activity_time_epoch_followee_reblog',\n",
      "       'tumblr_blog_name_followee_reblog', 'tumblr_blog_title_followee_reblog',\n",
      "       'tumblr_blog_description_followee_reblog',\n",
      "       'tumblr_blog_url_followee_reblog', 'is_group_blog_followee_reblog',\n",
      "       'is_primary_followee_reblog', 'is_private_followee_reblog',\n",
      "       'created_time_epoch_followee_reblog',\n",
      "       'updated_time_epoch_followee_reblog', 'language_followee_reblog',\n",
      "       'tumblog_id_followee_nonreblog',\n",
      "       'activity_time_epoch_followee_nonreblog',\n",
      "       'tumblr_blog_name_followee_nonreblog',\n",
      "       'tumblr_blog_title_followee_nonreblog',\n",
      "       'tumblr_blog_description_followee_nonreblog',\n",
      "       'tumblr_blog_url_followee_nonreblog',\n",
      "       'is_group_blog_followee_nonreblog', 'is_primary_followee_nonreblog',\n",
      "       'is_private_followee_nonreblog',\n",
      "       'created_time_epoch_followee_nonreblog',\n",
      "       'updated_time_epoch_followee_nonreblog', 'language_followee_nonreblog',\n",
      "       'post_tags_reblog_str', 'post_content_reblog_str',\n",
      "       'reblogged_from_metadata_reblog_str', 'mentions_reblog_str',\n",
      "       'post_tags_nonreblog_str', 'post_content_nonreblog_str',\n",
      "       'reblogged_from_metadata_nonreblog_str', 'mentions_nonreblog_str',\n",
      "       'processed_tumblr_blog_description_follower_reblog',\n",
      "       'processed_tumblr_blog_description_followee_reblog',\n",
      "       'processed_tumblr_blog_description_followee_nonreblog'],\n",
      "      dtype='object')\n",
      "(110922, 76)\n"
     ]
    }
   ],
   "source": [
    "# Load reblog prediction data\n",
    "reblog_data = pd.read_csv('/data/tumblr_community_identity/dataset114k/matched_reblogs_nonreblogs_dataset114k.csv')\n",
    "print(reblog_data.columns)\n",
    "print(reblog_data.shape)"
   ]
  },
  {
   "cell_type": "code",
   "execution_count": 39,
   "id": "ultimate-compatibility",
   "metadata": {},
   "outputs": [
    {
     "data": {
      "text/plain": [
       "['tumblog_id_follower_reblog',\n",
       " 'tumblog_id_followee_reblog',\n",
       " 'tumblog_id_followee_nonreblog']"
      ]
     },
     "execution_count": 39,
     "metadata": {},
     "output_type": "execute_result"
    }
   ],
   "source": [
    "tumblog_id_cols = [col for col in reblog_data.columns if 'tumblog_id' in col]\n",
    "tumblog_id_cols"
   ]
  },
  {
   "cell_type": "code",
   "execution_count": 44,
   "id": "intermediate-house",
   "metadata": {},
   "outputs": [
    {
     "data": {
      "text/plain": [
       "['tumblr_blog_description_follower_reblog',\n",
       " 'tumblr_blog_description_followee_reblog',\n",
       " 'tumblr_blog_description_followee_nonreblog',\n",
       " 'processed_tumblr_blog_description_follower_reblog',\n",
       " 'processed_tumblr_blog_description_followee_reblog',\n",
       " 'processed_tumblr_blog_description_followee_nonreblog']"
      ]
     },
     "execution_count": 44,
     "metadata": {},
     "output_type": "execute_result"
    }
   ],
   "source": [
    "desc_cols = [col for col in reblog_data.columns if 'blog_description' in col]\n",
    "desc_cols"
   ]
  },
  {
   "cell_type": "code",
   "execution_count": 46,
   "id": "detected-motivation",
   "metadata": {
    "scrolled": true,
    "tags": []
   },
   "outputs": [
    {
     "ename": "KeyError",
     "evalue": "\"['tumblog_id_reblog', 'tumblog_id_nonreblog', 'processed_tumblr_blog_description_reblog', 'processed_tumblr_blog_description_nonreblog'] not in index\"",
     "output_type": "error",
     "traceback": [
      "\u001b[0;31m---------------------------------------------------------------------------\u001b[0m",
      "\u001b[0;31mKeyError\u001b[0m                                  Traceback (most recent call last)",
      "\u001b[0;32m<ipython-input-46-b0ef728749c6>\u001b[0m in \u001b[0;36m<module>\u001b[0;34m\u001b[0m\n\u001b[1;32m     10\u001b[0m     \u001b[0mselected_cols\u001b[0m \u001b[0;34m+=\u001b[0m \u001b[0;34m[\u001b[0m\u001b[0;34mf'tumblog_id_{r}'\u001b[0m\u001b[0;34m,\u001b[0m \u001b[0;34mf'processed_tumblr_blog_description_{r}'\u001b[0m\u001b[0;34m]\u001b[0m\u001b[0;34m\u001b[0m\u001b[0;34m\u001b[0m\u001b[0m\n\u001b[1;32m     11\u001b[0m     \u001b[0mselected_cols\u001b[0m \u001b[0;34m+=\u001b[0m \u001b[0;34m[\u001b[0m\u001b[0;34mf'post_title_{r}'\u001b[0m\u001b[0;34m,\u001b[0m \u001b[0;34mf'post_short_url_{r}'\u001b[0m\u001b[0;34m]\u001b[0m\u001b[0;34m\u001b[0m\u001b[0;34m\u001b[0m\u001b[0m\n\u001b[0;32m---> 12\u001b[0;31m \u001b[0mselected\u001b[0m\u001b[0;34m[\u001b[0m\u001b[0mselected_cols\u001b[0m\u001b[0;34m]\u001b[0m\u001b[0;34m\u001b[0m\u001b[0;34m\u001b[0m\u001b[0m\n\u001b[0m",
      "\u001b[0;32m/projects/tumblr_community_identity/code/conda_env/lib/python3.6/site-packages/pandas/core/frame.py\u001b[0m in \u001b[0;36m__getitem__\u001b[0;34m(self, key)\u001b[0m\n\u001b[1;32m   2906\u001b[0m             \u001b[0;32mif\u001b[0m \u001b[0mis_iterator\u001b[0m\u001b[0;34m(\u001b[0m\u001b[0mkey\u001b[0m\u001b[0;34m)\u001b[0m\u001b[0;34m:\u001b[0m\u001b[0;34m\u001b[0m\u001b[0;34m\u001b[0m\u001b[0m\n\u001b[1;32m   2907\u001b[0m                 \u001b[0mkey\u001b[0m \u001b[0;34m=\u001b[0m \u001b[0mlist\u001b[0m\u001b[0;34m(\u001b[0m\u001b[0mkey\u001b[0m\u001b[0;34m)\u001b[0m\u001b[0;34m\u001b[0m\u001b[0;34m\u001b[0m\u001b[0m\n\u001b[0;32m-> 2908\u001b[0;31m             \u001b[0mindexer\u001b[0m \u001b[0;34m=\u001b[0m \u001b[0mself\u001b[0m\u001b[0;34m.\u001b[0m\u001b[0mloc\u001b[0m\u001b[0;34m.\u001b[0m\u001b[0m_get_listlike_indexer\u001b[0m\u001b[0;34m(\u001b[0m\u001b[0mkey\u001b[0m\u001b[0;34m,\u001b[0m \u001b[0maxis\u001b[0m\u001b[0;34m=\u001b[0m\u001b[0;36m1\u001b[0m\u001b[0;34m,\u001b[0m \u001b[0mraise_missing\u001b[0m\u001b[0;34m=\u001b[0m\u001b[0;32mTrue\u001b[0m\u001b[0;34m)\u001b[0m\u001b[0;34m[\u001b[0m\u001b[0;36m1\u001b[0m\u001b[0;34m]\u001b[0m\u001b[0;34m\u001b[0m\u001b[0;34m\u001b[0m\u001b[0m\n\u001b[0m\u001b[1;32m   2909\u001b[0m \u001b[0;34m\u001b[0m\u001b[0m\n\u001b[1;32m   2910\u001b[0m         \u001b[0;31m# take() does not accept boolean indexers\u001b[0m\u001b[0;34m\u001b[0m\u001b[0;34m\u001b[0m\u001b[0;34m\u001b[0m\u001b[0m\n",
      "\u001b[0;32m/projects/tumblr_community_identity/code/conda_env/lib/python3.6/site-packages/pandas/core/indexing.py\u001b[0m in \u001b[0;36m_get_listlike_indexer\u001b[0;34m(self, key, axis, raise_missing)\u001b[0m\n\u001b[1;32m   1252\u001b[0m             \u001b[0mkeyarr\u001b[0m\u001b[0;34m,\u001b[0m \u001b[0mindexer\u001b[0m\u001b[0;34m,\u001b[0m \u001b[0mnew_indexer\u001b[0m \u001b[0;34m=\u001b[0m \u001b[0max\u001b[0m\u001b[0;34m.\u001b[0m\u001b[0m_reindex_non_unique\u001b[0m\u001b[0;34m(\u001b[0m\u001b[0mkeyarr\u001b[0m\u001b[0;34m)\u001b[0m\u001b[0;34m\u001b[0m\u001b[0;34m\u001b[0m\u001b[0m\n\u001b[1;32m   1253\u001b[0m \u001b[0;34m\u001b[0m\u001b[0m\n\u001b[0;32m-> 1254\u001b[0;31m         \u001b[0mself\u001b[0m\u001b[0;34m.\u001b[0m\u001b[0m_validate_read_indexer\u001b[0m\u001b[0;34m(\u001b[0m\u001b[0mkeyarr\u001b[0m\u001b[0;34m,\u001b[0m \u001b[0mindexer\u001b[0m\u001b[0;34m,\u001b[0m \u001b[0maxis\u001b[0m\u001b[0;34m,\u001b[0m \u001b[0mraise_missing\u001b[0m\u001b[0;34m=\u001b[0m\u001b[0mraise_missing\u001b[0m\u001b[0;34m)\u001b[0m\u001b[0;34m\u001b[0m\u001b[0;34m\u001b[0m\u001b[0m\n\u001b[0m\u001b[1;32m   1255\u001b[0m         \u001b[0;32mreturn\u001b[0m \u001b[0mkeyarr\u001b[0m\u001b[0;34m,\u001b[0m \u001b[0mindexer\u001b[0m\u001b[0;34m\u001b[0m\u001b[0;34m\u001b[0m\u001b[0m\n\u001b[1;32m   1256\u001b[0m \u001b[0;34m\u001b[0m\u001b[0m\n",
      "\u001b[0;32m/projects/tumblr_community_identity/code/conda_env/lib/python3.6/site-packages/pandas/core/indexing.py\u001b[0m in \u001b[0;36m_validate_read_indexer\u001b[0;34m(self, key, indexer, axis, raise_missing)\u001b[0m\n\u001b[1;32m   1302\u001b[0m             \u001b[0;32mif\u001b[0m \u001b[0mraise_missing\u001b[0m\u001b[0;34m:\u001b[0m\u001b[0;34m\u001b[0m\u001b[0;34m\u001b[0m\u001b[0m\n\u001b[1;32m   1303\u001b[0m                 \u001b[0mnot_found\u001b[0m \u001b[0;34m=\u001b[0m \u001b[0mlist\u001b[0m\u001b[0;34m(\u001b[0m\u001b[0mset\u001b[0m\u001b[0;34m(\u001b[0m\u001b[0mkey\u001b[0m\u001b[0;34m)\u001b[0m \u001b[0;34m-\u001b[0m \u001b[0mset\u001b[0m\u001b[0;34m(\u001b[0m\u001b[0max\u001b[0m\u001b[0;34m)\u001b[0m\u001b[0;34m)\u001b[0m\u001b[0;34m\u001b[0m\u001b[0;34m\u001b[0m\u001b[0m\n\u001b[0;32m-> 1304\u001b[0;31m                 \u001b[0;32mraise\u001b[0m \u001b[0mKeyError\u001b[0m\u001b[0;34m(\u001b[0m\u001b[0;34mf\"{not_found} not in index\"\u001b[0m\u001b[0;34m)\u001b[0m\u001b[0;34m\u001b[0m\u001b[0;34m\u001b[0m\u001b[0m\n\u001b[0m\u001b[1;32m   1305\u001b[0m \u001b[0;34m\u001b[0m\u001b[0m\n\u001b[1;32m   1306\u001b[0m             \u001b[0;31m# we skip the warning on Categorical\u001b[0m\u001b[0;34m\u001b[0m\u001b[0;34m\u001b[0m\u001b[0;34m\u001b[0m\u001b[0m\n",
      "\u001b[0;31mKeyError\u001b[0m: \"['tumblog_id_reblog', 'tumblog_id_nonreblog', 'processed_tumblr_blog_description_reblog', 'processed_tumblr_blog_description_nonreblog'] not in index\""
     ]
    }
   ],
   "source": [
    "# Filter to selected tumblog ids\n",
    "tumblog_id = 345999689\n",
    "selected = reblog_data.query('(tumblog_id_follower_reblog == @tumblog_id) | (tumblog_id_followee_reblog == @tumblog_id) |'\n",
    "                             '(tumblog_id_followee_nonreblog == @tumblog_id)')\n",
    "selected_cols = []\n",
    "for r in ['reblog', 'nonreblog']:\n",
    "    selected_cols += ['tumblog_id_follower_reblog']\n",
    "    selected_cols += ['processed_tumblr_blog_description_follower_reblog']\n",
    "    selected_cols += [f'tumblog_id_followee_{r}', f'processed_tumblr_blog_description_{r}']\n",
    "    selected_cols += [f'tumblog_id_{r}', f'processed_tumblr_blog_description_{r}']\n",
    "    selected_cols += [f'post_title_{r}', f'post_short_url_{r}']\n",
    "selected[selected_cols]"
   ]
  }
 ],
 "metadata": {
  "kernelspec": {
   "display_name": "Python 3",
   "language": "python",
   "name": "python3"
  },
  "language_info": {
   "codemirror_mode": {
    "name": "ipython",
    "version": 3
   },
   "file_extension": ".py",
   "mimetype": "text/x-python",
   "name": "python",
   "nbconvert_exporter": "python",
   "pygments_lexer": "ipython3",
   "version": "3.6.12"
  }
 },
 "nbformat": 4,
 "nbformat_minor": 5
}
