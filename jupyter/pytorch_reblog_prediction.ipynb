{
 "cells": [
  {
   "cell_type": "markdown",
   "id": "descending-glory",
   "metadata": {},
   "source": [
    "# Plot loss, training and dev accuracy"
   ]
  },
  {
   "cell_type": "markdown",
   "id": "gorgeous-cambridge",
   "metadata": {},
   "source": [
    "## Examine loss, accuracy curves for a particular model"
   ]
  },
  {
   "cell_type": "code",
   "execution_count": 6,
   "id": "obvious-glasgow",
   "metadata": {
    "tags": []
   },
   "outputs": [
    {
     "name": "stdout",
     "output_type": "stream",
     "text": [
      "0 days 00:02:20\n"
     ]
    },
    {
     "data": {
      "application/vnd.plotly.v1+json": {
       "config": {
        "plotlyServerURL": "https://plot.ly"
       },
       "data": [
        {
         "hovertemplate": "epoch=%{x}<br>loss=%{y}<extra></extra>",
         "legendgroup": "",
         "line": {
          "color": "#636efa",
          "dash": "solid"
         },
         "mode": "lines",
         "name": "",
         "orientation": "v",
         "showlegend": false,
         "type": "scatter",
         "x": [
          1,
          2,
          3,
          4,
          5
         ],
         "xaxis": "x",
         "y": [
          0.6738637089729309,
          0.6735018491744995,
          0.6713190674781799,
          0.6688246726989746,
          0.6675238013267517
         ],
         "yaxis": "y"
        }
       ],
       "layout": {
        "autosize": true,
        "legend": {
         "tracegroupgap": 0
        },
        "template": {
         "data": {
          "bar": [
           {
            "error_x": {
             "color": "#2a3f5f"
            },
            "error_y": {
             "color": "#2a3f5f"
            },
            "marker": {
             "line": {
              "color": "#E5ECF6",
              "width": 0.5
             }
            },
            "type": "bar"
           }
          ],
          "barpolar": [
           {
            "marker": {
             "line": {
              "color": "#E5ECF6",
              "width": 0.5
             }
            },
            "type": "barpolar"
           }
          ],
          "carpet": [
           {
            "aaxis": {
             "endlinecolor": "#2a3f5f",
             "gridcolor": "white",
             "linecolor": "white",
             "minorgridcolor": "white",
             "startlinecolor": "#2a3f5f"
            },
            "baxis": {
             "endlinecolor": "#2a3f5f",
             "gridcolor": "white",
             "linecolor": "white",
             "minorgridcolor": "white",
             "startlinecolor": "#2a3f5f"
            },
            "type": "carpet"
           }
          ],
          "choropleth": [
           {
            "colorbar": {
             "outlinewidth": 0,
             "ticks": ""
            },
            "type": "choropleth"
           }
          ],
          "contour": [
           {
            "colorbar": {
             "outlinewidth": 0,
             "ticks": ""
            },
            "colorscale": [
             [
              0,
              "#0d0887"
             ],
             [
              0.1111111111111111,
              "#46039f"
             ],
             [
              0.2222222222222222,
              "#7201a8"
             ],
             [
              0.3333333333333333,
              "#9c179e"
             ],
             [
              0.4444444444444444,
              "#bd3786"
             ],
             [
              0.5555555555555556,
              "#d8576b"
             ],
             [
              0.6666666666666666,
              "#ed7953"
             ],
             [
              0.7777777777777778,
              "#fb9f3a"
             ],
             [
              0.8888888888888888,
              "#fdca26"
             ],
             [
              1,
              "#f0f921"
             ]
            ],
            "type": "contour"
           }
          ],
          "contourcarpet": [
           {
            "colorbar": {
             "outlinewidth": 0,
             "ticks": ""
            },
            "type": "contourcarpet"
           }
          ],
          "heatmap": [
           {
            "colorbar": {
             "outlinewidth": 0,
             "ticks": ""
            },
            "colorscale": [
             [
              0,
              "#0d0887"
             ],
             [
              0.1111111111111111,
              "#46039f"
             ],
             [
              0.2222222222222222,
              "#7201a8"
             ],
             [
              0.3333333333333333,
              "#9c179e"
             ],
             [
              0.4444444444444444,
              "#bd3786"
             ],
             [
              0.5555555555555556,
              "#d8576b"
             ],
             [
              0.6666666666666666,
              "#ed7953"
             ],
             [
              0.7777777777777778,
              "#fb9f3a"
             ],
             [
              0.8888888888888888,
              "#fdca26"
             ],
             [
              1,
              "#f0f921"
             ]
            ],
            "type": "heatmap"
           }
          ],
          "heatmapgl": [
           {
            "colorbar": {
             "outlinewidth": 0,
             "ticks": ""
            },
            "colorscale": [
             [
              0,
              "#0d0887"
             ],
             [
              0.1111111111111111,
              "#46039f"
             ],
             [
              0.2222222222222222,
              "#7201a8"
             ],
             [
              0.3333333333333333,
              "#9c179e"
             ],
             [
              0.4444444444444444,
              "#bd3786"
             ],
             [
              0.5555555555555556,
              "#d8576b"
             ],
             [
              0.6666666666666666,
              "#ed7953"
             ],
             [
              0.7777777777777778,
              "#fb9f3a"
             ],
             [
              0.8888888888888888,
              "#fdca26"
             ],
             [
              1,
              "#f0f921"
             ]
            ],
            "type": "heatmapgl"
           }
          ],
          "histogram": [
           {
            "marker": {
             "colorbar": {
              "outlinewidth": 0,
              "ticks": ""
             }
            },
            "type": "histogram"
           }
          ],
          "histogram2d": [
           {
            "colorbar": {
             "outlinewidth": 0,
             "ticks": ""
            },
            "colorscale": [
             [
              0,
              "#0d0887"
             ],
             [
              0.1111111111111111,
              "#46039f"
             ],
             [
              0.2222222222222222,
              "#7201a8"
             ],
             [
              0.3333333333333333,
              "#9c179e"
             ],
             [
              0.4444444444444444,
              "#bd3786"
             ],
             [
              0.5555555555555556,
              "#d8576b"
             ],
             [
              0.6666666666666666,
              "#ed7953"
             ],
             [
              0.7777777777777778,
              "#fb9f3a"
             ],
             [
              0.8888888888888888,
              "#fdca26"
             ],
             [
              1,
              "#f0f921"
             ]
            ],
            "type": "histogram2d"
           }
          ],
          "histogram2dcontour": [
           {
            "colorbar": {
             "outlinewidth": 0,
             "ticks": ""
            },
            "colorscale": [
             [
              0,
              "#0d0887"
             ],
             [
              0.1111111111111111,
              "#46039f"
             ],
             [
              0.2222222222222222,
              "#7201a8"
             ],
             [
              0.3333333333333333,
              "#9c179e"
             ],
             [
              0.4444444444444444,
              "#bd3786"
             ],
             [
              0.5555555555555556,
              "#d8576b"
             ],
             [
              0.6666666666666666,
              "#ed7953"
             ],
             [
              0.7777777777777778,
              "#fb9f3a"
             ],
             [
              0.8888888888888888,
              "#fdca26"
             ],
             [
              1,
              "#f0f921"
             ]
            ],
            "type": "histogram2dcontour"
           }
          ],
          "mesh3d": [
           {
            "colorbar": {
             "outlinewidth": 0,
             "ticks": ""
            },
            "type": "mesh3d"
           }
          ],
          "parcoords": [
           {
            "line": {
             "colorbar": {
              "outlinewidth": 0,
              "ticks": ""
             }
            },
            "type": "parcoords"
           }
          ],
          "pie": [
           {
            "automargin": true,
            "type": "pie"
           }
          ],
          "scatter": [
           {
            "marker": {
             "colorbar": {
              "outlinewidth": 0,
              "ticks": ""
             }
            },
            "type": "scatter"
           }
          ],
          "scatter3d": [
           {
            "line": {
             "colorbar": {
              "outlinewidth": 0,
              "ticks": ""
             }
            },
            "marker": {
             "colorbar": {
              "outlinewidth": 0,
              "ticks": ""
             }
            },
            "type": "scatter3d"
           }
          ],
          "scattercarpet": [
           {
            "marker": {
             "colorbar": {
              "outlinewidth": 0,
              "ticks": ""
             }
            },
            "type": "scattercarpet"
           }
          ],
          "scattergeo": [
           {
            "marker": {
             "colorbar": {
              "outlinewidth": 0,
              "ticks": ""
             }
            },
            "type": "scattergeo"
           }
          ],
          "scattergl": [
           {
            "marker": {
             "colorbar": {
              "outlinewidth": 0,
              "ticks": ""
             }
            },
            "type": "scattergl"
           }
          ],
          "scattermapbox": [
           {
            "marker": {
             "colorbar": {
              "outlinewidth": 0,
              "ticks": ""
             }
            },
            "type": "scattermapbox"
           }
          ],
          "scatterpolar": [
           {
            "marker": {
             "colorbar": {
              "outlinewidth": 0,
              "ticks": ""
             }
            },
            "type": "scatterpolar"
           }
          ],
          "scatterpolargl": [
           {
            "marker": {
             "colorbar": {
              "outlinewidth": 0,
              "ticks": ""
             }
            },
            "type": "scatterpolargl"
           }
          ],
          "scatterternary": [
           {
            "marker": {
             "colorbar": {
              "outlinewidth": 0,
              "ticks": ""
             }
            },
            "type": "scatterternary"
           }
          ],
          "surface": [
           {
            "colorbar": {
             "outlinewidth": 0,
             "ticks": ""
            },
            "colorscale": [
             [
              0,
              "#0d0887"
             ],
             [
              0.1111111111111111,
              "#46039f"
             ],
             [
              0.2222222222222222,
              "#7201a8"
             ],
             [
              0.3333333333333333,
              "#9c179e"
             ],
             [
              0.4444444444444444,
              "#bd3786"
             ],
             [
              0.5555555555555556,
              "#d8576b"
             ],
             [
              0.6666666666666666,
              "#ed7953"
             ],
             [
              0.7777777777777778,
              "#fb9f3a"
             ],
             [
              0.8888888888888888,
              "#fdca26"
             ],
             [
              1,
              "#f0f921"
             ]
            ],
            "type": "surface"
           }
          ],
          "table": [
           {
            "cells": {
             "fill": {
              "color": "#EBF0F8"
             },
             "line": {
              "color": "white"
             }
            },
            "header": {
             "fill": {
              "color": "#C8D4E3"
             },
             "line": {
              "color": "white"
             }
            },
            "type": "table"
           }
          ]
         },
         "layout": {
          "annotationdefaults": {
           "arrowcolor": "#2a3f5f",
           "arrowhead": 0,
           "arrowwidth": 1
          },
          "autotypenumbers": "strict",
          "coloraxis": {
           "colorbar": {
            "outlinewidth": 0,
            "ticks": ""
           }
          },
          "colorscale": {
           "diverging": [
            [
             0,
             "#8e0152"
            ],
            [
             0.1,
             "#c51b7d"
            ],
            [
             0.2,
             "#de77ae"
            ],
            [
             0.3,
             "#f1b6da"
            ],
            [
             0.4,
             "#fde0ef"
            ],
            [
             0.5,
             "#f7f7f7"
            ],
            [
             0.6,
             "#e6f5d0"
            ],
            [
             0.7,
             "#b8e186"
            ],
            [
             0.8,
             "#7fbc41"
            ],
            [
             0.9,
             "#4d9221"
            ],
            [
             1,
             "#276419"
            ]
           ],
           "sequential": [
            [
             0,
             "#0d0887"
            ],
            [
             0.1111111111111111,
             "#46039f"
            ],
            [
             0.2222222222222222,
             "#7201a8"
            ],
            [
             0.3333333333333333,
             "#9c179e"
            ],
            [
             0.4444444444444444,
             "#bd3786"
            ],
            [
             0.5555555555555556,
             "#d8576b"
            ],
            [
             0.6666666666666666,
             "#ed7953"
            ],
            [
             0.7777777777777778,
             "#fb9f3a"
            ],
            [
             0.8888888888888888,
             "#fdca26"
            ],
            [
             1,
             "#f0f921"
            ]
           ],
           "sequentialminus": [
            [
             0,
             "#0d0887"
            ],
            [
             0.1111111111111111,
             "#46039f"
            ],
            [
             0.2222222222222222,
             "#7201a8"
            ],
            [
             0.3333333333333333,
             "#9c179e"
            ],
            [
             0.4444444444444444,
             "#bd3786"
            ],
            [
             0.5555555555555556,
             "#d8576b"
            ],
            [
             0.6666666666666666,
             "#ed7953"
            ],
            [
             0.7777777777777778,
             "#fb9f3a"
            ],
            [
             0.8888888888888888,
             "#fdca26"
            ],
            [
             1,
             "#f0f921"
            ]
           ]
          },
          "colorway": [
           "#636efa",
           "#EF553B",
           "#00cc96",
           "#ab63fa",
           "#FFA15A",
           "#19d3f3",
           "#FF6692",
           "#B6E880",
           "#FF97FF",
           "#FECB52"
          ],
          "font": {
           "color": "#2a3f5f"
          },
          "geo": {
           "bgcolor": "white",
           "lakecolor": "white",
           "landcolor": "#E5ECF6",
           "showlakes": true,
           "showland": true,
           "subunitcolor": "white"
          },
          "hoverlabel": {
           "align": "left"
          },
          "hovermode": "closest",
          "mapbox": {
           "style": "light"
          },
          "paper_bgcolor": "white",
          "plot_bgcolor": "#E5ECF6",
          "polar": {
           "angularaxis": {
            "gridcolor": "white",
            "linecolor": "white",
            "ticks": ""
           },
           "bgcolor": "#E5ECF6",
           "radialaxis": {
            "gridcolor": "white",
            "linecolor": "white",
            "ticks": ""
           }
          },
          "scene": {
           "xaxis": {
            "backgroundcolor": "#E5ECF6",
            "gridcolor": "white",
            "gridwidth": 2,
            "linecolor": "white",
            "showbackground": true,
            "ticks": "",
            "zerolinecolor": "white"
           },
           "yaxis": {
            "backgroundcolor": "#E5ECF6",
            "gridcolor": "white",
            "gridwidth": 2,
            "linecolor": "white",
            "showbackground": true,
            "ticks": "",
            "zerolinecolor": "white"
           },
           "zaxis": {
            "backgroundcolor": "#E5ECF6",
            "gridcolor": "white",
            "gridwidth": 2,
            "linecolor": "white",
            "showbackground": true,
            "ticks": "",
            "zerolinecolor": "white"
           }
          },
          "shapedefaults": {
           "line": {
            "color": "#2a3f5f"
           }
          },
          "ternary": {
           "aaxis": {
            "gridcolor": "white",
            "linecolor": "white",
            "ticks": ""
           },
           "baxis": {
            "gridcolor": "white",
            "linecolor": "white",
            "ticks": ""
           },
           "bgcolor": "#E5ECF6",
           "caxis": {
            "gridcolor": "white",
            "linecolor": "white",
            "ticks": ""
           }
          },
          "title": {
           "x": 0.05
          },
          "xaxis": {
           "automargin": true,
           "gridcolor": "white",
           "linecolor": "white",
           "ticks": "",
           "title": {
            "standoff": 15
           },
           "zerolinecolor": "white",
           "zerolinewidth": 2
          },
          "yaxis": {
           "automargin": true,
           "gridcolor": "white",
           "linecolor": "white",
           "ticks": "",
           "title": {
            "standoff": 15
           },
           "zerolinecolor": "white",
           "zerolinewidth": 2
          }
         }
        },
        "title": {
         "text": "Loss"
        },
        "xaxis": {
         "anchor": "y",
         "autorange": true,
         "domain": [
          0,
          1
         ],
         "range": [
          1,
          5
         ],
         "title": {
          "text": "epoch"
         },
         "type": "linear"
        },
        "yaxis": {
         "anchor": "x",
         "autorange": true,
         "domain": [
          0,
          1
         ],
         "range": [
          0.6671715842352973,
          0.6742159260643853
         ],
         "title": {
          "text": "loss"
         },
         "type": "linear"
        }
       }
      },
      "image/png": "[encoded data removed]",
      "text/html": [
       "<div>                            <div id=\"8ac06e22-131f-427b-9e37-39cdfa0d01f6\" class=\"plotly-graph-div\" style=\"height:525px; width:100%;\"></div>            <script type=\"text/javascript\">                require([\"plotly\"], function(Plotly) {                    window.PLOTLYENV=window.PLOTLYENV || {};                                    if (document.getElementById(\"8ac06e22-131f-427b-9e37-39cdfa0d01f6\")) {                    Plotly.newPlot(                        \"8ac06e22-131f-427b-9e37-39cdfa0d01f6\",                        [{\"hovertemplate\": \"epoch=%{x}<br>loss=%{y}<extra></extra>\", \"legendgroup\": \"\", \"line\": {\"color\": \"#636efa\", \"dash\": \"solid\"}, \"mode\": \"lines\", \"name\": \"\", \"orientation\": \"v\", \"showlegend\": false, \"type\": \"scatter\", \"x\": [1, 2, 3, 4, 5], \"xaxis\": \"x\", \"y\": [0.6738637089729309, 0.6735018491744995, 0.6713190674781799, 0.6688246726989746, 0.6675238013267517], \"yaxis\": \"y\"}],                        {\"legend\": {\"tracegroupgap\": 0}, \"template\": {\"data\": {\"bar\": [{\"error_x\": {\"color\": \"#2a3f5f\"}, \"error_y\": {\"color\": \"#2a3f5f\"}, \"marker\": {\"line\": {\"color\": \"#E5ECF6\", \"width\": 0.5}}, \"type\": \"bar\"}], \"barpolar\": [{\"marker\": {\"line\": {\"color\": \"#E5ECF6\", \"width\": 0.5}}, \"type\": \"barpolar\"}], \"carpet\": [{\"aaxis\": {\"endlinecolor\": \"#2a3f5f\", \"gridcolor\": \"white\", \"linecolor\": \"white\", \"minorgridcolor\": \"white\", \"startlinecolor\": \"#2a3f5f\"}, \"baxis\": {\"endlinecolor\": \"#2a3f5f\", \"gridcolor\": \"white\", \"linecolor\": \"white\", \"minorgridcolor\": \"white\", \"startlinecolor\": \"#2a3f5f\"}, \"type\": \"carpet\"}], \"choropleth\": [{\"colorbar\": {\"outlinewidth\": 0, \"ticks\": \"\"}, \"type\": \"choropleth\"}], \"contour\": [{\"colorbar\": {\"outlinewidth\": 0, \"ticks\": \"\"}, \"colorscale\": [[0.0, \"#0d0887\"], [0.1111111111111111, \"#46039f\"], [0.2222222222222222, \"#7201a8\"], [0.3333333333333333, \"#9c179e\"], [0.4444444444444444, \"#bd3786\"], [0.5555555555555556, \"#d8576b\"], [0.6666666666666666, \"#ed7953\"], [0.7777777777777778, \"#fb9f3a\"], [0.8888888888888888, \"#fdca26\"], [1.0, \"#f0f921\"]], \"type\": \"contour\"}], \"contourcarpet\": [{\"colorbar\": {\"outlinewidth\": 0, \"ticks\": \"\"}, \"type\": \"contourcarpet\"}], \"heatmap\": [{\"colorbar\": {\"outlinewidth\": 0, \"ticks\": \"\"}, \"colorscale\": [[0.0, \"#0d0887\"], [0.1111111111111111, \"#46039f\"], [0.2222222222222222, \"#7201a8\"], [0.3333333333333333, \"#9c179e\"], [0.4444444444444444, \"#bd3786\"], [0.5555555555555556, \"#d8576b\"], [0.6666666666666666, \"#ed7953\"], [0.7777777777777778, \"#fb9f3a\"], [0.8888888888888888, \"#fdca26\"], [1.0, \"#f0f921\"]], \"type\": \"heatmap\"}], \"heatmapgl\": [{\"colorbar\": {\"outlinewidth\": 0, \"ticks\": \"\"}, \"colorscale\": [[0.0, \"#0d0887\"], [0.1111111111111111, \"#46039f\"], [0.2222222222222222, \"#7201a8\"], [0.3333333333333333, \"#9c179e\"], [0.4444444444444444, \"#bd3786\"], [0.5555555555555556, \"#d8576b\"], [0.6666666666666666, \"#ed7953\"], [0.7777777777777778, \"#fb9f3a\"], [0.8888888888888888, \"#fdca26\"], [1.0, \"#f0f921\"]], \"type\": \"heatmapgl\"}], \"histogram\": [{\"marker\": {\"colorbar\": {\"outlinewidth\": 0, \"ticks\": \"\"}}, \"type\": \"histogram\"}], \"histogram2d\": [{\"colorbar\": {\"outlinewidth\": 0, \"ticks\": \"\"}, \"colorscale\": [[0.0, \"#0d0887\"], [0.1111111111111111, \"#46039f\"], [0.2222222222222222, \"#7201a8\"], [0.3333333333333333, \"#9c179e\"], [0.4444444444444444, \"#bd3786\"], [0.5555555555555556, \"#d8576b\"], [0.6666666666666666, \"#ed7953\"], [0.7777777777777778, \"#fb9f3a\"], [0.8888888888888888, \"#fdca26\"], [1.0, \"#f0f921\"]], \"type\": \"histogram2d\"}], \"histogram2dcontour\": [{\"colorbar\": {\"outlinewidth\": 0, \"ticks\": \"\"}, \"colorscale\": [[0.0, \"#0d0887\"], [0.1111111111111111, \"#46039f\"], [0.2222222222222222, \"#7201a8\"], [0.3333333333333333, \"#9c179e\"], [0.4444444444444444, \"#bd3786\"], [0.5555555555555556, \"#d8576b\"], [0.6666666666666666, \"#ed7953\"], [0.7777777777777778, \"#fb9f3a\"], [0.8888888888888888, \"#fdca26\"], [1.0, \"#f0f921\"]], \"type\": \"histogram2dcontour\"}], \"mesh3d\": [{\"colorbar\": {\"outlinewidth\": 0, \"ticks\": \"\"}, \"type\": \"mesh3d\"}], \"parcoords\": [{\"line\": {\"colorbar\": {\"outlinewidth\": 0, \"ticks\": \"\"}}, \"type\": \"parcoords\"}], \"pie\": [{\"automargin\": true, \"type\": \"pie\"}], \"scatter\": [{\"marker\": {\"colorbar\": {\"outlinewidth\": 0, \"ticks\": \"\"}}, \"type\": \"scatter\"}], \"scatter3d\": [{\"line\": {\"colorbar\": {\"outlinewidth\": 0, \"ticks\": \"\"}}, \"marker\": {\"colorbar\": {\"outlinewidth\": 0, \"ticks\": \"\"}}, \"type\": \"scatter3d\"}], \"scattercarpet\": [{\"marker\": {\"colorbar\": {\"outlinewidth\": 0, \"ticks\": \"\"}}, \"type\": \"scattercarpet\"}], \"scattergeo\": [{\"marker\": {\"colorbar\": {\"outlinewidth\": 0, \"ticks\": \"\"}}, \"type\": \"scattergeo\"}], \"scattergl\": [{\"marker\": {\"colorbar\": {\"outlinewidth\": 0, \"ticks\": \"\"}}, \"type\": \"scattergl\"}], \"scattermapbox\": [{\"marker\": {\"colorbar\": {\"outlinewidth\": 0, \"ticks\": \"\"}}, \"type\": \"scattermapbox\"}], \"scatterpolar\": [{\"marker\": {\"colorbar\": {\"outlinewidth\": 0, \"ticks\": \"\"}}, \"type\": \"scatterpolar\"}], \"scatterpolargl\": [{\"marker\": {\"colorbar\": {\"outlinewidth\": 0, \"ticks\": \"\"}}, \"type\": \"scatterpolargl\"}], \"scatterternary\": [{\"marker\": {\"colorbar\": {\"outlinewidth\": 0, \"ticks\": \"\"}}, \"type\": \"scatterternary\"}], \"surface\": [{\"colorbar\": {\"outlinewidth\": 0, \"ticks\": \"\"}, \"colorscale\": [[0.0, \"#0d0887\"], [0.1111111111111111, \"#46039f\"], [0.2222222222222222, \"#7201a8\"], [0.3333333333333333, \"#9c179e\"], [0.4444444444444444, \"#bd3786\"], [0.5555555555555556, \"#d8576b\"], [0.6666666666666666, \"#ed7953\"], [0.7777777777777778, \"#fb9f3a\"], [0.8888888888888888, \"#fdca26\"], [1.0, \"#f0f921\"]], \"type\": \"surface\"}], \"table\": [{\"cells\": {\"fill\": {\"color\": \"#EBF0F8\"}, \"line\": {\"color\": \"white\"}}, \"header\": {\"fill\": {\"color\": \"#C8D4E3\"}, \"line\": {\"color\": \"white\"}}, \"type\": \"table\"}]}, \"layout\": {\"annotationdefaults\": {\"arrowcolor\": \"#2a3f5f\", \"arrowhead\": 0, \"arrowwidth\": 1}, \"autotypenumbers\": \"strict\", \"coloraxis\": {\"colorbar\": {\"outlinewidth\": 0, \"ticks\": \"\"}}, \"colorscale\": {\"diverging\": [[0, \"#8e0152\"], [0.1, \"#c51b7d\"], [0.2, \"#de77ae\"], [0.3, \"#f1b6da\"], [0.4, \"#fde0ef\"], [0.5, \"#f7f7f7\"], [0.6, \"#e6f5d0\"], [0.7, \"#b8e186\"], [0.8, \"#7fbc41\"], [0.9, \"#4d9221\"], [1, \"#276419\"]], \"sequential\": [[0.0, \"#0d0887\"], [0.1111111111111111, \"#46039f\"], [0.2222222222222222, \"#7201a8\"], [0.3333333333333333, \"#9c179e\"], [0.4444444444444444, \"#bd3786\"], [0.5555555555555556, \"#d8576b\"], [0.6666666666666666, \"#ed7953\"], [0.7777777777777778, \"#fb9f3a\"], [0.8888888888888888, \"#fdca26\"], [1.0, \"#f0f921\"]], \"sequentialminus\": [[0.0, \"#0d0887\"], [0.1111111111111111, \"#46039f\"], [0.2222222222222222, \"#7201a8\"], [0.3333333333333333, \"#9c179e\"], [0.4444444444444444, \"#bd3786\"], [0.5555555555555556, \"#d8576b\"], [0.6666666666666666, \"#ed7953\"], [0.7777777777777778, \"#fb9f3a\"], [0.8888888888888888, \"#fdca26\"], [1.0, \"#f0f921\"]]}, \"colorway\": [\"#636efa\", \"#EF553B\", \"#00cc96\", \"#ab63fa\", \"#FFA15A\", \"#19d3f3\", \"#FF6692\", \"#B6E880\", \"#FF97FF\", \"#FECB52\"], \"font\": {\"color\": \"#2a3f5f\"}, \"geo\": {\"bgcolor\": \"white\", \"lakecolor\": \"white\", \"landcolor\": \"#E5ECF6\", \"showlakes\": true, \"showland\": true, \"subunitcolor\": \"white\"}, \"hoverlabel\": {\"align\": \"left\"}, \"hovermode\": \"closest\", \"mapbox\": {\"style\": \"light\"}, \"paper_bgcolor\": \"white\", \"plot_bgcolor\": \"#E5ECF6\", \"polar\": {\"angularaxis\": {\"gridcolor\": \"white\", \"linecolor\": \"white\", \"ticks\": \"\"}, \"bgcolor\": \"#E5ECF6\", \"radialaxis\": {\"gridcolor\": \"white\", \"linecolor\": \"white\", \"ticks\": \"\"}}, \"scene\": {\"xaxis\": {\"backgroundcolor\": \"#E5ECF6\", \"gridcolor\": \"white\", \"gridwidth\": 2, \"linecolor\": \"white\", \"showbackground\": true, \"ticks\": \"\", \"zerolinecolor\": \"white\"}, \"yaxis\": {\"backgroundcolor\": \"#E5ECF6\", \"gridcolor\": \"white\", \"gridwidth\": 2, \"linecolor\": \"white\", \"showbackground\": true, \"ticks\": \"\", \"zerolinecolor\": \"white\"}, \"zaxis\": {\"backgroundcolor\": \"#E5ECF6\", \"gridcolor\": \"white\", \"gridwidth\": 2, \"linecolor\": \"white\", \"showbackground\": true, \"ticks\": \"\", \"zerolinecolor\": \"white\"}}, \"shapedefaults\": {\"line\": {\"color\": \"#2a3f5f\"}}, \"ternary\": {\"aaxis\": {\"gridcolor\": \"white\", \"linecolor\": \"white\", \"ticks\": \"\"}, \"baxis\": {\"gridcolor\": \"white\", \"linecolor\": \"white\", \"ticks\": \"\"}, \"bgcolor\": \"#E5ECF6\", \"caxis\": {\"gridcolor\": \"white\", \"linecolor\": \"white\", \"ticks\": \"\"}}, \"title\": {\"x\": 0.05}, \"xaxis\": {\"automargin\": true, \"gridcolor\": \"white\", \"linecolor\": \"white\", \"ticks\": \"\", \"title\": {\"standoff\": 15}, \"zerolinecolor\": \"white\", \"zerolinewidth\": 2}, \"yaxis\": {\"automargin\": true, \"gridcolor\": \"white\", \"linecolor\": \"white\", \"ticks\": \"\", \"title\": {\"standoff\": 15}, \"zerolinecolor\": \"white\", \"zerolinewidth\": 2}}}, \"title\": {\"text\": \"Loss\"}, \"xaxis\": {\"anchor\": \"y\", \"domain\": [0.0, 1.0], \"title\": {\"text\": \"epoch\"}}, \"yaxis\": {\"anchor\": \"x\", \"domain\": [0.0, 1.0], \"title\": {\"text\": \"loss\"}}},                        {\"responsive\": true}                    ).then(function(){\n",
       "                            \n",
       "var gd = document.getElementById('8ac06e22-131f-427b-9e37-39cdfa0d01f6');\n",
       "var x = new MutationObserver(function (mutations, observer) {{\n",
       "        var display = window.getComputedStyle(gd).display;\n",
       "        if (!display || display === 'none') {{\n",
       "            console.log([gd, 'removed!']);\n",
       "            Plotly.purge(gd);\n",
       "            observer.disconnect();\n",
       "        }}\n",
       "}});\n",
       "\n",
       "// Listen for the removal of the full notebook cells\n",
       "var notebookContainer = gd.closest('#notebook-container');\n",
       "if (notebookContainer) {{\n",
       "    x.observe(notebookContainer, {childList: true});\n",
       "}}\n",
       "\n",
       "// Listen for the clearing of the current output cell\n",
       "var outputEl = gd.closest('.output');\n",
       "if (outputEl) {{\n",
       "    x.observe(outputEl, {childList: true});\n",
       "}}\n",
       "\n",
       "                        })                };                });            </script>        </div>"
      ]
     },
     "metadata": {},
     "output_type": "display_data"
    },
    {
     "data": {
      "application/vnd.plotly.v1+json": {
       "config": {
        "plotlyServerURL": "https://plot.ly"
       },
       "data": [
        {
         "hovertemplate": "variable=train_accuracy<br>epoch=%{x}<br>value=%{y}<extra></extra>",
         "legendgroup": "train_accuracy",
         "line": {
          "color": "#636efa",
          "dash": "solid"
         },
         "mode": "lines",
         "name": "train_accuracy",
         "orientation": "v",
         "showlegend": true,
         "type": "scatter",
         "x": [
          1,
          2,
          3,
          4,
          5
         ],
         "xaxis": "x",
         "y": [
          0.5839681752614497,
          0.5859515867291741,
          0.5826947349441038,
          0.5691714749368915,
          0.5750540930400289
         ],
         "yaxis": "y"
        },
        {
         "hovertemplate": "variable=dev_accuracy<br>epoch=%{x}<br>value=%{y}<extra></extra>",
         "legendgroup": "dev_accuracy",
         "line": {
          "color": "#EF553B",
          "dash": "solid"
         },
         "mode": "lines",
         "name": "dev_accuracy",
         "orientation": "v",
         "showlegend": true,
         "type": "scatter",
         "x": [
          1,
          2,
          3,
          4,
          5
         ],
         "xaxis": "x",
         "y": [
          0.5901920129811593,
          0.5922653925899216,
          0.5893806905255566,
          0.5770305598124944,
          0.5798251149373479
         ],
         "yaxis": "y"
        }
       ],
       "layout": {
        "autosize": true,
        "legend": {
         "title": {
          "text": "variable"
         },
         "tracegroupgap": 0
        },
        "template": {
         "data": {
          "bar": [
           {
            "error_x": {
             "color": "#2a3f5f"
            },
            "error_y": {
             "color": "#2a3f5f"
            },
            "marker": {
             "line": {
              "color": "#E5ECF6",
              "width": 0.5
             }
            },
            "type": "bar"
           }
          ],
          "barpolar": [
           {
            "marker": {
             "line": {
              "color": "#E5ECF6",
              "width": 0.5
             }
            },
            "type": "barpolar"
           }
          ],
          "carpet": [
           {
            "aaxis": {
             "endlinecolor": "#2a3f5f",
             "gridcolor": "white",
             "linecolor": "white",
             "minorgridcolor": "white",
             "startlinecolor": "#2a3f5f"
            },
            "baxis": {
             "endlinecolor": "#2a3f5f",
             "gridcolor": "white",
             "linecolor": "white",
             "minorgridcolor": "white",
             "startlinecolor": "#2a3f5f"
            },
            "type": "carpet"
           }
          ],
          "choropleth": [
           {
            "colorbar": {
             "outlinewidth": 0,
             "ticks": ""
            },
            "type": "choropleth"
           }
          ],
          "contour": [
           {
            "colorbar": {
             "outlinewidth": 0,
             "ticks": ""
            },
            "colorscale": [
             [
              0,
              "#0d0887"
             ],
             [
              0.1111111111111111,
              "#46039f"
             ],
             [
              0.2222222222222222,
              "#7201a8"
             ],
             [
              0.3333333333333333,
              "#9c179e"
             ],
             [
              0.4444444444444444,
              "#bd3786"
             ],
             [
              0.5555555555555556,
              "#d8576b"
             ],
             [
              0.6666666666666666,
              "#ed7953"
             ],
             [
              0.7777777777777778,
              "#fb9f3a"
             ],
             [
              0.8888888888888888,
              "#fdca26"
             ],
             [
              1,
              "#f0f921"
             ]
            ],
            "type": "contour"
           }
          ],
          "contourcarpet": [
           {
            "colorbar": {
             "outlinewidth": 0,
             "ticks": ""
            },
            "type": "contourcarpet"
           }
          ],
          "heatmap": [
           {
            "colorbar": {
             "outlinewidth": 0,
             "ticks": ""
            },
            "colorscale": [
             [
              0,
              "#0d0887"
             ],
             [
              0.1111111111111111,
              "#46039f"
             ],
             [
              0.2222222222222222,
              "#7201a8"
             ],
             [
              0.3333333333333333,
              "#9c179e"
             ],
             [
              0.4444444444444444,
              "#bd3786"
             ],
             [
              0.5555555555555556,
              "#d8576b"
             ],
             [
              0.6666666666666666,
              "#ed7953"
             ],
             [
              0.7777777777777778,
              "#fb9f3a"
             ],
             [
              0.8888888888888888,
              "#fdca26"
             ],
             [
              1,
              "#f0f921"
             ]
            ],
            "type": "heatmap"
           }
          ],
          "heatmapgl": [
           {
            "colorbar": {
             "outlinewidth": 0,
             "ticks": ""
            },
            "colorscale": [
             [
              0,
              "#0d0887"
             ],
             [
              0.1111111111111111,
              "#46039f"
             ],
             [
              0.2222222222222222,
              "#7201a8"
             ],
             [
              0.3333333333333333,
              "#9c179e"
             ],
             [
              0.4444444444444444,
              "#bd3786"
             ],
             [
              0.5555555555555556,
              "#d8576b"
             ],
             [
              0.6666666666666666,
              "#ed7953"
             ],
             [
              0.7777777777777778,
              "#fb9f3a"
             ],
             [
              0.8888888888888888,
              "#fdca26"
             ],
             [
              1,
              "#f0f921"
             ]
            ],
            "type": "heatmapgl"
           }
          ],
          "histogram": [
           {
            "marker": {
             "colorbar": {
              "outlinewidth": 0,
              "ticks": ""
             }
            },
            "type": "histogram"
           }
          ],
          "histogram2d": [
           {
            "colorbar": {
             "outlinewidth": 0,
             "ticks": ""
            },
            "colorscale": [
             [
              0,
              "#0d0887"
             ],
             [
              0.1111111111111111,
              "#46039f"
             ],
             [
              0.2222222222222222,
              "#7201a8"
             ],
             [
              0.3333333333333333,
              "#9c179e"
             ],
             [
              0.4444444444444444,
              "#bd3786"
             ],
             [
              0.5555555555555556,
              "#d8576b"
             ],
             [
              0.6666666666666666,
              "#ed7953"
             ],
             [
              0.7777777777777778,
              "#fb9f3a"
             ],
             [
              0.8888888888888888,
              "#fdca26"
             ],
             [
              1,
              "#f0f921"
             ]
            ],
            "type": "histogram2d"
           }
          ],
          "histogram2dcontour": [
           {
            "colorbar": {
             "outlinewidth": 0,
             "ticks": ""
            },
            "colorscale": [
             [
              0,
              "#0d0887"
             ],
             [
              0.1111111111111111,
              "#46039f"
             ],
             [
              0.2222222222222222,
              "#7201a8"
             ],
             [
              0.3333333333333333,
              "#9c179e"
             ],
             [
              0.4444444444444444,
              "#bd3786"
             ],
             [
              0.5555555555555556,
              "#d8576b"
             ],
             [
              0.6666666666666666,
              "#ed7953"
             ],
             [
              0.7777777777777778,
              "#fb9f3a"
             ],
             [
              0.8888888888888888,
              "#fdca26"
             ],
             [
              1,
              "#f0f921"
             ]
            ],
            "type": "histogram2dcontour"
           }
          ],
          "mesh3d": [
           {
            "colorbar": {
             "outlinewidth": 0,
             "ticks": ""
            },
            "type": "mesh3d"
           }
          ],
          "parcoords": [
           {
            "line": {
             "colorbar": {
              "outlinewidth": 0,
              "ticks": ""
             }
            },
            "type": "parcoords"
           }
          ],
          "pie": [
           {
            "automargin": true,
            "type": "pie"
           }
          ],
          "scatter": [
           {
            "marker": {
             "colorbar": {
              "outlinewidth": 0,
              "ticks": ""
             }
            },
            "type": "scatter"
           }
          ],
          "scatter3d": [
           {
            "line": {
             "colorbar": {
              "outlinewidth": 0,
              "ticks": ""
             }
            },
            "marker": {
             "colorbar": {
              "outlinewidth": 0,
              "ticks": ""
             }
            },
            "type": "scatter3d"
           }
          ],
          "scattercarpet": [
           {
            "marker": {
             "colorbar": {
              "outlinewidth": 0,
              "ticks": ""
             }
            },
            "type": "scattercarpet"
           }
          ],
          "scattergeo": [
           {
            "marker": {
             "colorbar": {
              "outlinewidth": 0,
              "ticks": ""
             }
            },
            "type": "scattergeo"
           }
          ],
          "scattergl": [
           {
            "marker": {
             "colorbar": {
              "outlinewidth": 0,
              "ticks": ""
             }
            },
            "type": "scattergl"
           }
          ],
          "scattermapbox": [
           {
            "marker": {
             "colorbar": {
              "outlinewidth": 0,
              "ticks": ""
             }
            },
            "type": "scattermapbox"
           }
          ],
          "scatterpolar": [
           {
            "marker": {
             "colorbar": {
              "outlinewidth": 0,
              "ticks": ""
             }
            },
            "type": "scatterpolar"
           }
          ],
          "scatterpolargl": [
           {
            "marker": {
             "colorbar": {
              "outlinewidth": 0,
              "ticks": ""
             }
            },
            "type": "scatterpolargl"
           }
          ],
          "scatterternary": [
           {
            "marker": {
             "colorbar": {
              "outlinewidth": 0,
              "ticks": ""
             }
            },
            "type": "scatterternary"
           }
          ],
          "surface": [
           {
            "colorbar": {
             "outlinewidth": 0,
             "ticks": ""
            },
            "colorscale": [
             [
              0,
              "#0d0887"
             ],
             [
              0.1111111111111111,
              "#46039f"
             ],
             [
              0.2222222222222222,
              "#7201a8"
             ],
             [
              0.3333333333333333,
              "#9c179e"
             ],
             [
              0.4444444444444444,
              "#bd3786"
             ],
             [
              0.5555555555555556,
              "#d8576b"
             ],
             [
              0.6666666666666666,
              "#ed7953"
             ],
             [
              0.7777777777777778,
              "#fb9f3a"
             ],
             [
              0.8888888888888888,
              "#fdca26"
             ],
             [
              1,
              "#f0f921"
             ]
            ],
            "type": "surface"
           }
          ],
          "table": [
           {
            "cells": {
             "fill": {
              "color": "#EBF0F8"
             },
             "line": {
              "color": "white"
             }
            },
            "header": {
             "fill": {
              "color": "#C8D4E3"
             },
             "line": {
              "color": "white"
             }
            },
            "type": "table"
           }
          ]
         },
         "layout": {
          "annotationdefaults": {
           "arrowcolor": "#2a3f5f",
           "arrowhead": 0,
           "arrowwidth": 1
          },
          "autotypenumbers": "strict",
          "coloraxis": {
           "colorbar": {
            "outlinewidth": 0,
            "ticks": ""
           }
          },
          "colorscale": {
           "diverging": [
            [
             0,
             "#8e0152"
            ],
            [
             0.1,
             "#c51b7d"
            ],
            [
             0.2,
             "#de77ae"
            ],
            [
             0.3,
             "#f1b6da"
            ],
            [
             0.4,
             "#fde0ef"
            ],
            [
             0.5,
             "#f7f7f7"
            ],
            [
             0.6,
             "#e6f5d0"
            ],
            [
             0.7,
             "#b8e186"
            ],
            [
             0.8,
             "#7fbc41"
            ],
            [
             0.9,
             "#4d9221"
            ],
            [
             1,
             "#276419"
            ]
           ],
           "sequential": [
            [
             0,
             "#0d0887"
            ],
            [
             0.1111111111111111,
             "#46039f"
            ],
            [
             0.2222222222222222,
             "#7201a8"
            ],
            [
             0.3333333333333333,
             "#9c179e"
            ],
            [
             0.4444444444444444,
             "#bd3786"
            ],
            [
             0.5555555555555556,
             "#d8576b"
            ],
            [
             0.6666666666666666,
             "#ed7953"
            ],
            [
             0.7777777777777778,
             "#fb9f3a"
            ],
            [
             0.8888888888888888,
             "#fdca26"
            ],
            [
             1,
             "#f0f921"
            ]
           ],
           "sequentialminus": [
            [
             0,
             "#0d0887"
            ],
            [
             0.1111111111111111,
             "#46039f"
            ],
            [
             0.2222222222222222,
             "#7201a8"
            ],
            [
             0.3333333333333333,
             "#9c179e"
            ],
            [
             0.4444444444444444,
             "#bd3786"
            ],
            [
             0.5555555555555556,
             "#d8576b"
            ],
            [
             0.6666666666666666,
             "#ed7953"
            ],
            [
             0.7777777777777778,
             "#fb9f3a"
            ],
            [
             0.8888888888888888,
             "#fdca26"
            ],
            [
             1,
             "#f0f921"
            ]
           ]
          },
          "colorway": [
           "#636efa",
           "#EF553B",
           "#00cc96",
           "#ab63fa",
           "#FFA15A",
           "#19d3f3",
           "#FF6692",
           "#B6E880",
           "#FF97FF",
           "#FECB52"
          ],
          "font": {
           "color": "#2a3f5f"
          },
          "geo": {
           "bgcolor": "white",
           "lakecolor": "white",
           "landcolor": "#E5ECF6",
           "showlakes": true,
           "showland": true,
           "subunitcolor": "white"
          },
          "hoverlabel": {
           "align": "left"
          },
          "hovermode": "closest",
          "mapbox": {
           "style": "light"
          },
          "paper_bgcolor": "white",
          "plot_bgcolor": "#E5ECF6",
          "polar": {
           "angularaxis": {
            "gridcolor": "white",
            "linecolor": "white",
            "ticks": ""
           },
           "bgcolor": "#E5ECF6",
           "radialaxis": {
            "gridcolor": "white",
            "linecolor": "white",
            "ticks": ""
           }
          },
          "scene": {
           "xaxis": {
            "backgroundcolor": "#E5ECF6",
            "gridcolor": "white",
            "gridwidth": 2,
            "linecolor": "white",
            "showbackground": true,
            "ticks": "",
            "zerolinecolor": "white"
           },
           "yaxis": {
            "backgroundcolor": "#E5ECF6",
            "gridcolor": "white",
            "gridwidth": 2,
            "linecolor": "white",
            "showbackground": true,
            "ticks": "",
            "zerolinecolor": "white"
           },
           "zaxis": {
            "backgroundcolor": "#E5ECF6",
            "gridcolor": "white",
            "gridwidth": 2,
            "linecolor": "white",
            "showbackground": true,
            "ticks": "",
            "zerolinecolor": "white"
           }
          },
          "shapedefaults": {
           "line": {
            "color": "#2a3f5f"
           }
          },
          "ternary": {
           "aaxis": {
            "gridcolor": "white",
            "linecolor": "white",
            "ticks": ""
           },
           "baxis": {
            "gridcolor": "white",
            "linecolor": "white",
            "ticks": ""
           },
           "bgcolor": "#E5ECF6",
           "caxis": {
            "gridcolor": "white",
            "linecolor": "white",
            "ticks": ""
           }
          },
          "title": {
           "x": 0.05
          },
          "xaxis": {
           "automargin": true,
           "gridcolor": "white",
           "linecolor": "white",
           "ticks": "",
           "title": {
            "standoff": 15
           },
           "zerolinecolor": "white",
           "zerolinewidth": 2
          },
          "yaxis": {
           "automargin": true,
           "gridcolor": "white",
           "linecolor": "white",
           "ticks": "",
           "title": {
            "standoff": 15
           },
           "zerolinecolor": "white",
           "zerolinewidth": 2
          }
         }
        },
        "title": {
         "text": "Accuracy"
        },
        "xaxis": {
         "anchor": "y",
         "autorange": true,
         "domain": [
          0,
          1
         ],
         "range": [
          1,
          5
         ],
         "title": {
          "text": "epoch"
         },
         "type": "linear"
        },
        "yaxis": {
         "anchor": "x",
         "autorange": true,
         "domain": [
          0,
          1
         ],
         "range": [
          0.5678884795117232,
          0.5935483880150899
         ],
         "title": {
          "text": "value"
         },
         "type": "linear"
        }
       }
      },
      "image/png": "[encoded data removed]",
      "text/html": [
       "<div>                            <div id=\"1ab053ea-4844-4a58-b29b-f8082ebec6db\" class=\"plotly-graph-div\" style=\"height:525px; width:100%;\"></div>            <script type=\"text/javascript\">                require([\"plotly\"], function(Plotly) {                    window.PLOTLYENV=window.PLOTLYENV || {};                                    if (document.getElementById(\"1ab053ea-4844-4a58-b29b-f8082ebec6db\")) {                    Plotly.newPlot(                        \"1ab053ea-4844-4a58-b29b-f8082ebec6db\",                        [{\"hovertemplate\": \"variable=train_accuracy<br>epoch=%{x}<br>value=%{y}<extra></extra>\", \"legendgroup\": \"train_accuracy\", \"line\": {\"color\": \"#636efa\", \"dash\": \"solid\"}, \"mode\": \"lines\", \"name\": \"train_accuracy\", \"orientation\": \"v\", \"showlegend\": true, \"type\": \"scatter\", \"x\": [1, 2, 3, 4, 5], \"xaxis\": \"x\", \"y\": [0.5839681752614497, 0.5859515867291741, 0.5826947349441038, 0.5691714749368915, 0.5750540930400289], \"yaxis\": \"y\"}, {\"hovertemplate\": \"variable=dev_accuracy<br>epoch=%{x}<br>value=%{y}<extra></extra>\", \"legendgroup\": \"dev_accuracy\", \"line\": {\"color\": \"#EF553B\", \"dash\": \"solid\"}, \"mode\": \"lines\", \"name\": \"dev_accuracy\", \"orientation\": \"v\", \"showlegend\": true, \"type\": \"scatter\", \"x\": [1, 2, 3, 4, 5], \"xaxis\": \"x\", \"y\": [0.5901920129811593, 0.5922653925899216, 0.5893806905255566, 0.5770305598124944, 0.5798251149373479], \"yaxis\": \"y\"}],                        {\"legend\": {\"title\": {\"text\": \"variable\"}, \"tracegroupgap\": 0}, \"template\": {\"data\": {\"bar\": [{\"error_x\": {\"color\": \"#2a3f5f\"}, \"error_y\": {\"color\": \"#2a3f5f\"}, \"marker\": {\"line\": {\"color\": \"#E5ECF6\", \"width\": 0.5}}, \"type\": \"bar\"}], \"barpolar\": [{\"marker\": {\"line\": {\"color\": \"#E5ECF6\", \"width\": 0.5}}, \"type\": \"barpolar\"}], \"carpet\": [{\"aaxis\": {\"endlinecolor\": \"#2a3f5f\", \"gridcolor\": \"white\", \"linecolor\": \"white\", \"minorgridcolor\": \"white\", \"startlinecolor\": \"#2a3f5f\"}, \"baxis\": {\"endlinecolor\": \"#2a3f5f\", \"gridcolor\": \"white\", \"linecolor\": \"white\", \"minorgridcolor\": \"white\", \"startlinecolor\": \"#2a3f5f\"}, \"type\": \"carpet\"}], \"choropleth\": [{\"colorbar\": {\"outlinewidth\": 0, \"ticks\": \"\"}, \"type\": \"choropleth\"}], \"contour\": [{\"colorbar\": {\"outlinewidth\": 0, \"ticks\": \"\"}, \"colorscale\": [[0.0, \"#0d0887\"], [0.1111111111111111, \"#46039f\"], [0.2222222222222222, \"#7201a8\"], [0.3333333333333333, \"#9c179e\"], [0.4444444444444444, \"#bd3786\"], [0.5555555555555556, \"#d8576b\"], [0.6666666666666666, \"#ed7953\"], [0.7777777777777778, \"#fb9f3a\"], [0.8888888888888888, \"#fdca26\"], [1.0, \"#f0f921\"]], \"type\": \"contour\"}], \"contourcarpet\": [{\"colorbar\": {\"outlinewidth\": 0, \"ticks\": \"\"}, \"type\": \"contourcarpet\"}], \"heatmap\": [{\"colorbar\": {\"outlinewidth\": 0, \"ticks\": \"\"}, \"colorscale\": [[0.0, \"#0d0887\"], [0.1111111111111111, \"#46039f\"], [0.2222222222222222, \"#7201a8\"], [0.3333333333333333, \"#9c179e\"], [0.4444444444444444, \"#bd3786\"], [0.5555555555555556, \"#d8576b\"], [0.6666666666666666, \"#ed7953\"], [0.7777777777777778, \"#fb9f3a\"], [0.8888888888888888, \"#fdca26\"], [1.0, \"#f0f921\"]], \"type\": \"heatmap\"}], \"heatmapgl\": [{\"colorbar\": {\"outlinewidth\": 0, \"ticks\": \"\"}, \"colorscale\": [[0.0, \"#0d0887\"], [0.1111111111111111, \"#46039f\"], [0.2222222222222222, \"#7201a8\"], [0.3333333333333333, \"#9c179e\"], [0.4444444444444444, \"#bd3786\"], [0.5555555555555556, \"#d8576b\"], [0.6666666666666666, \"#ed7953\"], [0.7777777777777778, \"#fb9f3a\"], [0.8888888888888888, \"#fdca26\"], [1.0, \"#f0f921\"]], \"type\": \"heatmapgl\"}], \"histogram\": [{\"marker\": {\"colorbar\": {\"outlinewidth\": 0, \"ticks\": \"\"}}, \"type\": \"histogram\"}], \"histogram2d\": [{\"colorbar\": {\"outlinewidth\": 0, \"ticks\": \"\"}, \"colorscale\": [[0.0, \"#0d0887\"], [0.1111111111111111, \"#46039f\"], [0.2222222222222222, \"#7201a8\"], [0.3333333333333333, \"#9c179e\"], [0.4444444444444444, \"#bd3786\"], [0.5555555555555556, \"#d8576b\"], [0.6666666666666666, \"#ed7953\"], [0.7777777777777778, \"#fb9f3a\"], [0.8888888888888888, \"#fdca26\"], [1.0, \"#f0f921\"]], \"type\": \"histogram2d\"}], \"histogram2dcontour\": [{\"colorbar\": {\"outlinewidth\": 0, \"ticks\": \"\"}, \"colorscale\": [[0.0, \"#0d0887\"], [0.1111111111111111, \"#46039f\"], [0.2222222222222222, \"#7201a8\"], [0.3333333333333333, \"#9c179e\"], [0.4444444444444444, \"#bd3786\"], [0.5555555555555556, \"#d8576b\"], [0.6666666666666666, \"#ed7953\"], [0.7777777777777778, \"#fb9f3a\"], [0.8888888888888888, \"#fdca26\"], [1.0, \"#f0f921\"]], \"type\": \"histogram2dcontour\"}], \"mesh3d\": [{\"colorbar\": {\"outlinewidth\": 0, \"ticks\": \"\"}, \"type\": \"mesh3d\"}], \"parcoords\": [{\"line\": {\"colorbar\": {\"outlinewidth\": 0, \"ticks\": \"\"}}, \"type\": \"parcoords\"}], \"pie\": [{\"automargin\": true, \"type\": \"pie\"}], \"scatter\": [{\"marker\": {\"colorbar\": {\"outlinewidth\": 0, \"ticks\": \"\"}}, \"type\": \"scatter\"}], \"scatter3d\": [{\"line\": {\"colorbar\": {\"outlinewidth\": 0, \"ticks\": \"\"}}, \"marker\": {\"colorbar\": {\"outlinewidth\": 0, \"ticks\": \"\"}}, \"type\": \"scatter3d\"}], \"scattercarpet\": [{\"marker\": {\"colorbar\": {\"outlinewidth\": 0, \"ticks\": \"\"}}, \"type\": \"scattercarpet\"}], \"scattergeo\": [{\"marker\": {\"colorbar\": {\"outlinewidth\": 0, \"ticks\": \"\"}}, \"type\": \"scattergeo\"}], \"scattergl\": [{\"marker\": {\"colorbar\": {\"outlinewidth\": 0, \"ticks\": \"\"}}, \"type\": \"scattergl\"}], \"scattermapbox\": [{\"marker\": {\"colorbar\": {\"outlinewidth\": 0, \"ticks\": \"\"}}, \"type\": \"scattermapbox\"}], \"scatterpolar\": [{\"marker\": {\"colorbar\": {\"outlinewidth\": 0, \"ticks\": \"\"}}, \"type\": \"scatterpolar\"}], \"scatterpolargl\": [{\"marker\": {\"colorbar\": {\"outlinewidth\": 0, \"ticks\": \"\"}}, \"type\": \"scatterpolargl\"}], \"scatterternary\": [{\"marker\": {\"colorbar\": {\"outlinewidth\": 0, \"ticks\": \"\"}}, \"type\": \"scatterternary\"}], \"surface\": [{\"colorbar\": {\"outlinewidth\": 0, \"ticks\": \"\"}, \"colorscale\": [[0.0, \"#0d0887\"], [0.1111111111111111, \"#46039f\"], [0.2222222222222222, \"#7201a8\"], [0.3333333333333333, \"#9c179e\"], [0.4444444444444444, \"#bd3786\"], [0.5555555555555556, \"#d8576b\"], [0.6666666666666666, \"#ed7953\"], [0.7777777777777778, \"#fb9f3a\"], [0.8888888888888888, \"#fdca26\"], [1.0, \"#f0f921\"]], \"type\": \"surface\"}], \"table\": [{\"cells\": {\"fill\": {\"color\": \"#EBF0F8\"}, \"line\": {\"color\": \"white\"}}, \"header\": {\"fill\": {\"color\": \"#C8D4E3\"}, \"line\": {\"color\": \"white\"}}, \"type\": \"table\"}]}, \"layout\": {\"annotationdefaults\": {\"arrowcolor\": \"#2a3f5f\", \"arrowhead\": 0, \"arrowwidth\": 1}, \"autotypenumbers\": \"strict\", \"coloraxis\": {\"colorbar\": {\"outlinewidth\": 0, \"ticks\": \"\"}}, \"colorscale\": {\"diverging\": [[0, \"#8e0152\"], [0.1, \"#c51b7d\"], [0.2, \"#de77ae\"], [0.3, \"#f1b6da\"], [0.4, \"#fde0ef\"], [0.5, \"#f7f7f7\"], [0.6, \"#e6f5d0\"], [0.7, \"#b8e186\"], [0.8, \"#7fbc41\"], [0.9, \"#4d9221\"], [1, \"#276419\"]], \"sequential\": [[0.0, \"#0d0887\"], [0.1111111111111111, \"#46039f\"], [0.2222222222222222, \"#7201a8\"], [0.3333333333333333, \"#9c179e\"], [0.4444444444444444, \"#bd3786\"], [0.5555555555555556, \"#d8576b\"], [0.6666666666666666, \"#ed7953\"], [0.7777777777777778, \"#fb9f3a\"], [0.8888888888888888, \"#fdca26\"], [1.0, \"#f0f921\"]], \"sequentialminus\": [[0.0, \"#0d0887\"], [0.1111111111111111, \"#46039f\"], [0.2222222222222222, \"#7201a8\"], [0.3333333333333333, \"#9c179e\"], [0.4444444444444444, \"#bd3786\"], [0.5555555555555556, \"#d8576b\"], [0.6666666666666666, \"#ed7953\"], [0.7777777777777778, \"#fb9f3a\"], [0.8888888888888888, \"#fdca26\"], [1.0, \"#f0f921\"]]}, \"colorway\": [\"#636efa\", \"#EF553B\", \"#00cc96\", \"#ab63fa\", \"#FFA15A\", \"#19d3f3\", \"#FF6692\", \"#B6E880\", \"#FF97FF\", \"#FECB52\"], \"font\": {\"color\": \"#2a3f5f\"}, \"geo\": {\"bgcolor\": \"white\", \"lakecolor\": \"white\", \"landcolor\": \"#E5ECF6\", \"showlakes\": true, \"showland\": true, \"subunitcolor\": \"white\"}, \"hoverlabel\": {\"align\": \"left\"}, \"hovermode\": \"closest\", \"mapbox\": {\"style\": \"light\"}, \"paper_bgcolor\": \"white\", \"plot_bgcolor\": \"#E5ECF6\", \"polar\": {\"angularaxis\": {\"gridcolor\": \"white\", \"linecolor\": \"white\", \"ticks\": \"\"}, \"bgcolor\": \"#E5ECF6\", \"radialaxis\": {\"gridcolor\": \"white\", \"linecolor\": \"white\", \"ticks\": \"\"}}, \"scene\": {\"xaxis\": {\"backgroundcolor\": \"#E5ECF6\", \"gridcolor\": \"white\", \"gridwidth\": 2, \"linecolor\": \"white\", \"showbackground\": true, \"ticks\": \"\", \"zerolinecolor\": \"white\"}, \"yaxis\": {\"backgroundcolor\": \"#E5ECF6\", \"gridcolor\": \"white\", \"gridwidth\": 2, \"linecolor\": \"white\", \"showbackground\": true, \"ticks\": \"\", \"zerolinecolor\": \"white\"}, \"zaxis\": {\"backgroundcolor\": \"#E5ECF6\", \"gridcolor\": \"white\", \"gridwidth\": 2, \"linecolor\": \"white\", \"showbackground\": true, \"ticks\": \"\", \"zerolinecolor\": \"white\"}}, \"shapedefaults\": {\"line\": {\"color\": \"#2a3f5f\"}}, \"ternary\": {\"aaxis\": {\"gridcolor\": \"white\", \"linecolor\": \"white\", \"ticks\": \"\"}, \"baxis\": {\"gridcolor\": \"white\", \"linecolor\": \"white\", \"ticks\": \"\"}, \"bgcolor\": \"#E5ECF6\", \"caxis\": {\"gridcolor\": \"white\", \"linecolor\": \"white\", \"ticks\": \"\"}}, \"title\": {\"x\": 0.05}, \"xaxis\": {\"automargin\": true, \"gridcolor\": \"white\", \"linecolor\": \"white\", \"ticks\": \"\", \"title\": {\"standoff\": 15}, \"zerolinecolor\": \"white\", \"zerolinewidth\": 2}, \"yaxis\": {\"automargin\": true, \"gridcolor\": \"white\", \"linecolor\": \"white\", \"ticks\": \"\", \"title\": {\"standoff\": 15}, \"zerolinecolor\": \"white\", \"zerolinewidth\": 2}}}, \"title\": {\"text\": \"Accuracy\"}, \"xaxis\": {\"anchor\": \"y\", \"domain\": [0.0, 1.0], \"title\": {\"text\": \"epoch\"}}, \"yaxis\": {\"anchor\": \"x\", \"domain\": [0.0, 1.0], \"title\": {\"text\": \"value\"}}},                        {\"responsive\": true}                    ).then(function(){\n",
       "                            \n",
       "var gd = document.getElementById('1ab053ea-4844-4a58-b29b-f8082ebec6db');\n",
       "var x = new MutationObserver(function (mutations, observer) {{\n",
       "        var display = window.getComputedStyle(gd).display;\n",
       "        if (!display || display === 'none') {{\n",
       "            console.log([gd, 'removed!']);\n",
       "            Plotly.purge(gd);\n",
       "            observer.disconnect();\n",
       "        }}\n",
       "}});\n",
       "\n",
       "// Listen for the removal of the full notebook cells\n",
       "var notebookContainer = gd.closest('#notebook-container');\n",
       "if (notebookContainer) {{\n",
       "    x.observe(notebookContainer, {childList: true});\n",
       "}}\n",
       "\n",
       "// Listen for the clearing of the current output cell\n",
       "var outputEl = gd.closest('.output');\n",
       "if (outputEl) {{\n",
       "    x.observe(outputEl, {childList: true});\n",
       "}}\n",
       "\n",
       "                        })                };                });            </script>        </div>"
      ]
     },
     "metadata": {},
     "output_type": "display_data"
    }
   ],
   "source": [
    "import pandas as pd\n",
    "modelname = 'cnnmodel2021-03-31_12-52'\n",
    "log_fpath = f'/projects/tumblr_community_identity/log/{modelname}.csv'\n",
    "# log = pd.read_csv(log_fpath, parse_dates=[[0, 1]], infer_datetime_format=True)\n",
    "log = pd.read_csv(log_fpath, parse_dates=['datetime'])\n",
    "# log\n",
    "\n",
    "# Calculate time/epoch\n",
    "log.rename(columns={'date_time': 'datetime'}, inplace=True)\n",
    "duration = log.datetime.max() - log.datetime.min()\n",
    "print(duration/log.epoch.max())\n",
    "\n",
    "# Get last metrics/epoch\n",
    "score_cols = ['loss', 'train_accuracy', 'dev_accuracy']\n",
    "gped = log.groupby('epoch').agg({col: lambda x: x.tolist()[-1] for col in score_cols})\n",
    "gped = gped.iloc[:-1] # for in progress\n",
    "\n",
    "import plotly.express as px\n",
    "fig = px.line(gped, x=gped.index, y='loss', title='Loss')\n",
    "fig.show()\n",
    "\n",
    "fig = px.line(gped, x=gped.index, y=['train_accuracy', 'dev_accuracy'], title='Accuracy')\n",
    "fig.show()"
   ]
  },
  {
   "cell_type": "markdown",
   "id": "polished-triumph",
   "metadata": {},
   "source": [
    "## Search for a models"
   ]
  },
  {
   "cell_type": "code",
   "execution_count": 24,
   "id": "informational-analysis",
   "metadata": {},
   "outputs": [
    {
     "name": "stdout",
     "output_type": "stream",
     "text": [
      "cnnmodel2021-03-29_16-01.csv: 20\n"
     ]
    },
    {
     "data": {
      "application/vnd.plotly.v1+json": {
       "config": {
        "plotlyServerURL": "https://plot.ly"
       },
       "data": [
        {
         "hovertemplate": "epoch=%{x}<br>loss=%{y}<extra></extra>",
         "legendgroup": "",
         "line": {
          "color": "#636efa",
          "dash": "solid"
         },
         "mode": "lines",
         "name": "",
         "orientation": "v",
         "showlegend": false,
         "type": "scatter",
         "x": [
          1,
          2,
          3,
          4,
          5,
          6,
          7,
          8,
          9,
          10,
          11,
          12,
          13,
          14,
          15,
          16,
          17,
          18,
          19,
          20
         ],
         "xaxis": "x",
         "y": [
          0.6577405333518982,
          0.6608153581619263,
          0.6583752036094666,
          0.6540687084197998,
          0.6563441753387451,
          0.6561810970306396,
          0.6580769419670105,
          0.6538176536560059,
          0.6566356420516968,
          0.6594705581665039,
          0.657526433467865,
          0.6558380126953125,
          0.6600268483161926,
          0.655512809753418,
          0.6551007032394409,
          0.6575145721435547,
          0.6555984020233154,
          0.6585317850112915,
          0.6567413806915283,
          0.6507288813591003
         ],
         "yaxis": "y"
        }
       ],
       "layout": {
        "autosize": true,
        "legend": {
         "tracegroupgap": 0
        },
        "template": {
         "data": {
          "bar": [
           {
            "error_x": {
             "color": "#2a3f5f"
            },
            "error_y": {
             "color": "#2a3f5f"
            },
            "marker": {
             "line": {
              "color": "#E5ECF6",
              "width": 0.5
             }
            },
            "type": "bar"
           }
          ],
          "barpolar": [
           {
            "marker": {
             "line": {
              "color": "#E5ECF6",
              "width": 0.5
             }
            },
            "type": "barpolar"
           }
          ],
          "carpet": [
           {
            "aaxis": {
             "endlinecolor": "#2a3f5f",
             "gridcolor": "white",
             "linecolor": "white",
             "minorgridcolor": "white",
             "startlinecolor": "#2a3f5f"
            },
            "baxis": {
             "endlinecolor": "#2a3f5f",
             "gridcolor": "white",
             "linecolor": "white",
             "minorgridcolor": "white",
             "startlinecolor": "#2a3f5f"
            },
            "type": "carpet"
           }
          ],
          "choropleth": [
           {
            "colorbar": {
             "outlinewidth": 0,
             "ticks": ""
            },
            "type": "choropleth"
           }
          ],
          "contour": [
           {
            "colorbar": {
             "outlinewidth": 0,
             "ticks": ""
            },
            "colorscale": [
             [
              0,
              "#0d0887"
             ],
             [
              0.1111111111111111,
              "#46039f"
             ],
             [
              0.2222222222222222,
              "#7201a8"
             ],
             [
              0.3333333333333333,
              "#9c179e"
             ],
             [
              0.4444444444444444,
              "#bd3786"
             ],
             [
              0.5555555555555556,
              "#d8576b"
             ],
             [
              0.6666666666666666,
              "#ed7953"
             ],
             [
              0.7777777777777778,
              "#fb9f3a"
             ],
             [
              0.8888888888888888,
              "#fdca26"
             ],
             [
              1,
              "#f0f921"
             ]
            ],
            "type": "contour"
           }
          ],
          "contourcarpet": [
           {
            "colorbar": {
             "outlinewidth": 0,
             "ticks": ""
            },
            "type": "contourcarpet"
           }
          ],
          "heatmap": [
           {
            "colorbar": {
             "outlinewidth": 0,
             "ticks": ""
            },
            "colorscale": [
             [
              0,
              "#0d0887"
             ],
             [
              0.1111111111111111,
              "#46039f"
             ],
             [
              0.2222222222222222,
              "#7201a8"
             ],
             [
              0.3333333333333333,
              "#9c179e"
             ],
             [
              0.4444444444444444,
              "#bd3786"
             ],
             [
              0.5555555555555556,
              "#d8576b"
             ],
             [
              0.6666666666666666,
              "#ed7953"
             ],
             [
              0.7777777777777778,
              "#fb9f3a"
             ],
             [
              0.8888888888888888,
              "#fdca26"
             ],
             [
              1,
              "#f0f921"
             ]
            ],
            "type": "heatmap"
           }
          ],
          "heatmapgl": [
           {
            "colorbar": {
             "outlinewidth": 0,
             "ticks": ""
            },
            "colorscale": [
             [
              0,
              "#0d0887"
             ],
             [
              0.1111111111111111,
              "#46039f"
             ],
             [
              0.2222222222222222,
              "#7201a8"
             ],
             [
              0.3333333333333333,
              "#9c179e"
             ],
             [
              0.4444444444444444,
              "#bd3786"
             ],
             [
              0.5555555555555556,
              "#d8576b"
             ],
             [
              0.6666666666666666,
              "#ed7953"
             ],
             [
              0.7777777777777778,
              "#fb9f3a"
             ],
             [
              0.8888888888888888,
              "#fdca26"
             ],
             [
              1,
              "#f0f921"
             ]
            ],
            "type": "heatmapgl"
           }
          ],
          "histogram": [
           {
            "marker": {
             "colorbar": {
              "outlinewidth": 0,
              "ticks": ""
             }
            },
            "type": "histogram"
           }
          ],
          "histogram2d": [
           {
            "colorbar": {
             "outlinewidth": 0,
             "ticks": ""
            },
            "colorscale": [
             [
              0,
              "#0d0887"
             ],
             [
              0.1111111111111111,
              "#46039f"
             ],
             [
              0.2222222222222222,
              "#7201a8"
             ],
             [
              0.3333333333333333,
              "#9c179e"
             ],
             [
              0.4444444444444444,
              "#bd3786"
             ],
             [
              0.5555555555555556,
              "#d8576b"
             ],
             [
              0.6666666666666666,
              "#ed7953"
             ],
             [
              0.7777777777777778,
              "#fb9f3a"
             ],
             [
              0.8888888888888888,
              "#fdca26"
             ],
             [
              1,
              "#f0f921"
             ]
            ],
            "type": "histogram2d"
           }
          ],
          "histogram2dcontour": [
           {
            "colorbar": {
             "outlinewidth": 0,
             "ticks": ""
            },
            "colorscale": [
             [
              0,
              "#0d0887"
             ],
             [
              0.1111111111111111,
              "#46039f"
             ],
             [
              0.2222222222222222,
              "#7201a8"
             ],
             [
              0.3333333333333333,
              "#9c179e"
             ],
             [
              0.4444444444444444,
              "#bd3786"
             ],
             [
              0.5555555555555556,
              "#d8576b"
             ],
             [
              0.6666666666666666,
              "#ed7953"
             ],
             [
              0.7777777777777778,
              "#fb9f3a"
             ],
             [
              0.8888888888888888,
              "#fdca26"
             ],
             [
              1,
              "#f0f921"
             ]
            ],
            "type": "histogram2dcontour"
           }
          ],
          "mesh3d": [
           {
            "colorbar": {
             "outlinewidth": 0,
             "ticks": ""
            },
            "type": "mesh3d"
           }
          ],
          "parcoords": [
           {
            "line": {
             "colorbar": {
              "outlinewidth": 0,
              "ticks": ""
             }
            },
            "type": "parcoords"
           }
          ],
          "pie": [
           {
            "automargin": true,
            "type": "pie"
           }
          ],
          "scatter": [
           {
            "marker": {
             "colorbar": {
              "outlinewidth": 0,
              "ticks": ""
             }
            },
            "type": "scatter"
           }
          ],
          "scatter3d": [
           {
            "line": {
             "colorbar": {
              "outlinewidth": 0,
              "ticks": ""
             }
            },
            "marker": {
             "colorbar": {
              "outlinewidth": 0,
              "ticks": ""
             }
            },
            "type": "scatter3d"
           }
          ],
          "scattercarpet": [
           {
            "marker": {
             "colorbar": {
              "outlinewidth": 0,
              "ticks": ""
             }
            },
            "type": "scattercarpet"
           }
          ],
          "scattergeo": [
           {
            "marker": {
             "colorbar": {
              "outlinewidth": 0,
              "ticks": ""
             }
            },
            "type": "scattergeo"
           }
          ],
          "scattergl": [
           {
            "marker": {
             "colorbar": {
              "outlinewidth": 0,
              "ticks": ""
             }
            },
            "type": "scattergl"
           }
          ],
          "scattermapbox": [
           {
            "marker": {
             "colorbar": {
              "outlinewidth": 0,
              "ticks": ""
             }
            },
            "type": "scattermapbox"
           }
          ],
          "scatterpolar": [
           {
            "marker": {
             "colorbar": {
              "outlinewidth": 0,
              "ticks": ""
             }
            },
            "type": "scatterpolar"
           }
          ],
          "scatterpolargl": [
           {
            "marker": {
             "colorbar": {
              "outlinewidth": 0,
              "ticks": ""
             }
            },
            "type": "scatterpolargl"
           }
          ],
          "scatterternary": [
           {
            "marker": {
             "colorbar": {
              "outlinewidth": 0,
              "ticks": ""
             }
            },
            "type": "scatterternary"
           }
          ],
          "surface": [
           {
            "colorbar": {
             "outlinewidth": 0,
             "ticks": ""
            },
            "colorscale": [
             [
              0,
              "#0d0887"
             ],
             [
              0.1111111111111111,
              "#46039f"
             ],
             [
              0.2222222222222222,
              "#7201a8"
             ],
             [
              0.3333333333333333,
              "#9c179e"
             ],
             [
              0.4444444444444444,
              "#bd3786"
             ],
             [
              0.5555555555555556,
              "#d8576b"
             ],
             [
              0.6666666666666666,
              "#ed7953"
             ],
             [
              0.7777777777777778,
              "#fb9f3a"
             ],
             [
              0.8888888888888888,
              "#fdca26"
             ],
             [
              1,
              "#f0f921"
             ]
            ],
            "type": "surface"
           }
          ],
          "table": [
           {
            "cells": {
             "fill": {
              "color": "#EBF0F8"
             },
             "line": {
              "color": "white"
             }
            },
            "header": {
             "fill": {
              "color": "#C8D4E3"
             },
             "line": {
              "color": "white"
             }
            },
            "type": "table"
           }
          ]
         },
         "layout": {
          "annotationdefaults": {
           "arrowcolor": "#2a3f5f",
           "arrowhead": 0,
           "arrowwidth": 1
          },
          "autotypenumbers": "strict",
          "coloraxis": {
           "colorbar": {
            "outlinewidth": 0,
            "ticks": ""
           }
          },
          "colorscale": {
           "diverging": [
            [
             0,
             "#8e0152"
            ],
            [
             0.1,
             "#c51b7d"
            ],
            [
             0.2,
             "#de77ae"
            ],
            [
             0.3,
             "#f1b6da"
            ],
            [
             0.4,
             "#fde0ef"
            ],
            [
             0.5,
             "#f7f7f7"
            ],
            [
             0.6,
             "#e6f5d0"
            ],
            [
             0.7,
             "#b8e186"
            ],
            [
             0.8,
             "#7fbc41"
            ],
            [
             0.9,
             "#4d9221"
            ],
            [
             1,
             "#276419"
            ]
           ],
           "sequential": [
            [
             0,
             "#0d0887"
            ],
            [
             0.1111111111111111,
             "#46039f"
            ],
            [
             0.2222222222222222,
             "#7201a8"
            ],
            [
             0.3333333333333333,
             "#9c179e"
            ],
            [
             0.4444444444444444,
             "#bd3786"
            ],
            [
             0.5555555555555556,
             "#d8576b"
            ],
            [
             0.6666666666666666,
             "#ed7953"
            ],
            [
             0.7777777777777778,
             "#fb9f3a"
            ],
            [
             0.8888888888888888,
             "#fdca26"
            ],
            [
             1,
             "#f0f921"
            ]
           ],
           "sequentialminus": [
            [
             0,
             "#0d0887"
            ],
            [
             0.1111111111111111,
             "#46039f"
            ],
            [
             0.2222222222222222,
             "#7201a8"
            ],
            [
             0.3333333333333333,
             "#9c179e"
            ],
            [
             0.4444444444444444,
             "#bd3786"
            ],
            [
             0.5555555555555556,
             "#d8576b"
            ],
            [
             0.6666666666666666,
             "#ed7953"
            ],
            [
             0.7777777777777778,
             "#fb9f3a"
            ],
            [
             0.8888888888888888,
             "#fdca26"
            ],
            [
             1,
             "#f0f921"
            ]
           ]
          },
          "colorway": [
           "#636efa",
           "#EF553B",
           "#00cc96",
           "#ab63fa",
           "#FFA15A",
           "#19d3f3",
           "#FF6692",
           "#B6E880",
           "#FF97FF",
           "#FECB52"
          ],
          "font": {
           "color": "#2a3f5f"
          },
          "geo": {
           "bgcolor": "white",
           "lakecolor": "white",
           "landcolor": "#E5ECF6",
           "showlakes": true,
           "showland": true,
           "subunitcolor": "white"
          },
          "hoverlabel": {
           "align": "left"
          },
          "hovermode": "closest",
          "mapbox": {
           "style": "light"
          },
          "paper_bgcolor": "white",
          "plot_bgcolor": "#E5ECF6",
          "polar": {
           "angularaxis": {
            "gridcolor": "white",
            "linecolor": "white",
            "ticks": ""
           },
           "bgcolor": "#E5ECF6",
           "radialaxis": {
            "gridcolor": "white",
            "linecolor": "white",
            "ticks": ""
           }
          },
          "scene": {
           "xaxis": {
            "backgroundcolor": "#E5ECF6",
            "gridcolor": "white",
            "gridwidth": 2,
            "linecolor": "white",
            "showbackground": true,
            "ticks": "",
            "zerolinecolor": "white"
           },
           "yaxis": {
            "backgroundcolor": "#E5ECF6",
            "gridcolor": "white",
            "gridwidth": 2,
            "linecolor": "white",
            "showbackground": true,
            "ticks": "",
            "zerolinecolor": "white"
           },
           "zaxis": {
            "backgroundcolor": "#E5ECF6",
            "gridcolor": "white",
            "gridwidth": 2,
            "linecolor": "white",
            "showbackground": true,
            "ticks": "",
            "zerolinecolor": "white"
           }
          },
          "shapedefaults": {
           "line": {
            "color": "#2a3f5f"
           }
          },
          "ternary": {
           "aaxis": {
            "gridcolor": "white",
            "linecolor": "white",
            "ticks": ""
           },
           "baxis": {
            "gridcolor": "white",
            "linecolor": "white",
            "ticks": ""
           },
           "bgcolor": "#E5ECF6",
           "caxis": {
            "gridcolor": "white",
            "linecolor": "white",
            "ticks": ""
           }
          },
          "title": {
           "x": 0.05
          },
          "xaxis": {
           "automargin": true,
           "gridcolor": "white",
           "linecolor": "white",
           "ticks": "",
           "title": {
            "standoff": 15
           },
           "zerolinecolor": "white",
           "zerolinewidth": 2
          },
          "yaxis": {
           "automargin": true,
           "gridcolor": "white",
           "linecolor": "white",
           "ticks": "",
           "title": {
            "standoff": 15
           },
           "zerolinecolor": "white",
           "zerolinewidth": 2
          }
         }
        },
        "title": {
         "text": "Loss"
        },
        "xaxis": {
         "anchor": "y",
         "autorange": true,
         "domain": [
          0,
          1
         ],
         "range": [
          1,
          20
         ],
         "title": {
          "text": "epoch"
         },
         "type": "linear"
        },
        "yaxis": {
         "anchor": "x",
         "autorange": true,
         "domain": [
          0,
          1
         ],
         "range": [
          0.6501685215367211,
          0.6613757179843055
         ],
         "title": {
          "text": "loss"
         },
         "type": "linear"
        }
       }
      },
      "image/png": "[encoded data removed]",
      "text/html": [
       "<div>                            <div id=\"3277ab47-9d1a-4df8-b06c-6f9dbdeccc21\" class=\"plotly-graph-div\" style=\"height:525px; width:100%;\"></div>            <script type=\"text/javascript\">                require([\"plotly\"], function(Plotly) {                    window.PLOTLYENV=window.PLOTLYENV || {};                                    if (document.getElementById(\"3277ab47-9d1a-4df8-b06c-6f9dbdeccc21\")) {                    Plotly.newPlot(                        \"3277ab47-9d1a-4df8-b06c-6f9dbdeccc21\",                        [{\"hovertemplate\": \"epoch=%{x}<br>loss=%{y}<extra></extra>\", \"legendgroup\": \"\", \"line\": {\"color\": \"#636efa\", \"dash\": \"solid\"}, \"mode\": \"lines\", \"name\": \"\", \"orientation\": \"v\", \"showlegend\": false, \"type\": \"scatter\", \"x\": [1, 2, 3, 4, 5, 6, 7, 8, 9, 10, 11, 12, 13, 14, 15, 16, 17, 18, 19, 20], \"xaxis\": \"x\", \"y\": [0.6577405333518982, 0.6608153581619263, 0.6583752036094666, 0.6540687084197998, 0.6563441753387451, 0.6561810970306396, 0.6580769419670105, 0.6538176536560059, 0.6566356420516968, 0.6594705581665039, 0.657526433467865, 0.6558380126953125, 0.6600268483161926, 0.655512809753418, 0.6551007032394409, 0.6575145721435547, 0.6555984020233154, 0.6585317850112915, 0.6567413806915283, 0.6507288813591003], \"yaxis\": \"y\"}],                        {\"legend\": {\"tracegroupgap\": 0}, \"template\": {\"data\": {\"bar\": [{\"error_x\": {\"color\": \"#2a3f5f\"}, \"error_y\": {\"color\": \"#2a3f5f\"}, \"marker\": {\"line\": {\"color\": \"#E5ECF6\", \"width\": 0.5}}, \"type\": \"bar\"}], \"barpolar\": [{\"marker\": {\"line\": {\"color\": \"#E5ECF6\", \"width\": 0.5}}, \"type\": \"barpolar\"}], \"carpet\": [{\"aaxis\": {\"endlinecolor\": \"#2a3f5f\", \"gridcolor\": \"white\", \"linecolor\": \"white\", \"minorgridcolor\": \"white\", \"startlinecolor\": \"#2a3f5f\"}, \"baxis\": {\"endlinecolor\": \"#2a3f5f\", \"gridcolor\": \"white\", \"linecolor\": \"white\", \"minorgridcolor\": \"white\", \"startlinecolor\": \"#2a3f5f\"}, \"type\": \"carpet\"}], \"choropleth\": [{\"colorbar\": {\"outlinewidth\": 0, \"ticks\": \"\"}, \"type\": \"choropleth\"}], \"contour\": [{\"colorbar\": {\"outlinewidth\": 0, \"ticks\": \"\"}, \"colorscale\": [[0.0, \"#0d0887\"], [0.1111111111111111, \"#46039f\"], [0.2222222222222222, \"#7201a8\"], [0.3333333333333333, \"#9c179e\"], [0.4444444444444444, \"#bd3786\"], [0.5555555555555556, \"#d8576b\"], [0.6666666666666666, \"#ed7953\"], [0.7777777777777778, \"#fb9f3a\"], [0.8888888888888888, \"#fdca26\"], [1.0, \"#f0f921\"]], \"type\": \"contour\"}], \"contourcarpet\": [{\"colorbar\": {\"outlinewidth\": 0, \"ticks\": \"\"}, \"type\": \"contourcarpet\"}], \"heatmap\": [{\"colorbar\": {\"outlinewidth\": 0, \"ticks\": \"\"}, \"colorscale\": [[0.0, \"#0d0887\"], [0.1111111111111111, \"#46039f\"], [0.2222222222222222, \"#7201a8\"], [0.3333333333333333, \"#9c179e\"], [0.4444444444444444, \"#bd3786\"], [0.5555555555555556, \"#d8576b\"], [0.6666666666666666, \"#ed7953\"], [0.7777777777777778, \"#fb9f3a\"], [0.8888888888888888, \"#fdca26\"], [1.0, \"#f0f921\"]], \"type\": \"heatmap\"}], \"heatmapgl\": [{\"colorbar\": {\"outlinewidth\": 0, \"ticks\": \"\"}, \"colorscale\": [[0.0, \"#0d0887\"], [0.1111111111111111, \"#46039f\"], [0.2222222222222222, \"#7201a8\"], [0.3333333333333333, \"#9c179e\"], [0.4444444444444444, \"#bd3786\"], [0.5555555555555556, \"#d8576b\"], [0.6666666666666666, \"#ed7953\"], [0.7777777777777778, \"#fb9f3a\"], [0.8888888888888888, \"#fdca26\"], [1.0, \"#f0f921\"]], \"type\": \"heatmapgl\"}], \"histogram\": [{\"marker\": {\"colorbar\": {\"outlinewidth\": 0, \"ticks\": \"\"}}, \"type\": \"histogram\"}], \"histogram2d\": [{\"colorbar\": {\"outlinewidth\": 0, \"ticks\": \"\"}, \"colorscale\": [[0.0, \"#0d0887\"], [0.1111111111111111, \"#46039f\"], [0.2222222222222222, \"#7201a8\"], [0.3333333333333333, \"#9c179e\"], [0.4444444444444444, \"#bd3786\"], [0.5555555555555556, \"#d8576b\"], [0.6666666666666666, \"#ed7953\"], [0.7777777777777778, \"#fb9f3a\"], [0.8888888888888888, \"#fdca26\"], [1.0, \"#f0f921\"]], \"type\": \"histogram2d\"}], \"histogram2dcontour\": [{\"colorbar\": {\"outlinewidth\": 0, \"ticks\": \"\"}, \"colorscale\": [[0.0, \"#0d0887\"], [0.1111111111111111, \"#46039f\"], [0.2222222222222222, \"#7201a8\"], [0.3333333333333333, \"#9c179e\"], [0.4444444444444444, \"#bd3786\"], [0.5555555555555556, \"#d8576b\"], [0.6666666666666666, \"#ed7953\"], [0.7777777777777778, \"#fb9f3a\"], [0.8888888888888888, \"#fdca26\"], [1.0, \"#f0f921\"]], \"type\": \"histogram2dcontour\"}], \"mesh3d\": [{\"colorbar\": {\"outlinewidth\": 0, \"ticks\": \"\"}, \"type\": \"mesh3d\"}], \"parcoords\": [{\"line\": {\"colorbar\": {\"outlinewidth\": 0, \"ticks\": \"\"}}, \"type\": \"parcoords\"}], \"pie\": [{\"automargin\": true, \"type\": \"pie\"}], \"scatter\": [{\"marker\": {\"colorbar\": {\"outlinewidth\": 0, \"ticks\": \"\"}}, \"type\": \"scatter\"}], \"scatter3d\": [{\"line\": {\"colorbar\": {\"outlinewidth\": 0, \"ticks\": \"\"}}, \"marker\": {\"colorbar\": {\"outlinewidth\": 0, \"ticks\": \"\"}}, \"type\": \"scatter3d\"}], \"scattercarpet\": [{\"marker\": {\"colorbar\": {\"outlinewidth\": 0, \"ticks\": \"\"}}, \"type\": \"scattercarpet\"}], \"scattergeo\": [{\"marker\": {\"colorbar\": {\"outlinewidth\": 0, \"ticks\": \"\"}}, \"type\": \"scattergeo\"}], \"scattergl\": [{\"marker\": {\"colorbar\": {\"outlinewidth\": 0, \"ticks\": \"\"}}, \"type\": \"scattergl\"}], \"scattermapbox\": [{\"marker\": {\"colorbar\": {\"outlinewidth\": 0, \"ticks\": \"\"}}, \"type\": \"scattermapbox\"}], \"scatterpolar\": [{\"marker\": {\"colorbar\": {\"outlinewidth\": 0, \"ticks\": \"\"}}, \"type\": \"scatterpolar\"}], \"scatterpolargl\": [{\"marker\": {\"colorbar\": {\"outlinewidth\": 0, \"ticks\": \"\"}}, \"type\": \"scatterpolargl\"}], \"scatterternary\": [{\"marker\": {\"colorbar\": {\"outlinewidth\": 0, \"ticks\": \"\"}}, \"type\": \"scatterternary\"}], \"surface\": [{\"colorbar\": {\"outlinewidth\": 0, \"ticks\": \"\"}, \"colorscale\": [[0.0, \"#0d0887\"], [0.1111111111111111, \"#46039f\"], [0.2222222222222222, \"#7201a8\"], [0.3333333333333333, \"#9c179e\"], [0.4444444444444444, \"#bd3786\"], [0.5555555555555556, \"#d8576b\"], [0.6666666666666666, \"#ed7953\"], [0.7777777777777778, \"#fb9f3a\"], [0.8888888888888888, \"#fdca26\"], [1.0, \"#f0f921\"]], \"type\": \"surface\"}], \"table\": [{\"cells\": {\"fill\": {\"color\": \"#EBF0F8\"}, \"line\": {\"color\": \"white\"}}, \"header\": {\"fill\": {\"color\": \"#C8D4E3\"}, \"line\": {\"color\": \"white\"}}, \"type\": \"table\"}]}, \"layout\": {\"annotationdefaults\": {\"arrowcolor\": \"#2a3f5f\", \"arrowhead\": 0, \"arrowwidth\": 1}, \"autotypenumbers\": \"strict\", \"coloraxis\": {\"colorbar\": {\"outlinewidth\": 0, \"ticks\": \"\"}}, \"colorscale\": {\"diverging\": [[0, \"#8e0152\"], [0.1, \"#c51b7d\"], [0.2, \"#de77ae\"], [0.3, \"#f1b6da\"], [0.4, \"#fde0ef\"], [0.5, \"#f7f7f7\"], [0.6, \"#e6f5d0\"], [0.7, \"#b8e186\"], [0.8, \"#7fbc41\"], [0.9, \"#4d9221\"], [1, \"#276419\"]], \"sequential\": [[0.0, \"#0d0887\"], [0.1111111111111111, \"#46039f\"], [0.2222222222222222, \"#7201a8\"], [0.3333333333333333, \"#9c179e\"], [0.4444444444444444, \"#bd3786\"], [0.5555555555555556, \"#d8576b\"], [0.6666666666666666, \"#ed7953\"], [0.7777777777777778, \"#fb9f3a\"], [0.8888888888888888, \"#fdca26\"], [1.0, \"#f0f921\"]], \"sequentialminus\": [[0.0, \"#0d0887\"], [0.1111111111111111, \"#46039f\"], [0.2222222222222222, \"#7201a8\"], [0.3333333333333333, \"#9c179e\"], [0.4444444444444444, \"#bd3786\"], [0.5555555555555556, \"#d8576b\"], [0.6666666666666666, \"#ed7953\"], [0.7777777777777778, \"#fb9f3a\"], [0.8888888888888888, \"#fdca26\"], [1.0, \"#f0f921\"]]}, \"colorway\": [\"#636efa\", \"#EF553B\", \"#00cc96\", \"#ab63fa\", \"#FFA15A\", \"#19d3f3\", \"#FF6692\", \"#B6E880\", \"#FF97FF\", \"#FECB52\"], \"font\": {\"color\": \"#2a3f5f\"}, \"geo\": {\"bgcolor\": \"white\", \"lakecolor\": \"white\", \"landcolor\": \"#E5ECF6\", \"showlakes\": true, \"showland\": true, \"subunitcolor\": \"white\"}, \"hoverlabel\": {\"align\": \"left\"}, \"hovermode\": \"closest\", \"mapbox\": {\"style\": \"light\"}, \"paper_bgcolor\": \"white\", \"plot_bgcolor\": \"#E5ECF6\", \"polar\": {\"angularaxis\": {\"gridcolor\": \"white\", \"linecolor\": \"white\", \"ticks\": \"\"}, \"bgcolor\": \"#E5ECF6\", \"radialaxis\": {\"gridcolor\": \"white\", \"linecolor\": \"white\", \"ticks\": \"\"}}, \"scene\": {\"xaxis\": {\"backgroundcolor\": \"#E5ECF6\", \"gridcolor\": \"white\", \"gridwidth\": 2, \"linecolor\": \"white\", \"showbackground\": true, \"ticks\": \"\", \"zerolinecolor\": \"white\"}, \"yaxis\": {\"backgroundcolor\": \"#E5ECF6\", \"gridcolor\": \"white\", \"gridwidth\": 2, \"linecolor\": \"white\", \"showbackground\": true, \"ticks\": \"\", \"zerolinecolor\": \"white\"}, \"zaxis\": {\"backgroundcolor\": \"#E5ECF6\", \"gridcolor\": \"white\", \"gridwidth\": 2, \"linecolor\": \"white\", \"showbackground\": true, \"ticks\": \"\", \"zerolinecolor\": \"white\"}}, \"shapedefaults\": {\"line\": {\"color\": \"#2a3f5f\"}}, \"ternary\": {\"aaxis\": {\"gridcolor\": \"white\", \"linecolor\": \"white\", \"ticks\": \"\"}, \"baxis\": {\"gridcolor\": \"white\", \"linecolor\": \"white\", \"ticks\": \"\"}, \"bgcolor\": \"#E5ECF6\", \"caxis\": {\"gridcolor\": \"white\", \"linecolor\": \"white\", \"ticks\": \"\"}}, \"title\": {\"x\": 0.05}, \"xaxis\": {\"automargin\": true, \"gridcolor\": \"white\", \"linecolor\": \"white\", \"ticks\": \"\", \"title\": {\"standoff\": 15}, \"zerolinecolor\": \"white\", \"zerolinewidth\": 2}, \"yaxis\": {\"automargin\": true, \"gridcolor\": \"white\", \"linecolor\": \"white\", \"ticks\": \"\", \"title\": {\"standoff\": 15}, \"zerolinecolor\": \"white\", \"zerolinewidth\": 2}}}, \"title\": {\"text\": \"Loss\"}, \"xaxis\": {\"anchor\": \"y\", \"domain\": [0.0, 1.0], \"title\": {\"text\": \"epoch\"}}, \"yaxis\": {\"anchor\": \"x\", \"domain\": [0.0, 1.0], \"title\": {\"text\": \"loss\"}}},                        {\"responsive\": true}                    ).then(function(){\n",
       "                            \n",
       "var gd = document.getElementById('3277ab47-9d1a-4df8-b06c-6f9dbdeccc21');\n",
       "var x = new MutationObserver(function (mutations, observer) {{\n",
       "        var display = window.getComputedStyle(gd).display;\n",
       "        if (!display || display === 'none') {{\n",
       "            console.log([gd, 'removed!']);\n",
       "            Plotly.purge(gd);\n",
       "            observer.disconnect();\n",
       "        }}\n",
       "}});\n",
       "\n",
       "// Listen for the removal of the full notebook cells\n",
       "var notebookContainer = gd.closest('#notebook-container');\n",
       "if (notebookContainer) {{\n",
       "    x.observe(notebookContainer, {childList: true});\n",
       "}}\n",
       "\n",
       "// Listen for the clearing of the current output cell\n",
       "var outputEl = gd.closest('.output');\n",
       "if (outputEl) {{\n",
       "    x.observe(outputEl, {childList: true});\n",
       "}}\n",
       "\n",
       "                        })                };                });            </script>        </div>"
      ]
     },
     "metadata": {},
     "output_type": "display_data"
    },
    {
     "data": {
      "application/vnd.plotly.v1+json": {
       "config": {
        "plotlyServerURL": "https://plot.ly"
       },
       "data": [
        {
         "hovertemplate": "variable=train_accuracy<br>epoch=%{x}<br>value=%{y}<extra></extra>",
         "legendgroup": "train_accuracy",
         "line": {
          "color": "#636efa",
          "dash": "solid"
         },
         "mode": "lines",
         "name": "train_accuracy",
         "orientation": "v",
         "showlegend": true,
         "type": "scatter",
         "x": [
          1,
          2,
          3,
          4,
          5,
          6,
          7,
          8,
          9,
          10,
          11,
          12,
          13,
          14,
          15,
          16,
          17,
          18,
          19,
          20
         ],
         "xaxis": "x",
         "y": [
          0.5576541651640822,
          0.5595023440317346,
          0.5605954742156509,
          0.5596488460151461,
          0.5588825279480707,
          0.5600320050486838,
          0.5602799314821493,
          0.5586796790479625,
          0.5589952217814641,
          0.5593783808150018,
          0.5599643887486476,
          0.5585444464478904,
          0.5604377028489002,
          0.5595023440317346,
          0.5605954742156509,
          0.5602348539487919,
          0.5600996213487198,
          0.5601897764154345,
          0.5595361521817526,
          0.5600770825820411
         ],
         "yaxis": "y"
        },
        {
         "hovertemplate": "variable=dev_accuracy<br>epoch=%{x}<br>value=%{y}<extra></extra>",
         "legendgroup": "dev_accuracy",
         "line": {
          "color": "#EF553B",
          "dash": "solid"
         },
         "mode": "lines",
         "name": "dev_accuracy",
         "orientation": "v",
         "showlegend": true,
         "type": "scatter",
         "x": [
          1,
          2,
          3,
          4,
          5,
          6,
          7,
          8,
          9,
          10,
          11,
          12,
          13,
          14,
          15,
          16,
          17,
          18,
          19,
          20
         ],
         "xaxis": "x",
         "y": [
          0.6075903723068602,
          0.6062381682141891,
          0.6063283151537006,
          0.6053366988190751,
          0.6051564049400523,
          0.609122870278554,
          0.6065086090327233,
          0.6047958171820067,
          0.603984494726404,
          0.6069593437302804,
          0.5938880375011268,
          0.6072297845488146,
          0.6085819886414856,
          0.6050662580005409,
          0.6054268457585865,
          0.6090327233390427,
          0.6084016947624629,
          0.6047958171820067,
          0.6066889029117462,
          0.6064184620932119
         ],
         "yaxis": "y"
        }
       ],
       "layout": {
        "autosize": true,
        "legend": {
         "title": {
          "text": "variable"
         },
         "tracegroupgap": 0
        },
        "template": {
         "data": {
          "bar": [
           {
            "error_x": {
             "color": "#2a3f5f"
            },
            "error_y": {
             "color": "#2a3f5f"
            },
            "marker": {
             "line": {
              "color": "#E5ECF6",
              "width": 0.5
             }
            },
            "type": "bar"
           }
          ],
          "barpolar": [
           {
            "marker": {
             "line": {
              "color": "#E5ECF6",
              "width": 0.5
             }
            },
            "type": "barpolar"
           }
          ],
          "carpet": [
           {
            "aaxis": {
             "endlinecolor": "#2a3f5f",
             "gridcolor": "white",
             "linecolor": "white",
             "minorgridcolor": "white",
             "startlinecolor": "#2a3f5f"
            },
            "baxis": {
             "endlinecolor": "#2a3f5f",
             "gridcolor": "white",
             "linecolor": "white",
             "minorgridcolor": "white",
             "startlinecolor": "#2a3f5f"
            },
            "type": "carpet"
           }
          ],
          "choropleth": [
           {
            "colorbar": {
             "outlinewidth": 0,
             "ticks": ""
            },
            "type": "choropleth"
           }
          ],
          "contour": [
           {
            "colorbar": {
             "outlinewidth": 0,
             "ticks": ""
            },
            "colorscale": [
             [
              0,
              "#0d0887"
             ],
             [
              0.1111111111111111,
              "#46039f"
             ],
             [
              0.2222222222222222,
              "#7201a8"
             ],
             [
              0.3333333333333333,
              "#9c179e"
             ],
             [
              0.4444444444444444,
              "#bd3786"
             ],
             [
              0.5555555555555556,
              "#d8576b"
             ],
             [
              0.6666666666666666,
              "#ed7953"
             ],
             [
              0.7777777777777778,
              "#fb9f3a"
             ],
             [
              0.8888888888888888,
              "#fdca26"
             ],
             [
              1,
              "#f0f921"
             ]
            ],
            "type": "contour"
           }
          ],
          "contourcarpet": [
           {
            "colorbar": {
             "outlinewidth": 0,
             "ticks": ""
            },
            "type": "contourcarpet"
           }
          ],
          "heatmap": [
           {
            "colorbar": {
             "outlinewidth": 0,
             "ticks": ""
            },
            "colorscale": [
             [
              0,
              "#0d0887"
             ],
             [
              0.1111111111111111,
              "#46039f"
             ],
             [
              0.2222222222222222,
              "#7201a8"
             ],
             [
              0.3333333333333333,
              "#9c179e"
             ],
             [
              0.4444444444444444,
              "#bd3786"
             ],
             [
              0.5555555555555556,
              "#d8576b"
             ],
             [
              0.6666666666666666,
              "#ed7953"
             ],
             [
              0.7777777777777778,
              "#fb9f3a"
             ],
             [
              0.8888888888888888,
              "#fdca26"
             ],
             [
              1,
              "#f0f921"
             ]
            ],
            "type": "heatmap"
           }
          ],
          "heatmapgl": [
           {
            "colorbar": {
             "outlinewidth": 0,
             "ticks": ""
            },
            "colorscale": [
             [
              0,
              "#0d0887"
             ],
             [
              0.1111111111111111,
              "#46039f"
             ],
             [
              0.2222222222222222,
              "#7201a8"
             ],
             [
              0.3333333333333333,
              "#9c179e"
             ],
             [
              0.4444444444444444,
              "#bd3786"
             ],
             [
              0.5555555555555556,
              "#d8576b"
             ],
             [
              0.6666666666666666,
              "#ed7953"
             ],
             [
              0.7777777777777778,
              "#fb9f3a"
             ],
             [
              0.8888888888888888,
              "#fdca26"
             ],
             [
              1,
              "#f0f921"
             ]
            ],
            "type": "heatmapgl"
           }
          ],
          "histogram": [
           {
            "marker": {
             "colorbar": {
              "outlinewidth": 0,
              "ticks": ""
             }
            },
            "type": "histogram"
           }
          ],
          "histogram2d": [
           {
            "colorbar": {
             "outlinewidth": 0,
             "ticks": ""
            },
            "colorscale": [
             [
              0,
              "#0d0887"
             ],
             [
              0.1111111111111111,
              "#46039f"
             ],
             [
              0.2222222222222222,
              "#7201a8"
             ],
             [
              0.3333333333333333,
              "#9c179e"
             ],
             [
              0.4444444444444444,
              "#bd3786"
             ],
             [
              0.5555555555555556,
              "#d8576b"
             ],
             [
              0.6666666666666666,
              "#ed7953"
             ],
             [
              0.7777777777777778,
              "#fb9f3a"
             ],
             [
              0.8888888888888888,
              "#fdca26"
             ],
             [
              1,
              "#f0f921"
             ]
            ],
            "type": "histogram2d"
           }
          ],
          "histogram2dcontour": [
           {
            "colorbar": {
             "outlinewidth": 0,
             "ticks": ""
            },
            "colorscale": [
             [
              0,
              "#0d0887"
             ],
             [
              0.1111111111111111,
              "#46039f"
             ],
             [
              0.2222222222222222,
              "#7201a8"
             ],
             [
              0.3333333333333333,
              "#9c179e"
             ],
             [
              0.4444444444444444,
              "#bd3786"
             ],
             [
              0.5555555555555556,
              "#d8576b"
             ],
             [
              0.6666666666666666,
              "#ed7953"
             ],
             [
              0.7777777777777778,
              "#fb9f3a"
             ],
             [
              0.8888888888888888,
              "#fdca26"
             ],
             [
              1,
              "#f0f921"
             ]
            ],
            "type": "histogram2dcontour"
           }
          ],
          "mesh3d": [
           {
            "colorbar": {
             "outlinewidth": 0,
             "ticks": ""
            },
            "type": "mesh3d"
           }
          ],
          "parcoords": [
           {
            "line": {
             "colorbar": {
              "outlinewidth": 0,
              "ticks": ""
             }
            },
            "type": "parcoords"
           }
          ],
          "pie": [
           {
            "automargin": true,
            "type": "pie"
           }
          ],
          "scatter": [
           {
            "marker": {
             "colorbar": {
              "outlinewidth": 0,
              "ticks": ""
             }
            },
            "type": "scatter"
           }
          ],
          "scatter3d": [
           {
            "line": {
             "colorbar": {
              "outlinewidth": 0,
              "ticks": ""
             }
            },
            "marker": {
             "colorbar": {
              "outlinewidth": 0,
              "ticks": ""
             }
            },
            "type": "scatter3d"
           }
          ],
          "scattercarpet": [
           {
            "marker": {
             "colorbar": {
              "outlinewidth": 0,
              "ticks": ""
             }
            },
            "type": "scattercarpet"
           }
          ],
          "scattergeo": [
           {
            "marker": {
             "colorbar": {
              "outlinewidth": 0,
              "ticks": ""
             }
            },
            "type": "scattergeo"
           }
          ],
          "scattergl": [
           {
            "marker": {
             "colorbar": {
              "outlinewidth": 0,
              "ticks": ""
             }
            },
            "type": "scattergl"
           }
          ],
          "scattermapbox": [
           {
            "marker": {
             "colorbar": {
              "outlinewidth": 0,
              "ticks": ""
             }
            },
            "type": "scattermapbox"
           }
          ],
          "scatterpolar": [
           {
            "marker": {
             "colorbar": {
              "outlinewidth": 0,
              "ticks": ""
             }
            },
            "type": "scatterpolar"
           }
          ],
          "scatterpolargl": [
           {
            "marker": {
             "colorbar": {
              "outlinewidth": 0,
              "ticks": ""
             }
            },
            "type": "scatterpolargl"
           }
          ],
          "scatterternary": [
           {
            "marker": {
             "colorbar": {
              "outlinewidth": 0,
              "ticks": ""
             }
            },
            "type": "scatterternary"
           }
          ],
          "surface": [
           {
            "colorbar": {
             "outlinewidth": 0,
             "ticks": ""
            },
            "colorscale": [
             [
              0,
              "#0d0887"
             ],
             [
              0.1111111111111111,
              "#46039f"
             ],
             [
              0.2222222222222222,
              "#7201a8"
             ],
             [
              0.3333333333333333,
              "#9c179e"
             ],
             [
              0.4444444444444444,
              "#bd3786"
             ],
             [
              0.5555555555555556,
              "#d8576b"
             ],
             [
              0.6666666666666666,
              "#ed7953"
             ],
             [
              0.7777777777777778,
              "#fb9f3a"
             ],
             [
              0.8888888888888888,
              "#fdca26"
             ],
             [
              1,
              "#f0f921"
             ]
            ],
            "type": "surface"
           }
          ],
          "table": [
           {
            "cells": {
             "fill": {
              "color": "#EBF0F8"
             },
             "line": {
              "color": "white"
             }
            },
            "header": {
             "fill": {
              "color": "#C8D4E3"
             },
             "line": {
              "color": "white"
             }
            },
            "type": "table"
           }
          ]
         },
         "layout": {
          "annotationdefaults": {
           "arrowcolor": "#2a3f5f",
           "arrowhead": 0,
           "arrowwidth": 1
          },
          "autotypenumbers": "strict",
          "coloraxis": {
           "colorbar": {
            "outlinewidth": 0,
            "ticks": ""
           }
          },
          "colorscale": {
           "diverging": [
            [
             0,
             "#8e0152"
            ],
            [
             0.1,
             "#c51b7d"
            ],
            [
             0.2,
             "#de77ae"
            ],
            [
             0.3,
             "#f1b6da"
            ],
            [
             0.4,
             "#fde0ef"
            ],
            [
             0.5,
             "#f7f7f7"
            ],
            [
             0.6,
             "#e6f5d0"
            ],
            [
             0.7,
             "#b8e186"
            ],
            [
             0.8,
             "#7fbc41"
            ],
            [
             0.9,
             "#4d9221"
            ],
            [
             1,
             "#276419"
            ]
           ],
           "sequential": [
            [
             0,
             "#0d0887"
            ],
            [
             0.1111111111111111,
             "#46039f"
            ],
            [
             0.2222222222222222,
             "#7201a8"
            ],
            [
             0.3333333333333333,
             "#9c179e"
            ],
            [
             0.4444444444444444,
             "#bd3786"
            ],
            [
             0.5555555555555556,
             "#d8576b"
            ],
            [
             0.6666666666666666,
             "#ed7953"
            ],
            [
             0.7777777777777778,
             "#fb9f3a"
            ],
            [
             0.8888888888888888,
             "#fdca26"
            ],
            [
             1,
             "#f0f921"
            ]
           ],
           "sequentialminus": [
            [
             0,
             "#0d0887"
            ],
            [
             0.1111111111111111,
             "#46039f"
            ],
            [
             0.2222222222222222,
             "#7201a8"
            ],
            [
             0.3333333333333333,
             "#9c179e"
            ],
            [
             0.4444444444444444,
             "#bd3786"
            ],
            [
             0.5555555555555556,
             "#d8576b"
            ],
            [
             0.6666666666666666,
             "#ed7953"
            ],
            [
             0.7777777777777778,
             "#fb9f3a"
            ],
            [
             0.8888888888888888,
             "#fdca26"
            ],
            [
             1,
             "#f0f921"
            ]
           ]
          },
          "colorway": [
           "#636efa",
           "#EF553B",
           "#00cc96",
           "#ab63fa",
           "#FFA15A",
           "#19d3f3",
           "#FF6692",
           "#B6E880",
           "#FF97FF",
           "#FECB52"
          ],
          "font": {
           "color": "#2a3f5f"
          },
          "geo": {
           "bgcolor": "white",
           "lakecolor": "white",
           "landcolor": "#E5ECF6",
           "showlakes": true,
           "showland": true,
           "subunitcolor": "white"
          },
          "hoverlabel": {
           "align": "left"
          },
          "hovermode": "closest",
          "mapbox": {
           "style": "light"
          },
          "paper_bgcolor": "white",
          "plot_bgcolor": "#E5ECF6",
          "polar": {
           "angularaxis": {
            "gridcolor": "white",
            "linecolor": "white",
            "ticks": ""
           },
           "bgcolor": "#E5ECF6",
           "radialaxis": {
            "gridcolor": "white",
            "linecolor": "white",
            "ticks": ""
           }
          },
          "scene": {
           "xaxis": {
            "backgroundcolor": "#E5ECF6",
            "gridcolor": "white",
            "gridwidth": 2,
            "linecolor": "white",
            "showbackground": true,
            "ticks": "",
            "zerolinecolor": "white"
           },
           "yaxis": {
            "backgroundcolor": "#E5ECF6",
            "gridcolor": "white",
            "gridwidth": 2,
            "linecolor": "white",
            "showbackground": true,
            "ticks": "",
            "zerolinecolor": "white"
           },
           "zaxis": {
            "backgroundcolor": "#E5ECF6",
            "gridcolor": "white",
            "gridwidth": 2,
            "linecolor": "white",
            "showbackground": true,
            "ticks": "",
            "zerolinecolor": "white"
           }
          },
          "shapedefaults": {
           "line": {
            "color": "#2a3f5f"
           }
          },
          "ternary": {
           "aaxis": {
            "gridcolor": "white",
            "linecolor": "white",
            "ticks": ""
           },
           "baxis": {
            "gridcolor": "white",
            "linecolor": "white",
            "ticks": ""
           },
           "bgcolor": "#E5ECF6",
           "caxis": {
            "gridcolor": "white",
            "linecolor": "white",
            "ticks": ""
           }
          },
          "title": {
           "x": 0.05
          },
          "xaxis": {
           "automargin": true,
           "gridcolor": "white",
           "linecolor": "white",
           "ticks": "",
           "title": {
            "standoff": 15
           },
           "zerolinecolor": "white",
           "zerolinewidth": 2
          },
          "yaxis": {
           "automargin": true,
           "gridcolor": "white",
           "linecolor": "white",
           "ticks": "",
           "title": {
            "standoff": 15
           },
           "zerolinecolor": "white",
           "zerolinewidth": 2
          }
         }
        },
        "title": {
         "text": "Accuracy"
        },
        "xaxis": {
         "anchor": "y",
         "autorange": true,
         "domain": [
          0,
          1
         ],
         "range": [
          1,
          20
         ],
         "title": {
          "text": "epoch"
         },
         "type": "linear"
        },
        "yaxis": {
         "anchor": "x",
         "autorange": true,
         "domain": [
          0,
          1
         ],
         "range": [
          0.5547947926577226,
          0.6119822427849136
         ],
         "title": {
          "text": "value"
         },
         "type": "linear"
        }
       }
      },
      "image/png": "[encoded data removed]",
      "text/html": [
       "<div>                            <div id=\"2a77730b-9e01-4e28-bb44-797013dac558\" class=\"plotly-graph-div\" style=\"height:525px; width:100%;\"></div>            <script type=\"text/javascript\">                require([\"plotly\"], function(Plotly) {                    window.PLOTLYENV=window.PLOTLYENV || {};                                    if (document.getElementById(\"2a77730b-9e01-4e28-bb44-797013dac558\")) {                    Plotly.newPlot(                        \"2a77730b-9e01-4e28-bb44-797013dac558\",                        [{\"hovertemplate\": \"variable=train_accuracy<br>epoch=%{x}<br>value=%{y}<extra></extra>\", \"legendgroup\": \"train_accuracy\", \"line\": {\"color\": \"#636efa\", \"dash\": \"solid\"}, \"mode\": \"lines\", \"name\": \"train_accuracy\", \"orientation\": \"v\", \"showlegend\": true, \"type\": \"scatter\", \"x\": [1, 2, 3, 4, 5, 6, 7, 8, 9, 10, 11, 12, 13, 14, 15, 16, 17, 18, 19, 20], \"xaxis\": \"x\", \"y\": [0.5576541651640822, 0.5595023440317346, 0.5605954742156509, 0.5596488460151461, 0.5588825279480707, 0.5600320050486838, 0.5602799314821493, 0.5586796790479625, 0.5589952217814641, 0.5593783808150018, 0.5599643887486476, 0.5585444464478904, 0.5604377028489002, 0.5595023440317346, 0.5605954742156509, 0.5602348539487919, 0.5600996213487198, 0.5601897764154345, 0.5595361521817526, 0.5600770825820411], \"yaxis\": \"y\"}, {\"hovertemplate\": \"variable=dev_accuracy<br>epoch=%{x}<br>value=%{y}<extra></extra>\", \"legendgroup\": \"dev_accuracy\", \"line\": {\"color\": \"#EF553B\", \"dash\": \"solid\"}, \"mode\": \"lines\", \"name\": \"dev_accuracy\", \"orientation\": \"v\", \"showlegend\": true, \"type\": \"scatter\", \"x\": [1, 2, 3, 4, 5, 6, 7, 8, 9, 10, 11, 12, 13, 14, 15, 16, 17, 18, 19, 20], \"xaxis\": \"x\", \"y\": [0.6075903723068602, 0.6062381682141891, 0.6063283151537006, 0.6053366988190751, 0.6051564049400523, 0.609122870278554, 0.6065086090327233, 0.6047958171820067, 0.603984494726404, 0.6069593437302804, 0.5938880375011268, 0.6072297845488146, 0.6085819886414856, 0.6050662580005409, 0.6054268457585865, 0.6090327233390427, 0.6084016947624629, 0.6047958171820067, 0.6066889029117462, 0.6064184620932119], \"yaxis\": \"y\"}],                        {\"legend\": {\"title\": {\"text\": \"variable\"}, \"tracegroupgap\": 0}, \"template\": {\"data\": {\"bar\": [{\"error_x\": {\"color\": \"#2a3f5f\"}, \"error_y\": {\"color\": \"#2a3f5f\"}, \"marker\": {\"line\": {\"color\": \"#E5ECF6\", \"width\": 0.5}}, \"type\": \"bar\"}], \"barpolar\": [{\"marker\": {\"line\": {\"color\": \"#E5ECF6\", \"width\": 0.5}}, \"type\": \"barpolar\"}], \"carpet\": [{\"aaxis\": {\"endlinecolor\": \"#2a3f5f\", \"gridcolor\": \"white\", \"linecolor\": \"white\", \"minorgridcolor\": \"white\", \"startlinecolor\": \"#2a3f5f\"}, \"baxis\": {\"endlinecolor\": \"#2a3f5f\", \"gridcolor\": \"white\", \"linecolor\": \"white\", \"minorgridcolor\": \"white\", \"startlinecolor\": \"#2a3f5f\"}, \"type\": \"carpet\"}], \"choropleth\": [{\"colorbar\": {\"outlinewidth\": 0, \"ticks\": \"\"}, \"type\": \"choropleth\"}], \"contour\": [{\"colorbar\": {\"outlinewidth\": 0, \"ticks\": \"\"}, \"colorscale\": [[0.0, \"#0d0887\"], [0.1111111111111111, \"#46039f\"], [0.2222222222222222, \"#7201a8\"], [0.3333333333333333, \"#9c179e\"], [0.4444444444444444, \"#bd3786\"], [0.5555555555555556, \"#d8576b\"], [0.6666666666666666, \"#ed7953\"], [0.7777777777777778, \"#fb9f3a\"], [0.8888888888888888, \"#fdca26\"], [1.0, \"#f0f921\"]], \"type\": \"contour\"}], \"contourcarpet\": [{\"colorbar\": {\"outlinewidth\": 0, \"ticks\": \"\"}, \"type\": \"contourcarpet\"}], \"heatmap\": [{\"colorbar\": {\"outlinewidth\": 0, \"ticks\": \"\"}, \"colorscale\": [[0.0, \"#0d0887\"], [0.1111111111111111, \"#46039f\"], [0.2222222222222222, \"#7201a8\"], [0.3333333333333333, \"#9c179e\"], [0.4444444444444444, \"#bd3786\"], [0.5555555555555556, \"#d8576b\"], [0.6666666666666666, \"#ed7953\"], [0.7777777777777778, \"#fb9f3a\"], [0.8888888888888888, \"#fdca26\"], [1.0, \"#f0f921\"]], \"type\": \"heatmap\"}], \"heatmapgl\": [{\"colorbar\": {\"outlinewidth\": 0, \"ticks\": \"\"}, \"colorscale\": [[0.0, \"#0d0887\"], [0.1111111111111111, \"#46039f\"], [0.2222222222222222, \"#7201a8\"], [0.3333333333333333, \"#9c179e\"], [0.4444444444444444, \"#bd3786\"], [0.5555555555555556, \"#d8576b\"], [0.6666666666666666, \"#ed7953\"], [0.7777777777777778, \"#fb9f3a\"], [0.8888888888888888, \"#fdca26\"], [1.0, \"#f0f921\"]], \"type\": \"heatmapgl\"}], \"histogram\": [{\"marker\": {\"colorbar\": {\"outlinewidth\": 0, \"ticks\": \"\"}}, \"type\": \"histogram\"}], \"histogram2d\": [{\"colorbar\": {\"outlinewidth\": 0, \"ticks\": \"\"}, \"colorscale\": [[0.0, \"#0d0887\"], [0.1111111111111111, \"#46039f\"], [0.2222222222222222, \"#7201a8\"], [0.3333333333333333, \"#9c179e\"], [0.4444444444444444, \"#bd3786\"], [0.5555555555555556, \"#d8576b\"], [0.6666666666666666, \"#ed7953\"], [0.7777777777777778, \"#fb9f3a\"], [0.8888888888888888, \"#fdca26\"], [1.0, \"#f0f921\"]], \"type\": \"histogram2d\"}], \"histogram2dcontour\": [{\"colorbar\": {\"outlinewidth\": 0, \"ticks\": \"\"}, \"colorscale\": [[0.0, \"#0d0887\"], [0.1111111111111111, \"#46039f\"], [0.2222222222222222, \"#7201a8\"], [0.3333333333333333, \"#9c179e\"], [0.4444444444444444, \"#bd3786\"], [0.5555555555555556, \"#d8576b\"], [0.6666666666666666, \"#ed7953\"], [0.7777777777777778, \"#fb9f3a\"], [0.8888888888888888, \"#fdca26\"], [1.0, \"#f0f921\"]], \"type\": \"histogram2dcontour\"}], \"mesh3d\": [{\"colorbar\": {\"outlinewidth\": 0, \"ticks\": \"\"}, \"type\": \"mesh3d\"}], \"parcoords\": [{\"line\": {\"colorbar\": {\"outlinewidth\": 0, \"ticks\": \"\"}}, \"type\": \"parcoords\"}], \"pie\": [{\"automargin\": true, \"type\": \"pie\"}], \"scatter\": [{\"marker\": {\"colorbar\": {\"outlinewidth\": 0, \"ticks\": \"\"}}, \"type\": \"scatter\"}], \"scatter3d\": [{\"line\": {\"colorbar\": {\"outlinewidth\": 0, \"ticks\": \"\"}}, \"marker\": {\"colorbar\": {\"outlinewidth\": 0, \"ticks\": \"\"}}, \"type\": \"scatter3d\"}], \"scattercarpet\": [{\"marker\": {\"colorbar\": {\"outlinewidth\": 0, \"ticks\": \"\"}}, \"type\": \"scattercarpet\"}], \"scattergeo\": [{\"marker\": {\"colorbar\": {\"outlinewidth\": 0, \"ticks\": \"\"}}, \"type\": \"scattergeo\"}], \"scattergl\": [{\"marker\": {\"colorbar\": {\"outlinewidth\": 0, \"ticks\": \"\"}}, \"type\": \"scattergl\"}], \"scattermapbox\": [{\"marker\": {\"colorbar\": {\"outlinewidth\": 0, \"ticks\": \"\"}}, \"type\": \"scattermapbox\"}], \"scatterpolar\": [{\"marker\": {\"colorbar\": {\"outlinewidth\": 0, \"ticks\": \"\"}}, \"type\": \"scatterpolar\"}], \"scatterpolargl\": [{\"marker\": {\"colorbar\": {\"outlinewidth\": 0, \"ticks\": \"\"}}, \"type\": \"scatterpolargl\"}], \"scatterternary\": [{\"marker\": {\"colorbar\": {\"outlinewidth\": 0, \"ticks\": \"\"}}, \"type\": \"scatterternary\"}], \"surface\": [{\"colorbar\": {\"outlinewidth\": 0, \"ticks\": \"\"}, \"colorscale\": [[0.0, \"#0d0887\"], [0.1111111111111111, \"#46039f\"], [0.2222222222222222, \"#7201a8\"], [0.3333333333333333, \"#9c179e\"], [0.4444444444444444, \"#bd3786\"], [0.5555555555555556, \"#d8576b\"], [0.6666666666666666, \"#ed7953\"], [0.7777777777777778, \"#fb9f3a\"], [0.8888888888888888, \"#fdca26\"], [1.0, \"#f0f921\"]], \"type\": \"surface\"}], \"table\": [{\"cells\": {\"fill\": {\"color\": \"#EBF0F8\"}, \"line\": {\"color\": \"white\"}}, \"header\": {\"fill\": {\"color\": \"#C8D4E3\"}, \"line\": {\"color\": \"white\"}}, \"type\": \"table\"}]}, \"layout\": {\"annotationdefaults\": {\"arrowcolor\": \"#2a3f5f\", \"arrowhead\": 0, \"arrowwidth\": 1}, \"autotypenumbers\": \"strict\", \"coloraxis\": {\"colorbar\": {\"outlinewidth\": 0, \"ticks\": \"\"}}, \"colorscale\": {\"diverging\": [[0, \"#8e0152\"], [0.1, \"#c51b7d\"], [0.2, \"#de77ae\"], [0.3, \"#f1b6da\"], [0.4, \"#fde0ef\"], [0.5, \"#f7f7f7\"], [0.6, \"#e6f5d0\"], [0.7, \"#b8e186\"], [0.8, \"#7fbc41\"], [0.9, \"#4d9221\"], [1, \"#276419\"]], \"sequential\": [[0.0, \"#0d0887\"], [0.1111111111111111, \"#46039f\"], [0.2222222222222222, \"#7201a8\"], [0.3333333333333333, \"#9c179e\"], [0.4444444444444444, \"#bd3786\"], [0.5555555555555556, \"#d8576b\"], [0.6666666666666666, \"#ed7953\"], [0.7777777777777778, \"#fb9f3a\"], [0.8888888888888888, \"#fdca26\"], [1.0, \"#f0f921\"]], \"sequentialminus\": [[0.0, \"#0d0887\"], [0.1111111111111111, \"#46039f\"], [0.2222222222222222, \"#7201a8\"], [0.3333333333333333, \"#9c179e\"], [0.4444444444444444, \"#bd3786\"], [0.5555555555555556, \"#d8576b\"], [0.6666666666666666, \"#ed7953\"], [0.7777777777777778, \"#fb9f3a\"], [0.8888888888888888, \"#fdca26\"], [1.0, \"#f0f921\"]]}, \"colorway\": [\"#636efa\", \"#EF553B\", \"#00cc96\", \"#ab63fa\", \"#FFA15A\", \"#19d3f3\", \"#FF6692\", \"#B6E880\", \"#FF97FF\", \"#FECB52\"], \"font\": {\"color\": \"#2a3f5f\"}, \"geo\": {\"bgcolor\": \"white\", \"lakecolor\": \"white\", \"landcolor\": \"#E5ECF6\", \"showlakes\": true, \"showland\": true, \"subunitcolor\": \"white\"}, \"hoverlabel\": {\"align\": \"left\"}, \"hovermode\": \"closest\", \"mapbox\": {\"style\": \"light\"}, \"paper_bgcolor\": \"white\", \"plot_bgcolor\": \"#E5ECF6\", \"polar\": {\"angularaxis\": {\"gridcolor\": \"white\", \"linecolor\": \"white\", \"ticks\": \"\"}, \"bgcolor\": \"#E5ECF6\", \"radialaxis\": {\"gridcolor\": \"white\", \"linecolor\": \"white\", \"ticks\": \"\"}}, \"scene\": {\"xaxis\": {\"backgroundcolor\": \"#E5ECF6\", \"gridcolor\": \"white\", \"gridwidth\": 2, \"linecolor\": \"white\", \"showbackground\": true, \"ticks\": \"\", \"zerolinecolor\": \"white\"}, \"yaxis\": {\"backgroundcolor\": \"#E5ECF6\", \"gridcolor\": \"white\", \"gridwidth\": 2, \"linecolor\": \"white\", \"showbackground\": true, \"ticks\": \"\", \"zerolinecolor\": \"white\"}, \"zaxis\": {\"backgroundcolor\": \"#E5ECF6\", \"gridcolor\": \"white\", \"gridwidth\": 2, \"linecolor\": \"white\", \"showbackground\": true, \"ticks\": \"\", \"zerolinecolor\": \"white\"}}, \"shapedefaults\": {\"line\": {\"color\": \"#2a3f5f\"}}, \"ternary\": {\"aaxis\": {\"gridcolor\": \"white\", \"linecolor\": \"white\", \"ticks\": \"\"}, \"baxis\": {\"gridcolor\": \"white\", \"linecolor\": \"white\", \"ticks\": \"\"}, \"bgcolor\": \"#E5ECF6\", \"caxis\": {\"gridcolor\": \"white\", \"linecolor\": \"white\", \"ticks\": \"\"}}, \"title\": {\"x\": 0.05}, \"xaxis\": {\"automargin\": true, \"gridcolor\": \"white\", \"linecolor\": \"white\", \"ticks\": \"\", \"title\": {\"standoff\": 15}, \"zerolinecolor\": \"white\", \"zerolinewidth\": 2}, \"yaxis\": {\"automargin\": true, \"gridcolor\": \"white\", \"linecolor\": \"white\", \"ticks\": \"\", \"title\": {\"standoff\": 15}, \"zerolinecolor\": \"white\", \"zerolinewidth\": 2}}}, \"title\": {\"text\": \"Accuracy\"}, \"xaxis\": {\"anchor\": \"y\", \"domain\": [0.0, 1.0], \"title\": {\"text\": \"epoch\"}}, \"yaxis\": {\"anchor\": \"x\", \"domain\": [0.0, 1.0], \"title\": {\"text\": \"value\"}}},                        {\"responsive\": true}                    ).then(function(){\n",
       "                            \n",
       "var gd = document.getElementById('2a77730b-9e01-4e28-bb44-797013dac558');\n",
       "var x = new MutationObserver(function (mutations, observer) {{\n",
       "        var display = window.getComputedStyle(gd).display;\n",
       "        if (!display || display === 'none') {{\n",
       "            console.log([gd, 'removed!']);\n",
       "            Plotly.purge(gd);\n",
       "            observer.disconnect();\n",
       "        }}\n",
       "}});\n",
       "\n",
       "// Listen for the removal of the full notebook cells\n",
       "var notebookContainer = gd.closest('#notebook-container');\n",
       "if (notebookContainer) {{\n",
       "    x.observe(notebookContainer, {childList: true});\n",
       "}}\n",
       "\n",
       "// Listen for the clearing of the current output cell\n",
       "var outputEl = gd.closest('.output');\n",
       "if (outputEl) {{\n",
       "    x.observe(outputEl, {childList: true});\n",
       "}}\n",
       "\n",
       "                        })                };                });            </script>        </div>"
      ]
     },
     "metadata": {},
     "output_type": "display_data"
    },
    {
     "name": "stdout",
     "output_type": "stream",
     "text": [
      "cnnmodel2021-03-29_16-50.csv: 20\n"
     ]
    },
    {
     "data": {
      "application/vnd.plotly.v1+json": {
       "config": {
        "plotlyServerURL": "https://plot.ly"
       },
       "data": [
        {
         "hovertemplate": "epoch=%{x}<br>loss=%{y}<extra></extra>",
         "legendgroup": "",
         "line": {
          "color": "#636efa",
          "dash": "solid"
         },
         "mode": "lines",
         "name": "",
         "orientation": "v",
         "showlegend": false,
         "type": "scatter",
         "x": [
          1,
          2,
          3,
          4,
          5,
          6,
          7,
          8,
          9,
          10,
          11,
          12,
          13,
          14,
          15,
          16,
          17,
          18,
          19,
          20
         ],
         "xaxis": "x",
         "y": [
          0.661737322807312,
          0.663824200630188,
          0.6569623351097107,
          0.6611592173576355,
          0.6636618971824646,
          0.6618013381958008,
          0.6561276912689209,
          0.6519978046417236,
          0.6581853628158569,
          0.6550273895263672,
          0.657939076423645,
          0.6610629558563232,
          0.6587766408920288,
          0.6618109941482544,
          0.6611303091049194,
          0.6584792137145996,
          0.6575967073440552,
          0.6620693802833557,
          0.6569387912750244,
          0.6538141965866089
         ],
         "yaxis": "y"
        }
       ],
       "layout": {
        "autosize": true,
        "legend": {
         "tracegroupgap": 0
        },
        "template": {
         "data": {
          "bar": [
           {
            "error_x": {
             "color": "#2a3f5f"
            },
            "error_y": {
             "color": "#2a3f5f"
            },
            "marker": {
             "line": {
              "color": "#E5ECF6",
              "width": 0.5
             }
            },
            "type": "bar"
           }
          ],
          "barpolar": [
           {
            "marker": {
             "line": {
              "color": "#E5ECF6",
              "width": 0.5
             }
            },
            "type": "barpolar"
           }
          ],
          "carpet": [
           {
            "aaxis": {
             "endlinecolor": "#2a3f5f",
             "gridcolor": "white",
             "linecolor": "white",
             "minorgridcolor": "white",
             "startlinecolor": "#2a3f5f"
            },
            "baxis": {
             "endlinecolor": "#2a3f5f",
             "gridcolor": "white",
             "linecolor": "white",
             "minorgridcolor": "white",
             "startlinecolor": "#2a3f5f"
            },
            "type": "carpet"
           }
          ],
          "choropleth": [
           {
            "colorbar": {
             "outlinewidth": 0,
             "ticks": ""
            },
            "type": "choropleth"
           }
          ],
          "contour": [
           {
            "colorbar": {
             "outlinewidth": 0,
             "ticks": ""
            },
            "colorscale": [
             [
              0,
              "#0d0887"
             ],
             [
              0.1111111111111111,
              "#46039f"
             ],
             [
              0.2222222222222222,
              "#7201a8"
             ],
             [
              0.3333333333333333,
              "#9c179e"
             ],
             [
              0.4444444444444444,
              "#bd3786"
             ],
             [
              0.5555555555555556,
              "#d8576b"
             ],
             [
              0.6666666666666666,
              "#ed7953"
             ],
             [
              0.7777777777777778,
              "#fb9f3a"
             ],
             [
              0.8888888888888888,
              "#fdca26"
             ],
             [
              1,
              "#f0f921"
             ]
            ],
            "type": "contour"
           }
          ],
          "contourcarpet": [
           {
            "colorbar": {
             "outlinewidth": 0,
             "ticks": ""
            },
            "type": "contourcarpet"
           }
          ],
          "heatmap": [
           {
            "colorbar": {
             "outlinewidth": 0,
             "ticks": ""
            },
            "colorscale": [
             [
              0,
              "#0d0887"
             ],
             [
              0.1111111111111111,
              "#46039f"
             ],
             [
              0.2222222222222222,
              "#7201a8"
             ],
             [
              0.3333333333333333,
              "#9c179e"
             ],
             [
              0.4444444444444444,
              "#bd3786"
             ],
             [
              0.5555555555555556,
              "#d8576b"
             ],
             [
              0.6666666666666666,
              "#ed7953"
             ],
             [
              0.7777777777777778,
              "#fb9f3a"
             ],
             [
              0.8888888888888888,
              "#fdca26"
             ],
             [
              1,
              "#f0f921"
             ]
            ],
            "type": "heatmap"
           }
          ],
          "heatmapgl": [
           {
            "colorbar": {
             "outlinewidth": 0,
             "ticks": ""
            },
            "colorscale": [
             [
              0,
              "#0d0887"
             ],
             [
              0.1111111111111111,
              "#46039f"
             ],
             [
              0.2222222222222222,
              "#7201a8"
             ],
             [
              0.3333333333333333,
              "#9c179e"
             ],
             [
              0.4444444444444444,
              "#bd3786"
             ],
             [
              0.5555555555555556,
              "#d8576b"
             ],
             [
              0.6666666666666666,
              "#ed7953"
             ],
             [
              0.7777777777777778,
              "#fb9f3a"
             ],
             [
              0.8888888888888888,
              "#fdca26"
             ],
             [
              1,
              "#f0f921"
             ]
            ],
            "type": "heatmapgl"
           }
          ],
          "histogram": [
           {
            "marker": {
             "colorbar": {
              "outlinewidth": 0,
              "ticks": ""
             }
            },
            "type": "histogram"
           }
          ],
          "histogram2d": [
           {
            "colorbar": {
             "outlinewidth": 0,
             "ticks": ""
            },
            "colorscale": [
             [
              0,
              "#0d0887"
             ],
             [
              0.1111111111111111,
              "#46039f"
             ],
             [
              0.2222222222222222,
              "#7201a8"
             ],
             [
              0.3333333333333333,
              "#9c179e"
             ],
             [
              0.4444444444444444,
              "#bd3786"
             ],
             [
              0.5555555555555556,
              "#d8576b"
             ],
             [
              0.6666666666666666,
              "#ed7953"
             ],
             [
              0.7777777777777778,
              "#fb9f3a"
             ],
             [
              0.8888888888888888,
              "#fdca26"
             ],
             [
              1,
              "#f0f921"
             ]
            ],
            "type": "histogram2d"
           }
          ],
          "histogram2dcontour": [
           {
            "colorbar": {
             "outlinewidth": 0,
             "ticks": ""
            },
            "colorscale": [
             [
              0,
              "#0d0887"
             ],
             [
              0.1111111111111111,
              "#46039f"
             ],
             [
              0.2222222222222222,
              "#7201a8"
             ],
             [
              0.3333333333333333,
              "#9c179e"
             ],
             [
              0.4444444444444444,
              "#bd3786"
             ],
             [
              0.5555555555555556,
              "#d8576b"
             ],
             [
              0.6666666666666666,
              "#ed7953"
             ],
             [
              0.7777777777777778,
              "#fb9f3a"
             ],
             [
              0.8888888888888888,
              "#fdca26"
             ],
             [
              1,
              "#f0f921"
             ]
            ],
            "type": "histogram2dcontour"
           }
          ],
          "mesh3d": [
           {
            "colorbar": {
             "outlinewidth": 0,
             "ticks": ""
            },
            "type": "mesh3d"
           }
          ],
          "parcoords": [
           {
            "line": {
             "colorbar": {
              "outlinewidth": 0,
              "ticks": ""
             }
            },
            "type": "parcoords"
           }
          ],
          "pie": [
           {
            "automargin": true,
            "type": "pie"
           }
          ],
          "scatter": [
           {
            "marker": {
             "colorbar": {
              "outlinewidth": 0,
              "ticks": ""
             }
            },
            "type": "scatter"
           }
          ],
          "scatter3d": [
           {
            "line": {
             "colorbar": {
              "outlinewidth": 0,
              "ticks": ""
             }
            },
            "marker": {
             "colorbar": {
              "outlinewidth": 0,
              "ticks": ""
             }
            },
            "type": "scatter3d"
           }
          ],
          "scattercarpet": [
           {
            "marker": {
             "colorbar": {
              "outlinewidth": 0,
              "ticks": ""
             }
            },
            "type": "scattercarpet"
           }
          ],
          "scattergeo": [
           {
            "marker": {
             "colorbar": {
              "outlinewidth": 0,
              "ticks": ""
             }
            },
            "type": "scattergeo"
           }
          ],
          "scattergl": [
           {
            "marker": {
             "colorbar": {
              "outlinewidth": 0,
              "ticks": ""
             }
            },
            "type": "scattergl"
           }
          ],
          "scattermapbox": [
           {
            "marker": {
             "colorbar": {
              "outlinewidth": 0,
              "ticks": ""
             }
            },
            "type": "scattermapbox"
           }
          ],
          "scatterpolar": [
           {
            "marker": {
             "colorbar": {
              "outlinewidth": 0,
              "ticks": ""
             }
            },
            "type": "scatterpolar"
           }
          ],
          "scatterpolargl": [
           {
            "marker": {
             "colorbar": {
              "outlinewidth": 0,
              "ticks": ""
             }
            },
            "type": "scatterpolargl"
           }
          ],
          "scatterternary": [
           {
            "marker": {
             "colorbar": {
              "outlinewidth": 0,
              "ticks": ""
             }
            },
            "type": "scatterternary"
           }
          ],
          "surface": [
           {
            "colorbar": {
             "outlinewidth": 0,
             "ticks": ""
            },
            "colorscale": [
             [
              0,
              "#0d0887"
             ],
             [
              0.1111111111111111,
              "#46039f"
             ],
             [
              0.2222222222222222,
              "#7201a8"
             ],
             [
              0.3333333333333333,
              "#9c179e"
             ],
             [
              0.4444444444444444,
              "#bd3786"
             ],
             [
              0.5555555555555556,
              "#d8576b"
             ],
             [
              0.6666666666666666,
              "#ed7953"
             ],
             [
              0.7777777777777778,
              "#fb9f3a"
             ],
             [
              0.8888888888888888,
              "#fdca26"
             ],
             [
              1,
              "#f0f921"
             ]
            ],
            "type": "surface"
           }
          ],
          "table": [
           {
            "cells": {
             "fill": {
              "color": "#EBF0F8"
             },
             "line": {
              "color": "white"
             }
            },
            "header": {
             "fill": {
              "color": "#C8D4E3"
             },
             "line": {
              "color": "white"
             }
            },
            "type": "table"
           }
          ]
         },
         "layout": {
          "annotationdefaults": {
           "arrowcolor": "#2a3f5f",
           "arrowhead": 0,
           "arrowwidth": 1
          },
          "autotypenumbers": "strict",
          "coloraxis": {
           "colorbar": {
            "outlinewidth": 0,
            "ticks": ""
           }
          },
          "colorscale": {
           "diverging": [
            [
             0,
             "#8e0152"
            ],
            [
             0.1,
             "#c51b7d"
            ],
            [
             0.2,
             "#de77ae"
            ],
            [
             0.3,
             "#f1b6da"
            ],
            [
             0.4,
             "#fde0ef"
            ],
            [
             0.5,
             "#f7f7f7"
            ],
            [
             0.6,
             "#e6f5d0"
            ],
            [
             0.7,
             "#b8e186"
            ],
            [
             0.8,
             "#7fbc41"
            ],
            [
             0.9,
             "#4d9221"
            ],
            [
             1,
             "#276419"
            ]
           ],
           "sequential": [
            [
             0,
             "#0d0887"
            ],
            [
             0.1111111111111111,
             "#46039f"
            ],
            [
             0.2222222222222222,
             "#7201a8"
            ],
            [
             0.3333333333333333,
             "#9c179e"
            ],
            [
             0.4444444444444444,
             "#bd3786"
            ],
            [
             0.5555555555555556,
             "#d8576b"
            ],
            [
             0.6666666666666666,
             "#ed7953"
            ],
            [
             0.7777777777777778,
             "#fb9f3a"
            ],
            [
             0.8888888888888888,
             "#fdca26"
            ],
            [
             1,
             "#f0f921"
            ]
           ],
           "sequentialminus": [
            [
             0,
             "#0d0887"
            ],
            [
             0.1111111111111111,
             "#46039f"
            ],
            [
             0.2222222222222222,
             "#7201a8"
            ],
            [
             0.3333333333333333,
             "#9c179e"
            ],
            [
             0.4444444444444444,
             "#bd3786"
            ],
            [
             0.5555555555555556,
             "#d8576b"
            ],
            [
             0.6666666666666666,
             "#ed7953"
            ],
            [
             0.7777777777777778,
             "#fb9f3a"
            ],
            [
             0.8888888888888888,
             "#fdca26"
            ],
            [
             1,
             "#f0f921"
            ]
           ]
          },
          "colorway": [
           "#636efa",
           "#EF553B",
           "#00cc96",
           "#ab63fa",
           "#FFA15A",
           "#19d3f3",
           "#FF6692",
           "#B6E880",
           "#FF97FF",
           "#FECB52"
          ],
          "font": {
           "color": "#2a3f5f"
          },
          "geo": {
           "bgcolor": "white",
           "lakecolor": "white",
           "landcolor": "#E5ECF6",
           "showlakes": true,
           "showland": true,
           "subunitcolor": "white"
          },
          "hoverlabel": {
           "align": "left"
          },
          "hovermode": "closest",
          "mapbox": {
           "style": "light"
          },
          "paper_bgcolor": "white",
          "plot_bgcolor": "#E5ECF6",
          "polar": {
           "angularaxis": {
            "gridcolor": "white",
            "linecolor": "white",
            "ticks": ""
           },
           "bgcolor": "#E5ECF6",
           "radialaxis": {
            "gridcolor": "white",
            "linecolor": "white",
            "ticks": ""
           }
          },
          "scene": {
           "xaxis": {
            "backgroundcolor": "#E5ECF6",
            "gridcolor": "white",
            "gridwidth": 2,
            "linecolor": "white",
            "showbackground": true,
            "ticks": "",
            "zerolinecolor": "white"
           },
           "yaxis": {
            "backgroundcolor": "#E5ECF6",
            "gridcolor": "white",
            "gridwidth": 2,
            "linecolor": "white",
            "showbackground": true,
            "ticks": "",
            "zerolinecolor": "white"
           },
           "zaxis": {
            "backgroundcolor": "#E5ECF6",
            "gridcolor": "white",
            "gridwidth": 2,
            "linecolor": "white",
            "showbackground": true,
            "ticks": "",
            "zerolinecolor": "white"
           }
          },
          "shapedefaults": {
           "line": {
            "color": "#2a3f5f"
           }
          },
          "ternary": {
           "aaxis": {
            "gridcolor": "white",
            "linecolor": "white",
            "ticks": ""
           },
           "baxis": {
            "gridcolor": "white",
            "linecolor": "white",
            "ticks": ""
           },
           "bgcolor": "#E5ECF6",
           "caxis": {
            "gridcolor": "white",
            "linecolor": "white",
            "ticks": ""
           }
          },
          "title": {
           "x": 0.05
          },
          "xaxis": {
           "automargin": true,
           "gridcolor": "white",
           "linecolor": "white",
           "ticks": "",
           "title": {
            "standoff": 15
           },
           "zerolinecolor": "white",
           "zerolinewidth": 2
          },
          "yaxis": {
           "automargin": true,
           "gridcolor": "white",
           "linecolor": "white",
           "ticks": "",
           "title": {
            "standoff": 15
           },
           "zerolinecolor": "white",
           "zerolinewidth": 2
          }
         }
        },
        "title": {
         "text": "Loss"
        },
        "xaxis": {
         "anchor": "y",
         "autorange": true,
         "domain": [
          0,
          1
         ],
         "range": [
          1,
          20
         ],
         "title": {
          "text": "epoch"
         },
         "type": "linear"
        },
        "yaxis": {
         "anchor": "x",
         "autorange": true,
         "domain": [
          0,
          1
         ],
         "range": [
          0.6513407826423645,
          0.6644812226295471
         ],
         "title": {
          "text": "loss"
         },
         "type": "linear"
        }
       }
      },
      "image/png": "[encoded data removed]",
      "text/html": [
       "<div>                            <div id=\"a81ab775-1b6c-4228-80d8-2d30665dc201\" class=\"plotly-graph-div\" style=\"height:525px; width:100%;\"></div>            <script type=\"text/javascript\">                require([\"plotly\"], function(Plotly) {                    window.PLOTLYENV=window.PLOTLYENV || {};                                    if (document.getElementById(\"a81ab775-1b6c-4228-80d8-2d30665dc201\")) {                    Plotly.newPlot(                        \"a81ab775-1b6c-4228-80d8-2d30665dc201\",                        [{\"hovertemplate\": \"epoch=%{x}<br>loss=%{y}<extra></extra>\", \"legendgroup\": \"\", \"line\": {\"color\": \"#636efa\", \"dash\": \"solid\"}, \"mode\": \"lines\", \"name\": \"\", \"orientation\": \"v\", \"showlegend\": false, \"type\": \"scatter\", \"x\": [1, 2, 3, 4, 5, 6, 7, 8, 9, 10, 11, 12, 13, 14, 15, 16, 17, 18, 19, 20], \"xaxis\": \"x\", \"y\": [0.661737322807312, 0.663824200630188, 0.6569623351097107, 0.6611592173576355, 0.6636618971824646, 0.6618013381958008, 0.6561276912689209, 0.6519978046417236, 0.6581853628158569, 0.6550273895263672, 0.657939076423645, 0.6610629558563232, 0.6587766408920288, 0.6618109941482544, 0.6611303091049194, 0.6584792137145996, 0.6575967073440552, 0.6620693802833557, 0.6569387912750244, 0.6538141965866089], \"yaxis\": \"y\"}],                        {\"legend\": {\"tracegroupgap\": 0}, \"template\": {\"data\": {\"bar\": [{\"error_x\": {\"color\": \"#2a3f5f\"}, \"error_y\": {\"color\": \"#2a3f5f\"}, \"marker\": {\"line\": {\"color\": \"#E5ECF6\", \"width\": 0.5}}, \"type\": \"bar\"}], \"barpolar\": [{\"marker\": {\"line\": {\"color\": \"#E5ECF6\", \"width\": 0.5}}, \"type\": \"barpolar\"}], \"carpet\": [{\"aaxis\": {\"endlinecolor\": \"#2a3f5f\", \"gridcolor\": \"white\", \"linecolor\": \"white\", \"minorgridcolor\": \"white\", \"startlinecolor\": \"#2a3f5f\"}, \"baxis\": {\"endlinecolor\": \"#2a3f5f\", \"gridcolor\": \"white\", \"linecolor\": \"white\", \"minorgridcolor\": \"white\", \"startlinecolor\": \"#2a3f5f\"}, \"type\": \"carpet\"}], \"choropleth\": [{\"colorbar\": {\"outlinewidth\": 0, \"ticks\": \"\"}, \"type\": \"choropleth\"}], \"contour\": [{\"colorbar\": {\"outlinewidth\": 0, \"ticks\": \"\"}, \"colorscale\": [[0.0, \"#0d0887\"], [0.1111111111111111, \"#46039f\"], [0.2222222222222222, \"#7201a8\"], [0.3333333333333333, \"#9c179e\"], [0.4444444444444444, \"#bd3786\"], [0.5555555555555556, \"#d8576b\"], [0.6666666666666666, \"#ed7953\"], [0.7777777777777778, \"#fb9f3a\"], [0.8888888888888888, \"#fdca26\"], [1.0, \"#f0f921\"]], \"type\": \"contour\"}], \"contourcarpet\": [{\"colorbar\": {\"outlinewidth\": 0, \"ticks\": \"\"}, \"type\": \"contourcarpet\"}], \"heatmap\": [{\"colorbar\": {\"outlinewidth\": 0, \"ticks\": \"\"}, \"colorscale\": [[0.0, \"#0d0887\"], [0.1111111111111111, \"#46039f\"], [0.2222222222222222, \"#7201a8\"], [0.3333333333333333, \"#9c179e\"], [0.4444444444444444, \"#bd3786\"], [0.5555555555555556, \"#d8576b\"], [0.6666666666666666, \"#ed7953\"], [0.7777777777777778, \"#fb9f3a\"], [0.8888888888888888, \"#fdca26\"], [1.0, \"#f0f921\"]], \"type\": \"heatmap\"}], \"heatmapgl\": [{\"colorbar\": {\"outlinewidth\": 0, \"ticks\": \"\"}, \"colorscale\": [[0.0, \"#0d0887\"], [0.1111111111111111, \"#46039f\"], [0.2222222222222222, \"#7201a8\"], [0.3333333333333333, \"#9c179e\"], [0.4444444444444444, \"#bd3786\"], [0.5555555555555556, \"#d8576b\"], [0.6666666666666666, \"#ed7953\"], [0.7777777777777778, \"#fb9f3a\"], [0.8888888888888888, \"#fdca26\"], [1.0, \"#f0f921\"]], \"type\": \"heatmapgl\"}], \"histogram\": [{\"marker\": {\"colorbar\": {\"outlinewidth\": 0, \"ticks\": \"\"}}, \"type\": \"histogram\"}], \"histogram2d\": [{\"colorbar\": {\"outlinewidth\": 0, \"ticks\": \"\"}, \"colorscale\": [[0.0, \"#0d0887\"], [0.1111111111111111, \"#46039f\"], [0.2222222222222222, \"#7201a8\"], [0.3333333333333333, \"#9c179e\"], [0.4444444444444444, \"#bd3786\"], [0.5555555555555556, \"#d8576b\"], [0.6666666666666666, \"#ed7953\"], [0.7777777777777778, \"#fb9f3a\"], [0.8888888888888888, \"#fdca26\"], [1.0, \"#f0f921\"]], \"type\": \"histogram2d\"}], \"histogram2dcontour\": [{\"colorbar\": {\"outlinewidth\": 0, \"ticks\": \"\"}, \"colorscale\": [[0.0, \"#0d0887\"], [0.1111111111111111, \"#46039f\"], [0.2222222222222222, \"#7201a8\"], [0.3333333333333333, \"#9c179e\"], [0.4444444444444444, \"#bd3786\"], [0.5555555555555556, \"#d8576b\"], [0.6666666666666666, \"#ed7953\"], [0.7777777777777778, \"#fb9f3a\"], [0.8888888888888888, \"#fdca26\"], [1.0, \"#f0f921\"]], \"type\": \"histogram2dcontour\"}], \"mesh3d\": [{\"colorbar\": {\"outlinewidth\": 0, \"ticks\": \"\"}, \"type\": \"mesh3d\"}], \"parcoords\": [{\"line\": {\"colorbar\": {\"outlinewidth\": 0, \"ticks\": \"\"}}, \"type\": \"parcoords\"}], \"pie\": [{\"automargin\": true, \"type\": \"pie\"}], \"scatter\": [{\"marker\": {\"colorbar\": {\"outlinewidth\": 0, \"ticks\": \"\"}}, \"type\": \"scatter\"}], \"scatter3d\": [{\"line\": {\"colorbar\": {\"outlinewidth\": 0, \"ticks\": \"\"}}, \"marker\": {\"colorbar\": {\"outlinewidth\": 0, \"ticks\": \"\"}}, \"type\": \"scatter3d\"}], \"scattercarpet\": [{\"marker\": {\"colorbar\": {\"outlinewidth\": 0, \"ticks\": \"\"}}, \"type\": \"scattercarpet\"}], \"scattergeo\": [{\"marker\": {\"colorbar\": {\"outlinewidth\": 0, \"ticks\": \"\"}}, \"type\": \"scattergeo\"}], \"scattergl\": [{\"marker\": {\"colorbar\": {\"outlinewidth\": 0, \"ticks\": \"\"}}, \"type\": \"scattergl\"}], \"scattermapbox\": [{\"marker\": {\"colorbar\": {\"outlinewidth\": 0, \"ticks\": \"\"}}, \"type\": \"scattermapbox\"}], \"scatterpolar\": [{\"marker\": {\"colorbar\": {\"outlinewidth\": 0, \"ticks\": \"\"}}, \"type\": \"scatterpolar\"}], \"scatterpolargl\": [{\"marker\": {\"colorbar\": {\"outlinewidth\": 0, \"ticks\": \"\"}}, \"type\": \"scatterpolargl\"}], \"scatterternary\": [{\"marker\": {\"colorbar\": {\"outlinewidth\": 0, \"ticks\": \"\"}}, \"type\": \"scatterternary\"}], \"surface\": [{\"colorbar\": {\"outlinewidth\": 0, \"ticks\": \"\"}, \"colorscale\": [[0.0, \"#0d0887\"], [0.1111111111111111, \"#46039f\"], [0.2222222222222222, \"#7201a8\"], [0.3333333333333333, \"#9c179e\"], [0.4444444444444444, \"#bd3786\"], [0.5555555555555556, \"#d8576b\"], [0.6666666666666666, \"#ed7953\"], [0.7777777777777778, \"#fb9f3a\"], [0.8888888888888888, \"#fdca26\"], [1.0, \"#f0f921\"]], \"type\": \"surface\"}], \"table\": [{\"cells\": {\"fill\": {\"color\": \"#EBF0F8\"}, \"line\": {\"color\": \"white\"}}, \"header\": {\"fill\": {\"color\": \"#C8D4E3\"}, \"line\": {\"color\": \"white\"}}, \"type\": \"table\"}]}, \"layout\": {\"annotationdefaults\": {\"arrowcolor\": \"#2a3f5f\", \"arrowhead\": 0, \"arrowwidth\": 1}, \"autotypenumbers\": \"strict\", \"coloraxis\": {\"colorbar\": {\"outlinewidth\": 0, \"ticks\": \"\"}}, \"colorscale\": {\"diverging\": [[0, \"#8e0152\"], [0.1, \"#c51b7d\"], [0.2, \"#de77ae\"], [0.3, \"#f1b6da\"], [0.4, \"#fde0ef\"], [0.5, \"#f7f7f7\"], [0.6, \"#e6f5d0\"], [0.7, \"#b8e186\"], [0.8, \"#7fbc41\"], [0.9, \"#4d9221\"], [1, \"#276419\"]], \"sequential\": [[0.0, \"#0d0887\"], [0.1111111111111111, \"#46039f\"], [0.2222222222222222, \"#7201a8\"], [0.3333333333333333, \"#9c179e\"], [0.4444444444444444, \"#bd3786\"], [0.5555555555555556, \"#d8576b\"], [0.6666666666666666, \"#ed7953\"], [0.7777777777777778, \"#fb9f3a\"], [0.8888888888888888, \"#fdca26\"], [1.0, \"#f0f921\"]], \"sequentialminus\": [[0.0, \"#0d0887\"], [0.1111111111111111, \"#46039f\"], [0.2222222222222222, \"#7201a8\"], [0.3333333333333333, \"#9c179e\"], [0.4444444444444444, \"#bd3786\"], [0.5555555555555556, \"#d8576b\"], [0.6666666666666666, \"#ed7953\"], [0.7777777777777778, \"#fb9f3a\"], [0.8888888888888888, \"#fdca26\"], [1.0, \"#f0f921\"]]}, \"colorway\": [\"#636efa\", \"#EF553B\", \"#00cc96\", \"#ab63fa\", \"#FFA15A\", \"#19d3f3\", \"#FF6692\", \"#B6E880\", \"#FF97FF\", \"#FECB52\"], \"font\": {\"color\": \"#2a3f5f\"}, \"geo\": {\"bgcolor\": \"white\", \"lakecolor\": \"white\", \"landcolor\": \"#E5ECF6\", \"showlakes\": true, \"showland\": true, \"subunitcolor\": \"white\"}, \"hoverlabel\": {\"align\": \"left\"}, \"hovermode\": \"closest\", \"mapbox\": {\"style\": \"light\"}, \"paper_bgcolor\": \"white\", \"plot_bgcolor\": \"#E5ECF6\", \"polar\": {\"angularaxis\": {\"gridcolor\": \"white\", \"linecolor\": \"white\", \"ticks\": \"\"}, \"bgcolor\": \"#E5ECF6\", \"radialaxis\": {\"gridcolor\": \"white\", \"linecolor\": \"white\", \"ticks\": \"\"}}, \"scene\": {\"xaxis\": {\"backgroundcolor\": \"#E5ECF6\", \"gridcolor\": \"white\", \"gridwidth\": 2, \"linecolor\": \"white\", \"showbackground\": true, \"ticks\": \"\", \"zerolinecolor\": \"white\"}, \"yaxis\": {\"backgroundcolor\": \"#E5ECF6\", \"gridcolor\": \"white\", \"gridwidth\": 2, \"linecolor\": \"white\", \"showbackground\": true, \"ticks\": \"\", \"zerolinecolor\": \"white\"}, \"zaxis\": {\"backgroundcolor\": \"#E5ECF6\", \"gridcolor\": \"white\", \"gridwidth\": 2, \"linecolor\": \"white\", \"showbackground\": true, \"ticks\": \"\", \"zerolinecolor\": \"white\"}}, \"shapedefaults\": {\"line\": {\"color\": \"#2a3f5f\"}}, \"ternary\": {\"aaxis\": {\"gridcolor\": \"white\", \"linecolor\": \"white\", \"ticks\": \"\"}, \"baxis\": {\"gridcolor\": \"white\", \"linecolor\": \"white\", \"ticks\": \"\"}, \"bgcolor\": \"#E5ECF6\", \"caxis\": {\"gridcolor\": \"white\", \"linecolor\": \"white\", \"ticks\": \"\"}}, \"title\": {\"x\": 0.05}, \"xaxis\": {\"automargin\": true, \"gridcolor\": \"white\", \"linecolor\": \"white\", \"ticks\": \"\", \"title\": {\"standoff\": 15}, \"zerolinecolor\": \"white\", \"zerolinewidth\": 2}, \"yaxis\": {\"automargin\": true, \"gridcolor\": \"white\", \"linecolor\": \"white\", \"ticks\": \"\", \"title\": {\"standoff\": 15}, \"zerolinecolor\": \"white\", \"zerolinewidth\": 2}}}, \"title\": {\"text\": \"Loss\"}, \"xaxis\": {\"anchor\": \"y\", \"domain\": [0.0, 1.0], \"title\": {\"text\": \"epoch\"}}, \"yaxis\": {\"anchor\": \"x\", \"domain\": [0.0, 1.0], \"title\": {\"text\": \"loss\"}}},                        {\"responsive\": true}                    ).then(function(){\n",
       "                            \n",
       "var gd = document.getElementById('a81ab775-1b6c-4228-80d8-2d30665dc201');\n",
       "var x = new MutationObserver(function (mutations, observer) {{\n",
       "        var display = window.getComputedStyle(gd).display;\n",
       "        if (!display || display === 'none') {{\n",
       "            console.log([gd, 'removed!']);\n",
       "            Plotly.purge(gd);\n",
       "            observer.disconnect();\n",
       "        }}\n",
       "}});\n",
       "\n",
       "// Listen for the removal of the full notebook cells\n",
       "var notebookContainer = gd.closest('#notebook-container');\n",
       "if (notebookContainer) {{\n",
       "    x.observe(notebookContainer, {childList: true});\n",
       "}}\n",
       "\n",
       "// Listen for the clearing of the current output cell\n",
       "var outputEl = gd.closest('.output');\n",
       "if (outputEl) {{\n",
       "    x.observe(outputEl, {childList: true});\n",
       "}}\n",
       "\n",
       "                        })                };                });            </script>        </div>"
      ]
     },
     "metadata": {},
     "output_type": "display_data"
    },
    {
     "data": {
      "application/vnd.plotly.v1+json": {
       "config": {
        "plotlyServerURL": "https://plot.ly"
       },
       "data": [
        {
         "hovertemplate": "variable=train_accuracy<br>epoch=%{x}<br>value=%{y}<extra></extra>",
         "legendgroup": "train_accuracy",
         "line": {
          "color": "#636efa",
          "dash": "solid"
         },
         "mode": "lines",
         "name": "train_accuracy",
         "orientation": "v",
         "showlegend": true,
         "type": "scatter",
         "x": [
          1,
          2,
          3,
          4,
          5,
          6,
          7,
          8,
          9,
          10,
          11,
          12,
          13,
          14,
          15,
          16,
          17,
          18,
          19,
          20
         ],
         "xaxis": "x",
         "y": [
          0.5581612874143527,
          0.5589952217814641,
          0.55889379733141,
          0.5595136134150739,
          0.5597615398485395,
          0.5600770825820411,
          0.5600545438153625,
          0.5605503966822936,
          0.5610575189325641,
          0.5601785070320952,
          0.5609222863324919,
          0.561451947349441,
          0.5608208618824377,
          0.5612716372160116,
          0.560629282365669,
          0.5612490984493329,
          0.5607081680490443,
          0.5615195636494771,
          0.5609448250991705,
          0.5607419761990624
         ],
         "yaxis": "y"
        },
        {
         "hovertemplate": "variable=dev_accuracy<br>epoch=%{x}<br>value=%{y}<extra></extra>",
         "legendgroup": "dev_accuracy",
         "line": {
          "color": "#EF553B",
          "dash": "solid"
         },
         "mode": "lines",
         "name": "dev_accuracy",
         "orientation": "v",
         "showlegend": true,
         "type": "scatter",
         "x": [
          1,
          2,
          3,
          4,
          5,
          6,
          7,
          8,
          9,
          10,
          11,
          12,
          13,
          14,
          15,
          16,
          17,
          18,
          19,
          20
         ],
         "xaxis": "x",
         "y": [
          0.609122870278554,
          0.6084918417019742,
          0.6070494906697917,
          0.6057874335166321,
          0.6069593437302804,
          0.6081312539439286,
          0.6083115478229514,
          0.6089425763995312,
          0.6087622825205085,
          0.6081312539439286,
          0.6081312539439286,
          0.6090327233390427,
          0.6089425763995312,
          0.6079509600649058,
          0.6054268457585865,
          0.6078608131253944,
          0.6094834580365996,
          0.6055169926980979,
          0.6057874335166321,
          0.6102046335526908
         ],
         "yaxis": "y"
        }
       ],
       "layout": {
        "autosize": true,
        "legend": {
         "title": {
          "text": "variable"
         },
         "tracegroupgap": 0
        },
        "template": {
         "data": {
          "bar": [
           {
            "error_x": {
             "color": "#2a3f5f"
            },
            "error_y": {
             "color": "#2a3f5f"
            },
            "marker": {
             "line": {
              "color": "#E5ECF6",
              "width": 0.5
             }
            },
            "type": "bar"
           }
          ],
          "barpolar": [
           {
            "marker": {
             "line": {
              "color": "#E5ECF6",
              "width": 0.5
             }
            },
            "type": "barpolar"
           }
          ],
          "carpet": [
           {
            "aaxis": {
             "endlinecolor": "#2a3f5f",
             "gridcolor": "white",
             "linecolor": "white",
             "minorgridcolor": "white",
             "startlinecolor": "#2a3f5f"
            },
            "baxis": {
             "endlinecolor": "#2a3f5f",
             "gridcolor": "white",
             "linecolor": "white",
             "minorgridcolor": "white",
             "startlinecolor": "#2a3f5f"
            },
            "type": "carpet"
           }
          ],
          "choropleth": [
           {
            "colorbar": {
             "outlinewidth": 0,
             "ticks": ""
            },
            "type": "choropleth"
           }
          ],
          "contour": [
           {
            "colorbar": {
             "outlinewidth": 0,
             "ticks": ""
            },
            "colorscale": [
             [
              0,
              "#0d0887"
             ],
             [
              0.1111111111111111,
              "#46039f"
             ],
             [
              0.2222222222222222,
              "#7201a8"
             ],
             [
              0.3333333333333333,
              "#9c179e"
             ],
             [
              0.4444444444444444,
              "#bd3786"
             ],
             [
              0.5555555555555556,
              "#d8576b"
             ],
             [
              0.6666666666666666,
              "#ed7953"
             ],
             [
              0.7777777777777778,
              "#fb9f3a"
             ],
             [
              0.8888888888888888,
              "#fdca26"
             ],
             [
              1,
              "#f0f921"
             ]
            ],
            "type": "contour"
           }
          ],
          "contourcarpet": [
           {
            "colorbar": {
             "outlinewidth": 0,
             "ticks": ""
            },
            "type": "contourcarpet"
           }
          ],
          "heatmap": [
           {
            "colorbar": {
             "outlinewidth": 0,
             "ticks": ""
            },
            "colorscale": [
             [
              0,
              "#0d0887"
             ],
             [
              0.1111111111111111,
              "#46039f"
             ],
             [
              0.2222222222222222,
              "#7201a8"
             ],
             [
              0.3333333333333333,
              "#9c179e"
             ],
             [
              0.4444444444444444,
              "#bd3786"
             ],
             [
              0.5555555555555556,
              "#d8576b"
             ],
             [
              0.6666666666666666,
              "#ed7953"
             ],
             [
              0.7777777777777778,
              "#fb9f3a"
             ],
             [
              0.8888888888888888,
              "#fdca26"
             ],
             [
              1,
              "#f0f921"
             ]
            ],
            "type": "heatmap"
           }
          ],
          "heatmapgl": [
           {
            "colorbar": {
             "outlinewidth": 0,
             "ticks": ""
            },
            "colorscale": [
             [
              0,
              "#0d0887"
             ],
             [
              0.1111111111111111,
              "#46039f"
             ],
             [
              0.2222222222222222,
              "#7201a8"
             ],
             [
              0.3333333333333333,
              "#9c179e"
             ],
             [
              0.4444444444444444,
              "#bd3786"
             ],
             [
              0.5555555555555556,
              "#d8576b"
             ],
             [
              0.6666666666666666,
              "#ed7953"
             ],
             [
              0.7777777777777778,
              "#fb9f3a"
             ],
             [
              0.8888888888888888,
              "#fdca26"
             ],
             [
              1,
              "#f0f921"
             ]
            ],
            "type": "heatmapgl"
           }
          ],
          "histogram": [
           {
            "marker": {
             "colorbar": {
              "outlinewidth": 0,
              "ticks": ""
             }
            },
            "type": "histogram"
           }
          ],
          "histogram2d": [
           {
            "colorbar": {
             "outlinewidth": 0,
             "ticks": ""
            },
            "colorscale": [
             [
              0,
              "#0d0887"
             ],
             [
              0.1111111111111111,
              "#46039f"
             ],
             [
              0.2222222222222222,
              "#7201a8"
             ],
             [
              0.3333333333333333,
              "#9c179e"
             ],
             [
              0.4444444444444444,
              "#bd3786"
             ],
             [
              0.5555555555555556,
              "#d8576b"
             ],
             [
              0.6666666666666666,
              "#ed7953"
             ],
             [
              0.7777777777777778,
              "#fb9f3a"
             ],
             [
              0.8888888888888888,
              "#fdca26"
             ],
             [
              1,
              "#f0f921"
             ]
            ],
            "type": "histogram2d"
           }
          ],
          "histogram2dcontour": [
           {
            "colorbar": {
             "outlinewidth": 0,
             "ticks": ""
            },
            "colorscale": [
             [
              0,
              "#0d0887"
             ],
             [
              0.1111111111111111,
              "#46039f"
             ],
             [
              0.2222222222222222,
              "#7201a8"
             ],
             [
              0.3333333333333333,
              "#9c179e"
             ],
             [
              0.4444444444444444,
              "#bd3786"
             ],
             [
              0.5555555555555556,
              "#d8576b"
             ],
             [
              0.6666666666666666,
              "#ed7953"
             ],
             [
              0.7777777777777778,
              "#fb9f3a"
             ],
             [
              0.8888888888888888,
              "#fdca26"
             ],
             [
              1,
              "#f0f921"
             ]
            ],
            "type": "histogram2dcontour"
           }
          ],
          "mesh3d": [
           {
            "colorbar": {
             "outlinewidth": 0,
             "ticks": ""
            },
            "type": "mesh3d"
           }
          ],
          "parcoords": [
           {
            "line": {
             "colorbar": {
              "outlinewidth": 0,
              "ticks": ""
             }
            },
            "type": "parcoords"
           }
          ],
          "pie": [
           {
            "automargin": true,
            "type": "pie"
           }
          ],
          "scatter": [
           {
            "marker": {
             "colorbar": {
              "outlinewidth": 0,
              "ticks": ""
             }
            },
            "type": "scatter"
           }
          ],
          "scatter3d": [
           {
            "line": {
             "colorbar": {
              "outlinewidth": 0,
              "ticks": ""
             }
            },
            "marker": {
             "colorbar": {
              "outlinewidth": 0,
              "ticks": ""
             }
            },
            "type": "scatter3d"
           }
          ],
          "scattercarpet": [
           {
            "marker": {
             "colorbar": {
              "outlinewidth": 0,
              "ticks": ""
             }
            },
            "type": "scattercarpet"
           }
          ],
          "scattergeo": [
           {
            "marker": {
             "colorbar": {
              "outlinewidth": 0,
              "ticks": ""
             }
            },
            "type": "scattergeo"
           }
          ],
          "scattergl": [
           {
            "marker": {
             "colorbar": {
              "outlinewidth": 0,
              "ticks": ""
             }
            },
            "type": "scattergl"
           }
          ],
          "scattermapbox": [
           {
            "marker": {
             "colorbar": {
              "outlinewidth": 0,
              "ticks": ""
             }
            },
            "type": "scattermapbox"
           }
          ],
          "scatterpolar": [
           {
            "marker": {
             "colorbar": {
              "outlinewidth": 0,
              "ticks": ""
             }
            },
            "type": "scatterpolar"
           }
          ],
          "scatterpolargl": [
           {
            "marker": {
             "colorbar": {
              "outlinewidth": 0,
              "ticks": ""
             }
            },
            "type": "scatterpolargl"
           }
          ],
          "scatterternary": [
           {
            "marker": {
             "colorbar": {
              "outlinewidth": 0,
              "ticks": ""
             }
            },
            "type": "scatterternary"
           }
          ],
          "surface": [
           {
            "colorbar": {
             "outlinewidth": 0,
             "ticks": ""
            },
            "colorscale": [
             [
              0,
              "#0d0887"
             ],
             [
              0.1111111111111111,
              "#46039f"
             ],
             [
              0.2222222222222222,
              "#7201a8"
             ],
             [
              0.3333333333333333,
              "#9c179e"
             ],
             [
              0.4444444444444444,
              "#bd3786"
             ],
             [
              0.5555555555555556,
              "#d8576b"
             ],
             [
              0.6666666666666666,
              "#ed7953"
             ],
             [
              0.7777777777777778,
              "#fb9f3a"
             ],
             [
              0.8888888888888888,
              "#fdca26"
             ],
             [
              1,
              "#f0f921"
             ]
            ],
            "type": "surface"
           }
          ],
          "table": [
           {
            "cells": {
             "fill": {
              "color": "#EBF0F8"
             },
             "line": {
              "color": "white"
             }
            },
            "header": {
             "fill": {
              "color": "#C8D4E3"
             },
             "line": {
              "color": "white"
             }
            },
            "type": "table"
           }
          ]
         },
         "layout": {
          "annotationdefaults": {
           "arrowcolor": "#2a3f5f",
           "arrowhead": 0,
           "arrowwidth": 1
          },
          "autotypenumbers": "strict",
          "coloraxis": {
           "colorbar": {
            "outlinewidth": 0,
            "ticks": ""
           }
          },
          "colorscale": {
           "diverging": [
            [
             0,
             "#8e0152"
            ],
            [
             0.1,
             "#c51b7d"
            ],
            [
             0.2,
             "#de77ae"
            ],
            [
             0.3,
             "#f1b6da"
            ],
            [
             0.4,
             "#fde0ef"
            ],
            [
             0.5,
             "#f7f7f7"
            ],
            [
             0.6,
             "#e6f5d0"
            ],
            [
             0.7,
             "#b8e186"
            ],
            [
             0.8,
             "#7fbc41"
            ],
            [
             0.9,
             "#4d9221"
            ],
            [
             1,
             "#276419"
            ]
           ],
           "sequential": [
            [
             0,
             "#0d0887"
            ],
            [
             0.1111111111111111,
             "#46039f"
            ],
            [
             0.2222222222222222,
             "#7201a8"
            ],
            [
             0.3333333333333333,
             "#9c179e"
            ],
            [
             0.4444444444444444,
             "#bd3786"
            ],
            [
             0.5555555555555556,
             "#d8576b"
            ],
            [
             0.6666666666666666,
             "#ed7953"
            ],
            [
             0.7777777777777778,
             "#fb9f3a"
            ],
            [
             0.8888888888888888,
             "#fdca26"
            ],
            [
             1,
             "#f0f921"
            ]
           ],
           "sequentialminus": [
            [
             0,
             "#0d0887"
            ],
            [
             0.1111111111111111,
             "#46039f"
            ],
            [
             0.2222222222222222,
             "#7201a8"
            ],
            [
             0.3333333333333333,
             "#9c179e"
            ],
            [
             0.4444444444444444,
             "#bd3786"
            ],
            [
             0.5555555555555556,
             "#d8576b"
            ],
            [
             0.6666666666666666,
             "#ed7953"
            ],
            [
             0.7777777777777778,
             "#fb9f3a"
            ],
            [
             0.8888888888888888,
             "#fdca26"
            ],
            [
             1,
             "#f0f921"
            ]
           ]
          },
          "colorway": [
           "#636efa",
           "#EF553B",
           "#00cc96",
           "#ab63fa",
           "#FFA15A",
           "#19d3f3",
           "#FF6692",
           "#B6E880",
           "#FF97FF",
           "#FECB52"
          ],
          "font": {
           "color": "#2a3f5f"
          },
          "geo": {
           "bgcolor": "white",
           "lakecolor": "white",
           "landcolor": "#E5ECF6",
           "showlakes": true,
           "showland": true,
           "subunitcolor": "white"
          },
          "hoverlabel": {
           "align": "left"
          },
          "hovermode": "closest",
          "mapbox": {
           "style": "light"
          },
          "paper_bgcolor": "white",
          "plot_bgcolor": "#E5ECF6",
          "polar": {
           "angularaxis": {
            "gridcolor": "white",
            "linecolor": "white",
            "ticks": ""
           },
           "bgcolor": "#E5ECF6",
           "radialaxis": {
            "gridcolor": "white",
            "linecolor": "white",
            "ticks": ""
           }
          },
          "scene": {
           "xaxis": {
            "backgroundcolor": "#E5ECF6",
            "gridcolor": "white",
            "gridwidth": 2,
            "linecolor": "white",
            "showbackground": true,
            "ticks": "",
            "zerolinecolor": "white"
           },
           "yaxis": {
            "backgroundcolor": "#E5ECF6",
            "gridcolor": "white",
            "gridwidth": 2,
            "linecolor": "white",
            "showbackground": true,
            "ticks": "",
            "zerolinecolor": "white"
           },
           "zaxis": {
            "backgroundcolor": "#E5ECF6",
            "gridcolor": "white",
            "gridwidth": 2,
            "linecolor": "white",
            "showbackground": true,
            "ticks": "",
            "zerolinecolor": "white"
           }
          },
          "shapedefaults": {
           "line": {
            "color": "#2a3f5f"
           }
          },
          "ternary": {
           "aaxis": {
            "gridcolor": "white",
            "linecolor": "white",
            "ticks": ""
           },
           "baxis": {
            "gridcolor": "white",
            "linecolor": "white",
            "ticks": ""
           },
           "bgcolor": "#E5ECF6",
           "caxis": {
            "gridcolor": "white",
            "linecolor": "white",
            "ticks": ""
           }
          },
          "title": {
           "x": 0.05
          },
          "xaxis": {
           "automargin": true,
           "gridcolor": "white",
           "linecolor": "white",
           "ticks": "",
           "title": {
            "standoff": 15
           },
           "zerolinecolor": "white",
           "zerolinewidth": 2
          },
          "yaxis": {
           "automargin": true,
           "gridcolor": "white",
           "linecolor": "white",
           "ticks": "",
           "title": {
            "standoff": 15
           },
           "zerolinecolor": "white",
           "zerolinewidth": 2
          }
         }
        },
        "title": {
         "text": "Accuracy"
        },
        "xaxis": {
         "anchor": "y",
         "autorange": true,
         "domain": [
          0,
          1
         ],
         "range": [
          1,
          20
         ],
         "title": {
          "text": "epoch"
         },
         "type": "linear"
        },
        "yaxis": {
         "anchor": "x",
         "autorange": true,
         "domain": [
          0,
          1
         ],
         "range": [
          0.5552699904066672,
          0.6130959305603763
         ],
         "title": {
          "text": "value"
         },
         "type": "linear"
        }
       }
      },
      "image/png": "[encoded data removed]",
      "text/html": [
       "<div>                            <div id=\"3c99bdb1-788a-4674-9b18-c24a1bf4265d\" class=\"plotly-graph-div\" style=\"height:525px; width:100%;\"></div>            <script type=\"text/javascript\">                require([\"plotly\"], function(Plotly) {                    window.PLOTLYENV=window.PLOTLYENV || {};                                    if (document.getElementById(\"3c99bdb1-788a-4674-9b18-c24a1bf4265d\")) {                    Plotly.newPlot(                        \"3c99bdb1-788a-4674-9b18-c24a1bf4265d\",                        [{\"hovertemplate\": \"variable=train_accuracy<br>epoch=%{x}<br>value=%{y}<extra></extra>\", \"legendgroup\": \"train_accuracy\", \"line\": {\"color\": \"#636efa\", \"dash\": \"solid\"}, \"mode\": \"lines\", \"name\": \"train_accuracy\", \"orientation\": \"v\", \"showlegend\": true, \"type\": \"scatter\", \"x\": [1, 2, 3, 4, 5, 6, 7, 8, 9, 10, 11, 12, 13, 14, 15, 16, 17, 18, 19, 20], \"xaxis\": \"x\", \"y\": [0.5581612874143527, 0.5589952217814641, 0.55889379733141, 0.5595136134150739, 0.5597615398485395, 0.5600770825820411, 0.5600545438153625, 0.5605503966822936, 0.5610575189325641, 0.5601785070320952, 0.5609222863324919, 0.561451947349441, 0.5608208618824377, 0.5612716372160116, 0.560629282365669, 0.5612490984493329, 0.5607081680490443, 0.5615195636494771, 0.5609448250991705, 0.5607419761990624], \"yaxis\": \"y\"}, {\"hovertemplate\": \"variable=dev_accuracy<br>epoch=%{x}<br>value=%{y}<extra></extra>\", \"legendgroup\": \"dev_accuracy\", \"line\": {\"color\": \"#EF553B\", \"dash\": \"solid\"}, \"mode\": \"lines\", \"name\": \"dev_accuracy\", \"orientation\": \"v\", \"showlegend\": true, \"type\": \"scatter\", \"x\": [1, 2, 3, 4, 5, 6, 7, 8, 9, 10, 11, 12, 13, 14, 15, 16, 17, 18, 19, 20], \"xaxis\": \"x\", \"y\": [0.609122870278554, 0.6084918417019742, 0.6070494906697917, 0.6057874335166321, 0.6069593437302804, 0.6081312539439286, 0.6083115478229514, 0.6089425763995312, 0.6087622825205085, 0.6081312539439286, 0.6081312539439286, 0.6090327233390427, 0.6089425763995312, 0.6079509600649058, 0.6054268457585865, 0.6078608131253944, 0.6094834580365996, 0.6055169926980979, 0.6057874335166321, 0.6102046335526908], \"yaxis\": \"y\"}],                        {\"legend\": {\"title\": {\"text\": \"variable\"}, \"tracegroupgap\": 0}, \"template\": {\"data\": {\"bar\": [{\"error_x\": {\"color\": \"#2a3f5f\"}, \"error_y\": {\"color\": \"#2a3f5f\"}, \"marker\": {\"line\": {\"color\": \"#E5ECF6\", \"width\": 0.5}}, \"type\": \"bar\"}], \"barpolar\": [{\"marker\": {\"line\": {\"color\": \"#E5ECF6\", \"width\": 0.5}}, \"type\": \"barpolar\"}], \"carpet\": [{\"aaxis\": {\"endlinecolor\": \"#2a3f5f\", \"gridcolor\": \"white\", \"linecolor\": \"white\", \"minorgridcolor\": \"white\", \"startlinecolor\": \"#2a3f5f\"}, \"baxis\": {\"endlinecolor\": \"#2a3f5f\", \"gridcolor\": \"white\", \"linecolor\": \"white\", \"minorgridcolor\": \"white\", \"startlinecolor\": \"#2a3f5f\"}, \"type\": \"carpet\"}], \"choropleth\": [{\"colorbar\": {\"outlinewidth\": 0, \"ticks\": \"\"}, \"type\": \"choropleth\"}], \"contour\": [{\"colorbar\": {\"outlinewidth\": 0, \"ticks\": \"\"}, \"colorscale\": [[0.0, \"#0d0887\"], [0.1111111111111111, \"#46039f\"], [0.2222222222222222, \"#7201a8\"], [0.3333333333333333, \"#9c179e\"], [0.4444444444444444, \"#bd3786\"], [0.5555555555555556, \"#d8576b\"], [0.6666666666666666, \"#ed7953\"], [0.7777777777777778, \"#fb9f3a\"], [0.8888888888888888, \"#fdca26\"], [1.0, \"#f0f921\"]], \"type\": \"contour\"}], \"contourcarpet\": [{\"colorbar\": {\"outlinewidth\": 0, \"ticks\": \"\"}, \"type\": \"contourcarpet\"}], \"heatmap\": [{\"colorbar\": {\"outlinewidth\": 0, \"ticks\": \"\"}, \"colorscale\": [[0.0, \"#0d0887\"], [0.1111111111111111, \"#46039f\"], [0.2222222222222222, \"#7201a8\"], [0.3333333333333333, \"#9c179e\"], [0.4444444444444444, \"#bd3786\"], [0.5555555555555556, \"#d8576b\"], [0.6666666666666666, \"#ed7953\"], [0.7777777777777778, \"#fb9f3a\"], [0.8888888888888888, \"#fdca26\"], [1.0, \"#f0f921\"]], \"type\": \"heatmap\"}], \"heatmapgl\": [{\"colorbar\": {\"outlinewidth\": 0, \"ticks\": \"\"}, \"colorscale\": [[0.0, \"#0d0887\"], [0.1111111111111111, \"#46039f\"], [0.2222222222222222, \"#7201a8\"], [0.3333333333333333, \"#9c179e\"], [0.4444444444444444, \"#bd3786\"], [0.5555555555555556, \"#d8576b\"], [0.6666666666666666, \"#ed7953\"], [0.7777777777777778, \"#fb9f3a\"], [0.8888888888888888, \"#fdca26\"], [1.0, \"#f0f921\"]], \"type\": \"heatmapgl\"}], \"histogram\": [{\"marker\": {\"colorbar\": {\"outlinewidth\": 0, \"ticks\": \"\"}}, \"type\": \"histogram\"}], \"histogram2d\": [{\"colorbar\": {\"outlinewidth\": 0, \"ticks\": \"\"}, \"colorscale\": [[0.0, \"#0d0887\"], [0.1111111111111111, \"#46039f\"], [0.2222222222222222, \"#7201a8\"], [0.3333333333333333, \"#9c179e\"], [0.4444444444444444, \"#bd3786\"], [0.5555555555555556, \"#d8576b\"], [0.6666666666666666, \"#ed7953\"], [0.7777777777777778, \"#fb9f3a\"], [0.8888888888888888, \"#fdca26\"], [1.0, \"#f0f921\"]], \"type\": \"histogram2d\"}], \"histogram2dcontour\": [{\"colorbar\": {\"outlinewidth\": 0, \"ticks\": \"\"}, \"colorscale\": [[0.0, \"#0d0887\"], [0.1111111111111111, \"#46039f\"], [0.2222222222222222, \"#7201a8\"], [0.3333333333333333, \"#9c179e\"], [0.4444444444444444, \"#bd3786\"], [0.5555555555555556, \"#d8576b\"], [0.6666666666666666, \"#ed7953\"], [0.7777777777777778, \"#fb9f3a\"], [0.8888888888888888, \"#fdca26\"], [1.0, \"#f0f921\"]], \"type\": \"histogram2dcontour\"}], \"mesh3d\": [{\"colorbar\": {\"outlinewidth\": 0, \"ticks\": \"\"}, \"type\": \"mesh3d\"}], \"parcoords\": [{\"line\": {\"colorbar\": {\"outlinewidth\": 0, \"ticks\": \"\"}}, \"type\": \"parcoords\"}], \"pie\": [{\"automargin\": true, \"type\": \"pie\"}], \"scatter\": [{\"marker\": {\"colorbar\": {\"outlinewidth\": 0, \"ticks\": \"\"}}, \"type\": \"scatter\"}], \"scatter3d\": [{\"line\": {\"colorbar\": {\"outlinewidth\": 0, \"ticks\": \"\"}}, \"marker\": {\"colorbar\": {\"outlinewidth\": 0, \"ticks\": \"\"}}, \"type\": \"scatter3d\"}], \"scattercarpet\": [{\"marker\": {\"colorbar\": {\"outlinewidth\": 0, \"ticks\": \"\"}}, \"type\": \"scattercarpet\"}], \"scattergeo\": [{\"marker\": {\"colorbar\": {\"outlinewidth\": 0, \"ticks\": \"\"}}, \"type\": \"scattergeo\"}], \"scattergl\": [{\"marker\": {\"colorbar\": {\"outlinewidth\": 0, \"ticks\": \"\"}}, \"type\": \"scattergl\"}], \"scattermapbox\": [{\"marker\": {\"colorbar\": {\"outlinewidth\": 0, \"ticks\": \"\"}}, \"type\": \"scattermapbox\"}], \"scatterpolar\": [{\"marker\": {\"colorbar\": {\"outlinewidth\": 0, \"ticks\": \"\"}}, \"type\": \"scatterpolar\"}], \"scatterpolargl\": [{\"marker\": {\"colorbar\": {\"outlinewidth\": 0, \"ticks\": \"\"}}, \"type\": \"scatterpolargl\"}], \"scatterternary\": [{\"marker\": {\"colorbar\": {\"outlinewidth\": 0, \"ticks\": \"\"}}, \"type\": \"scatterternary\"}], \"surface\": [{\"colorbar\": {\"outlinewidth\": 0, \"ticks\": \"\"}, \"colorscale\": [[0.0, \"#0d0887\"], [0.1111111111111111, \"#46039f\"], [0.2222222222222222, \"#7201a8\"], [0.3333333333333333, \"#9c179e\"], [0.4444444444444444, \"#bd3786\"], [0.5555555555555556, \"#d8576b\"], [0.6666666666666666, \"#ed7953\"], [0.7777777777777778, \"#fb9f3a\"], [0.8888888888888888, \"#fdca26\"], [1.0, \"#f0f921\"]], \"type\": \"surface\"}], \"table\": [{\"cells\": {\"fill\": {\"color\": \"#EBF0F8\"}, \"line\": {\"color\": \"white\"}}, \"header\": {\"fill\": {\"color\": \"#C8D4E3\"}, \"line\": {\"color\": \"white\"}}, \"type\": \"table\"}]}, \"layout\": {\"annotationdefaults\": {\"arrowcolor\": \"#2a3f5f\", \"arrowhead\": 0, \"arrowwidth\": 1}, \"autotypenumbers\": \"strict\", \"coloraxis\": {\"colorbar\": {\"outlinewidth\": 0, \"ticks\": \"\"}}, \"colorscale\": {\"diverging\": [[0, \"#8e0152\"], [0.1, \"#c51b7d\"], [0.2, \"#de77ae\"], [0.3, \"#f1b6da\"], [0.4, \"#fde0ef\"], [0.5, \"#f7f7f7\"], [0.6, \"#e6f5d0\"], [0.7, \"#b8e186\"], [0.8, \"#7fbc41\"], [0.9, \"#4d9221\"], [1, \"#276419\"]], \"sequential\": [[0.0, \"#0d0887\"], [0.1111111111111111, \"#46039f\"], [0.2222222222222222, \"#7201a8\"], [0.3333333333333333, \"#9c179e\"], [0.4444444444444444, \"#bd3786\"], [0.5555555555555556, \"#d8576b\"], [0.6666666666666666, \"#ed7953\"], [0.7777777777777778, \"#fb9f3a\"], [0.8888888888888888, \"#fdca26\"], [1.0, \"#f0f921\"]], \"sequentialminus\": [[0.0, \"#0d0887\"], [0.1111111111111111, \"#46039f\"], [0.2222222222222222, \"#7201a8\"], [0.3333333333333333, \"#9c179e\"], [0.4444444444444444, \"#bd3786\"], [0.5555555555555556, \"#d8576b\"], [0.6666666666666666, \"#ed7953\"], [0.7777777777777778, \"#fb9f3a\"], [0.8888888888888888, \"#fdca26\"], [1.0, \"#f0f921\"]]}, \"colorway\": [\"#636efa\", \"#EF553B\", \"#00cc96\", \"#ab63fa\", \"#FFA15A\", \"#19d3f3\", \"#FF6692\", \"#B6E880\", \"#FF97FF\", \"#FECB52\"], \"font\": {\"color\": \"#2a3f5f\"}, \"geo\": {\"bgcolor\": \"white\", \"lakecolor\": \"white\", \"landcolor\": \"#E5ECF6\", \"showlakes\": true, \"showland\": true, \"subunitcolor\": \"white\"}, \"hoverlabel\": {\"align\": \"left\"}, \"hovermode\": \"closest\", \"mapbox\": {\"style\": \"light\"}, \"paper_bgcolor\": \"white\", \"plot_bgcolor\": \"#E5ECF6\", \"polar\": {\"angularaxis\": {\"gridcolor\": \"white\", \"linecolor\": \"white\", \"ticks\": \"\"}, \"bgcolor\": \"#E5ECF6\", \"radialaxis\": {\"gridcolor\": \"white\", \"linecolor\": \"white\", \"ticks\": \"\"}}, \"scene\": {\"xaxis\": {\"backgroundcolor\": \"#E5ECF6\", \"gridcolor\": \"white\", \"gridwidth\": 2, \"linecolor\": \"white\", \"showbackground\": true, \"ticks\": \"\", \"zerolinecolor\": \"white\"}, \"yaxis\": {\"backgroundcolor\": \"#E5ECF6\", \"gridcolor\": \"white\", \"gridwidth\": 2, \"linecolor\": \"white\", \"showbackground\": true, \"ticks\": \"\", \"zerolinecolor\": \"white\"}, \"zaxis\": {\"backgroundcolor\": \"#E5ECF6\", \"gridcolor\": \"white\", \"gridwidth\": 2, \"linecolor\": \"white\", \"showbackground\": true, \"ticks\": \"\", \"zerolinecolor\": \"white\"}}, \"shapedefaults\": {\"line\": {\"color\": \"#2a3f5f\"}}, \"ternary\": {\"aaxis\": {\"gridcolor\": \"white\", \"linecolor\": \"white\", \"ticks\": \"\"}, \"baxis\": {\"gridcolor\": \"white\", \"linecolor\": \"white\", \"ticks\": \"\"}, \"bgcolor\": \"#E5ECF6\", \"caxis\": {\"gridcolor\": \"white\", \"linecolor\": \"white\", \"ticks\": \"\"}}, \"title\": {\"x\": 0.05}, \"xaxis\": {\"automargin\": true, \"gridcolor\": \"white\", \"linecolor\": \"white\", \"ticks\": \"\", \"title\": {\"standoff\": 15}, \"zerolinecolor\": \"white\", \"zerolinewidth\": 2}, \"yaxis\": {\"automargin\": true, \"gridcolor\": \"white\", \"linecolor\": \"white\", \"ticks\": \"\", \"title\": {\"standoff\": 15}, \"zerolinecolor\": \"white\", \"zerolinewidth\": 2}}}, \"title\": {\"text\": \"Accuracy\"}, \"xaxis\": {\"anchor\": \"y\", \"domain\": [0.0, 1.0], \"title\": {\"text\": \"epoch\"}}, \"yaxis\": {\"anchor\": \"x\", \"domain\": [0.0, 1.0], \"title\": {\"text\": \"value\"}}},                        {\"responsive\": true}                    ).then(function(){\n",
       "                            \n",
       "var gd = document.getElementById('3c99bdb1-788a-4674-9b18-c24a1bf4265d');\n",
       "var x = new MutationObserver(function (mutations, observer) {{\n",
       "        var display = window.getComputedStyle(gd).display;\n",
       "        if (!display || display === 'none') {{\n",
       "            console.log([gd, 'removed!']);\n",
       "            Plotly.purge(gd);\n",
       "            observer.disconnect();\n",
       "        }}\n",
       "}});\n",
       "\n",
       "// Listen for the removal of the full notebook cells\n",
       "var notebookContainer = gd.closest('#notebook-container');\n",
       "if (notebookContainer) {{\n",
       "    x.observe(notebookContainer, {childList: true});\n",
       "}}\n",
       "\n",
       "// Listen for the clearing of the current output cell\n",
       "var outputEl = gd.closest('.output');\n",
       "if (outputEl) {{\n",
       "    x.observe(outputEl, {childList: true});\n",
       "}}\n",
       "\n",
       "                        })                };                });            </script>        </div>"
      ]
     },
     "metadata": {},
     "output_type": "display_data"
    },
    {
     "name": "stdout",
     "output_type": "stream",
     "text": [
      "cnnmodel2021-03-29_10-45.csv: 20\n"
     ]
    },
    {
     "data": {
      "application/vnd.plotly.v1+json": {
       "config": {
        "plotlyServerURL": "https://plot.ly"
       },
       "data": [
        {
         "hovertemplate": "epoch=%{x}<br>loss=%{y}<extra></extra>",
         "legendgroup": "",
         "line": {
          "color": "#636efa",
          "dash": "solid"
         },
         "mode": "lines",
         "name": "",
         "orientation": "v",
         "showlegend": false,
         "type": "scatter",
         "x": [
          1,
          2,
          3,
          4,
          5,
          6,
          7,
          8,
          9,
          10,
          11,
          12,
          13,
          14,
          15,
          16,
          17,
          18,
          19,
          20
         ],
         "xaxis": "x",
         "y": [
          33.901206970214844,
          26.673439025878903,
          21.39190101623535,
          28.73334503173828,
          21.92147254943848,
          30.01875305175781,
          19.568832397460938,
          20.39532470703125,
          33.08468246459961,
          36.08154678344727,
          29.977481842041016,
          29.100250244140625,
          37.67122650146485,
          32.32266616821289,
          36.72174835205078,
          23.109283447265625,
          23.129432678222656,
          32.39350128173828,
          37.99530029296875,
          35.11764144897461
         ],
         "yaxis": "y"
        }
       ],
       "layout": {
        "autosize": true,
        "legend": {
         "tracegroupgap": 0
        },
        "template": {
         "data": {
          "bar": [
           {
            "error_x": {
             "color": "#2a3f5f"
            },
            "error_y": {
             "color": "#2a3f5f"
            },
            "marker": {
             "line": {
              "color": "#E5ECF6",
              "width": 0.5
             }
            },
            "type": "bar"
           }
          ],
          "barpolar": [
           {
            "marker": {
             "line": {
              "color": "#E5ECF6",
              "width": 0.5
             }
            },
            "type": "barpolar"
           }
          ],
          "carpet": [
           {
            "aaxis": {
             "endlinecolor": "#2a3f5f",
             "gridcolor": "white",
             "linecolor": "white",
             "minorgridcolor": "white",
             "startlinecolor": "#2a3f5f"
            },
            "baxis": {
             "endlinecolor": "#2a3f5f",
             "gridcolor": "white",
             "linecolor": "white",
             "minorgridcolor": "white",
             "startlinecolor": "#2a3f5f"
            },
            "type": "carpet"
           }
          ],
          "choropleth": [
           {
            "colorbar": {
             "outlinewidth": 0,
             "ticks": ""
            },
            "type": "choropleth"
           }
          ],
          "contour": [
           {
            "colorbar": {
             "outlinewidth": 0,
             "ticks": ""
            },
            "colorscale": [
             [
              0,
              "#0d0887"
             ],
             [
              0.1111111111111111,
              "#46039f"
             ],
             [
              0.2222222222222222,
              "#7201a8"
             ],
             [
              0.3333333333333333,
              "#9c179e"
             ],
             [
              0.4444444444444444,
              "#bd3786"
             ],
             [
              0.5555555555555556,
              "#d8576b"
             ],
             [
              0.6666666666666666,
              "#ed7953"
             ],
             [
              0.7777777777777778,
              "#fb9f3a"
             ],
             [
              0.8888888888888888,
              "#fdca26"
             ],
             [
              1,
              "#f0f921"
             ]
            ],
            "type": "contour"
           }
          ],
          "contourcarpet": [
           {
            "colorbar": {
             "outlinewidth": 0,
             "ticks": ""
            },
            "type": "contourcarpet"
           }
          ],
          "heatmap": [
           {
            "colorbar": {
             "outlinewidth": 0,
             "ticks": ""
            },
            "colorscale": [
             [
              0,
              "#0d0887"
             ],
             [
              0.1111111111111111,
              "#46039f"
             ],
             [
              0.2222222222222222,
              "#7201a8"
             ],
             [
              0.3333333333333333,
              "#9c179e"
             ],
             [
              0.4444444444444444,
              "#bd3786"
             ],
             [
              0.5555555555555556,
              "#d8576b"
             ],
             [
              0.6666666666666666,
              "#ed7953"
             ],
             [
              0.7777777777777778,
              "#fb9f3a"
             ],
             [
              0.8888888888888888,
              "#fdca26"
             ],
             [
              1,
              "#f0f921"
             ]
            ],
            "type": "heatmap"
           }
          ],
          "heatmapgl": [
           {
            "colorbar": {
             "outlinewidth": 0,
             "ticks": ""
            },
            "colorscale": [
             [
              0,
              "#0d0887"
             ],
             [
              0.1111111111111111,
              "#46039f"
             ],
             [
              0.2222222222222222,
              "#7201a8"
             ],
             [
              0.3333333333333333,
              "#9c179e"
             ],
             [
              0.4444444444444444,
              "#bd3786"
             ],
             [
              0.5555555555555556,
              "#d8576b"
             ],
             [
              0.6666666666666666,
              "#ed7953"
             ],
             [
              0.7777777777777778,
              "#fb9f3a"
             ],
             [
              0.8888888888888888,
              "#fdca26"
             ],
             [
              1,
              "#f0f921"
             ]
            ],
            "type": "heatmapgl"
           }
          ],
          "histogram": [
           {
            "marker": {
             "colorbar": {
              "outlinewidth": 0,
              "ticks": ""
             }
            },
            "type": "histogram"
           }
          ],
          "histogram2d": [
           {
            "colorbar": {
             "outlinewidth": 0,
             "ticks": ""
            },
            "colorscale": [
             [
              0,
              "#0d0887"
             ],
             [
              0.1111111111111111,
              "#46039f"
             ],
             [
              0.2222222222222222,
              "#7201a8"
             ],
             [
              0.3333333333333333,
              "#9c179e"
             ],
             [
              0.4444444444444444,
              "#bd3786"
             ],
             [
              0.5555555555555556,
              "#d8576b"
             ],
             [
              0.6666666666666666,
              "#ed7953"
             ],
             [
              0.7777777777777778,
              "#fb9f3a"
             ],
             [
              0.8888888888888888,
              "#fdca26"
             ],
             [
              1,
              "#f0f921"
             ]
            ],
            "type": "histogram2d"
           }
          ],
          "histogram2dcontour": [
           {
            "colorbar": {
             "outlinewidth": 0,
             "ticks": ""
            },
            "colorscale": [
             [
              0,
              "#0d0887"
             ],
             [
              0.1111111111111111,
              "#46039f"
             ],
             [
              0.2222222222222222,
              "#7201a8"
             ],
             [
              0.3333333333333333,
              "#9c179e"
             ],
             [
              0.4444444444444444,
              "#bd3786"
             ],
             [
              0.5555555555555556,
              "#d8576b"
             ],
             [
              0.6666666666666666,
              "#ed7953"
             ],
             [
              0.7777777777777778,
              "#fb9f3a"
             ],
             [
              0.8888888888888888,
              "#fdca26"
             ],
             [
              1,
              "#f0f921"
             ]
            ],
            "type": "histogram2dcontour"
           }
          ],
          "mesh3d": [
           {
            "colorbar": {
             "outlinewidth": 0,
             "ticks": ""
            },
            "type": "mesh3d"
           }
          ],
          "parcoords": [
           {
            "line": {
             "colorbar": {
              "outlinewidth": 0,
              "ticks": ""
             }
            },
            "type": "parcoords"
           }
          ],
          "pie": [
           {
            "automargin": true,
            "type": "pie"
           }
          ],
          "scatter": [
           {
            "marker": {
             "colorbar": {
              "outlinewidth": 0,
              "ticks": ""
             }
            },
            "type": "scatter"
           }
          ],
          "scatter3d": [
           {
            "line": {
             "colorbar": {
              "outlinewidth": 0,
              "ticks": ""
             }
            },
            "marker": {
             "colorbar": {
              "outlinewidth": 0,
              "ticks": ""
             }
            },
            "type": "scatter3d"
           }
          ],
          "scattercarpet": [
           {
            "marker": {
             "colorbar": {
              "outlinewidth": 0,
              "ticks": ""
             }
            },
            "type": "scattercarpet"
           }
          ],
          "scattergeo": [
           {
            "marker": {
             "colorbar": {
              "outlinewidth": 0,
              "ticks": ""
             }
            },
            "type": "scattergeo"
           }
          ],
          "scattergl": [
           {
            "marker": {
             "colorbar": {
              "outlinewidth": 0,
              "ticks": ""
             }
            },
            "type": "scattergl"
           }
          ],
          "scattermapbox": [
           {
            "marker": {
             "colorbar": {
              "outlinewidth": 0,
              "ticks": ""
             }
            },
            "type": "scattermapbox"
           }
          ],
          "scatterpolar": [
           {
            "marker": {
             "colorbar": {
              "outlinewidth": 0,
              "ticks": ""
             }
            },
            "type": "scatterpolar"
           }
          ],
          "scatterpolargl": [
           {
            "marker": {
             "colorbar": {
              "outlinewidth": 0,
              "ticks": ""
             }
            },
            "type": "scatterpolargl"
           }
          ],
          "scatterternary": [
           {
            "marker": {
             "colorbar": {
              "outlinewidth": 0,
              "ticks": ""
             }
            },
            "type": "scatterternary"
           }
          ],
          "surface": [
           {
            "colorbar": {
             "outlinewidth": 0,
             "ticks": ""
            },
            "colorscale": [
             [
              0,
              "#0d0887"
             ],
             [
              0.1111111111111111,
              "#46039f"
             ],
             [
              0.2222222222222222,
              "#7201a8"
             ],
             [
              0.3333333333333333,
              "#9c179e"
             ],
             [
              0.4444444444444444,
              "#bd3786"
             ],
             [
              0.5555555555555556,
              "#d8576b"
             ],
             [
              0.6666666666666666,
              "#ed7953"
             ],
             [
              0.7777777777777778,
              "#fb9f3a"
             ],
             [
              0.8888888888888888,
              "#fdca26"
             ],
             [
              1,
              "#f0f921"
             ]
            ],
            "type": "surface"
           }
          ],
          "table": [
           {
            "cells": {
             "fill": {
              "color": "#EBF0F8"
             },
             "line": {
              "color": "white"
             }
            },
            "header": {
             "fill": {
              "color": "#C8D4E3"
             },
             "line": {
              "color": "white"
             }
            },
            "type": "table"
           }
          ]
         },
         "layout": {
          "annotationdefaults": {
           "arrowcolor": "#2a3f5f",
           "arrowhead": 0,
           "arrowwidth": 1
          },
          "autotypenumbers": "strict",
          "coloraxis": {
           "colorbar": {
            "outlinewidth": 0,
            "ticks": ""
           }
          },
          "colorscale": {
           "diverging": [
            [
             0,
             "#8e0152"
            ],
            [
             0.1,
             "#c51b7d"
            ],
            [
             0.2,
             "#de77ae"
            ],
            [
             0.3,
             "#f1b6da"
            ],
            [
             0.4,
             "#fde0ef"
            ],
            [
             0.5,
             "#f7f7f7"
            ],
            [
             0.6,
             "#e6f5d0"
            ],
            [
             0.7,
             "#b8e186"
            ],
            [
             0.8,
             "#7fbc41"
            ],
            [
             0.9,
             "#4d9221"
            ],
            [
             1,
             "#276419"
            ]
           ],
           "sequential": [
            [
             0,
             "#0d0887"
            ],
            [
             0.1111111111111111,
             "#46039f"
            ],
            [
             0.2222222222222222,
             "#7201a8"
            ],
            [
             0.3333333333333333,
             "#9c179e"
            ],
            [
             0.4444444444444444,
             "#bd3786"
            ],
            [
             0.5555555555555556,
             "#d8576b"
            ],
            [
             0.6666666666666666,
             "#ed7953"
            ],
            [
             0.7777777777777778,
             "#fb9f3a"
            ],
            [
             0.8888888888888888,
             "#fdca26"
            ],
            [
             1,
             "#f0f921"
            ]
           ],
           "sequentialminus": [
            [
             0,
             "#0d0887"
            ],
            [
             0.1111111111111111,
             "#46039f"
            ],
            [
             0.2222222222222222,
             "#7201a8"
            ],
            [
             0.3333333333333333,
             "#9c179e"
            ],
            [
             0.4444444444444444,
             "#bd3786"
            ],
            [
             0.5555555555555556,
             "#d8576b"
            ],
            [
             0.6666666666666666,
             "#ed7953"
            ],
            [
             0.7777777777777778,
             "#fb9f3a"
            ],
            [
             0.8888888888888888,
             "#fdca26"
            ],
            [
             1,
             "#f0f921"
            ]
           ]
          },
          "colorway": [
           "#636efa",
           "#EF553B",
           "#00cc96",
           "#ab63fa",
           "#FFA15A",
           "#19d3f3",
           "#FF6692",
           "#B6E880",
           "#FF97FF",
           "#FECB52"
          ],
          "font": {
           "color": "#2a3f5f"
          },
          "geo": {
           "bgcolor": "white",
           "lakecolor": "white",
           "landcolor": "#E5ECF6",
           "showlakes": true,
           "showland": true,
           "subunitcolor": "white"
          },
          "hoverlabel": {
           "align": "left"
          },
          "hovermode": "closest",
          "mapbox": {
           "style": "light"
          },
          "paper_bgcolor": "white",
          "plot_bgcolor": "#E5ECF6",
          "polar": {
           "angularaxis": {
            "gridcolor": "white",
            "linecolor": "white",
            "ticks": ""
           },
           "bgcolor": "#E5ECF6",
           "radialaxis": {
            "gridcolor": "white",
            "linecolor": "white",
            "ticks": ""
           }
          },
          "scene": {
           "xaxis": {
            "backgroundcolor": "#E5ECF6",
            "gridcolor": "white",
            "gridwidth": 2,
            "linecolor": "white",
            "showbackground": true,
            "ticks": "",
            "zerolinecolor": "white"
           },
           "yaxis": {
            "backgroundcolor": "#E5ECF6",
            "gridcolor": "white",
            "gridwidth": 2,
            "linecolor": "white",
            "showbackground": true,
            "ticks": "",
            "zerolinecolor": "white"
           },
           "zaxis": {
            "backgroundcolor": "#E5ECF6",
            "gridcolor": "white",
            "gridwidth": 2,
            "linecolor": "white",
            "showbackground": true,
            "ticks": "",
            "zerolinecolor": "white"
           }
          },
          "shapedefaults": {
           "line": {
            "color": "#2a3f5f"
           }
          },
          "ternary": {
           "aaxis": {
            "gridcolor": "white",
            "linecolor": "white",
            "ticks": ""
           },
           "baxis": {
            "gridcolor": "white",
            "linecolor": "white",
            "ticks": ""
           },
           "bgcolor": "#E5ECF6",
           "caxis": {
            "gridcolor": "white",
            "linecolor": "white",
            "ticks": ""
           }
          },
          "title": {
           "x": 0.05
          },
          "xaxis": {
           "automargin": true,
           "gridcolor": "white",
           "linecolor": "white",
           "ticks": "",
           "title": {
            "standoff": 15
           },
           "zerolinecolor": "white",
           "zerolinewidth": 2
          },
          "yaxis": {
           "automargin": true,
           "gridcolor": "white",
           "linecolor": "white",
           "ticks": "",
           "title": {
            "standoff": 15
           },
           "zerolinecolor": "white",
           "zerolinewidth": 2
          }
         }
        },
        "title": {
         "text": "Loss"
        },
        "xaxis": {
         "anchor": "y",
         "autorange": true,
         "domain": [
          0,
          1
         ],
         "range": [
          1,
          20
         ],
         "title": {
          "text": "epoch"
         },
         "type": "linear"
        },
        "yaxis": {
         "anchor": "x",
         "autorange": true,
         "domain": [
          0,
          1
         ],
         "range": [
          18.545139736599392,
          39.01899295383029
         ],
         "title": {
          "text": "loss"
         },
         "type": "linear"
        }
       }
      },
      "image/png": "[encoded data removed]",
      "text/html": [
       "<div>                            <div id=\"55d76404-ec93-4f07-af26-56c87f42164b\" class=\"plotly-graph-div\" style=\"height:525px; width:100%;\"></div>            <script type=\"text/javascript\">                require([\"plotly\"], function(Plotly) {                    window.PLOTLYENV=window.PLOTLYENV || {};                                    if (document.getElementById(\"55d76404-ec93-4f07-af26-56c87f42164b\")) {                    Plotly.newPlot(                        \"55d76404-ec93-4f07-af26-56c87f42164b\",                        [{\"hovertemplate\": \"epoch=%{x}<br>loss=%{y}<extra></extra>\", \"legendgroup\": \"\", \"line\": {\"color\": \"#636efa\", \"dash\": \"solid\"}, \"mode\": \"lines\", \"name\": \"\", \"orientation\": \"v\", \"showlegend\": false, \"type\": \"scatter\", \"x\": [1, 2, 3, 4, 5, 6, 7, 8, 9, 10, 11, 12, 13, 14, 15, 16, 17, 18, 19, 20], \"xaxis\": \"x\", \"y\": [33.901206970214844, 26.673439025878903, 21.39190101623535, 28.73334503173828, 21.92147254943848, 30.01875305175781, 19.568832397460938, 20.39532470703125, 33.08468246459961, 36.08154678344727, 29.977481842041016, 29.100250244140625, 37.67122650146485, 32.32266616821289, 36.72174835205078, 23.109283447265625, 23.129432678222656, 32.39350128173828, 37.99530029296875, 35.11764144897461], \"yaxis\": \"y\"}],                        {\"legend\": {\"tracegroupgap\": 0}, \"template\": {\"data\": {\"bar\": [{\"error_x\": {\"color\": \"#2a3f5f\"}, \"error_y\": {\"color\": \"#2a3f5f\"}, \"marker\": {\"line\": {\"color\": \"#E5ECF6\", \"width\": 0.5}}, \"type\": \"bar\"}], \"barpolar\": [{\"marker\": {\"line\": {\"color\": \"#E5ECF6\", \"width\": 0.5}}, \"type\": \"barpolar\"}], \"carpet\": [{\"aaxis\": {\"endlinecolor\": \"#2a3f5f\", \"gridcolor\": \"white\", \"linecolor\": \"white\", \"minorgridcolor\": \"white\", \"startlinecolor\": \"#2a3f5f\"}, \"baxis\": {\"endlinecolor\": \"#2a3f5f\", \"gridcolor\": \"white\", \"linecolor\": \"white\", \"minorgridcolor\": \"white\", \"startlinecolor\": \"#2a3f5f\"}, \"type\": \"carpet\"}], \"choropleth\": [{\"colorbar\": {\"outlinewidth\": 0, \"ticks\": \"\"}, \"type\": \"choropleth\"}], \"contour\": [{\"colorbar\": {\"outlinewidth\": 0, \"ticks\": \"\"}, \"colorscale\": [[0.0, \"#0d0887\"], [0.1111111111111111, \"#46039f\"], [0.2222222222222222, \"#7201a8\"], [0.3333333333333333, \"#9c179e\"], [0.4444444444444444, \"#bd3786\"], [0.5555555555555556, \"#d8576b\"], [0.6666666666666666, \"#ed7953\"], [0.7777777777777778, \"#fb9f3a\"], [0.8888888888888888, \"#fdca26\"], [1.0, \"#f0f921\"]], \"type\": \"contour\"}], \"contourcarpet\": [{\"colorbar\": {\"outlinewidth\": 0, \"ticks\": \"\"}, \"type\": \"contourcarpet\"}], \"heatmap\": [{\"colorbar\": {\"outlinewidth\": 0, \"ticks\": \"\"}, \"colorscale\": [[0.0, \"#0d0887\"], [0.1111111111111111, \"#46039f\"], [0.2222222222222222, \"#7201a8\"], [0.3333333333333333, \"#9c179e\"], [0.4444444444444444, \"#bd3786\"], [0.5555555555555556, \"#d8576b\"], [0.6666666666666666, \"#ed7953\"], [0.7777777777777778, \"#fb9f3a\"], [0.8888888888888888, \"#fdca26\"], [1.0, \"#f0f921\"]], \"type\": \"heatmap\"}], \"heatmapgl\": [{\"colorbar\": {\"outlinewidth\": 0, \"ticks\": \"\"}, \"colorscale\": [[0.0, \"#0d0887\"], [0.1111111111111111, \"#46039f\"], [0.2222222222222222, \"#7201a8\"], [0.3333333333333333, \"#9c179e\"], [0.4444444444444444, \"#bd3786\"], [0.5555555555555556, \"#d8576b\"], [0.6666666666666666, \"#ed7953\"], [0.7777777777777778, \"#fb9f3a\"], [0.8888888888888888, \"#fdca26\"], [1.0, \"#f0f921\"]], \"type\": \"heatmapgl\"}], \"histogram\": [{\"marker\": {\"colorbar\": {\"outlinewidth\": 0, \"ticks\": \"\"}}, \"type\": \"histogram\"}], \"histogram2d\": [{\"colorbar\": {\"outlinewidth\": 0, \"ticks\": \"\"}, \"colorscale\": [[0.0, \"#0d0887\"], [0.1111111111111111, \"#46039f\"], [0.2222222222222222, \"#7201a8\"], [0.3333333333333333, \"#9c179e\"], [0.4444444444444444, \"#bd3786\"], [0.5555555555555556, \"#d8576b\"], [0.6666666666666666, \"#ed7953\"], [0.7777777777777778, \"#fb9f3a\"], [0.8888888888888888, \"#fdca26\"], [1.0, \"#f0f921\"]], \"type\": \"histogram2d\"}], \"histogram2dcontour\": [{\"colorbar\": {\"outlinewidth\": 0, \"ticks\": \"\"}, \"colorscale\": [[0.0, \"#0d0887\"], [0.1111111111111111, \"#46039f\"], [0.2222222222222222, \"#7201a8\"], [0.3333333333333333, \"#9c179e\"], [0.4444444444444444, \"#bd3786\"], [0.5555555555555556, \"#d8576b\"], [0.6666666666666666, \"#ed7953\"], [0.7777777777777778, \"#fb9f3a\"], [0.8888888888888888, \"#fdca26\"], [1.0, \"#f0f921\"]], \"type\": \"histogram2dcontour\"}], \"mesh3d\": [{\"colorbar\": {\"outlinewidth\": 0, \"ticks\": \"\"}, \"type\": \"mesh3d\"}], \"parcoords\": [{\"line\": {\"colorbar\": {\"outlinewidth\": 0, \"ticks\": \"\"}}, \"type\": \"parcoords\"}], \"pie\": [{\"automargin\": true, \"type\": \"pie\"}], \"scatter\": [{\"marker\": {\"colorbar\": {\"outlinewidth\": 0, \"ticks\": \"\"}}, \"type\": \"scatter\"}], \"scatter3d\": [{\"line\": {\"colorbar\": {\"outlinewidth\": 0, \"ticks\": \"\"}}, \"marker\": {\"colorbar\": {\"outlinewidth\": 0, \"ticks\": \"\"}}, \"type\": \"scatter3d\"}], \"scattercarpet\": [{\"marker\": {\"colorbar\": {\"outlinewidth\": 0, \"ticks\": \"\"}}, \"type\": \"scattercarpet\"}], \"scattergeo\": [{\"marker\": {\"colorbar\": {\"outlinewidth\": 0, \"ticks\": \"\"}}, \"type\": \"scattergeo\"}], \"scattergl\": [{\"marker\": {\"colorbar\": {\"outlinewidth\": 0, \"ticks\": \"\"}}, \"type\": \"scattergl\"}], \"scattermapbox\": [{\"marker\": {\"colorbar\": {\"outlinewidth\": 0, \"ticks\": \"\"}}, \"type\": \"scattermapbox\"}], \"scatterpolar\": [{\"marker\": {\"colorbar\": {\"outlinewidth\": 0, \"ticks\": \"\"}}, \"type\": \"scatterpolar\"}], \"scatterpolargl\": [{\"marker\": {\"colorbar\": {\"outlinewidth\": 0, \"ticks\": \"\"}}, \"type\": \"scatterpolargl\"}], \"scatterternary\": [{\"marker\": {\"colorbar\": {\"outlinewidth\": 0, \"ticks\": \"\"}}, \"type\": \"scatterternary\"}], \"surface\": [{\"colorbar\": {\"outlinewidth\": 0, \"ticks\": \"\"}, \"colorscale\": [[0.0, \"#0d0887\"], [0.1111111111111111, \"#46039f\"], [0.2222222222222222, \"#7201a8\"], [0.3333333333333333, \"#9c179e\"], [0.4444444444444444, \"#bd3786\"], [0.5555555555555556, \"#d8576b\"], [0.6666666666666666, \"#ed7953\"], [0.7777777777777778, \"#fb9f3a\"], [0.8888888888888888, \"#fdca26\"], [1.0, \"#f0f921\"]], \"type\": \"surface\"}], \"table\": [{\"cells\": {\"fill\": {\"color\": \"#EBF0F8\"}, \"line\": {\"color\": \"white\"}}, \"header\": {\"fill\": {\"color\": \"#C8D4E3\"}, \"line\": {\"color\": \"white\"}}, \"type\": \"table\"}]}, \"layout\": {\"annotationdefaults\": {\"arrowcolor\": \"#2a3f5f\", \"arrowhead\": 0, \"arrowwidth\": 1}, \"autotypenumbers\": \"strict\", \"coloraxis\": {\"colorbar\": {\"outlinewidth\": 0, \"ticks\": \"\"}}, \"colorscale\": {\"diverging\": [[0, \"#8e0152\"], [0.1, \"#c51b7d\"], [0.2, \"#de77ae\"], [0.3, \"#f1b6da\"], [0.4, \"#fde0ef\"], [0.5, \"#f7f7f7\"], [0.6, \"#e6f5d0\"], [0.7, \"#b8e186\"], [0.8, \"#7fbc41\"], [0.9, \"#4d9221\"], [1, \"#276419\"]], \"sequential\": [[0.0, \"#0d0887\"], [0.1111111111111111, \"#46039f\"], [0.2222222222222222, \"#7201a8\"], [0.3333333333333333, \"#9c179e\"], [0.4444444444444444, \"#bd3786\"], [0.5555555555555556, \"#d8576b\"], [0.6666666666666666, \"#ed7953\"], [0.7777777777777778, \"#fb9f3a\"], [0.8888888888888888, \"#fdca26\"], [1.0, \"#f0f921\"]], \"sequentialminus\": [[0.0, \"#0d0887\"], [0.1111111111111111, \"#46039f\"], [0.2222222222222222, \"#7201a8\"], [0.3333333333333333, \"#9c179e\"], [0.4444444444444444, \"#bd3786\"], [0.5555555555555556, \"#d8576b\"], [0.6666666666666666, \"#ed7953\"], [0.7777777777777778, \"#fb9f3a\"], [0.8888888888888888, \"#fdca26\"], [1.0, \"#f0f921\"]]}, \"colorway\": [\"#636efa\", \"#EF553B\", \"#00cc96\", \"#ab63fa\", \"#FFA15A\", \"#19d3f3\", \"#FF6692\", \"#B6E880\", \"#FF97FF\", \"#FECB52\"], \"font\": {\"color\": \"#2a3f5f\"}, \"geo\": {\"bgcolor\": \"white\", \"lakecolor\": \"white\", \"landcolor\": \"#E5ECF6\", \"showlakes\": true, \"showland\": true, \"subunitcolor\": \"white\"}, \"hoverlabel\": {\"align\": \"left\"}, \"hovermode\": \"closest\", \"mapbox\": {\"style\": \"light\"}, \"paper_bgcolor\": \"white\", \"plot_bgcolor\": \"#E5ECF6\", \"polar\": {\"angularaxis\": {\"gridcolor\": \"white\", \"linecolor\": \"white\", \"ticks\": \"\"}, \"bgcolor\": \"#E5ECF6\", \"radialaxis\": {\"gridcolor\": \"white\", \"linecolor\": \"white\", \"ticks\": \"\"}}, \"scene\": {\"xaxis\": {\"backgroundcolor\": \"#E5ECF6\", \"gridcolor\": \"white\", \"gridwidth\": 2, \"linecolor\": \"white\", \"showbackground\": true, \"ticks\": \"\", \"zerolinecolor\": \"white\"}, \"yaxis\": {\"backgroundcolor\": \"#E5ECF6\", \"gridcolor\": \"white\", \"gridwidth\": 2, \"linecolor\": \"white\", \"showbackground\": true, \"ticks\": \"\", \"zerolinecolor\": \"white\"}, \"zaxis\": {\"backgroundcolor\": \"#E5ECF6\", \"gridcolor\": \"white\", \"gridwidth\": 2, \"linecolor\": \"white\", \"showbackground\": true, \"ticks\": \"\", \"zerolinecolor\": \"white\"}}, \"shapedefaults\": {\"line\": {\"color\": \"#2a3f5f\"}}, \"ternary\": {\"aaxis\": {\"gridcolor\": \"white\", \"linecolor\": \"white\", \"ticks\": \"\"}, \"baxis\": {\"gridcolor\": \"white\", \"linecolor\": \"white\", \"ticks\": \"\"}, \"bgcolor\": \"#E5ECF6\", \"caxis\": {\"gridcolor\": \"white\", \"linecolor\": \"white\", \"ticks\": \"\"}}, \"title\": {\"x\": 0.05}, \"xaxis\": {\"automargin\": true, \"gridcolor\": \"white\", \"linecolor\": \"white\", \"ticks\": \"\", \"title\": {\"standoff\": 15}, \"zerolinecolor\": \"white\", \"zerolinewidth\": 2}, \"yaxis\": {\"automargin\": true, \"gridcolor\": \"white\", \"linecolor\": \"white\", \"ticks\": \"\", \"title\": {\"standoff\": 15}, \"zerolinecolor\": \"white\", \"zerolinewidth\": 2}}}, \"title\": {\"text\": \"Loss\"}, \"xaxis\": {\"anchor\": \"y\", \"domain\": [0.0, 1.0], \"title\": {\"text\": \"epoch\"}}, \"yaxis\": {\"anchor\": \"x\", \"domain\": [0.0, 1.0], \"title\": {\"text\": \"loss\"}}},                        {\"responsive\": true}                    ).then(function(){\n",
       "                            \n",
       "var gd = document.getElementById('55d76404-ec93-4f07-af26-56c87f42164b');\n",
       "var x = new MutationObserver(function (mutations, observer) {{\n",
       "        var display = window.getComputedStyle(gd).display;\n",
       "        if (!display || display === 'none') {{\n",
       "            console.log([gd, 'removed!']);\n",
       "            Plotly.purge(gd);\n",
       "            observer.disconnect();\n",
       "        }}\n",
       "}});\n",
       "\n",
       "// Listen for the removal of the full notebook cells\n",
       "var notebookContainer = gd.closest('#notebook-container');\n",
       "if (notebookContainer) {{\n",
       "    x.observe(notebookContainer, {childList: true});\n",
       "}}\n",
       "\n",
       "// Listen for the clearing of the current output cell\n",
       "var outputEl = gd.closest('.output');\n",
       "if (outputEl) {{\n",
       "    x.observe(outputEl, {childList: true});\n",
       "}}\n",
       "\n",
       "                        })                };                });            </script>        </div>"
      ]
     },
     "metadata": {},
     "output_type": "display_data"
    },
    {
     "data": {
      "application/vnd.plotly.v1+json": {
       "config": {
        "plotlyServerURL": "https://plot.ly"
       },
       "data": [
        {
         "hovertemplate": "variable=train_accuracy<br>epoch=%{x}<br>value=%{y}<extra></extra>",
         "legendgroup": "train_accuracy",
         "line": {
          "color": "#636efa",
          "dash": "solid"
         },
         "mode": "lines",
         "name": "train_accuracy",
         "orientation": "v",
         "showlegend": true,
         "type": "scatter",
         "x": [
          1,
          2,
          3,
          4,
          5,
          6,
          7,
          8,
          9,
          10,
          11,
          12,
          13,
          14,
          15,
          16,
          17,
          18,
          19,
          20
         ],
         "xaxis": "x",
         "y": [
          0.4536602957086188,
          0.5244207536963578,
          0.5012734403173459,
          0.5129259826902272,
          0.5053754958528669,
          0.5104805265055896,
          0.5021524522178147,
          0.5018481788676523,
          0.516295528308691,
          0.5029976559682654,
          0.5029976559682654,
          0.5071222502704652,
          0.5083956905878111,
          0.5102889469888208,
          0.4937905697800216,
          0.5065137035701407,
          0.4893053552109628,
          0.5081815723043636,
          0.4850680670753696,
          0.4961458708979445
         ],
         "yaxis": "y"
        },
        {
         "hovertemplate": "variable=dev_accuracy<br>epoch=%{x}<br>value=%{y}<extra></extra>",
         "legendgroup": "dev_accuracy",
         "line": {
          "color": "#EF553B",
          "dash": "solid"
         },
         "mode": "lines",
         "name": "dev_accuracy",
         "orientation": "v",
         "showlegend": true,
         "type": "scatter",
         "x": [
          1,
          2,
          3,
          4,
          5,
          6,
          7,
          8,
          9,
          10,
          11,
          12,
          13,
          14,
          15,
          16,
          17,
          18,
          19,
          20
         ],
         "xaxis": "x",
         "y": [
          0.4981519877400162,
          0.6029027314522672,
          0.6014603804200848,
          0.5981249436581628,
          0.5943387721986838,
          0.5845127557919408,
          0.5899215721626251,
          0.5936175966825926,
          0.4970702244658794,
          0.5077977102677365,
          0.4988731632561075,
          0.5956008293518436,
          0.5040115388082574,
          0.504372126566303,
          0.5002253673487785,
          0.5956909762913549,
          0.5871270170377716,
          0.5050031551428829,
          0.4124222482646714,
          0.4928333183088434
         ],
         "yaxis": "y"
        }
       ],
       "layout": {
        "autosize": true,
        "legend": {
         "title": {
          "text": "variable"
         },
         "tracegroupgap": 0
        },
        "template": {
         "data": {
          "bar": [
           {
            "error_x": {
             "color": "#2a3f5f"
            },
            "error_y": {
             "color": "#2a3f5f"
            },
            "marker": {
             "line": {
              "color": "#E5ECF6",
              "width": 0.5
             }
            },
            "type": "bar"
           }
          ],
          "barpolar": [
           {
            "marker": {
             "line": {
              "color": "#E5ECF6",
              "width": 0.5
             }
            },
            "type": "barpolar"
           }
          ],
          "carpet": [
           {
            "aaxis": {
             "endlinecolor": "#2a3f5f",
             "gridcolor": "white",
             "linecolor": "white",
             "minorgridcolor": "white",
             "startlinecolor": "#2a3f5f"
            },
            "baxis": {
             "endlinecolor": "#2a3f5f",
             "gridcolor": "white",
             "linecolor": "white",
             "minorgridcolor": "white",
             "startlinecolor": "#2a3f5f"
            },
            "type": "carpet"
           }
          ],
          "choropleth": [
           {
            "colorbar": {
             "outlinewidth": 0,
             "ticks": ""
            },
            "type": "choropleth"
           }
          ],
          "contour": [
           {
            "colorbar": {
             "outlinewidth": 0,
             "ticks": ""
            },
            "colorscale": [
             [
              0,
              "#0d0887"
             ],
             [
              0.1111111111111111,
              "#46039f"
             ],
             [
              0.2222222222222222,
              "#7201a8"
             ],
             [
              0.3333333333333333,
              "#9c179e"
             ],
             [
              0.4444444444444444,
              "#bd3786"
             ],
             [
              0.5555555555555556,
              "#d8576b"
             ],
             [
              0.6666666666666666,
              "#ed7953"
             ],
             [
              0.7777777777777778,
              "#fb9f3a"
             ],
             [
              0.8888888888888888,
              "#fdca26"
             ],
             [
              1,
              "#f0f921"
             ]
            ],
            "type": "contour"
           }
          ],
          "contourcarpet": [
           {
            "colorbar": {
             "outlinewidth": 0,
             "ticks": ""
            },
            "type": "contourcarpet"
           }
          ],
          "heatmap": [
           {
            "colorbar": {
             "outlinewidth": 0,
             "ticks": ""
            },
            "colorscale": [
             [
              0,
              "#0d0887"
             ],
             [
              0.1111111111111111,
              "#46039f"
             ],
             [
              0.2222222222222222,
              "#7201a8"
             ],
             [
              0.3333333333333333,
              "#9c179e"
             ],
             [
              0.4444444444444444,
              "#bd3786"
             ],
             [
              0.5555555555555556,
              "#d8576b"
             ],
             [
              0.6666666666666666,
              "#ed7953"
             ],
             [
              0.7777777777777778,
              "#fb9f3a"
             ],
             [
              0.8888888888888888,
              "#fdca26"
             ],
             [
              1,
              "#f0f921"
             ]
            ],
            "type": "heatmap"
           }
          ],
          "heatmapgl": [
           {
            "colorbar": {
             "outlinewidth": 0,
             "ticks": ""
            },
            "colorscale": [
             [
              0,
              "#0d0887"
             ],
             [
              0.1111111111111111,
              "#46039f"
             ],
             [
              0.2222222222222222,
              "#7201a8"
             ],
             [
              0.3333333333333333,
              "#9c179e"
             ],
             [
              0.4444444444444444,
              "#bd3786"
             ],
             [
              0.5555555555555556,
              "#d8576b"
             ],
             [
              0.6666666666666666,
              "#ed7953"
             ],
             [
              0.7777777777777778,
              "#fb9f3a"
             ],
             [
              0.8888888888888888,
              "#fdca26"
             ],
             [
              1,
              "#f0f921"
             ]
            ],
            "type": "heatmapgl"
           }
          ],
          "histogram": [
           {
            "marker": {
             "colorbar": {
              "outlinewidth": 0,
              "ticks": ""
             }
            },
            "type": "histogram"
           }
          ],
          "histogram2d": [
           {
            "colorbar": {
             "outlinewidth": 0,
             "ticks": ""
            },
            "colorscale": [
             [
              0,
              "#0d0887"
             ],
             [
              0.1111111111111111,
              "#46039f"
             ],
             [
              0.2222222222222222,
              "#7201a8"
             ],
             [
              0.3333333333333333,
              "#9c179e"
             ],
             [
              0.4444444444444444,
              "#bd3786"
             ],
             [
              0.5555555555555556,
              "#d8576b"
             ],
             [
              0.6666666666666666,
              "#ed7953"
             ],
             [
              0.7777777777777778,
              "#fb9f3a"
             ],
             [
              0.8888888888888888,
              "#fdca26"
             ],
             [
              1,
              "#f0f921"
             ]
            ],
            "type": "histogram2d"
           }
          ],
          "histogram2dcontour": [
           {
            "colorbar": {
             "outlinewidth": 0,
             "ticks": ""
            },
            "colorscale": [
             [
              0,
              "#0d0887"
             ],
             [
              0.1111111111111111,
              "#46039f"
             ],
             [
              0.2222222222222222,
              "#7201a8"
             ],
             [
              0.3333333333333333,
              "#9c179e"
             ],
             [
              0.4444444444444444,
              "#bd3786"
             ],
             [
              0.5555555555555556,
              "#d8576b"
             ],
             [
              0.6666666666666666,
              "#ed7953"
             ],
             [
              0.7777777777777778,
              "#fb9f3a"
             ],
             [
              0.8888888888888888,
              "#fdca26"
             ],
             [
              1,
              "#f0f921"
             ]
            ],
            "type": "histogram2dcontour"
           }
          ],
          "mesh3d": [
           {
            "colorbar": {
             "outlinewidth": 0,
             "ticks": ""
            },
            "type": "mesh3d"
           }
          ],
          "parcoords": [
           {
            "line": {
             "colorbar": {
              "outlinewidth": 0,
              "ticks": ""
             }
            },
            "type": "parcoords"
           }
          ],
          "pie": [
           {
            "automargin": true,
            "type": "pie"
           }
          ],
          "scatter": [
           {
            "marker": {
             "colorbar": {
              "outlinewidth": 0,
              "ticks": ""
             }
            },
            "type": "scatter"
           }
          ],
          "scatter3d": [
           {
            "line": {
             "colorbar": {
              "outlinewidth": 0,
              "ticks": ""
             }
            },
            "marker": {
             "colorbar": {
              "outlinewidth": 0,
              "ticks": ""
             }
            },
            "type": "scatter3d"
           }
          ],
          "scattercarpet": [
           {
            "marker": {
             "colorbar": {
              "outlinewidth": 0,
              "ticks": ""
             }
            },
            "type": "scattercarpet"
           }
          ],
          "scattergeo": [
           {
            "marker": {
             "colorbar": {
              "outlinewidth": 0,
              "ticks": ""
             }
            },
            "type": "scattergeo"
           }
          ],
          "scattergl": [
           {
            "marker": {
             "colorbar": {
              "outlinewidth": 0,
              "ticks": ""
             }
            },
            "type": "scattergl"
           }
          ],
          "scattermapbox": [
           {
            "marker": {
             "colorbar": {
              "outlinewidth": 0,
              "ticks": ""
             }
            },
            "type": "scattermapbox"
           }
          ],
          "scatterpolar": [
           {
            "marker": {
             "colorbar": {
              "outlinewidth": 0,
              "ticks": ""
             }
            },
            "type": "scatterpolar"
           }
          ],
          "scatterpolargl": [
           {
            "marker": {
             "colorbar": {
              "outlinewidth": 0,
              "ticks": ""
             }
            },
            "type": "scatterpolargl"
           }
          ],
          "scatterternary": [
           {
            "marker": {
             "colorbar": {
              "outlinewidth": 0,
              "ticks": ""
             }
            },
            "type": "scatterternary"
           }
          ],
          "surface": [
           {
            "colorbar": {
             "outlinewidth": 0,
             "ticks": ""
            },
            "colorscale": [
             [
              0,
              "#0d0887"
             ],
             [
              0.1111111111111111,
              "#46039f"
             ],
             [
              0.2222222222222222,
              "#7201a8"
             ],
             [
              0.3333333333333333,
              "#9c179e"
             ],
             [
              0.4444444444444444,
              "#bd3786"
             ],
             [
              0.5555555555555556,
              "#d8576b"
             ],
             [
              0.6666666666666666,
              "#ed7953"
             ],
             [
              0.7777777777777778,
              "#fb9f3a"
             ],
             [
              0.8888888888888888,
              "#fdca26"
             ],
             [
              1,
              "#f0f921"
             ]
            ],
            "type": "surface"
           }
          ],
          "table": [
           {
            "cells": {
             "fill": {
              "color": "#EBF0F8"
             },
             "line": {
              "color": "white"
             }
            },
            "header": {
             "fill": {
              "color": "#C8D4E3"
             },
             "line": {
              "color": "white"
             }
            },
            "type": "table"
           }
          ]
         },
         "layout": {
          "annotationdefaults": {
           "arrowcolor": "#2a3f5f",
           "arrowhead": 0,
           "arrowwidth": 1
          },
          "autotypenumbers": "strict",
          "coloraxis": {
           "colorbar": {
            "outlinewidth": 0,
            "ticks": ""
           }
          },
          "colorscale": {
           "diverging": [
            [
             0,
             "#8e0152"
            ],
            [
             0.1,
             "#c51b7d"
            ],
            [
             0.2,
             "#de77ae"
            ],
            [
             0.3,
             "#f1b6da"
            ],
            [
             0.4,
             "#fde0ef"
            ],
            [
             0.5,
             "#f7f7f7"
            ],
            [
             0.6,
             "#e6f5d0"
            ],
            [
             0.7,
             "#b8e186"
            ],
            [
             0.8,
             "#7fbc41"
            ],
            [
             0.9,
             "#4d9221"
            ],
            [
             1,
             "#276419"
            ]
           ],
           "sequential": [
            [
             0,
             "#0d0887"
            ],
            [
             0.1111111111111111,
             "#46039f"
            ],
            [
             0.2222222222222222,
             "#7201a8"
            ],
            [
             0.3333333333333333,
             "#9c179e"
            ],
            [
             0.4444444444444444,
             "#bd3786"
            ],
            [
             0.5555555555555556,
             "#d8576b"
            ],
            [
             0.6666666666666666,
             "#ed7953"
            ],
            [
             0.7777777777777778,
             "#fb9f3a"
            ],
            [
             0.8888888888888888,
             "#fdca26"
            ],
            [
             1,
             "#f0f921"
            ]
           ],
           "sequentialminus": [
            [
             0,
             "#0d0887"
            ],
            [
             0.1111111111111111,
             "#46039f"
            ],
            [
             0.2222222222222222,
             "#7201a8"
            ],
            [
             0.3333333333333333,
             "#9c179e"
            ],
            [
             0.4444444444444444,
             "#bd3786"
            ],
            [
             0.5555555555555556,
             "#d8576b"
            ],
            [
             0.6666666666666666,
             "#ed7953"
            ],
            [
             0.7777777777777778,
             "#fb9f3a"
            ],
            [
             0.8888888888888888,
             "#fdca26"
            ],
            [
             1,
             "#f0f921"
            ]
           ]
          },
          "colorway": [
           "#636efa",
           "#EF553B",
           "#00cc96",
           "#ab63fa",
           "#FFA15A",
           "#19d3f3",
           "#FF6692",
           "#B6E880",
           "#FF97FF",
           "#FECB52"
          ],
          "font": {
           "color": "#2a3f5f"
          },
          "geo": {
           "bgcolor": "white",
           "lakecolor": "white",
           "landcolor": "#E5ECF6",
           "showlakes": true,
           "showland": true,
           "subunitcolor": "white"
          },
          "hoverlabel": {
           "align": "left"
          },
          "hovermode": "closest",
          "mapbox": {
           "style": "light"
          },
          "paper_bgcolor": "white",
          "plot_bgcolor": "#E5ECF6",
          "polar": {
           "angularaxis": {
            "gridcolor": "white",
            "linecolor": "white",
            "ticks": ""
           },
           "bgcolor": "#E5ECF6",
           "radialaxis": {
            "gridcolor": "white",
            "linecolor": "white",
            "ticks": ""
           }
          },
          "scene": {
           "xaxis": {
            "backgroundcolor": "#E5ECF6",
            "gridcolor": "white",
            "gridwidth": 2,
            "linecolor": "white",
            "showbackground": true,
            "ticks": "",
            "zerolinecolor": "white"
           },
           "yaxis": {
            "backgroundcolor": "#E5ECF6",
            "gridcolor": "white",
            "gridwidth": 2,
            "linecolor": "white",
            "showbackground": true,
            "ticks": "",
            "zerolinecolor": "white"
           },
           "zaxis": {
            "backgroundcolor": "#E5ECF6",
            "gridcolor": "white",
            "gridwidth": 2,
            "linecolor": "white",
            "showbackground": true,
            "ticks": "",
            "zerolinecolor": "white"
           }
          },
          "shapedefaults": {
           "line": {
            "color": "#2a3f5f"
           }
          },
          "ternary": {
           "aaxis": {
            "gridcolor": "white",
            "linecolor": "white",
            "ticks": ""
           },
           "baxis": {
            "gridcolor": "white",
            "linecolor": "white",
            "ticks": ""
           },
           "bgcolor": "#E5ECF6",
           "caxis": {
            "gridcolor": "white",
            "linecolor": "white",
            "ticks": ""
           }
          },
          "title": {
           "x": 0.05
          },
          "xaxis": {
           "automargin": true,
           "gridcolor": "white",
           "linecolor": "white",
           "ticks": "",
           "title": {
            "standoff": 15
           },
           "zerolinecolor": "white",
           "zerolinewidth": 2
          },
          "yaxis": {
           "automargin": true,
           "gridcolor": "white",
           "linecolor": "white",
           "ticks": "",
           "title": {
            "standoff": 15
           },
           "zerolinecolor": "white",
           "zerolinewidth": 2
          }
         }
        },
        "title": {
         "text": "Accuracy"
        },
        "xaxis": {
         "anchor": "y",
         "autorange": true,
         "domain": [
          0,
          1
         ],
         "range": [
          1,
          20
         ],
         "title": {
          "text": "epoch"
         },
         "type": "linear"
        },
        "yaxis": {
         "anchor": "x",
         "autorange": true,
         "domain": [
          0,
          1
         ],
         "range": [
          0.40183999919869384,
          0.6134849805182448
         ],
         "title": {
          "text": "value"
         },
         "type": "linear"
        }
       }
      },
      "image/png": "[encoded data removed]",
      "text/html": [
       "<div>                            <div id=\"d87f07d2-8191-4848-8c58-4d2d8174cdf5\" class=\"plotly-graph-div\" style=\"height:525px; width:100%;\"></div>            <script type=\"text/javascript\">                require([\"plotly\"], function(Plotly) {                    window.PLOTLYENV=window.PLOTLYENV || {};                                    if (document.getElementById(\"d87f07d2-8191-4848-8c58-4d2d8174cdf5\")) {                    Plotly.newPlot(                        \"d87f07d2-8191-4848-8c58-4d2d8174cdf5\",                        [{\"hovertemplate\": \"variable=train_accuracy<br>epoch=%{x}<br>value=%{y}<extra></extra>\", \"legendgroup\": \"train_accuracy\", \"line\": {\"color\": \"#636efa\", \"dash\": \"solid\"}, \"mode\": \"lines\", \"name\": \"train_accuracy\", \"orientation\": \"v\", \"showlegend\": true, \"type\": \"scatter\", \"x\": [1, 2, 3, 4, 5, 6, 7, 8, 9, 10, 11, 12, 13, 14, 15, 16, 17, 18, 19, 20], \"xaxis\": \"x\", \"y\": [0.4536602957086188, 0.5244207536963578, 0.5012734403173459, 0.5129259826902272, 0.5053754958528669, 0.5104805265055896, 0.5021524522178147, 0.5018481788676523, 0.516295528308691, 0.5029976559682654, 0.5029976559682654, 0.5071222502704652, 0.5083956905878111, 0.5102889469888208, 0.4937905697800216, 0.5065137035701407, 0.4893053552109628, 0.5081815723043636, 0.4850680670753696, 0.4961458708979445], \"yaxis\": \"y\"}, {\"hovertemplate\": \"variable=dev_accuracy<br>epoch=%{x}<br>value=%{y}<extra></extra>\", \"legendgroup\": \"dev_accuracy\", \"line\": {\"color\": \"#EF553B\", \"dash\": \"solid\"}, \"mode\": \"lines\", \"name\": \"dev_accuracy\", \"orientation\": \"v\", \"showlegend\": true, \"type\": \"scatter\", \"x\": [1, 2, 3, 4, 5, 6, 7, 8, 9, 10, 11, 12, 13, 14, 15, 16, 17, 18, 19, 20], \"xaxis\": \"x\", \"y\": [0.4981519877400162, 0.6029027314522672, 0.6014603804200848, 0.5981249436581628, 0.5943387721986838, 0.5845127557919408, 0.5899215721626251, 0.5936175966825926, 0.4970702244658794, 0.5077977102677365, 0.4988731632561075, 0.5956008293518436, 0.5040115388082574, 0.504372126566303, 0.5002253673487785, 0.5956909762913549, 0.5871270170377716, 0.5050031551428829, 0.4124222482646714, 0.4928333183088434], \"yaxis\": \"y\"}],                        {\"legend\": {\"title\": {\"text\": \"variable\"}, \"tracegroupgap\": 0}, \"template\": {\"data\": {\"bar\": [{\"error_x\": {\"color\": \"#2a3f5f\"}, \"error_y\": {\"color\": \"#2a3f5f\"}, \"marker\": {\"line\": {\"color\": \"#E5ECF6\", \"width\": 0.5}}, \"type\": \"bar\"}], \"barpolar\": [{\"marker\": {\"line\": {\"color\": \"#E5ECF6\", \"width\": 0.5}}, \"type\": \"barpolar\"}], \"carpet\": [{\"aaxis\": {\"endlinecolor\": \"#2a3f5f\", \"gridcolor\": \"white\", \"linecolor\": \"white\", \"minorgridcolor\": \"white\", \"startlinecolor\": \"#2a3f5f\"}, \"baxis\": {\"endlinecolor\": \"#2a3f5f\", \"gridcolor\": \"white\", \"linecolor\": \"white\", \"minorgridcolor\": \"white\", \"startlinecolor\": \"#2a3f5f\"}, \"type\": \"carpet\"}], \"choropleth\": [{\"colorbar\": {\"outlinewidth\": 0, \"ticks\": \"\"}, \"type\": \"choropleth\"}], \"contour\": [{\"colorbar\": {\"outlinewidth\": 0, \"ticks\": \"\"}, \"colorscale\": [[0.0, \"#0d0887\"], [0.1111111111111111, \"#46039f\"], [0.2222222222222222, \"#7201a8\"], [0.3333333333333333, \"#9c179e\"], [0.4444444444444444, \"#bd3786\"], [0.5555555555555556, \"#d8576b\"], [0.6666666666666666, \"#ed7953\"], [0.7777777777777778, \"#fb9f3a\"], [0.8888888888888888, \"#fdca26\"], [1.0, \"#f0f921\"]], \"type\": \"contour\"}], \"contourcarpet\": [{\"colorbar\": {\"outlinewidth\": 0, \"ticks\": \"\"}, \"type\": \"contourcarpet\"}], \"heatmap\": [{\"colorbar\": {\"outlinewidth\": 0, \"ticks\": \"\"}, \"colorscale\": [[0.0, \"#0d0887\"], [0.1111111111111111, \"#46039f\"], [0.2222222222222222, \"#7201a8\"], [0.3333333333333333, \"#9c179e\"], [0.4444444444444444, \"#bd3786\"], [0.5555555555555556, \"#d8576b\"], [0.6666666666666666, \"#ed7953\"], [0.7777777777777778, \"#fb9f3a\"], [0.8888888888888888, \"#fdca26\"], [1.0, \"#f0f921\"]], \"type\": \"heatmap\"}], \"heatmapgl\": [{\"colorbar\": {\"outlinewidth\": 0, \"ticks\": \"\"}, \"colorscale\": [[0.0, \"#0d0887\"], [0.1111111111111111, \"#46039f\"], [0.2222222222222222, \"#7201a8\"], [0.3333333333333333, \"#9c179e\"], [0.4444444444444444, \"#bd3786\"], [0.5555555555555556, \"#d8576b\"], [0.6666666666666666, \"#ed7953\"], [0.7777777777777778, \"#fb9f3a\"], [0.8888888888888888, \"#fdca26\"], [1.0, \"#f0f921\"]], \"type\": \"heatmapgl\"}], \"histogram\": [{\"marker\": {\"colorbar\": {\"outlinewidth\": 0, \"ticks\": \"\"}}, \"type\": \"histogram\"}], \"histogram2d\": [{\"colorbar\": {\"outlinewidth\": 0, \"ticks\": \"\"}, \"colorscale\": [[0.0, \"#0d0887\"], [0.1111111111111111, \"#46039f\"], [0.2222222222222222, \"#7201a8\"], [0.3333333333333333, \"#9c179e\"], [0.4444444444444444, \"#bd3786\"], [0.5555555555555556, \"#d8576b\"], [0.6666666666666666, \"#ed7953\"], [0.7777777777777778, \"#fb9f3a\"], [0.8888888888888888, \"#fdca26\"], [1.0, \"#f0f921\"]], \"type\": \"histogram2d\"}], \"histogram2dcontour\": [{\"colorbar\": {\"outlinewidth\": 0, \"ticks\": \"\"}, \"colorscale\": [[0.0, \"#0d0887\"], [0.1111111111111111, \"#46039f\"], [0.2222222222222222, \"#7201a8\"], [0.3333333333333333, \"#9c179e\"], [0.4444444444444444, \"#bd3786\"], [0.5555555555555556, \"#d8576b\"], [0.6666666666666666, \"#ed7953\"], [0.7777777777777778, \"#fb9f3a\"], [0.8888888888888888, \"#fdca26\"], [1.0, \"#f0f921\"]], \"type\": \"histogram2dcontour\"}], \"mesh3d\": [{\"colorbar\": {\"outlinewidth\": 0, \"ticks\": \"\"}, \"type\": \"mesh3d\"}], \"parcoords\": [{\"line\": {\"colorbar\": {\"outlinewidth\": 0, \"ticks\": \"\"}}, \"type\": \"parcoords\"}], \"pie\": [{\"automargin\": true, \"type\": \"pie\"}], \"scatter\": [{\"marker\": {\"colorbar\": {\"outlinewidth\": 0, \"ticks\": \"\"}}, \"type\": \"scatter\"}], \"scatter3d\": [{\"line\": {\"colorbar\": {\"outlinewidth\": 0, \"ticks\": \"\"}}, \"marker\": {\"colorbar\": {\"outlinewidth\": 0, \"ticks\": \"\"}}, \"type\": \"scatter3d\"}], \"scattercarpet\": [{\"marker\": {\"colorbar\": {\"outlinewidth\": 0, \"ticks\": \"\"}}, \"type\": \"scattercarpet\"}], \"scattergeo\": [{\"marker\": {\"colorbar\": {\"outlinewidth\": 0, \"ticks\": \"\"}}, \"type\": \"scattergeo\"}], \"scattergl\": [{\"marker\": {\"colorbar\": {\"outlinewidth\": 0, \"ticks\": \"\"}}, \"type\": \"scattergl\"}], \"scattermapbox\": [{\"marker\": {\"colorbar\": {\"outlinewidth\": 0, \"ticks\": \"\"}}, \"type\": \"scattermapbox\"}], \"scatterpolar\": [{\"marker\": {\"colorbar\": {\"outlinewidth\": 0, \"ticks\": \"\"}}, \"type\": \"scatterpolar\"}], \"scatterpolargl\": [{\"marker\": {\"colorbar\": {\"outlinewidth\": 0, \"ticks\": \"\"}}, \"type\": \"scatterpolargl\"}], \"scatterternary\": [{\"marker\": {\"colorbar\": {\"outlinewidth\": 0, \"ticks\": \"\"}}, \"type\": \"scatterternary\"}], \"surface\": [{\"colorbar\": {\"outlinewidth\": 0, \"ticks\": \"\"}, \"colorscale\": [[0.0, \"#0d0887\"], [0.1111111111111111, \"#46039f\"], [0.2222222222222222, \"#7201a8\"], [0.3333333333333333, \"#9c179e\"], [0.4444444444444444, \"#bd3786\"], [0.5555555555555556, \"#d8576b\"], [0.6666666666666666, \"#ed7953\"], [0.7777777777777778, \"#fb9f3a\"], [0.8888888888888888, \"#fdca26\"], [1.0, \"#f0f921\"]], \"type\": \"surface\"}], \"table\": [{\"cells\": {\"fill\": {\"color\": \"#EBF0F8\"}, \"line\": {\"color\": \"white\"}}, \"header\": {\"fill\": {\"color\": \"#C8D4E3\"}, \"line\": {\"color\": \"white\"}}, \"type\": \"table\"}]}, \"layout\": {\"annotationdefaults\": {\"arrowcolor\": \"#2a3f5f\", \"arrowhead\": 0, \"arrowwidth\": 1}, \"autotypenumbers\": \"strict\", \"coloraxis\": {\"colorbar\": {\"outlinewidth\": 0, \"ticks\": \"\"}}, \"colorscale\": {\"diverging\": [[0, \"#8e0152\"], [0.1, \"#c51b7d\"], [0.2, \"#de77ae\"], [0.3, \"#f1b6da\"], [0.4, \"#fde0ef\"], [0.5, \"#f7f7f7\"], [0.6, \"#e6f5d0\"], [0.7, \"#b8e186\"], [0.8, \"#7fbc41\"], [0.9, \"#4d9221\"], [1, \"#276419\"]], \"sequential\": [[0.0, \"#0d0887\"], [0.1111111111111111, \"#46039f\"], [0.2222222222222222, \"#7201a8\"], [0.3333333333333333, \"#9c179e\"], [0.4444444444444444, \"#bd3786\"], [0.5555555555555556, \"#d8576b\"], [0.6666666666666666, \"#ed7953\"], [0.7777777777777778, \"#fb9f3a\"], [0.8888888888888888, \"#fdca26\"], [1.0, \"#f0f921\"]], \"sequentialminus\": [[0.0, \"#0d0887\"], [0.1111111111111111, \"#46039f\"], [0.2222222222222222, \"#7201a8\"], [0.3333333333333333, \"#9c179e\"], [0.4444444444444444, \"#bd3786\"], [0.5555555555555556, \"#d8576b\"], [0.6666666666666666, \"#ed7953\"], [0.7777777777777778, \"#fb9f3a\"], [0.8888888888888888, \"#fdca26\"], [1.0, \"#f0f921\"]]}, \"colorway\": [\"#636efa\", \"#EF553B\", \"#00cc96\", \"#ab63fa\", \"#FFA15A\", \"#19d3f3\", \"#FF6692\", \"#B6E880\", \"#FF97FF\", \"#FECB52\"], \"font\": {\"color\": \"#2a3f5f\"}, \"geo\": {\"bgcolor\": \"white\", \"lakecolor\": \"white\", \"landcolor\": \"#E5ECF6\", \"showlakes\": true, \"showland\": true, \"subunitcolor\": \"white\"}, \"hoverlabel\": {\"align\": \"left\"}, \"hovermode\": \"closest\", \"mapbox\": {\"style\": \"light\"}, \"paper_bgcolor\": \"white\", \"plot_bgcolor\": \"#E5ECF6\", \"polar\": {\"angularaxis\": {\"gridcolor\": \"white\", \"linecolor\": \"white\", \"ticks\": \"\"}, \"bgcolor\": \"#E5ECF6\", \"radialaxis\": {\"gridcolor\": \"white\", \"linecolor\": \"white\", \"ticks\": \"\"}}, \"scene\": {\"xaxis\": {\"backgroundcolor\": \"#E5ECF6\", \"gridcolor\": \"white\", \"gridwidth\": 2, \"linecolor\": \"white\", \"showbackground\": true, \"ticks\": \"\", \"zerolinecolor\": \"white\"}, \"yaxis\": {\"backgroundcolor\": \"#E5ECF6\", \"gridcolor\": \"white\", \"gridwidth\": 2, \"linecolor\": \"white\", \"showbackground\": true, \"ticks\": \"\", \"zerolinecolor\": \"white\"}, \"zaxis\": {\"backgroundcolor\": \"#E5ECF6\", \"gridcolor\": \"white\", \"gridwidth\": 2, \"linecolor\": \"white\", \"showbackground\": true, \"ticks\": \"\", \"zerolinecolor\": \"white\"}}, \"shapedefaults\": {\"line\": {\"color\": \"#2a3f5f\"}}, \"ternary\": {\"aaxis\": {\"gridcolor\": \"white\", \"linecolor\": \"white\", \"ticks\": \"\"}, \"baxis\": {\"gridcolor\": \"white\", \"linecolor\": \"white\", \"ticks\": \"\"}, \"bgcolor\": \"#E5ECF6\", \"caxis\": {\"gridcolor\": \"white\", \"linecolor\": \"white\", \"ticks\": \"\"}}, \"title\": {\"x\": 0.05}, \"xaxis\": {\"automargin\": true, \"gridcolor\": \"white\", \"linecolor\": \"white\", \"ticks\": \"\", \"title\": {\"standoff\": 15}, \"zerolinecolor\": \"white\", \"zerolinewidth\": 2}, \"yaxis\": {\"automargin\": true, \"gridcolor\": \"white\", \"linecolor\": \"white\", \"ticks\": \"\", \"title\": {\"standoff\": 15}, \"zerolinecolor\": \"white\", \"zerolinewidth\": 2}}}, \"title\": {\"text\": \"Accuracy\"}, \"xaxis\": {\"anchor\": \"y\", \"domain\": [0.0, 1.0], \"title\": {\"text\": \"epoch\"}}, \"yaxis\": {\"anchor\": \"x\", \"domain\": [0.0, 1.0], \"title\": {\"text\": \"value\"}}},                        {\"responsive\": true}                    ).then(function(){\n",
       "                            \n",
       "var gd = document.getElementById('d87f07d2-8191-4848-8c58-4d2d8174cdf5');\n",
       "var x = new MutationObserver(function (mutations, observer) {{\n",
       "        var display = window.getComputedStyle(gd).display;\n",
       "        if (!display || display === 'none') {{\n",
       "            console.log([gd, 'removed!']);\n",
       "            Plotly.purge(gd);\n",
       "            observer.disconnect();\n",
       "        }}\n",
       "}});\n",
       "\n",
       "// Listen for the removal of the full notebook cells\n",
       "var notebookContainer = gd.closest('#notebook-container');\n",
       "if (notebookContainer) {{\n",
       "    x.observe(notebookContainer, {childList: true});\n",
       "}}\n",
       "\n",
       "// Listen for the clearing of the current output cell\n",
       "var outputEl = gd.closest('.output');\n",
       "if (outputEl) {{\n",
       "    x.observe(outputEl, {childList: true});\n",
       "}}\n",
       "\n",
       "                        })                };                });            </script>        </div>"
      ]
     },
     "metadata": {},
     "output_type": "display_data"
    }
   ],
   "source": [
    "# Search for a model with a decreasing loss\n",
    "import os\n",
    "\n",
    "log_dirpath = f'/projects/tumblr_community_identity/log/'\n",
    "selected_day = '2021-03-29'\n",
    "for fname in os.listdir(log_dirpath):\n",
    "    if selected_day in fname:\n",
    "        log_fpath = os.path.join(log_dirpath, fname)\n",
    "        log = pd.read_csv(log_fpath, parse_dates=['datetime'])\n",
    "        if log.epoch.max() == 20:\n",
    "            print(f'{fname}: {log.epoch.max()}')\n",
    "\n",
    "            # Get last metrics/epoch\n",
    "            score_cols = ['loss', 'train_accuracy', 'dev_accuracy']\n",
    "            gped = log.groupby('epoch').agg({col: lambda x: x.tolist()[-1] for col in score_cols})\n",
    "\n",
    "            fig = px.line(gped, x=gped.index, y='loss', title='Loss')\n",
    "            fig.show()\n",
    "            fig = px.line(gped, x=gped.index, y=['train_accuracy', 'dev_accuracy'], title='Accuracy')\n",
    "            fig.show()"
   ]
  },
  {
   "cell_type": "code",
   "execution_count": 5,
   "id": "loaded-penguin",
   "metadata": {},
   "outputs": [
    {
     "name": "stdout",
     "output_type": "stream",
     "text": [
      "model2021-03-28_13-43.csv: 20\n",
      "model2021-03-28_11-55.csv: 20\n",
      "model2021-03-04_10-18.csv: 15\n",
      "model2021-03-03_09-53.csv: 6\n"
     ]
    }
   ],
   "source": [
    "# Search for a model that was run for many epochs\n",
    "import pandas as pd\n",
    "import os\n",
    "\n",
    "log_dirpath = f'/projects/tumblr_community_identity/log/'\n",
    "for fname in os.listdir(log_dirpath):\n",
    "    log_fpath = os.path.join(log_dirpath, fname)\n",
    "#     log = pd.read_csv(log_fpath, parse_dates=['datetime'])\n",
    "    log = pd.read_csv(log_fpath)\n",
    "    if log.epoch.max() > 1:\n",
    "        print(f'{fname}: {log.epoch.max()}')"
   ]
  },
  {
   "cell_type": "markdown",
   "id": "federal-collectible",
   "metadata": {
    "heading_collapsed": "true",
    "tags": []
   },
   "source": [
    "# Simple CNN text classification\n",
    "Inspired by https://towardsdatascience.com/text-classification-with-cnns-in-pytorch-1113df31e79f"
   ]
  },
  {
   "cell_type": "markdown",
   "id": "conscious-cooking",
   "metadata": {},
   "source": [
    "## Load, format data\n",
    "Should be fed in as a sentence of word token IDs"
   ]
  },
  {
   "cell_type": "code",
   "execution_count": 19,
   "id": "operating-culture",
   "metadata": {},
   "outputs": [
    {
     "data": {
      "text/plain": [
       "64"
      ]
     },
     "execution_count": 19,
     "metadata": {},
     "output_type": "execute_result"
    }
   ],
   "source": [
    "# Load pretrained word embeddings\n",
    "from gensim.models import word2vec, KeyedVectors\n",
    "\n",
    "fpath = '/projects/tumblr_community_identity/websci_exp_20210107/model/post+all_blog_sg_w2v.model'\n",
    "word_embs = word2vec.Word2Vec.load(fpath)\n",
    "word_embs.vector_size"
   ]
  },
  {
   "cell_type": "code",
   "execution_count": 59,
   "id": "magnetic-search",
   "metadata": {},
   "outputs": [
    {
     "name": "stderr",
     "output_type": "stream",
     "text": [
      "/usr0/home/mamille2/anaconda/lib/python3.7/site-packages/IPython/core/interactiveshell.py:3156: DtypeWarning: Columns (12,29,38,42,51,54) have mixed types.Specify dtype option on import or set low_memory=False.\n",
      "  interactivity=interactivity, compiler=compiler, result=result)\n"
     ]
    },
    {
     "name": "stdout",
     "output_type": "stream",
     "text": [
      "follower\n",
      "followee_reblog\n",
      "followee_nonreblog\n"
     ]
    },
    {
     "data": {
      "text/html": [
       "<div>\n",
       "<style scoped>\n",
       "    .dataframe tbody tr th:only-of-type {\n",
       "        vertical-align: middle;\n",
       "    }\n",
       "\n",
       "    .dataframe tbody tr th {\n",
       "        vertical-align: top;\n",
       "    }\n",
       "\n",
       "    .dataframe thead th {\n",
       "        text-align: right;\n",
       "    }\n",
       "</style>\n",
       "<table border=\"1\" class=\"dataframe\">\n",
       "  <thead>\n",
       "    <tr style=\"text-align: right;\">\n",
       "      <th></th>\n",
       "      <th>indices_follower</th>\n",
       "      <th>indices_followee_reblog</th>\n",
       "      <th>indices_followee_nonreblog</th>\n",
       "    </tr>\n",
       "  </thead>\n",
       "  <tbody>\n",
       "    <tr>\n",
       "      <th>0</th>\n",
       "      <td>[3, 3906, 15, 8, 21014, 3933, 10, 31, 242, 264...</td>\n",
       "      <td>[28, 451, 6847, 162, 29, 15, 38, 8, 998, 356, ...</td>\n",
       "      <td>[3885, 85, 2301, 85, 12284, 1167, 85, 19320, 2...</td>\n",
       "    </tr>\n",
       "    <tr>\n",
       "      <th>1</th>\n",
       "      <td>[27, 8829, 2597, 3, 297, 451, 0, 0, 0, 0, 0, 0...</td>\n",
       "      <td>[3827, 23, 352, 30, 371, 371, 371, 371, 1395, ...</td>\n",
       "      <td>[1637, 3276, 5, 1283, 769, 59, 10, 7481, 1, 6,...</td>\n",
       "    </tr>\n",
       "    <tr>\n",
       "      <th>2</th>\n",
       "      <td>[439, 33, 21945, 180501, 8829, 810, 2, 71, 8, ...</td>\n",
       "      <td>[0, 0, 0, 0, 0, 0, 0, 0, 0, 0, 0, 0, 0, 0, 0, ...</td>\n",
       "      <td>[2348, 10, 69715, 876, 5, 1279, 0, 0, 0, 0, 0,...</td>\n",
       "    </tr>\n",
       "    <tr>\n",
       "      <th>3</th>\n",
       "      <td>[0, 0, 0, 0, 0, 0, 0, 0, 0, 0, 0, 0, 0, 0, 0, ...</td>\n",
       "      <td>[6, 2970, 4, 32, 8, 11831, 1, 0, 0, 0, 0, 0, 0...</td>\n",
       "      <td>[432, 412, 2, 52, 6, 416, 2, 6, 14513, 3, 1953...</td>\n",
       "    </tr>\n",
       "    <tr>\n",
       "      <th>4</th>\n",
       "      <td>[6, 483, 261, 50, 8, 2244, 3294, 69, 802, 4, 1...</td>\n",
       "      <td>[51195, 21945, 0, 0, 0, 0, 0, 0, 0, 0, 0, 0, 0...</td>\n",
       "      <td>[7409, 1, 2262, 1, 5679, 1, 38, 7930, 45, 998,...</td>\n",
       "    </tr>\n",
       "    <tr>\n",
       "      <th>...</th>\n",
       "      <td>...</td>\n",
       "      <td>...</td>\n",
       "      <td>...</td>\n",
       "    </tr>\n",
       "    <tr>\n",
       "      <th>110917</th>\n",
       "      <td>[3594, 1124, 12917, 1124, 1762, 139, 23, 1103,...</td>\n",
       "      <td>[3122, 55, 126, 4, 254, 3122, 0, 0, 0, 0, 0, 0...</td>\n",
       "      <td>[1124, 1399, 1124, 6, 70, 192, 28, 189, 1493, ...</td>\n",
       "    </tr>\n",
       "    <tr>\n",
       "      <th>110918</th>\n",
       "      <td>[2, 7863, 8182, 0, 0, 0, 0, 0, 0, 0, 0, 0, 0, ...</td>\n",
       "      <td>[2085, 9, 0, 0, 0, 0, 0, 0, 0, 0, 0, 0, 0, 0, ...</td>\n",
       "      <td>[371, 12909, 9, 371, 1154, 5693, 9555, 785, 0,...</td>\n",
       "    </tr>\n",
       "    <tr>\n",
       "      <th>110919</th>\n",
       "      <td>[1328, 11, 1854, 7, 90, 11, 213, 0, 0, 0, 0, 0...</td>\n",
       "      <td>[32, 182, 5, 27, 182, 18, 18, 0, 0, 0, 0, 0, 0...</td>\n",
       "      <td>[11567, 0, 0, 0, 0, 0, 0, 0, 0, 0, 0, 0, 0, 0,...</td>\n",
       "    </tr>\n",
       "    <tr>\n",
       "      <th>110920</th>\n",
       "      <td>[0, 0, 0, 0, 0, 0, 0, 0, 0, 0, 0, 0, 0, 0, 0, ...</td>\n",
       "      <td>[79700, 79700, 0, 0, 0, 0, 0, 0, 0, 0, 0, 0, 0...</td>\n",
       "      <td>[0, 0, 0, 0, 0, 0, 0, 0, 0, 0, 0, 0, 0, 0, 0, ...</td>\n",
       "    </tr>\n",
       "    <tr>\n",
       "      <th>110921</th>\n",
       "      <td>[10185, 283666, 9392, 9, 0, 0, 0, 0, 0, 0, 0, ...</td>\n",
       "      <td>[158, 153162, 10, 0, 0, 0, 0, 0, 0, 0, 0, 0, 0...</td>\n",
       "      <td>[9392, 9, 0, 0, 0, 0, 0, 0, 0, 0, 0, 0, 0, 0, ...</td>\n",
       "    </tr>\n",
       "  </tbody>\n",
       "</table>\n",
       "<p>110922 rows × 3 columns</p>\n",
       "</div>"
      ],
      "text/plain": [
       "                                         indices_follower  \\\n",
       "0       [3, 3906, 15, 8, 21014, 3933, 10, 31, 242, 264...   \n",
       "1       [27, 8829, 2597, 3, 297, 451, 0, 0, 0, 0, 0, 0...   \n",
       "2       [439, 33, 21945, 180501, 8829, 810, 2, 71, 8, ...   \n",
       "3       [0, 0, 0, 0, 0, 0, 0, 0, 0, 0, 0, 0, 0, 0, 0, ...   \n",
       "4       [6, 483, 261, 50, 8, 2244, 3294, 69, 802, 4, 1...   \n",
       "...                                                   ...   \n",
       "110917  [3594, 1124, 12917, 1124, 1762, 139, 23, 1103,...   \n",
       "110918  [2, 7863, 8182, 0, 0, 0, 0, 0, 0, 0, 0, 0, 0, ...   \n",
       "110919  [1328, 11, 1854, 7, 90, 11, 213, 0, 0, 0, 0, 0...   \n",
       "110920  [0, 0, 0, 0, 0, 0, 0, 0, 0, 0, 0, 0, 0, 0, 0, ...   \n",
       "110921  [10185, 283666, 9392, 9, 0, 0, 0, 0, 0, 0, 0, ...   \n",
       "\n",
       "                                  indices_followee_reblog  \\\n",
       "0       [28, 451, 6847, 162, 29, 15, 38, 8, 998, 356, ...   \n",
       "1       [3827, 23, 352, 30, 371, 371, 371, 371, 1395, ...   \n",
       "2       [0, 0, 0, 0, 0, 0, 0, 0, 0, 0, 0, 0, 0, 0, 0, ...   \n",
       "3       [6, 2970, 4, 32, 8, 11831, 1, 0, 0, 0, 0, 0, 0...   \n",
       "4       [51195, 21945, 0, 0, 0, 0, 0, 0, 0, 0, 0, 0, 0...   \n",
       "...                                                   ...   \n",
       "110917  [3122, 55, 126, 4, 254, 3122, 0, 0, 0, 0, 0, 0...   \n",
       "110918  [2085, 9, 0, 0, 0, 0, 0, 0, 0, 0, 0, 0, 0, 0, ...   \n",
       "110919  [32, 182, 5, 27, 182, 18, 18, 0, 0, 0, 0, 0, 0...   \n",
       "110920  [79700, 79700, 0, 0, 0, 0, 0, 0, 0, 0, 0, 0, 0...   \n",
       "110921  [158, 153162, 10, 0, 0, 0, 0, 0, 0, 0, 0, 0, 0...   \n",
       "\n",
       "                               indices_followee_nonreblog  \n",
       "0       [3885, 85, 2301, 85, 12284, 1167, 85, 19320, 2...  \n",
       "1       [1637, 3276, 5, 1283, 769, 59, 10, 7481, 1, 6,...  \n",
       "2       [2348, 10, 69715, 876, 5, 1279, 0, 0, 0, 0, 0,...  \n",
       "3       [432, 412, 2, 52, 6, 416, 2, 6, 14513, 3, 1953...  \n",
       "4       [7409, 1, 2262, 1, 5679, 1, 38, 7930, 45, 998,...  \n",
       "...                                                   ...  \n",
       "110917  [1124, 1399, 1124, 6, 70, 192, 28, 189, 1493, ...  \n",
       "110918  [371, 12909, 9, 371, 1154, 5693, 9555, 785, 0,...  \n",
       "110919  [11567, 0, 0, 0, 0, 0, 0, 0, 0, 0, 0, 0, 0, 0,...  \n",
       "110920  [0, 0, 0, 0, 0, 0, 0, 0, 0, 0, 0, 0, 0, 0, 0, ...  \n",
       "110921  [9392, 9, 0, 0, 0, 0, 0, 0, 0, 0, 0, 0, 0, 0, ...  \n",
       "\n",
       "[110922 rows x 3 columns]"
      ]
     },
     "execution_count": 59,
     "metadata": {},
     "output_type": "execute_result"
    }
   ],
   "source": [
    "# Load in data\n",
    "import pandas as pd\n",
    "data = pd.read_csv('/data/tumblr_community_identity/dataset114k/matched_reblogs_nonreblogs_dataset114k.csv')\n",
    "# data.columns\n",
    "\n",
    "# Build vocabulary, convert to word indices\n",
    "from collections import defaultdict\n",
    "\n",
    "\n",
    "selected = data.loc[:, ['processed_tumblr_blog_description_follower_reblog', 'processed_tumblr_blog_description_followee_reblog',\n",
    "                    'processed_tumblr_blog_description_followee_nonreblog']]\n",
    "selected['desc_follower'] = selected['processed_tumblr_blog_description_follower_reblog'].astype(str)\n",
    "selected['desc_followee_reblog'] = selected['processed_tumblr_blog_description_followee_reblog'].astype(str)\n",
    "selected['desc_followee_nonreblog'] = selected['processed_tumblr_blog_description_followee_nonreblog'].astype(str)\n",
    "selected\n",
    "\n",
    "# w2i = defaultdict(lambda: len(w2i))\n",
    "# words = selected[['desc_follower', 'desc_followee_reblog', 'desc_followee_nonreblog']].agg(' '.join, axis=1)\n",
    "# # words\n",
    "\n",
    "# from collections import Counter\n",
    "# words_ctr = Counter([w for s in words.tolist() for w in s.split()])\n",
    "# words_ctr.most_common(20)\n",
    "\n",
    "vocab = dict()\n",
    "# for i, (w, count) in enumerate(words_ctr.most_common(100000)):\n",
    "#     vocab[w] = i+1\n",
    "# len(vocab)\n",
    "for w, vec in word_embs.wv.vocab.items():\n",
    "    vocab[w] = vec.index + 1 # add one for padding\n",
    "\n",
    "for user in ['follower', 'followee_reblog', 'followee_nonreblog']:\n",
    "    print(user)\n",
    "    selected[f'indices_{user}'] = selected[f'desc_{user}'].map(lambda x: [vocab[w] for w in x.split() if w in vocab])\n",
    "# selected[[col for col in selected.columns if 'indices' in col]]\n",
    "\n",
    "# Pad to length\n",
    "desc_length = 30\n",
    "\n",
    "def pad(inds):\n",
    "    while len(inds) < desc_length:\n",
    "        inds.insert(len(inds), 0)\n",
    "    return inds[:desc_length]\n",
    "\n",
    "for user in ['follower', 'followee_reblog', 'followee_nonreblog']:\n",
    "    selected[f'indices_{user}'] = selected[f'indices_{user}'].map(lambda x: pad(x))\n",
    "selected[[col for col in selected.columns if 'indices' in col]]"
   ]
  },
  {
   "cell_type": "code",
   "execution_count": 60,
   "id": "exposed-functionality",
   "metadata": {},
   "outputs": [
    {
     "data": {
      "text/plain": [
       "(110922, 90)"
      ]
     },
     "execution_count": 60,
     "metadata": {},
     "output_type": "execute_result"
    }
   ],
   "source": [
    "# Feed random labels\n",
    "import numpy as np\n",
    "\n",
    "def add_random_labels(data):\n",
    "    \"\"\" Add random 0 and 1 labels for ordering reblog/nonreblogs\n",
    "        for learning-to-rank organization \"\"\"\n",
    "    half_len = int(len(data)/2)\n",
    "    np.random.seed(9)\n",
    "    labels = [0]*half_len + [1]*half_len\n",
    "    np.random.shuffle(labels)\n",
    "    data['label'] = labels\n",
    "    return data\n",
    "\n",
    "data = add_random_labels(selected)\n",
    "# data\n",
    "\n",
    "# Arrange into proper order\n",
    "def rank_feature_transform(desc_followers, desc_followee_reblogs, desc_followee_nonreblogs, labels):\n",
    "    \"\"\" Transform features to come up with comparison features for\n",
    "        learning-to-rank formulation \"\"\"\n",
    "    comparison_feats = []\n",
    "    for desc_follower, desc_followee_reblog, desc_followee_nonreblog, label in zip(\n",
    "        desc_followers, desc_followee_reblogs, desc_followee_nonreblogs, labels):\n",
    "        if label == 0:\n",
    "            comparison_feats.append(desc_follower + desc_followee_reblog + desc_followee_nonreblog)\n",
    "        else:\n",
    "            comparison_feats.append(desc_follower + desc_followee_nonreblog + desc_followee_reblog)\n",
    "    return np.array(comparison_feats)\n",
    "\n",
    "ordered = rank_feature_transform(data['indices_follower'], data['indices_followee_reblog'], \n",
    "                                 data['indices_followee_nonreblog'], data['label'])\n",
    "ordered.shape"
   ]
  },
  {
   "cell_type": "code",
   "execution_count": null,
   "id": "demanding-store",
   "metadata": {},
   "outputs": [],
   "source": [
    "feature_opts = {} # reblog and nonreblog\n",
    "130             for reblog_type in ['reblog', 'nonreblog']:\n",
    "131                 feature_opts[reblog_type] = data[\n",
    "132                     f'post_note_count_{reblog_type}'].fillna(0).values\n",
    "133             feature_parts['post_note_count'] = rank_feature_transform(\n",
    "134                 feature_opts['reblog'], feature_opts['nonreblog'], data.label)\n",
    "135\n",
    "136             # Post type\n",
    "137             # Convert types to ints\n",
    "138             feature_opts = {} # reblog and nonreblog\n",
    "139             for reblog_type in ['reblog', 'nonreblog']:\n",
    "140                 feature_opts[reblog_type] = pd.get_dummies(\n",
    "141                     data[f'post_type_{reblog_type}']).values\n",
    "142             feature_parts['post_type'] = rank_feature_transform(\n",
    "143                 feature_opts['reblog'], feature_opts['nonreblog'], data.label)"
   ]
  },
  {
   "cell_type": "code",
   "execution_count": 61,
   "id": "offensive-balloon",
   "metadata": {},
   "outputs": [
    {
     "name": "stdout",
     "output_type": "stream",
     "text": [
      "(8000, 90)\n",
      "(8000,)\n",
      "(1000, 90)\n",
      "(1000,)\n",
      "(1000, 90)\n",
      "(1000,)\n"
     ]
    }
   ],
   "source": [
    "# Split into train, dev, test\n",
    "from sklearn.model_selection import train_test_split\n",
    "\n",
    "size = 10000\n",
    "X = ordered[:size]\n",
    "y = data['label'].values[:size]\n",
    "test_size = int(0.1 * len(X))\n",
    "X_train, X_test, y_train, y_test = train_test_split(X, y, test_size=test_size)\n",
    "X_train, X_dev, y_train, y_dev = train_test_split(X_train, y_train, test_size=test_size)\n",
    "print(X_train.shape)\n",
    "print(y_train.shape)\n",
    "print(X_dev.shape)\n",
    "print(y_dev.shape)\n",
    "print(X_test.shape)\n",
    "print(y_test.shape)"
   ]
  },
  {
   "cell_type": "markdown",
   "id": "collectible-floating",
   "metadata": {},
   "source": [
    "## Build, train model"
   ]
  },
  {
   "cell_type": "code",
   "execution_count": 62,
   "id": "warming-steering",
   "metadata": {},
   "outputs": [],
   "source": [
    "import torch\n",
    "import torch.nn as nn\n",
    "import torch.nn.functional as F\n",
    "import math\n",
    "\n",
    "class TextClassifier(nn.ModuleList):\n",
    "    def __init__(self, params):\n",
    "        super(TextClassifier, self).__init__()\n",
    "  \n",
    "        # Parameters regarding text preprocessing\n",
    "        self.seq_len = params.seq_len\n",
    "        self.num_words = params.num_words\n",
    "        self.embedding_size = params.embedding_size\n",
    "        \n",
    "        # Dropout definition\n",
    "        self.dropout = nn.Dropout(0.25)\n",
    "        \n",
    "        # CNN parameters definition\n",
    "        # Kernel sizes\n",
    "        self.kernel_1 = 2\n",
    "        self.kernel_2 = 3\n",
    "        self.kernel_3 = 4\n",
    "        self.kernel_4 = 5\n",
    "        \n",
    "        # Output size for each convolution\n",
    "        self.out_size = params.out_size\n",
    "        # Number of strides for each convolution\n",
    "        self.stride = params.stride\n",
    "        \n",
    "        # Embedding layer definition\n",
    "#         self.embedding = nn.Embedding(self.num_words + 1, self.embedding_size, padding_idx=0)\n",
    "        weights = torch.FloatTensor(word_embs.wv.vectors)\n",
    "        zeros = torch.zeros(1, params.embedding_size)\n",
    "        weights_with_padding = torch.cat((zeros, weights), 0)\n",
    "        self.embedding = nn.Embedding.from_pretrained(weights_with_padding, padding_idx=0)\n",
    "        \n",
    "        # Convolution layers definition\n",
    "        self.conv_1 = nn.Conv1d(self.seq_len, self.out_size, self.kernel_1, self.stride)\n",
    "        self.conv_2 = nn.Conv1d(self.seq_len, self.out_size, self.kernel_2, self.stride)\n",
    "        self.conv_3 = nn.Conv1d(self.seq_len, self.out_size, self.kernel_3, self.stride)\n",
    "        self.conv_4 = nn.Conv1d(self.seq_len, self.out_size, self.kernel_4, self.stride)\n",
    "        \n",
    "        # Max pooling layers definition\n",
    "        self.pool_1 = nn.MaxPool1d(self.kernel_1, self.stride)\n",
    "        self.pool_2 = nn.MaxPool1d(self.kernel_2, self.stride)\n",
    "        self.pool_3 = nn.MaxPool1d(self.kernel_3, self.stride)\n",
    "        self.pool_4 = nn.MaxPool1d(self.kernel_4, self.stride)\n",
    "        \n",
    "        # Fully connected layer definition\n",
    "        self.fc = nn.Linear(self.in_features_fc(), 1)\n",
    "\n",
    "    def in_features_fc(self):\n",
    "        '''Calculates the number of output features after Convolution + Max pooling\n",
    "\n",
    "        Convolved_Features = ((embedding_size + (2 * padding) - dilation * (kernel - 1) - 1) / stride) + 1\n",
    "        Pooled_Features = ((embedding_size + (2 * padding) - dilation * (kernel - 1) - 1) / stride) + 1\n",
    "\n",
    "        source: https://pytorch.org/docs/stable/generated/torch.nn.Conv1d.html\n",
    "        '''\n",
    "        # Calculate size of convolved/pooled features for convolution_1/max_pooling_1 features\n",
    "        out_conv_1 = ((self.embedding_size - 1 * (self.kernel_1 - 1) - 1) / self.stride) + 1\n",
    "        out_conv_1 = math.floor(out_conv_1)\n",
    "        out_pool_1 = ((out_conv_1 - 1 * (self.kernel_1 - 1) - 1) / self.stride) + 1\n",
    "        out_pool_1 = math.floor(out_pool_1)\n",
    "\n",
    "        # Calculate size of convolved/pooled features for convolution_2/max_pooling_2 features\n",
    "        out_conv_2 = ((self.embedding_size - 1 * (self.kernel_2 - 1) - 1) / self.stride) + 1\n",
    "        out_conv_2 = math.floor(out_conv_2)\n",
    "        out_pool_2 = ((out_conv_2 - 1 * (self.kernel_2 - 1) - 1) / self.stride) + 1\n",
    "        out_pool_2 = math.floor(out_pool_2)\n",
    "\n",
    "        # Calculate size of convolved/pooled features for convolution_3/max_pooling_3 features\n",
    "        out_conv_3 = ((self.embedding_size - 1 * (self.kernel_3 - 1) - 1) / self.stride) + 1\n",
    "        out_conv_3 = math.floor(out_conv_3)\n",
    "        out_pool_3 = ((out_conv_3 - 1 * (self.kernel_3 - 1) - 1) / self.stride) + 1\n",
    "        out_pool_3 = math.floor(out_pool_3)\n",
    "\n",
    "        # Calculate size of convolved/pooled features for convolution_4/max_pooling_4 features\n",
    "        out_conv_4 = ((self.embedding_size - 1 * (self.kernel_4 - 1) - 1) / self.stride) + 1\n",
    "        out_conv_4 = math.floor(out_conv_4)\n",
    "        out_pool_4 = ((out_conv_4 - 1 * (self.kernel_4 - 1) - 1) / self.stride) + 1\n",
    "        out_pool_4 = math.floor(out_pool_4)\n",
    "\n",
    "        # Returns \"flattened\" vector (input for fully connected layer)\n",
    "        return (out_pool_1 + out_pool_2 + out_pool_3 + out_pool_4) * self.out_size\n",
    "    \n",
    "    def forward(self, x):\n",
    "\n",
    "        # Sequence of tokes is filtered through an embedding layer\n",
    "        x = self.embedding(x)\n",
    "        \n",
    "        # Convolution layer 1 is applied\n",
    "        x1 = self.conv_1(x)\n",
    "        x1 = torch.relu(x1)\n",
    "        x1 = self.pool_1(x1)\n",
    "        \n",
    "        # Convolution layer 2 is applied\n",
    "        x2 = self.conv_2(x)\n",
    "        x2 = torch.relu((x2))\n",
    "        x2 = self.pool_2(x2)\n",
    "        \n",
    "        # Convolution layer 3 is applied\n",
    "        x3 = self.conv_3(x)\n",
    "        x3 = torch.relu(x3)\n",
    "        x3 = self.pool_3(x3)\n",
    "        \n",
    "        # Convolution layer 4 is applied\n",
    "        x4 = self.conv_4(x)\n",
    "        x4 = torch.relu(x4)\n",
    "        x4 = self.pool_4(x4)\n",
    "        \n",
    "        # The output of each convolutional layer is concatenated into a unique vector\n",
    "        union = torch.cat((x1, x2, x3, x4), 2) # add post notes and post type here\n",
    "        union = union.reshape(union.size(0), -1)\n",
    "    \n",
    "        # The \"flattened\" vector is passed through a fully connected layer\n",
    "        out = self.fc(union)\n",
    "        # Dropout is applied\t\t\n",
    "        out = self.dropout(out)\n",
    "        # Activation function is applied\n",
    "        out = torch.sigmoid(out)\n",
    "        \n",
    "        return out.squeeze()"
   ]
  },
  {
   "cell_type": "code",
   "execution_count": 63,
   "id": "hairy-today",
   "metadata": {},
   "outputs": [],
   "source": [
    "from dataclasses import dataclass\n",
    "\n",
    "@dataclass\n",
    "class Parameters:\n",
    "    # Preprocessing parameeters\n",
    "    seq_len: int = 90\n",
    "    num_words: int = 100000\n",
    "    \n",
    "    # Model parameters\n",
    "#     embedding_size: int = 64\n",
    "    embedding_size: int = word_embs.vector_size\n",
    "    out_size: int = 32\n",
    "    stride: int = 2\n",
    "    \n",
    "    # Training parameters\n",
    "    epochs: int = 10\n",
    "    batch_size: int = 12\n",
    "    learning_rate: float = 0.001"
   ]
  },
  {
   "cell_type": "code",
   "execution_count": 64,
   "id": "deluxe-withdrawal",
   "metadata": {},
   "outputs": [],
   "source": [
    "model = TextClassifier(Parameters)"
   ]
  },
  {
   "cell_type": "code",
   "execution_count": 65,
   "id": "parental-istanbul",
   "metadata": {},
   "outputs": [],
   "source": [
    "from torch.utils.data import Dataset, DataLoader\n",
    "\n",
    "class DatasetMapper(Dataset):\n",
    "    def __init__(self, x, y):\n",
    "        self.x = x\n",
    "        self.y = y\n",
    "      \n",
    "    def __len__(self):\n",
    "        return len(self.x)\n",
    "       \n",
    "    def __getitem__(self, idx):\n",
    "        return self.x[idx], self.y[idx]\n",
    "\n",
    "import torch.optim as optim\n",
    "\n",
    "# Initialize dataset mapper\n",
    "params = Parameters()\n",
    "train = DatasetMapper(X_train, y_train)\n",
    "dev = DatasetMapper(X_dev, y_dev)\n",
    "\n",
    "# Initialize loaders\n",
    "loader_train = DataLoader(train, batch_size=params.batch_size)\n",
    "loader_dev = DataLoader(dev, batch_size=params.batch_size)\n",
    "\n",
    "# Define optimizer\n",
    "optimizer = optim.RMSprop(model.parameters(), lr=params.learning_rate)\n",
    "\n",
    "def evaluation(model, loader_test):\n",
    "\t\t\n",
    "    # Set the model in evaluation mode\n",
    "    model.eval()\n",
    "    predictions = []\n",
    "\n",
    "    # Starst evaluation phase\n",
    "    with torch.no_grad():\n",
    "        for x_batch, y_batch in loader_test:\n",
    "            y_pred = model(x_batch)\n",
    "            predictions += list(y_pred.detach().numpy())\n",
    "    return predictions\n",
    "\n",
    "def calculate_accuracy(grand_truth, predictions):\n",
    "    # Metrics calculation\n",
    "    true_positives = 0\n",
    "    true_negatives = 0\n",
    "    for true, pred in zip(grand_truth, predictions):\n",
    "        if (pred >= 0.5) and (true == 1):\n",
    "            true_positives += 1\n",
    "        elif (pred < 0.5) and (true == 0):\n",
    "            true_negatives += 1\n",
    "        else:\n",
    "            pass\n",
    "    # Return accuracy\n",
    "    return (true_positives+true_negatives) / len(grand_truth)"
   ]
  },
  {
   "cell_type": "code",
   "execution_count": 66,
   "id": "integrated-exception",
   "metadata": {
    "scrolled": true,
    "tags": []
   },
   "outputs": [
    {
     "name": "stdout",
     "output_type": "stream",
     "text": [
      "0\n",
      "Epoch: 1, loss: 0.68919, Train accuracy: 0.00100, Dev accuracy: 0.51500\n",
      "Epoch: 1, loss: 1.91755, Train accuracy: 0.00162, Dev accuracy: 0.48400\n",
      "Epoch: 1, loss: 0.75961, Train accuracy: 0.00213, Dev accuracy: 0.51500\n",
      "Epoch: 1, loss: 1.19951, Train accuracy: 0.00250, Dev accuracy: 0.48500\n",
      "Epoch: 1, loss: 0.82403, Train accuracy: 0.00313, Dev accuracy: 0.52100\n",
      "Epoch: 1, loss: 0.68819, Train accuracy: 0.00387, Dev accuracy: 0.48500\n",
      "Epoch: 1, loss: 0.81431, Train accuracy: 0.00450, Dev accuracy: 0.48500\n",
      "Epoch: 1, loss: 0.70549, Train accuracy: 0.00537, Dev accuracy: 0.48600\n",
      "Epoch: 1, loss: 0.76747, Train accuracy: 0.00575, Dev accuracy: 0.51500\n",
      "Epoch: 1, loss: 0.75100, Train accuracy: 0.00637, Dev accuracy: 0.48400\n",
      "Epoch: 1, loss: 0.66358, Train accuracy: 0.00713, Dev accuracy: 0.48200\n",
      "Epoch: 1, loss: 0.68934, Train accuracy: 0.00800, Dev accuracy: 0.47700\n",
      "Epoch: 1, loss: 0.71786, Train accuracy: 0.00863, Dev accuracy: 0.50800\n",
      "Epoch: 1, loss: 0.70669, Train accuracy: 0.00937, Dev accuracy: 0.50100\n",
      "Epoch: 1, loss: 0.68884, Train accuracy: 0.01038, Dev accuracy: 0.51500\n",
      "Epoch: 1, loss: 0.63374, Train accuracy: 0.01150, Dev accuracy: 0.51500\n",
      "Epoch: 1, loss: 0.80101, Train accuracy: 0.01213, Dev accuracy: 0.51500\n",
      "Epoch: 1, loss: 0.64962, Train accuracy: 0.01312, Dev accuracy: 0.51500\n",
      "Epoch: 1, loss: 0.65770, Train accuracy: 0.01400, Dev accuracy: 0.51500\n",
      "Epoch: 1, loss: 0.73442, Train accuracy: 0.01463, Dev accuracy: 0.47100\n",
      "Epoch: 1, loss: 0.71273, Train accuracy: 0.01512, Dev accuracy: 0.50600\n",
      "Epoch: 1, loss: 0.68388, Train accuracy: 0.01588, Dev accuracy: 0.49700\n",
      "Epoch: 1, loss: 0.68689, Train accuracy: 0.01663, Dev accuracy: 0.48200\n",
      "Epoch: 1, loss: 0.68976, Train accuracy: 0.01750, Dev accuracy: 0.47500\n",
      "Epoch: 1, loss: 0.69146, Train accuracy: 0.01837, Dev accuracy: 0.48000\n",
      "Epoch: 1, loss: 0.70950, Train accuracy: 0.01912, Dev accuracy: 0.48200\n",
      "Epoch: 1, loss: 0.71270, Train accuracy: 0.01988, Dev accuracy: 0.51500\n",
      "Epoch: 1, loss: 0.72695, Train accuracy: 0.02038, Dev accuracy: 0.48500\n",
      "Epoch: 1, loss: 0.85102, Train accuracy: 0.02075, Dev accuracy: 0.51500\n",
      "Epoch: 1, loss: 0.71112, Train accuracy: 0.02175, Dev accuracy: 0.51500\n",
      "Epoch: 1, loss: 0.71761, Train accuracy: 0.02237, Dev accuracy: 0.51200\n",
      "Epoch: 1, loss: 0.69298, Train accuracy: 0.02312, Dev accuracy: 0.50800\n",
      "Epoch: 1, loss: 0.74720, Train accuracy: 0.02363, Dev accuracy: 0.47100\n",
      "Epoch: 1, loss: 0.73554, Train accuracy: 0.02375, Dev accuracy: 0.51500\n",
      "Epoch: 1, loss: 0.76537, Train accuracy: 0.02450, Dev accuracy: 0.51500\n",
      "Epoch: 1, loss: 0.80623, Train accuracy: 0.02488, Dev accuracy: 0.48500\n",
      "Epoch: 1, loss: 0.72224, Train accuracy: 0.02562, Dev accuracy: 0.47400\n",
      "Epoch: 1, loss: 0.66118, Train accuracy: 0.02687, Dev accuracy: 0.48500\n",
      "Epoch: 1, loss: 0.79116, Train accuracy: 0.02763, Dev accuracy: 0.49100\n",
      "Epoch: 1, loss: 0.68305, Train accuracy: 0.02838, Dev accuracy: 0.48200\n",
      "Epoch: 1, loss: 0.72819, Train accuracy: 0.02900, Dev accuracy: 0.49300\n",
      "Epoch: 1, loss: 0.66580, Train accuracy: 0.02987, Dev accuracy: 0.51500\n",
      "Epoch: 1, loss: 0.81542, Train accuracy: 0.03037, Dev accuracy: 0.48500\n",
      "Epoch: 1, loss: 0.69295, Train accuracy: 0.03112, Dev accuracy: 0.49600\n",
      "Epoch: 1, loss: 0.68951, Train accuracy: 0.03213, Dev accuracy: 0.50300\n",
      "Epoch: 1, loss: 0.73184, Train accuracy: 0.03250, Dev accuracy: 0.48800\n",
      "Epoch: 1, loss: 0.70451, Train accuracy: 0.03313, Dev accuracy: 0.49000\n",
      "Epoch: 1, loss: 0.70198, Train accuracy: 0.03375, Dev accuracy: 0.49300\n",
      "Epoch: 1, loss: 0.70168, Train accuracy: 0.03463, Dev accuracy: 0.49700\n",
      "Epoch: 1, loss: 0.70438, Train accuracy: 0.03525, Dev accuracy: 0.51000\n",
      "Epoch: 1, loss: 0.72472, Train accuracy: 0.03575, Dev accuracy: 0.48400\n",
      "Epoch: 1, loss: 0.70568, Train accuracy: 0.03662, Dev accuracy: 0.48700\n",
      "Epoch: 1, loss: 0.69973, Train accuracy: 0.03737, Dev accuracy: 0.48400\n",
      "Epoch: 1, loss: 0.66401, Train accuracy: 0.03825, Dev accuracy: 0.48500\n",
      "Epoch: 1, loss: 0.59886, Train accuracy: 0.03938, Dev accuracy: 0.48500\n",
      "Epoch: 1, loss: 0.78991, Train accuracy: 0.04013, Dev accuracy: 0.48500\n",
      "Epoch: 1, loss: 0.65151, Train accuracy: 0.04100, Dev accuracy: 0.48500\n",
      "Epoch: 1, loss: 0.89701, Train accuracy: 0.04138, Dev accuracy: 0.51300\n",
      "Epoch: 1, loss: 0.75098, Train accuracy: 0.04200, Dev accuracy: 0.49300\n",
      "Epoch: 1, loss: 0.68655, Train accuracy: 0.04263, Dev accuracy: 0.48000\n",
      "Epoch: 1, loss: 0.78716, Train accuracy: 0.04300, Dev accuracy: 0.51400\n",
      "Epoch: 1, loss: 0.75155, Train accuracy: 0.04350, Dev accuracy: 0.49100\n",
      "Epoch: 1, loss: 0.65989, Train accuracy: 0.04462, Dev accuracy: 0.51400\n",
      "Epoch: 1, loss: 0.73349, Train accuracy: 0.04525, Dev accuracy: 0.48600\n",
      "Epoch: 1, loss: 0.66912, Train accuracy: 0.04600, Dev accuracy: 0.48300\n",
      "Epoch: 1, loss: 0.72560, Train accuracy: 0.04675, Dev accuracy: 0.48600\n",
      "Epoch: 1, loss: 0.70165, Train accuracy: 0.04750, Dev accuracy: 0.48500\n",
      "Epoch: 1, loss: 0.60836, Train accuracy: 0.04863, Dev accuracy: 0.48500\n",
      "Epoch: 1, loss: 0.83524, Train accuracy: 0.04938, Dev accuracy: 0.48300\n",
      "Epoch: 1, loss: 0.66626, Train accuracy: 0.05038, Dev accuracy: 0.48500\n",
      "Epoch: 1, loss: 0.65712, Train accuracy: 0.05137, Dev accuracy: 0.48500\n",
      "Epoch: 1, loss: 0.66899, Train accuracy: 0.05225, Dev accuracy: 0.48500\n",
      "Epoch: 1, loss: 0.76745, Train accuracy: 0.05300, Dev accuracy: 0.48900\n",
      "Epoch: 1, loss: 0.70637, Train accuracy: 0.05375, Dev accuracy: 0.51400\n",
      "Epoch: 1, loss: 0.70603, Train accuracy: 0.05450, Dev accuracy: 0.51500\n",
      "Epoch: 1, loss: 0.71555, Train accuracy: 0.05525, Dev accuracy: 0.48600\n",
      "Epoch: 1, loss: 0.67934, Train accuracy: 0.05613, Dev accuracy: 0.48500\n",
      "Epoch: 1, loss: 0.68857, Train accuracy: 0.05700, Dev accuracy: 0.48500\n",
      "Epoch: 1, loss: 0.68274, Train accuracy: 0.05788, Dev accuracy: 0.48400\n",
      "Epoch: 1, loss: 0.66581, Train accuracy: 0.05887, Dev accuracy: 0.48500\n",
      "Epoch: 1, loss: 0.75137, Train accuracy: 0.05950, Dev accuracy: 0.48400\n",
      "Epoch: 1, loss: 0.66922, Train accuracy: 0.06037, Dev accuracy: 0.48300\n",
      "Epoch: 1, loss: 0.72646, Train accuracy: 0.06100, Dev accuracy: 0.48100\n",
      "Epoch: 1, loss: 0.68149, Train accuracy: 0.06175, Dev accuracy: 0.49300\n",
      "Epoch: 1, loss: 0.69562, Train accuracy: 0.06250, Dev accuracy: 0.51800\n",
      "Epoch: 1, loss: 0.64023, Train accuracy: 0.06363, Dev accuracy: 0.51500\n",
      "Epoch: 1, loss: 0.54119, Train accuracy: 0.06488, Dev accuracy: 0.51500\n",
      "Epoch: 1, loss: 0.74585, Train accuracy: 0.06588, Dev accuracy: 0.51500\n",
      "Epoch: 1, loss: 0.81768, Train accuracy: 0.06650, Dev accuracy: 0.51800\n",
      "Epoch: 1, loss: 0.62570, Train accuracy: 0.06763, Dev accuracy: 0.51500\n",
      "Epoch: 1, loss: 0.69450, Train accuracy: 0.06850, Dev accuracy: 0.51500\n",
      "Epoch: 1, loss: 0.74792, Train accuracy: 0.06925, Dev accuracy: 0.51200\n",
      "Epoch: 1, loss: 0.65865, Train accuracy: 0.07037, Dev accuracy: 0.51500\n",
      "Epoch: 1, loss: 0.58109, Train accuracy: 0.07150, Dev accuracy: 0.51500\n",
      "Epoch: 1, loss: 0.76849, Train accuracy: 0.07225, Dev accuracy: 0.51500\n",
      "Epoch: 1, loss: 0.64431, Train accuracy: 0.07337, Dev accuracy: 0.51500\n",
      "Epoch: 1, loss: 0.69344, Train accuracy: 0.07425, Dev accuracy: 0.51500\n",
      "Epoch: 1, loss: 0.77134, Train accuracy: 0.07487, Dev accuracy: 0.52600\n",
      "Epoch: 1, loss: 0.67105, Train accuracy: 0.07587, Dev accuracy: 0.51300\n",
      "Epoch: 1, loss: 0.67592, Train accuracy: 0.07687, Dev accuracy: 0.51500\n",
      "Epoch: 1, loss: 0.68292, Train accuracy: 0.07775, Dev accuracy: 0.51500\n",
      "Epoch: 1, loss: 0.66609, Train accuracy: 0.07875, Dev accuracy: 0.51500\n",
      "Epoch: 1, loss: 0.67659, Train accuracy: 0.07950, Dev accuracy: 0.51500\n",
      "Epoch: 1, loss: 0.66918, Train accuracy: 0.08038, Dev accuracy: 0.51500\n",
      "Epoch: 1, loss: 0.74340, Train accuracy: 0.08088, Dev accuracy: 0.51600\n",
      "Epoch: 1, loss: 0.69847, Train accuracy: 0.08163, Dev accuracy: 0.52200\n",
      "Epoch: 1, loss: 0.71038, Train accuracy: 0.08225, Dev accuracy: 0.49600\n",
      "Epoch: 1, loss: 0.68074, Train accuracy: 0.08325, Dev accuracy: 0.48500\n",
      "Epoch: 1, loss: 0.65421, Train accuracy: 0.08425, Dev accuracy: 0.48500\n",
      "Epoch: 1, loss: 0.72906, Train accuracy: 0.08500, Dev accuracy: 0.48400\n",
      "Epoch: 1, loss: 0.72728, Train accuracy: 0.08575, Dev accuracy: 0.49500\n",
      "Epoch: 1, loss: 0.70814, Train accuracy: 0.08637, Dev accuracy: 0.49200\n",
      "Epoch: 1, loss: 0.70225, Train accuracy: 0.08700, Dev accuracy: 0.48500\n",
      "Epoch: 1, loss: 0.75690, Train accuracy: 0.08762, Dev accuracy: 0.49400\n",
      "Epoch: 1, loss: 0.68740, Train accuracy: 0.08837, Dev accuracy: 0.48900\n",
      "Epoch: 1, loss: 0.71333, Train accuracy: 0.08887, Dev accuracy: 0.51200\n",
      "Epoch: 1, loss: 0.74040, Train accuracy: 0.08950, Dev accuracy: 0.49500\n",
      "Epoch: 1, loss: 0.69600, Train accuracy: 0.09025, Dev accuracy: 0.51400\n",
      "Epoch: 1, loss: 0.63462, Train accuracy: 0.09125, Dev accuracy: 0.51400\n",
      "Epoch: 1, loss: 0.76975, Train accuracy: 0.09187, Dev accuracy: 0.51100\n",
      "Epoch: 1, loss: 0.69310, Train accuracy: 0.09262, Dev accuracy: 0.50900\n",
      "Epoch: 1, loss: 0.67628, Train accuracy: 0.09337, Dev accuracy: 0.51200\n",
      "Epoch: 1, loss: 0.75017, Train accuracy: 0.09400, Dev accuracy: 0.49400\n",
      "Epoch: 1, loss: 0.67538, Train accuracy: 0.09500, Dev accuracy: 0.48500\n",
      "Epoch: 1, loss: 0.70721, Train accuracy: 0.09575, Dev accuracy: 0.48400\n",
      "Epoch: 1, loss: 0.73468, Train accuracy: 0.09638, Dev accuracy: 0.48400\n",
      "Epoch: 1, loss: 0.69101, Train accuracy: 0.09738, Dev accuracy: 0.48100\n",
      "Epoch: 1, loss: 0.71821, Train accuracy: 0.09775, Dev accuracy: 0.51200\n",
      "Epoch: 1, loss: 0.72613, Train accuracy: 0.09825, Dev accuracy: 0.48400\n",
      "Epoch: 1, loss: 0.63914, Train accuracy: 0.09938, Dev accuracy: 0.48500\n",
      "Epoch: 1, loss: 0.64234, Train accuracy: 0.10038, Dev accuracy: 0.48500\n",
      "Epoch: 1, loss: 0.76217, Train accuracy: 0.10100, Dev accuracy: 0.48500\n",
      "Epoch: 1, loss: 0.60690, Train accuracy: 0.10225, Dev accuracy: 0.48500\n",
      "Epoch: 1, loss: 0.70094, Train accuracy: 0.10312, Dev accuracy: 0.48500\n",
      "Epoch: 1, loss: 0.65020, Train accuracy: 0.10412, Dev accuracy: 0.48500\n",
      "Epoch: 1, loss: 0.60326, Train accuracy: 0.10512, Dev accuracy: 0.48500\n",
      "Epoch: 1, loss: 0.84227, Train accuracy: 0.10562, Dev accuracy: 0.48800\n",
      "Epoch: 1, loss: 0.72248, Train accuracy: 0.10600, Dev accuracy: 0.50800\n",
      "Epoch: 1, loss: 0.77071, Train accuracy: 0.10637, Dev accuracy: 0.48500\n",
      "Epoch: 1, loss: 0.76096, Train accuracy: 0.10675, Dev accuracy: 0.51100\n",
      "Epoch: 1, loss: 0.76487, Train accuracy: 0.10725, Dev accuracy: 0.49200\n",
      "Epoch: 1, loss: 0.65697, Train accuracy: 0.10812, Dev accuracy: 0.48500\n",
      "Epoch: 1, loss: 0.69376, Train accuracy: 0.10900, Dev accuracy: 0.48500\n",
      "Epoch: 1, loss: 0.71559, Train accuracy: 0.10963, Dev accuracy: 0.48500\n",
      "Epoch: 1, loss: 0.67435, Train accuracy: 0.11050, Dev accuracy: 0.48600\n",
      "Epoch: 1, loss: 0.69151, Train accuracy: 0.11125, Dev accuracy: 0.48800\n",
      "Epoch: 1, loss: 0.72121, Train accuracy: 0.11175, Dev accuracy: 0.48800\n",
      "Epoch: 1, loss: 0.66588, Train accuracy: 0.11288, Dev accuracy: 0.50300\n",
      "Epoch: 1, loss: 0.72401, Train accuracy: 0.11325, Dev accuracy: 0.50300\n",
      "Epoch: 1, loss: 0.72145, Train accuracy: 0.11375, Dev accuracy: 0.50200\n",
      "Epoch: 1, loss: 0.71126, Train accuracy: 0.11425, Dev accuracy: 0.49500\n",
      "Epoch: 1, loss: 0.73679, Train accuracy: 0.11463, Dev accuracy: 0.49100\n",
      "Epoch: 1, loss: 0.67556, Train accuracy: 0.11550, Dev accuracy: 0.51000\n",
      "Epoch: 1, loss: 0.66430, Train accuracy: 0.11638, Dev accuracy: 0.51400\n",
      "Epoch: 1, loss: 0.68907, Train accuracy: 0.11725, Dev accuracy: 0.51400\n",
      "Epoch: 1, loss: 0.75365, Train accuracy: 0.11787, Dev accuracy: 0.48900\n",
      "Epoch: 1, loss: 0.67205, Train accuracy: 0.11900, Dev accuracy: 0.50800\n",
      "Epoch: 1, loss: 0.71756, Train accuracy: 0.11962, Dev accuracy: 0.48000\n",
      "Epoch: 1, loss: 0.69223, Train accuracy: 0.12037, Dev accuracy: 0.48600\n",
      "Epoch: 1, loss: 0.69572, Train accuracy: 0.12112, Dev accuracy: 0.50300\n",
      "Epoch: 1, loss: 0.73444, Train accuracy: 0.12162, Dev accuracy: 0.48500\n",
      "Epoch: 1, loss: 0.68325, Train accuracy: 0.12262, Dev accuracy: 0.48500\n",
      "Epoch: 1, loss: 0.73032, Train accuracy: 0.12325, Dev accuracy: 0.47900\n",
      "Epoch: 1, loss: 0.71882, Train accuracy: 0.12375, Dev accuracy: 0.47800\n",
      "Epoch: 1, loss: 0.74514, Train accuracy: 0.12437, Dev accuracy: 0.48400\n",
      "Epoch: 1, loss: 0.68960, Train accuracy: 0.12525, Dev accuracy: 0.47300\n",
      "Epoch: 1, loss: 0.69067, Train accuracy: 0.12625, Dev accuracy: 0.51000\n",
      "Epoch: 1, loss: 0.72719, Train accuracy: 0.12700, Dev accuracy: 0.48100\n",
      "Epoch: 1, loss: 0.69186, Train accuracy: 0.12775, Dev accuracy: 0.50200\n",
      "Epoch: 1, loss: 0.68631, Train accuracy: 0.12837, Dev accuracy: 0.49100\n",
      "Epoch: 1, loss: 0.70827, Train accuracy: 0.12912, Dev accuracy: 0.48400\n",
      "Epoch: 1, loss: 0.67337, Train accuracy: 0.13012, Dev accuracy: 0.48200\n",
      "Epoch: 1, loss: 0.64144, Train accuracy: 0.13112, Dev accuracy: 0.48500\n",
      "Epoch: 1, loss: 0.66983, Train accuracy: 0.13187, Dev accuracy: 0.48500\n",
      "Epoch: 1, loss: 0.63179, Train accuracy: 0.13300, Dev accuracy: 0.48500\n",
      "Epoch: 1, loss: 0.91910, Train accuracy: 0.13337, Dev accuracy: 0.50200\n",
      "Epoch: 1, loss: 0.70423, Train accuracy: 0.13400, Dev accuracy: 0.48100\n",
      "Epoch: 1, loss: 0.68063, Train accuracy: 0.13475, Dev accuracy: 0.48500\n",
      "Epoch: 1, loss: 0.68720, Train accuracy: 0.13562, Dev accuracy: 0.48800\n",
      "Epoch: 1, loss: 0.76478, Train accuracy: 0.13612, Dev accuracy: 0.47000\n",
      "Epoch: 1, loss: 0.67037, Train accuracy: 0.13725, Dev accuracy: 0.46600\n",
      "Epoch: 1, loss: 0.68685, Train accuracy: 0.13787, Dev accuracy: 0.48400\n",
      "Epoch: 1, loss: 0.60113, Train accuracy: 0.13875, Dev accuracy: 0.48500\n",
      "Epoch: 1, loss: 0.68601, Train accuracy: 0.13962, Dev accuracy: 0.48400\n",
      "Epoch: 1, loss: 0.73090, Train accuracy: 0.14012, Dev accuracy: 0.48500\n",
      "Epoch: 1, loss: 0.70209, Train accuracy: 0.14062, Dev accuracy: 0.47700\n",
      "Epoch: 1, loss: 0.69681, Train accuracy: 0.14125, Dev accuracy: 0.50800\n",
      "Epoch: 1, loss: 0.70290, Train accuracy: 0.14175, Dev accuracy: 0.48200\n",
      "Epoch: 1, loss: 0.67196, Train accuracy: 0.14288, Dev accuracy: 0.48800\n",
      "Epoch: 1, loss: 0.68385, Train accuracy: 0.14363, Dev accuracy: 0.47200\n",
      "Epoch: 1, loss: 0.70396, Train accuracy: 0.14450, Dev accuracy: 0.46700\n",
      "Epoch: 1, loss: 0.70217, Train accuracy: 0.14525, Dev accuracy: 0.50200\n",
      "Epoch: 1, loss: 0.72299, Train accuracy: 0.14613, Dev accuracy: 0.47900\n",
      "Epoch: 1, loss: 0.73605, Train accuracy: 0.14675, Dev accuracy: 0.48500\n",
      "Epoch: 1, loss: 0.67520, Train accuracy: 0.14750, Dev accuracy: 0.48500\n",
      "Epoch: 1, loss: 0.81629, Train accuracy: 0.14800, Dev accuracy: 0.47700\n",
      "Epoch: 1, loss: 0.70399, Train accuracy: 0.14875, Dev accuracy: 0.47800\n",
      "Epoch: 1, loss: 0.68176, Train accuracy: 0.14975, Dev accuracy: 0.49400\n",
      "Epoch: 1, loss: 0.70633, Train accuracy: 0.15063, Dev accuracy: 0.48500\n",
      "Epoch: 1, loss: 0.69476, Train accuracy: 0.15163, Dev accuracy: 0.50200\n",
      "Epoch: 1, loss: 0.71916, Train accuracy: 0.15225, Dev accuracy: 0.51100\n",
      "Epoch: 1, loss: 0.74988, Train accuracy: 0.15288, Dev accuracy: 0.48100\n",
      "Epoch: 1, loss: 0.67093, Train accuracy: 0.15400, Dev accuracy: 0.48900\n",
      "Epoch: 1, loss: 0.68297, Train accuracy: 0.15500, Dev accuracy: 0.48000\n",
      "Epoch: 1, loss: 0.76948, Train accuracy: 0.15550, Dev accuracy: 0.49600\n",
      "Epoch: 1, loss: 0.68796, Train accuracy: 0.15662, Dev accuracy: 0.51100\n",
      "Epoch: 1, loss: 0.62341, Train accuracy: 0.15775, Dev accuracy: 0.51400\n",
      "Epoch: 1, loss: 0.72540, Train accuracy: 0.15837, Dev accuracy: 0.50900\n",
      "Epoch: 1, loss: 0.60727, Train accuracy: 0.15950, Dev accuracy: 0.51400\n",
      "Epoch: 1, loss: 0.78158, Train accuracy: 0.16000, Dev accuracy: 0.50400\n",
      "Epoch: 1, loss: 0.72673, Train accuracy: 0.16037, Dev accuracy: 0.50600\n",
      "Epoch: 1, loss: 0.66406, Train accuracy: 0.16137, Dev accuracy: 0.50100\n",
      "Epoch: 1, loss: 0.72324, Train accuracy: 0.16200, Dev accuracy: 0.50200\n",
      "Epoch: 1, loss: 0.67195, Train accuracy: 0.16287, Dev accuracy: 0.51200\n",
      "Epoch: 1, loss: 0.71047, Train accuracy: 0.16387, Dev accuracy: 0.51100\n",
      "Epoch: 1, loss: 0.69108, Train accuracy: 0.16487, Dev accuracy: 0.51100\n",
      "Epoch: 1, loss: 0.71393, Train accuracy: 0.16550, Dev accuracy: 0.50300\n",
      "Epoch: 1, loss: 0.67275, Train accuracy: 0.16637, Dev accuracy: 0.51100\n",
      "Epoch: 1, loss: 0.73226, Train accuracy: 0.16712, Dev accuracy: 0.49900\n",
      "Epoch: 1, loss: 0.70835, Train accuracy: 0.16787, Dev accuracy: 0.51400\n",
      "Epoch: 1, loss: 0.72291, Train accuracy: 0.16875, Dev accuracy: 0.51200\n",
      "Epoch: 1, loss: 0.77067, Train accuracy: 0.16950, Dev accuracy: 0.50600\n",
      "Epoch: 1, loss: 0.73011, Train accuracy: 0.17000, Dev accuracy: 0.48400\n",
      "Epoch: 1, loss: 0.67419, Train accuracy: 0.17062, Dev accuracy: 0.49200\n",
      "Epoch: 1, loss: 0.65251, Train accuracy: 0.17162, Dev accuracy: 0.48400\n",
      "Epoch: 1, loss: 0.66336, Train accuracy: 0.17250, Dev accuracy: 0.48400\n",
      "Epoch: 1, loss: 0.67369, Train accuracy: 0.17325, Dev accuracy: 0.48700\n",
      "Epoch: 1, loss: 0.67813, Train accuracy: 0.17413, Dev accuracy: 0.48200\n",
      "Epoch: 1, loss: 0.73903, Train accuracy: 0.17463, Dev accuracy: 0.49400\n",
      "Epoch: 1, loss: 0.68162, Train accuracy: 0.17563, Dev accuracy: 0.48800\n",
      "Epoch: 1, loss: 0.69905, Train accuracy: 0.17638, Dev accuracy: 0.51000\n",
      "Epoch: 1, loss: 0.70824, Train accuracy: 0.17713, Dev accuracy: 0.50900\n",
      "Epoch: 1, loss: 0.72812, Train accuracy: 0.17775, Dev accuracy: 0.49500\n",
      "Epoch: 1, loss: 0.69155, Train accuracy: 0.17850, Dev accuracy: 0.48500\n",
      "Epoch: 1, loss: 0.69621, Train accuracy: 0.17913, Dev accuracy: 0.49600\n",
      "Epoch: 1, loss: 0.65959, Train accuracy: 0.18025, Dev accuracy: 0.47300\n",
      "Epoch: 1, loss: 0.67237, Train accuracy: 0.18100, Dev accuracy: 0.47100\n",
      "Epoch: 1, loss: 0.68017, Train accuracy: 0.18188, Dev accuracy: 0.47000\n",
      "Epoch: 1, loss: 0.74186, Train accuracy: 0.18225, Dev accuracy: 0.49900\n",
      "Epoch: 1, loss: 0.69061, Train accuracy: 0.18300, Dev accuracy: 0.51100\n",
      "Epoch: 1, loss: 0.65238, Train accuracy: 0.18388, Dev accuracy: 0.51200\n",
      "Epoch: 1, loss: 0.67869, Train accuracy: 0.18475, Dev accuracy: 0.51300\n",
      "Epoch: 1, loss: 0.61883, Train accuracy: 0.18588, Dev accuracy: 0.51400\n",
      "Epoch: 1, loss: 0.87178, Train accuracy: 0.18638, Dev accuracy: 0.48200\n",
      "Epoch: 1, loss: 0.71171, Train accuracy: 0.18725, Dev accuracy: 0.49900\n",
      "Epoch: 1, loss: 0.71168, Train accuracy: 0.18775, Dev accuracy: 0.48400\n",
      "Epoch: 1, loss: 0.67307, Train accuracy: 0.18887, Dev accuracy: 0.49700\n",
      "Epoch: 1, loss: 0.65801, Train accuracy: 0.18975, Dev accuracy: 0.47000\n",
      "Epoch: 1, loss: 0.69497, Train accuracy: 0.19062, Dev accuracy: 0.47000\n",
      "Epoch: 1, loss: 0.75940, Train accuracy: 0.19112, Dev accuracy: 0.49700\n",
      "Epoch: 1, loss: 0.71216, Train accuracy: 0.19175, Dev accuracy: 0.49300\n",
      "Epoch: 1, loss: 0.68478, Train accuracy: 0.19262, Dev accuracy: 0.49500\n",
      "Epoch: 1, loss: 0.66191, Train accuracy: 0.19362, Dev accuracy: 0.48200\n",
      "Epoch: 1, loss: 0.73992, Train accuracy: 0.19412, Dev accuracy: 0.48000\n",
      "Epoch: 1, loss: 0.71425, Train accuracy: 0.19450, Dev accuracy: 0.50900\n",
      "Epoch: 1, loss: 0.66629, Train accuracy: 0.19525, Dev accuracy: 0.51500\n",
      "Epoch: 1, loss: 0.72997, Train accuracy: 0.19600, Dev accuracy: 0.51100\n",
      "Epoch: 1, loss: 0.67655, Train accuracy: 0.19687, Dev accuracy: 0.51400\n",
      "Epoch: 1, loss: 0.77695, Train accuracy: 0.19725, Dev accuracy: 0.49500\n",
      "Epoch: 1, loss: 0.73169, Train accuracy: 0.19775, Dev accuracy: 0.48300\n",
      "Epoch: 1, loss: 0.66990, Train accuracy: 0.19887, Dev accuracy: 0.50800\n",
      "Epoch: 1, loss: 0.69933, Train accuracy: 0.19962, Dev accuracy: 0.49700\n",
      "Epoch: 1, loss: 0.72525, Train accuracy: 0.20012, Dev accuracy: 0.48000\n",
      "Epoch: 1, loss: 0.69353, Train accuracy: 0.20075, Dev accuracy: 0.49800\n",
      "Epoch: 1, loss: 0.70319, Train accuracy: 0.20125, Dev accuracy: 0.51200\n",
      "Epoch: 1, loss: 0.67844, Train accuracy: 0.20200, Dev accuracy: 0.50500\n",
      "Epoch: 1, loss: 0.68905, Train accuracy: 0.20262, Dev accuracy: 0.50700\n",
      "Epoch: 1, loss: 0.67951, Train accuracy: 0.20325, Dev accuracy: 0.50900\n",
      "Epoch: 1, loss: 0.69077, Train accuracy: 0.20400, Dev accuracy: 0.51300\n",
      "Epoch: 1, loss: 0.65739, Train accuracy: 0.20488, Dev accuracy: 0.51400\n",
      "Epoch: 1, loss: 0.86135, Train accuracy: 0.20513, Dev accuracy: 0.47600\n",
      "Epoch: 1, loss: 0.65632, Train accuracy: 0.20625, Dev accuracy: 0.47900\n",
      "Epoch: 1, loss: 0.79156, Train accuracy: 0.20675, Dev accuracy: 0.49200\n",
      "Epoch: 1, loss: 0.66905, Train accuracy: 0.20788, Dev accuracy: 0.48600\n",
      "Epoch: 1, loss: 0.67648, Train accuracy: 0.20888, Dev accuracy: 0.48200\n",
      "Epoch: 1, loss: 0.70507, Train accuracy: 0.20963, Dev accuracy: 0.48500\n",
      "Epoch: 1, loss: 0.66433, Train accuracy: 0.21038, Dev accuracy: 0.48600\n",
      "Epoch: 1, loss: 0.75644, Train accuracy: 0.21100, Dev accuracy: 0.50200\n",
      "Epoch: 1, loss: 0.71215, Train accuracy: 0.21150, Dev accuracy: 0.51100\n",
      "Epoch: 1, loss: 0.69344, Train accuracy: 0.21238, Dev accuracy: 0.51200\n",
      "Epoch: 1, loss: 0.66876, Train accuracy: 0.21313, Dev accuracy: 0.51400\n",
      "Epoch: 1, loss: 0.67941, Train accuracy: 0.21400, Dev accuracy: 0.51400\n",
      "Epoch: 1, loss: 0.85748, Train accuracy: 0.21438, Dev accuracy: 0.49500\n",
      "Epoch: 1, loss: 0.68804, Train accuracy: 0.21513, Dev accuracy: 0.49900\n",
      "Epoch: 1, loss: 0.70736, Train accuracy: 0.21613, Dev accuracy: 0.49200\n",
      "Epoch: 1, loss: 0.73322, Train accuracy: 0.21700, Dev accuracy: 0.49700\n",
      "Epoch: 1, loss: 0.69783, Train accuracy: 0.21788, Dev accuracy: 0.49300\n",
      "Epoch: 1, loss: 0.73909, Train accuracy: 0.21850, Dev accuracy: 0.50800\n",
      "Epoch: 1, loss: 0.67752, Train accuracy: 0.21937, Dev accuracy: 0.51200\n",
      "Epoch: 1, loss: 0.71763, Train accuracy: 0.22012, Dev accuracy: 0.50200\n",
      "Epoch: 1, loss: 0.70236, Train accuracy: 0.22087, Dev accuracy: 0.50600\n",
      "Epoch: 1, loss: 0.71964, Train accuracy: 0.22150, Dev accuracy: 0.51400\n",
      "Epoch: 1, loss: 0.66602, Train accuracy: 0.22237, Dev accuracy: 0.51400\n",
      "Epoch: 1, loss: 0.57610, Train accuracy: 0.22362, Dev accuracy: 0.51500\n",
      "Epoch: 1, loss: 0.66261, Train accuracy: 0.22450, Dev accuracy: 0.51500\n",
      "Epoch: 1, loss: 0.69756, Train accuracy: 0.22525, Dev accuracy: 0.51400\n",
      "Epoch: 1, loss: 0.73943, Train accuracy: 0.22600, Dev accuracy: 0.51300\n",
      "Epoch: 1, loss: 0.71601, Train accuracy: 0.22662, Dev accuracy: 0.51400\n",
      "Epoch: 1, loss: 0.64908, Train accuracy: 0.22762, Dev accuracy: 0.51300\n",
      "Epoch: 1, loss: 0.63174, Train accuracy: 0.22875, Dev accuracy: 0.51400\n",
      "Epoch: 1, loss: 0.67914, Train accuracy: 0.22962, Dev accuracy: 0.51400\n",
      "Epoch: 1, loss: 0.70540, Train accuracy: 0.23037, Dev accuracy: 0.51300\n",
      "Epoch: 1, loss: 0.71675, Train accuracy: 0.23112, Dev accuracy: 0.51100\n",
      "Epoch: 1, loss: 0.70788, Train accuracy: 0.23187, Dev accuracy: 0.49200\n",
      "Epoch: 1, loss: 0.64166, Train accuracy: 0.23300, Dev accuracy: 0.51300\n",
      "Epoch: 1, loss: 0.76540, Train accuracy: 0.23337, Dev accuracy: 0.50500\n",
      "Epoch: 1, loss: 0.68898, Train accuracy: 0.23425, Dev accuracy: 0.49500\n",
      "Epoch: 1, loss: 0.70524, Train accuracy: 0.23475, Dev accuracy: 0.50500\n",
      "Epoch: 1, loss: 0.71374, Train accuracy: 0.23513, Dev accuracy: 0.48100\n",
      "Epoch: 1, loss: 0.67846, Train accuracy: 0.23613, Dev accuracy: 0.48200\n",
      "Epoch: 1, loss: 0.77052, Train accuracy: 0.23663, Dev accuracy: 0.49100\n",
      "Epoch: 1, loss: 0.66968, Train accuracy: 0.23775, Dev accuracy: 0.51400\n",
      "Epoch: 1, loss: 0.66147, Train accuracy: 0.23875, Dev accuracy: 0.51200\n",
      "Epoch: 1, loss: 0.71064, Train accuracy: 0.23963, Dev accuracy: 0.51400\n",
      "Epoch: 1, loss: 0.70543, Train accuracy: 0.24038, Dev accuracy: 0.49800\n",
      "Epoch: 1, loss: 0.70847, Train accuracy: 0.24075, Dev accuracy: 0.50500\n",
      "Epoch: 1, loss: 0.71352, Train accuracy: 0.24113, Dev accuracy: 0.49100\n",
      "Epoch: 1, loss: 0.68146, Train accuracy: 0.24188, Dev accuracy: 0.50100\n",
      "Epoch: 1, loss: 0.71380, Train accuracy: 0.24225, Dev accuracy: 0.50600\n",
      "Epoch: 1, loss: 0.69149, Train accuracy: 0.24300, Dev accuracy: 0.48100\n",
      "Epoch: 1, loss: 0.69602, Train accuracy: 0.24375, Dev accuracy: 0.47900\n",
      "Epoch: 1, loss: 0.67051, Train accuracy: 0.24450, Dev accuracy: 0.48200\n",
      "Epoch: 1, loss: 0.64705, Train accuracy: 0.24538, Dev accuracy: 0.48400\n",
      "Epoch: 1, loss: 0.73414, Train accuracy: 0.24600, Dev accuracy: 0.49600\n",
      "Epoch: 1, loss: 0.71880, Train accuracy: 0.24675, Dev accuracy: 0.50300\n",
      "Epoch: 1, loss: 0.68851, Train accuracy: 0.24725, Dev accuracy: 0.50100\n",
      "Epoch: 1, loss: 0.73353, Train accuracy: 0.24775, Dev accuracy: 0.50800\n",
      "Epoch: 1, loss: 0.69287, Train accuracy: 0.24850, Dev accuracy: 0.51200\n",
      "Epoch: 1, loss: 0.68721, Train accuracy: 0.24938, Dev accuracy: 0.50600\n",
      "Epoch: 1, loss: 0.73479, Train accuracy: 0.25000, Dev accuracy: 0.50200\n",
      "Epoch: 1, loss: 0.70869, Train accuracy: 0.25062, Dev accuracy: 0.51400\n",
      "Epoch: 1, loss: 0.73894, Train accuracy: 0.25125, Dev accuracy: 0.50400\n",
      "Epoch: 1, loss: 0.67443, Train accuracy: 0.25200, Dev accuracy: 0.50500\n",
      "Epoch: 1, loss: 0.72503, Train accuracy: 0.25250, Dev accuracy: 0.51500\n",
      "Epoch: 1, loss: 0.67470, Train accuracy: 0.25338, Dev accuracy: 0.50400\n",
      "Epoch: 1, loss: 0.71828, Train accuracy: 0.25412, Dev accuracy: 0.51800\n",
      "Epoch: 1, loss: 0.69669, Train accuracy: 0.25525, Dev accuracy: 0.52100\n",
      "Epoch: 1, loss: 0.69189, Train accuracy: 0.25588, Dev accuracy: 0.50500\n",
      "Epoch: 1, loss: 0.67613, Train accuracy: 0.25662, Dev accuracy: 0.50300\n",
      "Epoch: 1, loss: 0.66790, Train accuracy: 0.25775, Dev accuracy: 0.50800\n",
      "Epoch: 1, loss: 0.73293, Train accuracy: 0.25825, Dev accuracy: 0.50000\n",
      "Epoch: 1, loss: 0.68922, Train accuracy: 0.25925, Dev accuracy: 0.49000\n",
      "Epoch: 1, loss: 0.65906, Train accuracy: 0.26025, Dev accuracy: 0.48600\n",
      "Epoch: 1, loss: 0.71015, Train accuracy: 0.26100, Dev accuracy: 0.48300\n",
      "Epoch: 1, loss: 0.67868, Train accuracy: 0.26188, Dev accuracy: 0.48500\n",
      "Epoch: 1, loss: 0.66574, Train accuracy: 0.26262, Dev accuracy: 0.48500\n",
      "Epoch: 1, loss: 0.64461, Train accuracy: 0.26350, Dev accuracy: 0.48500\n",
      "Epoch: 1, loss: 0.67566, Train accuracy: 0.26438, Dev accuracy: 0.48500\n",
      "Epoch: 1, loss: 0.72349, Train accuracy: 0.26512, Dev accuracy: 0.48700\n",
      "Epoch: 1, loss: 0.70265, Train accuracy: 0.26587, Dev accuracy: 0.49200\n",
      "Epoch: 1, loss: 0.69668, Train accuracy: 0.26663, Dev accuracy: 0.49200\n",
      "Epoch: 1, loss: 0.68442, Train accuracy: 0.26750, Dev accuracy: 0.48700\n",
      "Epoch: 1, loss: 0.68419, Train accuracy: 0.26825, Dev accuracy: 0.50600\n",
      "Epoch: 1, loss: 0.73689, Train accuracy: 0.26887, Dev accuracy: 0.49800\n",
      "Epoch: 1, loss: 0.71082, Train accuracy: 0.26937, Dev accuracy: 0.48600\n",
      "Epoch: 1, loss: 0.68729, Train accuracy: 0.27013, Dev accuracy: 0.48500\n",
      "Epoch: 1, loss: 0.71017, Train accuracy: 0.27087, Dev accuracy: 0.48000\n",
      "Epoch: 1, loss: 0.76876, Train accuracy: 0.27137, Dev accuracy: 0.51300\n",
      "Epoch: 1, loss: 0.71092, Train accuracy: 0.27225, Dev accuracy: 0.48500\n",
      "Epoch: 1, loss: 0.68618, Train accuracy: 0.27313, Dev accuracy: 0.48200\n",
      "Epoch: 1, loss: 0.66465, Train accuracy: 0.27400, Dev accuracy: 0.48500\n",
      "Epoch: 1, loss: 0.71069, Train accuracy: 0.27463, Dev accuracy: 0.48500\n",
      "Epoch: 1, loss: 0.73876, Train accuracy: 0.27537, Dev accuracy: 0.49600\n",
      "Epoch: 1, loss: 0.66675, Train accuracy: 0.27637, Dev accuracy: 0.48600\n",
      "Epoch: 1, loss: 0.65991, Train accuracy: 0.27713, Dev accuracy: 0.48200\n",
      "Epoch: 1, loss: 0.70899, Train accuracy: 0.27800, Dev accuracy: 0.49900\n",
      "Epoch: 1, loss: 0.74116, Train accuracy: 0.27837, Dev accuracy: 0.50600\n",
      "Epoch: 1, loss: 0.67667, Train accuracy: 0.27925, Dev accuracy: 0.51300\n",
      "Epoch: 1, loss: 0.72249, Train accuracy: 0.28000, Dev accuracy: 0.50700\n",
      "Epoch: 1, loss: 0.69387, Train accuracy: 0.28063, Dev accuracy: 0.50900\n",
      "Epoch: 1, loss: 0.68228, Train accuracy: 0.28163, Dev accuracy: 0.51800\n",
      "Epoch: 1, loss: 0.69230, Train accuracy: 0.28237, Dev accuracy: 0.51400\n",
      "Epoch: 1, loss: 0.67941, Train accuracy: 0.28325, Dev accuracy: 0.51300\n",
      "Epoch: 1, loss: 0.65572, Train accuracy: 0.28437, Dev accuracy: 0.50600\n",
      "Epoch: 1, loss: 0.67399, Train accuracy: 0.28525, Dev accuracy: 0.51100\n",
      "Epoch: 1, loss: 0.71054, Train accuracy: 0.28600, Dev accuracy: 0.50700\n",
      "Epoch: 1, loss: 0.74337, Train accuracy: 0.28675, Dev accuracy: 0.51500\n",
      "Epoch: 1, loss: 0.70345, Train accuracy: 0.28750, Dev accuracy: 0.51300\n",
      "Epoch: 1, loss: 0.70631, Train accuracy: 0.28825, Dev accuracy: 0.50800\n",
      "Epoch: 1, loss: 0.72672, Train accuracy: 0.28887, Dev accuracy: 0.48300\n",
      "Epoch: 1, loss: 0.78842, Train accuracy: 0.28925, Dev accuracy: 0.51200\n",
      "Epoch: 1, loss: 0.79674, Train accuracy: 0.28975, Dev accuracy: 0.52400\n",
      "Epoch: 1, loss: 0.66862, Train accuracy: 0.29075, Dev accuracy: 0.48500\n",
      "Epoch: 1, loss: 0.72657, Train accuracy: 0.29150, Dev accuracy: 0.48400\n",
      "Epoch: 1, loss: 0.68043, Train accuracy: 0.29225, Dev accuracy: 0.48400\n",
      "Epoch: 1, loss: 0.71143, Train accuracy: 0.29300, Dev accuracy: 0.49800\n",
      "Epoch: 1, loss: 0.68078, Train accuracy: 0.29375, Dev accuracy: 0.48600\n",
      "Epoch: 1, loss: 0.65796, Train accuracy: 0.29463, Dev accuracy: 0.48500\n",
      "Epoch: 1, loss: 0.75338, Train accuracy: 0.29525, Dev accuracy: 0.49400\n",
      "Epoch: 1, loss: 0.68315, Train accuracy: 0.29625, Dev accuracy: 0.48500\n",
      "Epoch: 1, loss: 0.83080, Train accuracy: 0.29675, Dev accuracy: 0.49500\n",
      "Epoch: 1, loss: 0.70454, Train accuracy: 0.29738, Dev accuracy: 0.50600\n",
      "Epoch: 1, loss: 0.71136, Train accuracy: 0.29812, Dev accuracy: 0.50200\n",
      "Epoch: 1, loss: 0.69438, Train accuracy: 0.29875, Dev accuracy: 0.50300\n",
      "Epoch: 1, loss: 0.67056, Train accuracy: 0.29975, Dev accuracy: 0.48500\n",
      "Epoch: 1, loss: 0.69351, Train accuracy: 0.30038, Dev accuracy: 0.48800\n",
      "Epoch: 1, loss: 0.77105, Train accuracy: 0.30100, Dev accuracy: 0.51700\n",
      "Epoch: 1, loss: 0.67670, Train accuracy: 0.30175, Dev accuracy: 0.48800\n",
      "Epoch: 1, loss: 0.58134, Train accuracy: 0.30288, Dev accuracy: 0.48500\n",
      "Epoch: 1, loss: 0.77844, Train accuracy: 0.30350, Dev accuracy: 0.48900\n",
      "Epoch: 1, loss: 0.73017, Train accuracy: 0.30438, Dev accuracy: 0.50000\n",
      "Epoch: 1, loss: 0.69233, Train accuracy: 0.30500, Dev accuracy: 0.49500\n",
      "Epoch: 1, loss: 0.72921, Train accuracy: 0.30550, Dev accuracy: 0.51600\n",
      "Epoch: 1, loss: 0.68575, Train accuracy: 0.30612, Dev accuracy: 0.51200\n",
      "Epoch: 1, loss: 0.68631, Train accuracy: 0.30662, Dev accuracy: 0.51500\n",
      "Epoch: 1, loss: 0.70606, Train accuracy: 0.30738, Dev accuracy: 0.51800\n",
      "Epoch: 1, loss: 0.69538, Train accuracy: 0.30800, Dev accuracy: 0.52000\n",
      "Epoch: 1, loss: 0.68976, Train accuracy: 0.30875, Dev accuracy: 0.49800\n",
      "Epoch: 1, loss: 0.67983, Train accuracy: 0.30950, Dev accuracy: 0.48500\n",
      "Epoch: 1, loss: 0.77671, Train accuracy: 0.31000, Dev accuracy: 0.52000\n",
      "Epoch: 1, loss: 0.65759, Train accuracy: 0.31100, Dev accuracy: 0.48600\n",
      "Epoch: 1, loss: 0.67823, Train accuracy: 0.31188, Dev accuracy: 0.48300\n",
      "Epoch: 1, loss: 0.76164, Train accuracy: 0.31250, Dev accuracy: 0.52400\n",
      "Epoch: 1, loss: 0.67819, Train accuracy: 0.31325, Dev accuracy: 0.48600\n",
      "Epoch: 1, loss: 0.70558, Train accuracy: 0.31400, Dev accuracy: 0.48500\n",
      "Epoch: 1, loss: 0.68585, Train accuracy: 0.31488, Dev accuracy: 0.48300\n",
      "Epoch: 1, loss: 0.80025, Train accuracy: 0.31538, Dev accuracy: 0.51200\n",
      "Epoch: 1, loss: 0.69889, Train accuracy: 0.31600, Dev accuracy: 0.51400\n",
      "Epoch: 1, loss: 0.67217, Train accuracy: 0.31700, Dev accuracy: 0.50800\n",
      "Epoch: 1, loss: 0.76618, Train accuracy: 0.31738, Dev accuracy: 0.49900\n",
      "Epoch: 1, loss: 0.66775, Train accuracy: 0.31838, Dev accuracy: 0.50900\n",
      "Epoch: 1, loss: 0.67940, Train accuracy: 0.31925, Dev accuracy: 0.51500\n",
      "Epoch: 1, loss: 0.71450, Train accuracy: 0.31975, Dev accuracy: 0.50500\n",
      "Epoch: 1, loss: 0.62152, Train accuracy: 0.32088, Dev accuracy: 0.48700\n",
      "Epoch: 1, loss: 0.80747, Train accuracy: 0.32125, Dev accuracy: 0.50300\n",
      "Epoch: 1, loss: 0.67186, Train accuracy: 0.32250, Dev accuracy: 0.51900\n",
      "Epoch: 1, loss: 0.68863, Train accuracy: 0.32338, Dev accuracy: 0.51500\n",
      "Epoch: 1, loss: 0.70289, Train accuracy: 0.32425, Dev accuracy: 0.50700\n",
      "Epoch: 1, loss: 0.68444, Train accuracy: 0.32500, Dev accuracy: 0.50700\n",
      "Epoch: 1, loss: 0.67643, Train accuracy: 0.32588, Dev accuracy: 0.51100\n",
      "Epoch: 1, loss: 0.68263, Train accuracy: 0.32662, Dev accuracy: 0.48400\n",
      "Epoch: 1, loss: 0.68887, Train accuracy: 0.32750, Dev accuracy: 0.52100\n",
      "Epoch: 1, loss: 0.73767, Train accuracy: 0.32788, Dev accuracy: 0.49200\n",
      "Epoch: 1, loss: 0.69282, Train accuracy: 0.32850, Dev accuracy: 0.50900\n",
      "Epoch: 1, loss: 0.70709, Train accuracy: 0.32913, Dev accuracy: 0.50400\n",
      "Epoch: 1, loss: 0.72859, Train accuracy: 0.32975, Dev accuracy: 0.48900\n",
      "Epoch: 1, loss: 0.69830, Train accuracy: 0.33050, Dev accuracy: 0.49300\n",
      "Epoch: 1, loss: 0.69518, Train accuracy: 0.33113, Dev accuracy: 0.50700\n",
      "Epoch: 1, loss: 0.77477, Train accuracy: 0.33150, Dev accuracy: 0.48300\n",
      "Epoch: 1, loss: 0.75242, Train accuracy: 0.33225, Dev accuracy: 0.49000\n",
      "Epoch: 1, loss: 0.69703, Train accuracy: 0.33313, Dev accuracy: 0.48800\n",
      "Epoch: 1, loss: 0.65811, Train accuracy: 0.33400, Dev accuracy: 0.51800\n",
      "Epoch: 1, loss: 0.70855, Train accuracy: 0.33450, Dev accuracy: 0.50600\n",
      "Epoch: 1, loss: 0.64731, Train accuracy: 0.33550, Dev accuracy: 0.51100\n",
      "Epoch: 1, loss: 0.69122, Train accuracy: 0.33637, Dev accuracy: 0.51300\n",
      "Epoch: 1, loss: 0.73053, Train accuracy: 0.33713, Dev accuracy: 0.51900\n",
      "Epoch: 1, loss: 0.70499, Train accuracy: 0.33750, Dev accuracy: 0.49400\n",
      "Epoch: 1, loss: 0.69717, Train accuracy: 0.33825, Dev accuracy: 0.48400\n",
      "Epoch: 1, loss: 0.72122, Train accuracy: 0.33887, Dev accuracy: 0.49700\n",
      "Epoch: 1, loss: 0.71954, Train accuracy: 0.33925, Dev accuracy: 0.51400\n",
      "Epoch: 1, loss: 0.72633, Train accuracy: 0.33950, Dev accuracy: 0.49600\n",
      "Epoch: 1, loss: 0.68741, Train accuracy: 0.34025, Dev accuracy: 0.49900\n",
      "Epoch: 1, loss: 0.66176, Train accuracy: 0.34113, Dev accuracy: 0.48200\n",
      "Epoch: 1, loss: 0.77989, Train accuracy: 0.34150, Dev accuracy: 0.52800\n",
      "Epoch: 1, loss: 0.68829, Train accuracy: 0.34237, Dev accuracy: 0.49100\n",
      "Epoch: 1, loss: 0.70464, Train accuracy: 0.34300, Dev accuracy: 0.50500\n",
      "Epoch: 1, loss: 0.68396, Train accuracy: 0.34375, Dev accuracy: 0.50300\n",
      "Epoch: 1, loss: 0.68617, Train accuracy: 0.34450, Dev accuracy: 0.50900\n",
      "Epoch: 1, loss: 0.67788, Train accuracy: 0.34537, Dev accuracy: 0.51300\n",
      "Epoch: 1, loss: 0.73205, Train accuracy: 0.34600, Dev accuracy: 0.51400\n",
      "Epoch: 1, loss: 0.79261, Train accuracy: 0.34637, Dev accuracy: 0.48600\n",
      "Epoch: 1, loss: 0.69405, Train accuracy: 0.34700, Dev accuracy: 0.48800\n",
      "Epoch: 1, loss: 0.74409, Train accuracy: 0.34763, Dev accuracy: 0.49900\n",
      "Epoch: 1, loss: 0.67025, Train accuracy: 0.34887, Dev accuracy: 0.49500\n",
      "Epoch: 1, loss: 0.70793, Train accuracy: 0.34950, Dev accuracy: 0.51600\n",
      "Epoch: 1, loss: 0.69977, Train accuracy: 0.35000, Dev accuracy: 0.52100\n",
      "Epoch: 1, loss: 0.69708, Train accuracy: 0.35087, Dev accuracy: 0.51400\n",
      "Epoch: 1, loss: 0.69745, Train accuracy: 0.35175, Dev accuracy: 0.51100\n",
      "Epoch: 1, loss: 0.72035, Train accuracy: 0.35237, Dev accuracy: 0.49700\n",
      "Epoch: 1, loss: 0.68313, Train accuracy: 0.35325, Dev accuracy: 0.50500\n",
      "Epoch: 1, loss: 0.68282, Train accuracy: 0.35387, Dev accuracy: 0.50600\n",
      "Epoch: 1, loss: 0.71176, Train accuracy: 0.35450, Dev accuracy: 0.48400\n",
      "Epoch: 1, loss: 0.66270, Train accuracy: 0.35550, Dev accuracy: 0.48400\n",
      "Epoch: 1, loss: 0.64424, Train accuracy: 0.35650, Dev accuracy: 0.48300\n",
      "Epoch: 1, loss: 0.77194, Train accuracy: 0.35687, Dev accuracy: 0.49100\n",
      "Epoch: 1, loss: 0.71371, Train accuracy: 0.35725, Dev accuracy: 0.51900\n",
      "Epoch: 1, loss: 0.71240, Train accuracy: 0.35775, Dev accuracy: 0.50000\n",
      "Epoch: 1, loss: 0.74891, Train accuracy: 0.35837, Dev accuracy: 0.50400\n",
      "Epoch: 1, loss: 0.72791, Train accuracy: 0.35887, Dev accuracy: 0.50100\n",
      "Epoch: 1, loss: 0.70490, Train accuracy: 0.35938, Dev accuracy: 0.48300\n",
      "Epoch: 1, loss: 0.73198, Train accuracy: 0.35988, Dev accuracy: 0.48900\n",
      "Epoch: 1, loss: 0.65613, Train accuracy: 0.36088, Dev accuracy: 0.48000\n",
      "Epoch: 1, loss: 0.66455, Train accuracy: 0.36175, Dev accuracy: 0.48800\n",
      "Epoch: 1, loss: 0.71321, Train accuracy: 0.36238, Dev accuracy: 0.48900\n",
      "Epoch: 1, loss: 0.66182, Train accuracy: 0.36325, Dev accuracy: 0.48200\n",
      "Epoch: 1, loss: 0.66526, Train accuracy: 0.36400, Dev accuracy: 0.48900\n",
      "Epoch: 1, loss: 0.71659, Train accuracy: 0.36475, Dev accuracy: 0.49100\n",
      "Epoch: 1, loss: 0.74193, Train accuracy: 0.36512, Dev accuracy: 0.48400\n",
      "Epoch: 1, loss: 0.65746, Train accuracy: 0.36625, Dev accuracy: 0.48200\n",
      "Epoch: 1, loss: 0.69016, Train accuracy: 0.36700, Dev accuracy: 0.49100\n",
      "Epoch: 1, loss: 0.70353, Train accuracy: 0.36788, Dev accuracy: 0.51300\n",
      "Epoch: 1, loss: 0.73498, Train accuracy: 0.36838, Dev accuracy: 0.49300\n",
      "Epoch: 1, loss: 0.69560, Train accuracy: 0.36912, Dev accuracy: 0.49800\n",
      "Epoch: 1, loss: 0.70415, Train accuracy: 0.36975, Dev accuracy: 0.48400\n",
      "Epoch: 1, loss: 0.69393, Train accuracy: 0.37038, Dev accuracy: 0.50700\n",
      "Epoch: 1, loss: 0.71002, Train accuracy: 0.37125, Dev accuracy: 0.49200\n",
      "Epoch: 1, loss: 0.72219, Train accuracy: 0.37162, Dev accuracy: 0.50500\n",
      "Epoch: 1, loss: 0.71289, Train accuracy: 0.37225, Dev accuracy: 0.49900\n",
      "Epoch: 1, loss: 0.67767, Train accuracy: 0.37288, Dev accuracy: 0.51100\n",
      "Epoch: 1, loss: 0.69729, Train accuracy: 0.37350, Dev accuracy: 0.51900\n",
      "Epoch: 1, loss: 0.68992, Train accuracy: 0.37438, Dev accuracy: 0.51200\n",
      "Epoch: 1, loss: 0.65641, Train accuracy: 0.37538, Dev accuracy: 0.51200\n",
      "Epoch: 1, loss: 0.75549, Train accuracy: 0.37600, Dev accuracy: 0.51200\n",
      "Epoch: 1, loss: 0.77229, Train accuracy: 0.37600, Dev accuracy: 0.47600\n",
      "Epoch: 1, loss: 0.64968, Train accuracy: 0.37688, Dev accuracy: 0.47800\n",
      "Epoch: 1, loss: 0.65819, Train accuracy: 0.37800, Dev accuracy: 0.48500\n",
      "Epoch: 1, loss: 0.64189, Train accuracy: 0.37900, Dev accuracy: 0.48500\n",
      "Epoch: 1, loss: 0.79528, Train accuracy: 0.37962, Dev accuracy: 0.48200\n",
      "Epoch: 1, loss: 0.72355, Train accuracy: 0.38025, Dev accuracy: 0.50100\n",
      "Epoch: 1, loss: 0.71670, Train accuracy: 0.38100, Dev accuracy: 0.51000\n",
      "Epoch: 1, loss: 0.67827, Train accuracy: 0.38200, Dev accuracy: 0.50700\n",
      "Epoch: 1, loss: 0.69818, Train accuracy: 0.38275, Dev accuracy: 0.51100\n",
      "Epoch: 1, loss: 0.73130, Train accuracy: 0.38338, Dev accuracy: 0.49800\n",
      "Epoch: 1, loss: 0.71142, Train accuracy: 0.38412, Dev accuracy: 0.49800\n",
      "Epoch: 1, loss: 0.70624, Train accuracy: 0.38462, Dev accuracy: 0.51500\n",
      "Epoch: 1, loss: 0.67815, Train accuracy: 0.38538, Dev accuracy: 0.51500\n",
      "Epoch: 1, loss: 0.68651, Train accuracy: 0.38612, Dev accuracy: 0.51300\n",
      "Epoch: 1, loss: 0.71217, Train accuracy: 0.38688, Dev accuracy: 0.51600\n",
      "Epoch: 1, loss: 0.61887, Train accuracy: 0.38812, Dev accuracy: 0.51400\n",
      "Epoch: 1, loss: 0.72279, Train accuracy: 0.38888, Dev accuracy: 0.51200\n",
      "Epoch: 1, loss: 0.70249, Train accuracy: 0.38962, Dev accuracy: 0.51800\n",
      "Epoch: 1, loss: 0.69845, Train accuracy: 0.39062, Dev accuracy: 0.51400\n",
      "Epoch: 1, loss: 0.77886, Train accuracy: 0.39125, Dev accuracy: 0.51400\n",
      "Epoch: 1, loss: 0.67535, Train accuracy: 0.39200, Dev accuracy: 0.51000\n",
      "Epoch: 1, loss: 0.66093, Train accuracy: 0.39313, Dev accuracy: 0.51000\n",
      "Epoch: 1, loss: 0.68560, Train accuracy: 0.39375, Dev accuracy: 0.49100\n",
      "Epoch: 1, loss: 0.71661, Train accuracy: 0.39437, Dev accuracy: 0.49700\n",
      "Epoch: 1, loss: 0.69363, Train accuracy: 0.39487, Dev accuracy: 0.49200\n",
      "Epoch: 1, loss: 0.67396, Train accuracy: 0.39575, Dev accuracy: 0.50800\n",
      "Epoch: 1, loss: 0.67712, Train accuracy: 0.39663, Dev accuracy: 0.51600\n",
      "Epoch: 1, loss: 0.76483, Train accuracy: 0.39713, Dev accuracy: 0.49700\n",
      "Epoch: 1, loss: 0.70825, Train accuracy: 0.39750, Dev accuracy: 0.51300\n",
      "Epoch: 1, loss: 0.72917, Train accuracy: 0.39825, Dev accuracy: 0.51300\n",
      "Epoch: 1, loss: 0.66547, Train accuracy: 0.39925, Dev accuracy: 0.51400\n",
      "Epoch: 1, loss: 0.77800, Train accuracy: 0.39963, Dev accuracy: 0.50200\n",
      "Epoch: 1, loss: 0.68852, Train accuracy: 0.40050, Dev accuracy: 0.50300\n",
      "Epoch: 1, loss: 0.69922, Train accuracy: 0.40125, Dev accuracy: 0.51100\n",
      "Epoch: 1, loss: 0.66907, Train accuracy: 0.40213, Dev accuracy: 0.49300\n",
      "Epoch: 1, loss: 0.71110, Train accuracy: 0.40263, Dev accuracy: 0.50400\n",
      "Epoch: 1, loss: 0.65991, Train accuracy: 0.40363, Dev accuracy: 0.51200\n",
      "Epoch: 1, loss: 0.69611, Train accuracy: 0.40425, Dev accuracy: 0.51400\n",
      "Epoch: 1, loss: 0.69159, Train accuracy: 0.40487, Dev accuracy: 0.50700\n",
      "Epoch: 1, loss: 0.70296, Train accuracy: 0.40537, Dev accuracy: 0.49100\n",
      "Epoch: 1, loss: 0.76538, Train accuracy: 0.40563, Dev accuracy: 0.51500\n",
      "Epoch: 1, loss: 0.69115, Train accuracy: 0.40650, Dev accuracy: 0.51300\n",
      "Epoch: 1, loss: 0.66608, Train accuracy: 0.40737, Dev accuracy: 0.51300\n",
      "Epoch: 1, loss: 0.63432, Train accuracy: 0.40850, Dev accuracy: 0.51500\n",
      "Epoch: 1, loss: 0.70699, Train accuracy: 0.40913, Dev accuracy: 0.51300\n",
      "Epoch: 1, loss: 0.79356, Train accuracy: 0.40937, Dev accuracy: 0.50500\n",
      "Epoch: 1, loss: 0.65885, Train accuracy: 0.41037, Dev accuracy: 0.51800\n",
      "Epoch: 1, loss: 0.70450, Train accuracy: 0.41113, Dev accuracy: 0.50600\n",
      "Epoch: 1, loss: 0.69796, Train accuracy: 0.41213, Dev accuracy: 0.51000\n",
      "Epoch: 1, loss: 0.69558, Train accuracy: 0.41275, Dev accuracy: 0.51300\n",
      "Epoch: 1, loss: 0.69529, Train accuracy: 0.41325, Dev accuracy: 0.51600\n",
      "Epoch: 1, loss: 0.72264, Train accuracy: 0.41400, Dev accuracy: 0.50200\n",
      "Epoch: 1, loss: 0.69434, Train accuracy: 0.41487, Dev accuracy: 0.50900\n",
      "Epoch: 1, loss: 0.68022, Train accuracy: 0.41575, Dev accuracy: 0.51800\n",
      "Epoch: 1, loss: 0.67858, Train accuracy: 0.41687, Dev accuracy: 0.51400\n",
      "Epoch: 1, loss: 0.68369, Train accuracy: 0.41763, Dev accuracy: 0.51200\n",
      "Epoch: 1, loss: 0.73200, Train accuracy: 0.41825, Dev accuracy: 0.50300\n",
      "Epoch: 1, loss: 0.68872, Train accuracy: 0.41913, Dev accuracy: 0.49000\n",
      "Epoch: 1, loss: 0.68539, Train accuracy: 0.41987, Dev accuracy: 0.48300\n",
      "Epoch: 1, loss: 0.65429, Train accuracy: 0.42087, Dev accuracy: 0.48400\n",
      "Epoch: 1, loss: 0.83013, Train accuracy: 0.42113, Dev accuracy: 0.51200\n",
      "Epoch: 1, loss: 0.69284, Train accuracy: 0.42188, Dev accuracy: 0.51200\n",
      "Epoch: 1, loss: 0.70244, Train accuracy: 0.42238, Dev accuracy: 0.50600\n",
      "Epoch: 1, loss: 0.70000, Train accuracy: 0.42325, Dev accuracy: 0.50800\n",
      "Epoch: 1, loss: 0.70136, Train accuracy: 0.42388, Dev accuracy: 0.48100\n",
      "Epoch: 1, loss: 0.69531, Train accuracy: 0.42475, Dev accuracy: 0.48300\n",
      "Epoch: 1, loss: 0.72186, Train accuracy: 0.42538, Dev accuracy: 0.51300\n",
      "Epoch: 1, loss: 0.69379, Train accuracy: 0.42612, Dev accuracy: 0.51300\n",
      "Epoch: 1, loss: 0.65918, Train accuracy: 0.42712, Dev accuracy: 0.51300\n",
      "Epoch: 1, loss: 0.79166, Train accuracy: 0.42775, Dev accuracy: 0.51200\n",
      "Epoch: 1, loss: 0.71386, Train accuracy: 0.42838, Dev accuracy: 0.48400\n",
      "Epoch: 1, loss: 0.69302, Train accuracy: 0.42925, Dev accuracy: 0.50600\n",
      "Epoch: 1, loss: 0.75980, Train accuracy: 0.42975, Dev accuracy: 0.48700\n",
      "Epoch: 1, loss: 0.68115, Train accuracy: 0.43050, Dev accuracy: 0.47500\n",
      "Epoch: 1, loss: 0.76797, Train accuracy: 0.43088, Dev accuracy: 0.48700\n",
      "Epoch: 1, loss: 0.72504, Train accuracy: 0.43150, Dev accuracy: 0.49700\n",
      "Epoch: 1, loss: 0.72221, Train accuracy: 0.43188, Dev accuracy: 0.51700\n",
      "Epoch: 1, loss: 0.67205, Train accuracy: 0.43300, Dev accuracy: 0.51700\n",
      "Epoch: 1, loss: 0.70556, Train accuracy: 0.43362, Dev accuracy: 0.48900\n",
      "Epoch: 1, loss: 0.68247, Train accuracy: 0.43438, Dev accuracy: 0.51100\n",
      "Epoch: 1, loss: 0.67808, Train accuracy: 0.43538, Dev accuracy: 0.50900\n",
      "Epoch: 1, loss: 0.69612, Train accuracy: 0.43625, Dev accuracy: 0.48700\n",
      "Epoch: 1, loss: 0.67392, Train accuracy: 0.43700, Dev accuracy: 0.48600\n",
      "Epoch: 1, loss: 0.75917, Train accuracy: 0.43775, Dev accuracy: 0.48600\n",
      "Epoch: 1, loss: 0.66242, Train accuracy: 0.43850, Dev accuracy: 0.49200\n",
      "Epoch: 1, loss: 0.66189, Train accuracy: 0.43938, Dev accuracy: 0.47800\n",
      "Epoch: 1, loss: 0.73561, Train accuracy: 0.44000, Dev accuracy: 0.50400\n",
      "Epoch: 1, loss: 0.73589, Train accuracy: 0.44050, Dev accuracy: 0.50500\n",
      "Epoch: 1, loss: 0.65149, Train accuracy: 0.44162, Dev accuracy: 0.50300\n",
      "Epoch: 1, loss: 0.66115, Train accuracy: 0.44275, Dev accuracy: 0.49200\n",
      "Epoch: 1, loss: 0.69511, Train accuracy: 0.44350, Dev accuracy: 0.49200\n",
      "Epoch: 1, loss: 0.68908, Train accuracy: 0.44425, Dev accuracy: 0.50500\n",
      "Epoch: 1, loss: 0.71299, Train accuracy: 0.44488, Dev accuracy: 0.50200\n",
      "Epoch: 1, loss: 0.74974, Train accuracy: 0.44550, Dev accuracy: 0.50200\n",
      "Epoch: 1, loss: 0.70098, Train accuracy: 0.44600, Dev accuracy: 0.51200\n",
      "Epoch: 1, loss: 0.69790, Train accuracy: 0.44675, Dev accuracy: 0.49100\n",
      "Epoch: 1, loss: 0.68837, Train accuracy: 0.44762, Dev accuracy: 0.48200\n",
      "Epoch: 1, loss: 0.68983, Train accuracy: 0.44825, Dev accuracy: 0.49300\n",
      "Epoch: 1, loss: 0.69947, Train accuracy: 0.44912, Dev accuracy: 0.49500\n",
      "Epoch: 1, loss: 0.71585, Train accuracy: 0.44962, Dev accuracy: 0.49200\n",
      "Epoch: 1, loss: 0.69106, Train accuracy: 0.45038, Dev accuracy: 0.51100\n",
      "Epoch: 1, loss: 0.75496, Train accuracy: 0.45088, Dev accuracy: 0.50200\n",
      "Epoch: 1, loss: 0.71599, Train accuracy: 0.45150, Dev accuracy: 0.48500\n",
      "Epoch: 1, loss: 0.73557, Train accuracy: 0.45200, Dev accuracy: 0.49200\n",
      "Epoch: 1, loss: 0.71995, Train accuracy: 0.45250, Dev accuracy: 0.49500\n",
      "Epoch: 1, loss: 0.73100, Train accuracy: 0.45300, Dev accuracy: 0.47900\n",
      "Epoch: 1, loss: 0.62790, Train accuracy: 0.45413, Dev accuracy: 0.48100\n",
      "Epoch: 1, loss: 0.66172, Train accuracy: 0.45525, Dev accuracy: 0.48700\n",
      "Epoch: 1, loss: 0.68873, Train accuracy: 0.45600, Dev accuracy: 0.48500\n",
      "Epoch: 1, loss: 0.75564, Train accuracy: 0.45675, Dev accuracy: 0.48600\n",
      "Epoch: 1, loss: 0.66719, Train accuracy: 0.45763, Dev accuracy: 0.48500\n",
      "Epoch: 1, loss: 0.66947, Train accuracy: 0.45863, Dev accuracy: 0.48500\n",
      "Epoch: 1, loss: 0.65274, Train accuracy: 0.45963, Dev accuracy: 0.48600\n",
      "Epoch: 1, loss: 0.80633, Train accuracy: 0.46013, Dev accuracy: 0.48100\n",
      "Epoch: 1, loss: 0.71602, Train accuracy: 0.46100, Dev accuracy: 0.49000\n",
      "Epoch: 1, loss: 0.66002, Train accuracy: 0.46200, Dev accuracy: 0.49000\n",
      "Epoch: 1, loss: 0.71163, Train accuracy: 0.46263, Dev accuracy: 0.48800\n",
      "Epoch: 1, loss: 0.69536, Train accuracy: 0.46350, Dev accuracy: 0.48400\n",
      "Epoch: 1, loss: 0.63992, Train accuracy: 0.46437, Dev accuracy: 0.48900\n",
      "Epoch: 1, loss: 0.78568, Train accuracy: 0.46487, Dev accuracy: 0.49700\n",
      "Epoch: 1, loss: 0.70742, Train accuracy: 0.46537, Dev accuracy: 0.49100\n",
      "Epoch: 1, loss: 0.64462, Train accuracy: 0.46650, Dev accuracy: 0.48500\n",
      "Epoch: 1, loss: 0.60148, Train accuracy: 0.46737, Dev accuracy: 0.48400\n",
      "Epoch: 1, loss: 0.82015, Train accuracy: 0.46787, Dev accuracy: 0.48500\n",
      "Epoch: 1, loss: 0.77649, Train accuracy: 0.46825, Dev accuracy: 0.50400\n",
      "Epoch: 1, loss: 0.68867, Train accuracy: 0.46900, Dev accuracy: 0.50100\n",
      "Epoch: 1, loss: 0.70099, Train accuracy: 0.46987, Dev accuracy: 0.49200\n",
      "Epoch: 1, loss: 0.70030, Train accuracy: 0.47075, Dev accuracy: 0.50300\n",
      "Epoch: 1, loss: 0.71660, Train accuracy: 0.47125, Dev accuracy: 0.50000\n",
      "Epoch: 1, loss: 0.71324, Train accuracy: 0.47225, Dev accuracy: 0.49200\n",
      "Epoch: 1, loss: 0.66930, Train accuracy: 0.47337, Dev accuracy: 0.49300\n",
      "Epoch: 1, loss: 0.70991, Train accuracy: 0.47387, Dev accuracy: 0.50600\n",
      "Epoch: 1, loss: 0.68564, Train accuracy: 0.47487, Dev accuracy: 0.51400\n",
      "Epoch: 1, loss: 0.70630, Train accuracy: 0.47563, Dev accuracy: 0.50600\n",
      "Epoch: 1, loss: 0.74683, Train accuracy: 0.47600, Dev accuracy: 0.49700\n",
      "Epoch: 1, loss: 0.68458, Train accuracy: 0.47675, Dev accuracy: 0.50400\n",
      "Epoch: 1, loss: 0.73598, Train accuracy: 0.47725, Dev accuracy: 0.48700\n",
      "Epoch: 1, loss: 0.68518, Train accuracy: 0.47800, Dev accuracy: 0.49900\n",
      "Epoch: 1, loss: 0.69313, Train accuracy: 0.47900, Dev accuracy: 0.48800\n",
      "Epoch: 1, loss: 0.65057, Train accuracy: 0.48000, Dev accuracy: 0.49000\n",
      "Epoch: 1, loss: 0.66923, Train accuracy: 0.48075, Dev accuracy: 0.49200\n",
      "Epoch: 1, loss: 0.67057, Train accuracy: 0.48163, Dev accuracy: 0.48300\n",
      "Epoch: 1, loss: 0.69632, Train accuracy: 0.48250, Dev accuracy: 0.48100\n",
      "Epoch: 1, loss: 0.68900, Train accuracy: 0.48350, Dev accuracy: 0.47800\n",
      "Epoch: 1, loss: 0.66646, Train accuracy: 0.48462, Dev accuracy: 0.48500\n",
      "Epoch: 1, loss: 0.60923, Train accuracy: 0.48550, Dev accuracy: 0.48500\n",
      "Epoch: 1, loss: 0.77219, Train accuracy: 0.48638, Dev accuracy: 0.47700\n",
      "Epoch: 1, loss: 0.73229, Train accuracy: 0.48725, Dev accuracy: 0.48900\n",
      "Epoch: 1, loss: 0.65501, Train accuracy: 0.48812, Dev accuracy: 0.47600\n",
      "Epoch: 1, loss: 0.64207, Train accuracy: 0.48938, Dev accuracy: 0.48400\n",
      "Epoch: 1, loss: 0.76281, Train accuracy: 0.49012, Dev accuracy: 0.47500\n",
      "Epoch: 1, loss: 0.71358, Train accuracy: 0.49100, Dev accuracy: 0.48000\n",
      "Epoch: 1, loss: 0.66726, Train accuracy: 0.49175, Dev accuracy: 0.49600\n",
      "Epoch: 1, loss: 0.64221, Train accuracy: 0.49275, Dev accuracy: 0.50400\n",
      "Epoch: 1, loss: 0.66264, Train accuracy: 0.49375, Dev accuracy: 0.51400\n",
      "Epoch: 1, loss: 0.72940, Train accuracy: 0.49450, Dev accuracy: 0.51500\n",
      "Epoch: 1, loss: 0.72273, Train accuracy: 0.49525, Dev accuracy: 0.51600\n",
      "Epoch: 1, loss: 0.71808, Train accuracy: 0.49588, Dev accuracy: 0.50900\n",
      "Epoch: 1, loss: 0.68460, Train accuracy: 0.49662, Dev accuracy: 0.51500\n",
      "Epoch: 1, loss: 0.70296, Train accuracy: 0.49762, Dev accuracy: 0.51500\n",
      "Epoch: 1, loss: 0.78960, Train accuracy: 0.49800, Dev accuracy: 0.47500\n",
      "Epoch: 1, loss: 0.67981, Train accuracy: 0.49862, Dev accuracy: 0.48600\n",
      "Epoch: 1, loss: 0.72713, Train accuracy: 0.49912, Dev accuracy: 0.48700\n",
      "Epoch: 1, loss: 0.67388, Train accuracy: 0.49962, Dev accuracy: 0.48100\n",
      "1\n",
      "Epoch: 2, loss: 0.66807, Train accuracy: 0.00075, Dev accuracy: 0.48000\n",
      "Epoch: 2, loss: 0.66361, Train accuracy: 0.00150, Dev accuracy: 0.48100\n",
      "Epoch: 2, loss: 0.74204, Train accuracy: 0.00200, Dev accuracy: 0.48900\n",
      "Epoch: 2, loss: 0.63187, Train accuracy: 0.00313, Dev accuracy: 0.48500\n",
      "Epoch: 2, loss: 0.67204, Train accuracy: 0.00413, Dev accuracy: 0.48000\n",
      "Epoch: 2, loss: 0.57373, Train accuracy: 0.00562, Dev accuracy: 0.48600\n",
      "Epoch: 2, loss: 0.68291, Train accuracy: 0.00625, Dev accuracy: 0.48400\n",
      "Epoch: 2, loss: 0.66755, Train accuracy: 0.00713, Dev accuracy: 0.48500\n",
      "Epoch: 2, loss: 0.72174, Train accuracy: 0.00775, Dev accuracy: 0.47600\n",
      "Epoch: 2, loss: 0.62300, Train accuracy: 0.00887, Dev accuracy: 0.47400\n",
      "Epoch: 2, loss: 0.60808, Train accuracy: 0.01025, Dev accuracy: 0.48300\n",
      "Epoch: 2, loss: 0.64223, Train accuracy: 0.01125, Dev accuracy: 0.48100\n",
      "Epoch: 2, loss: 0.67195, Train accuracy: 0.01213, Dev accuracy: 0.48000\n",
      "Epoch: 2, loss: 0.66312, Train accuracy: 0.01312, Dev accuracy: 0.48300\n",
      "Epoch: 2, loss: 0.68251, Train accuracy: 0.01388, Dev accuracy: 0.48300\n",
      "Epoch: 2, loss: 0.64094, Train accuracy: 0.01500, Dev accuracy: 0.51200\n",
      "Epoch: 2, loss: 0.65387, Train accuracy: 0.01600, Dev accuracy: 0.49600\n",
      "Epoch: 2, loss: 0.61749, Train accuracy: 0.01688, Dev accuracy: 0.51400\n",
      "Epoch: 2, loss: 0.65752, Train accuracy: 0.01775, Dev accuracy: 0.51600\n",
      "Epoch: 2, loss: 0.63713, Train accuracy: 0.01837, Dev accuracy: 0.49600\n",
      "Epoch: 2, loss: 0.67169, Train accuracy: 0.01925, Dev accuracy: 0.49500\n",
      "Epoch: 2, loss: 0.60139, Train accuracy: 0.02025, Dev accuracy: 0.48700\n",
      "Epoch: 2, loss: 0.63389, Train accuracy: 0.02138, Dev accuracy: 0.49000\n",
      "Epoch: 2, loss: 0.64001, Train accuracy: 0.02237, Dev accuracy: 0.47700\n",
      "Epoch: 2, loss: 0.62458, Train accuracy: 0.02363, Dev accuracy: 0.47200\n",
      "Epoch: 2, loss: 0.65844, Train accuracy: 0.02463, Dev accuracy: 0.46800\n",
      "Epoch: 2, loss: 0.66633, Train accuracy: 0.02550, Dev accuracy: 0.47300\n",
      "Epoch: 2, loss: 0.65184, Train accuracy: 0.02662, Dev accuracy: 0.47800\n",
      "Epoch: 2, loss: 0.67906, Train accuracy: 0.02738, Dev accuracy: 0.49400\n",
      "Epoch: 2, loss: 0.61679, Train accuracy: 0.02850, Dev accuracy: 0.49600\n",
      "Epoch: 2, loss: 0.69891, Train accuracy: 0.02925, Dev accuracy: 0.49900\n",
      "Epoch: 2, loss: 0.65061, Train accuracy: 0.03000, Dev accuracy: 0.48700\n",
      "Epoch: 2, loss: 0.71539, Train accuracy: 0.03062, Dev accuracy: 0.47800\n",
      "Epoch: 2, loss: 0.64591, Train accuracy: 0.03175, Dev accuracy: 0.51500\n",
      "Epoch: 2, loss: 0.69759, Train accuracy: 0.03250, Dev accuracy: 0.50800\n",
      "Epoch: 2, loss: 0.70617, Train accuracy: 0.03313, Dev accuracy: 0.46400\n",
      "Epoch: 2, loss: 0.68815, Train accuracy: 0.03388, Dev accuracy: 0.48200\n",
      "Epoch: 2, loss: 0.65739, Train accuracy: 0.03500, Dev accuracy: 0.47700\n",
      "Epoch: 2, loss: 0.71188, Train accuracy: 0.03550, Dev accuracy: 0.48600\n",
      "Epoch: 2, loss: 0.60431, Train accuracy: 0.03662, Dev accuracy: 0.48400\n",
      "Epoch: 2, loss: 0.68809, Train accuracy: 0.03762, Dev accuracy: 0.48700\n",
      "Epoch: 2, loss: 0.63347, Train accuracy: 0.03875, Dev accuracy: 0.50900\n",
      "Epoch: 2, loss: 0.74145, Train accuracy: 0.03950, Dev accuracy: 0.49500\n",
      "Epoch: 2, loss: 0.63263, Train accuracy: 0.04063, Dev accuracy: 0.48300\n",
      "Epoch: 2, loss: 0.65489, Train accuracy: 0.04175, Dev accuracy: 0.49000\n",
      "Epoch: 2, loss: 0.73482, Train accuracy: 0.04250, Dev accuracy: 0.49700\n",
      "Epoch: 2, loss: 0.67892, Train accuracy: 0.04325, Dev accuracy: 0.49500\n",
      "Epoch: 2, loss: 0.66704, Train accuracy: 0.04400, Dev accuracy: 0.48700\n",
      "Epoch: 2, loss: 0.63541, Train accuracy: 0.04500, Dev accuracy: 0.48500\n",
      "Epoch: 2, loss: 0.70111, Train accuracy: 0.04562, Dev accuracy: 0.49300\n",
      "Epoch: 2, loss: 0.67716, Train accuracy: 0.04650, Dev accuracy: 0.48300\n",
      "Epoch: 2, loss: 0.65052, Train accuracy: 0.04738, Dev accuracy: 0.48800\n",
      "Epoch: 2, loss: 0.65445, Train accuracy: 0.04838, Dev accuracy: 0.48100\n",
      "Epoch: 2, loss: 0.63601, Train accuracy: 0.04938, Dev accuracy: 0.49800\n",
      "Epoch: 2, loss: 0.59922, Train accuracy: 0.05038, Dev accuracy: 0.48500\n",
      "Epoch: 2, loss: 0.69696, Train accuracy: 0.05112, Dev accuracy: 0.48800\n",
      "Epoch: 2, loss: 0.58441, Train accuracy: 0.05212, Dev accuracy: 0.48500\n",
      "Epoch: 2, loss: 0.88604, Train accuracy: 0.05250, Dev accuracy: 0.49600\n",
      "Epoch: 2, loss: 0.65988, Train accuracy: 0.05350, Dev accuracy: 0.47300\n",
      "Epoch: 2, loss: 0.66898, Train accuracy: 0.05462, Dev accuracy: 0.49500\n",
      "Epoch: 2, loss: 0.73797, Train accuracy: 0.05500, Dev accuracy: 0.49700\n",
      "Epoch: 2, loss: 0.67425, Train accuracy: 0.05613, Dev accuracy: 0.48400\n",
      "Epoch: 2, loss: 0.62448, Train accuracy: 0.05700, Dev accuracy: 0.49600\n",
      "Epoch: 2, loss: 0.65335, Train accuracy: 0.05788, Dev accuracy: 0.49800\n",
      "Epoch: 2, loss: 0.64636, Train accuracy: 0.05912, Dev accuracy: 0.48100\n",
      "Epoch: 2, loss: 0.63328, Train accuracy: 0.06037, Dev accuracy: 0.47700\n",
      "Epoch: 2, loss: 0.65521, Train accuracy: 0.06150, Dev accuracy: 0.48000\n",
      "Epoch: 2, loss: 0.56726, Train accuracy: 0.06263, Dev accuracy: 0.48600\n",
      "Epoch: 2, loss: 0.72766, Train accuracy: 0.06338, Dev accuracy: 0.48200\n",
      "Epoch: 2, loss: 0.62565, Train accuracy: 0.06463, Dev accuracy: 0.48600\n",
      "Epoch: 2, loss: 0.61926, Train accuracy: 0.06563, Dev accuracy: 0.48500\n",
      "Epoch: 2, loss: 0.59565, Train accuracy: 0.06675, Dev accuracy: 0.48500\n",
      "Epoch: 2, loss: 0.72463, Train accuracy: 0.06750, Dev accuracy: 0.48500\n",
      "Epoch: 2, loss: 0.71964, Train accuracy: 0.06813, Dev accuracy: 0.49400\n",
      "Epoch: 2, loss: 0.66384, Train accuracy: 0.06913, Dev accuracy: 0.48500\n",
      "Epoch: 2, loss: 0.64985, Train accuracy: 0.07013, Dev accuracy: 0.48800\n",
      "Epoch: 2, loss: 0.63137, Train accuracy: 0.07100, Dev accuracy: 0.49300\n",
      "Epoch: 2, loss: 0.65885, Train accuracy: 0.07175, Dev accuracy: 0.49100\n",
      "Epoch: 2, loss: 0.68903, Train accuracy: 0.07262, Dev accuracy: 0.48700\n",
      "Epoch: 2, loss: 0.59063, Train accuracy: 0.07362, Dev accuracy: 0.48400\n",
      "Epoch: 2, loss: 0.70163, Train accuracy: 0.07425, Dev accuracy: 0.49000\n",
      "Epoch: 2, loss: 0.59701, Train accuracy: 0.07525, Dev accuracy: 0.49000\n",
      "Epoch: 2, loss: 0.68791, Train accuracy: 0.07600, Dev accuracy: 0.48500\n",
      "Epoch: 2, loss: 0.63369, Train accuracy: 0.07712, Dev accuracy: 0.48400\n",
      "Epoch: 2, loss: 0.67988, Train accuracy: 0.07812, Dev accuracy: 0.49900\n",
      "Epoch: 2, loss: 0.62717, Train accuracy: 0.07938, Dev accuracy: 0.50900\n",
      "Epoch: 2, loss: 0.54994, Train accuracy: 0.08063, Dev accuracy: 0.51300\n",
      "Epoch: 2, loss: 0.69678, Train accuracy: 0.08163, Dev accuracy: 0.51200\n",
      "Epoch: 2, loss: 0.74897, Train accuracy: 0.08225, Dev accuracy: 0.51500\n",
      "Epoch: 2, loss: 0.56840, Train accuracy: 0.08338, Dev accuracy: 0.51200\n",
      "Epoch: 2, loss: 0.64256, Train accuracy: 0.08425, Dev accuracy: 0.51600\n",
      "Epoch: 2, loss: 0.69268, Train accuracy: 0.08500, Dev accuracy: 0.51000\n",
      "Epoch: 2, loss: 0.63798, Train accuracy: 0.08588, Dev accuracy: 0.51200\n",
      "Epoch: 2, loss: 0.51969, Train accuracy: 0.08700, Dev accuracy: 0.51300\n",
      "Epoch: 2, loss: 0.72814, Train accuracy: 0.08775, Dev accuracy: 0.51300\n",
      "Epoch: 2, loss: 0.60482, Train accuracy: 0.08887, Dev accuracy: 0.51300\n",
      "Epoch: 2, loss: 0.65461, Train accuracy: 0.08975, Dev accuracy: 0.51300\n",
      "Epoch: 2, loss: 0.68937, Train accuracy: 0.09037, Dev accuracy: 0.50700\n",
      "Epoch: 2, loss: 0.64997, Train accuracy: 0.09150, Dev accuracy: 0.51200\n",
      "Epoch: 2, loss: 0.61312, Train accuracy: 0.09237, Dev accuracy: 0.51500\n",
      "Epoch: 2, loss: 0.63065, Train accuracy: 0.09325, Dev accuracy: 0.51300\n",
      "Epoch: 2, loss: 0.60870, Train accuracy: 0.09425, Dev accuracy: 0.51400\n",
      "Epoch: 2, loss: 0.63114, Train accuracy: 0.09500, Dev accuracy: 0.51200\n",
      "Epoch: 2, loss: 0.63977, Train accuracy: 0.09588, Dev accuracy: 0.51200\n",
      "Epoch: 2, loss: 0.69437, Train accuracy: 0.09638, Dev accuracy: 0.51000\n",
      "Epoch: 2, loss: 0.65330, Train accuracy: 0.09713, Dev accuracy: 0.51500\n",
      "Epoch: 2, loss: 0.67529, Train accuracy: 0.09788, Dev accuracy: 0.51400\n",
      "Epoch: 2, loss: 0.66666, Train accuracy: 0.09863, Dev accuracy: 0.49100\n",
      "Epoch: 2, loss: 0.62173, Train accuracy: 0.09963, Dev accuracy: 0.48500\n",
      "Epoch: 2, loss: 0.69461, Train accuracy: 0.10050, Dev accuracy: 0.48200\n",
      "Epoch: 2, loss: 0.67460, Train accuracy: 0.10125, Dev accuracy: 0.50600\n",
      "Epoch: 2, loss: 0.64054, Train accuracy: 0.10250, Dev accuracy: 0.50700\n",
      "Epoch: 2, loss: 0.63634, Train accuracy: 0.10337, Dev accuracy: 0.48200\n",
      "Epoch: 2, loss: 0.67021, Train accuracy: 0.10412, Dev accuracy: 0.50900\n",
      "Epoch: 2, loss: 0.66422, Train accuracy: 0.10500, Dev accuracy: 0.50300\n",
      "Epoch: 2, loss: 0.65819, Train accuracy: 0.10600, Dev accuracy: 0.50100\n",
      "Epoch: 2, loss: 0.64984, Train accuracy: 0.10687, Dev accuracy: 0.49500\n",
      "Epoch: 2, loss: 0.65173, Train accuracy: 0.10787, Dev accuracy: 0.50500\n",
      "Epoch: 2, loss: 0.62013, Train accuracy: 0.10875, Dev accuracy: 0.50800\n",
      "Epoch: 2, loss: 0.66293, Train accuracy: 0.10950, Dev accuracy: 0.50700\n",
      "Epoch: 2, loss: 0.66034, Train accuracy: 0.11025, Dev accuracy: 0.50300\n",
      "Epoch: 2, loss: 0.63590, Train accuracy: 0.11138, Dev accuracy: 0.50300\n",
      "Epoch: 2, loss: 0.71517, Train accuracy: 0.11200, Dev accuracy: 0.50900\n",
      "Epoch: 2, loss: 0.61103, Train accuracy: 0.11300, Dev accuracy: 0.49600\n",
      "Epoch: 2, loss: 0.66096, Train accuracy: 0.11375, Dev accuracy: 0.49800\n",
      "Epoch: 2, loss: 0.66236, Train accuracy: 0.11463, Dev accuracy: 0.50600\n",
      "Epoch: 2, loss: 0.60750, Train accuracy: 0.11575, Dev accuracy: 0.50300\n",
      "Epoch: 2, loss: 0.65845, Train accuracy: 0.11663, Dev accuracy: 0.50600\n",
      "Epoch: 2, loss: 0.63464, Train accuracy: 0.11775, Dev accuracy: 0.49000\n",
      "Epoch: 2, loss: 0.63996, Train accuracy: 0.11887, Dev accuracy: 0.48400\n",
      "Epoch: 2, loss: 0.60304, Train accuracy: 0.11987, Dev accuracy: 0.48400\n",
      "Epoch: 2, loss: 0.70114, Train accuracy: 0.12050, Dev accuracy: 0.48400\n",
      "Epoch: 2, loss: 0.57155, Train accuracy: 0.12175, Dev accuracy: 0.48500\n",
      "Epoch: 2, loss: 0.64452, Train accuracy: 0.12262, Dev accuracy: 0.48400\n",
      "Epoch: 2, loss: 0.64979, Train accuracy: 0.12362, Dev accuracy: 0.48500\n",
      "Epoch: 2, loss: 0.54657, Train accuracy: 0.12462, Dev accuracy: 0.48400\n",
      "Epoch: 2, loss: 0.77947, Train accuracy: 0.12512, Dev accuracy: 0.49800\n",
      "Epoch: 2, loss: 0.69178, Train accuracy: 0.12575, Dev accuracy: 0.51400\n",
      "Epoch: 2, loss: 0.69445, Train accuracy: 0.12650, Dev accuracy: 0.49000\n",
      "Epoch: 2, loss: 0.70525, Train accuracy: 0.12712, Dev accuracy: 0.50900\n",
      "Epoch: 2, loss: 0.67335, Train accuracy: 0.12800, Dev accuracy: 0.50300\n",
      "Epoch: 2, loss: 0.60352, Train accuracy: 0.12887, Dev accuracy: 0.48300\n",
      "Epoch: 2, loss: 0.66294, Train accuracy: 0.12962, Dev accuracy: 0.48200\n",
      "Epoch: 2, loss: 0.69403, Train accuracy: 0.13050, Dev accuracy: 0.48900\n",
      "Epoch: 2, loss: 0.62448, Train accuracy: 0.13150, Dev accuracy: 0.48400\n",
      "Epoch: 2, loss: 0.64083, Train accuracy: 0.13237, Dev accuracy: 0.49600\n",
      "Epoch: 2, loss: 0.68484, Train accuracy: 0.13325, Dev accuracy: 0.49800\n",
      "Epoch: 2, loss: 0.56680, Train accuracy: 0.13462, Dev accuracy: 0.49600\n",
      "Epoch: 2, loss: 0.70786, Train accuracy: 0.13537, Dev accuracy: 0.50300\n",
      "Epoch: 2, loss: 0.68610, Train accuracy: 0.13625, Dev accuracy: 0.50500\n",
      "Epoch: 2, loss: 0.65473, Train accuracy: 0.13712, Dev accuracy: 0.49500\n",
      "Epoch: 2, loss: 0.69941, Train accuracy: 0.13787, Dev accuracy: 0.49400\n",
      "Epoch: 2, loss: 0.64744, Train accuracy: 0.13887, Dev accuracy: 0.50400\n",
      "Epoch: 2, loss: 0.61593, Train accuracy: 0.13987, Dev accuracy: 0.50200\n",
      "Epoch: 2, loss: 0.64252, Train accuracy: 0.14075, Dev accuracy: 0.50400\n",
      "Epoch: 2, loss: 0.68988, Train accuracy: 0.14150, Dev accuracy: 0.49800\n",
      "Epoch: 2, loss: 0.63790, Train accuracy: 0.14263, Dev accuracy: 0.49900\n",
      "Epoch: 2, loss: 0.67433, Train accuracy: 0.14338, Dev accuracy: 0.49300\n",
      "Epoch: 2, loss: 0.65501, Train accuracy: 0.14438, Dev accuracy: 0.49700\n",
      "Epoch: 2, loss: 0.68063, Train accuracy: 0.14550, Dev accuracy: 0.49700\n",
      "Epoch: 2, loss: 0.67878, Train accuracy: 0.14663, Dev accuracy: 0.48100\n",
      "Epoch: 2, loss: 0.65608, Train accuracy: 0.14763, Dev accuracy: 0.48400\n",
      "Epoch: 2, loss: 0.67547, Train accuracy: 0.14838, Dev accuracy: 0.48000\n",
      "Epoch: 2, loss: 0.68548, Train accuracy: 0.14925, Dev accuracy: 0.47800\n",
      "Epoch: 2, loss: 0.70568, Train accuracy: 0.15013, Dev accuracy: 0.51600\n",
      "Epoch: 2, loss: 0.62809, Train accuracy: 0.15125, Dev accuracy: 0.49900\n",
      "Epoch: 2, loss: 0.61962, Train accuracy: 0.15250, Dev accuracy: 0.49700\n",
      "Epoch: 2, loss: 0.62757, Train accuracy: 0.15363, Dev accuracy: 0.51200\n",
      "Epoch: 2, loss: 0.66240, Train accuracy: 0.15450, Dev accuracy: 0.49700\n",
      "Epoch: 2, loss: 0.62752, Train accuracy: 0.15538, Dev accuracy: 0.50300\n",
      "Epoch: 2, loss: 0.64915, Train accuracy: 0.15637, Dev accuracy: 0.50100\n",
      "Epoch: 2, loss: 0.61259, Train accuracy: 0.15725, Dev accuracy: 0.48600\n",
      "Epoch: 2, loss: 0.56990, Train accuracy: 0.15862, Dev accuracy: 0.47800\n",
      "Epoch: 2, loss: 0.58743, Train accuracy: 0.15962, Dev accuracy: 0.48200\n",
      "Epoch: 2, loss: 0.58811, Train accuracy: 0.16075, Dev accuracy: 0.48200\n",
      "Epoch: 2, loss: 0.84652, Train accuracy: 0.16112, Dev accuracy: 0.50500\n",
      "Epoch: 2, loss: 0.64048, Train accuracy: 0.16212, Dev accuracy: 0.49400\n",
      "Epoch: 2, loss: 0.62393, Train accuracy: 0.16312, Dev accuracy: 0.48500\n",
      "Epoch: 2, loss: 0.64315, Train accuracy: 0.16387, Dev accuracy: 0.48400\n",
      "Epoch: 2, loss: 0.74108, Train accuracy: 0.16450, Dev accuracy: 0.48900\n",
      "Epoch: 2, loss: 0.60179, Train accuracy: 0.16562, Dev accuracy: 0.50500\n",
      "Epoch: 2, loss: 0.63365, Train accuracy: 0.16675, Dev accuracy: 0.47800\n",
      "Epoch: 2, loss: 0.51619, Train accuracy: 0.16812, Dev accuracy: 0.48000\n",
      "Epoch: 2, loss: 0.63097, Train accuracy: 0.16912, Dev accuracy: 0.48100\n",
      "Epoch: 2, loss: 0.67109, Train accuracy: 0.17000, Dev accuracy: 0.50000\n",
      "Epoch: 2, loss: 0.68527, Train accuracy: 0.17075, Dev accuracy: 0.49800\n",
      "Epoch: 2, loss: 0.69657, Train accuracy: 0.17175, Dev accuracy: 0.49900\n",
      "Epoch: 2, loss: 0.63247, Train accuracy: 0.17263, Dev accuracy: 0.47100\n",
      "Epoch: 2, loss: 0.58464, Train accuracy: 0.17400, Dev accuracy: 0.48600\n",
      "Epoch: 2, loss: 0.60190, Train accuracy: 0.17525, Dev accuracy: 0.48700\n",
      "Epoch: 2, loss: 0.64578, Train accuracy: 0.17650, Dev accuracy: 0.49400\n",
      "Epoch: 2, loss: 0.63501, Train accuracy: 0.17750, Dev accuracy: 0.49200\n",
      "Epoch: 2, loss: 0.67517, Train accuracy: 0.17838, Dev accuracy: 0.49600\n",
      "Epoch: 2, loss: 0.69856, Train accuracy: 0.17925, Dev accuracy: 0.48000\n",
      "Epoch: 2, loss: 0.64096, Train accuracy: 0.18000, Dev accuracy: 0.48600\n",
      "Epoch: 2, loss: 0.80576, Train accuracy: 0.18050, Dev accuracy: 0.48700\n",
      "Epoch: 2, loss: 0.66498, Train accuracy: 0.18150, Dev accuracy: 0.49200\n",
      "Epoch: 2, loss: 0.64570, Train accuracy: 0.18263, Dev accuracy: 0.49200\n",
      "Epoch: 2, loss: 0.62225, Train accuracy: 0.18400, Dev accuracy: 0.49900\n",
      "Epoch: 2, loss: 0.63847, Train accuracy: 0.18475, Dev accuracy: 0.49600\n",
      "Epoch: 2, loss: 0.69663, Train accuracy: 0.18550, Dev accuracy: 0.49200\n",
      "Epoch: 2, loss: 0.69355, Train accuracy: 0.18650, Dev accuracy: 0.50100\n",
      "Epoch: 2, loss: 0.60323, Train accuracy: 0.18762, Dev accuracy: 0.50300\n",
      "Epoch: 2, loss: 0.64843, Train accuracy: 0.18862, Dev accuracy: 0.48600\n",
      "Epoch: 2, loss: 0.71532, Train accuracy: 0.18925, Dev accuracy: 0.50300\n",
      "Epoch: 2, loss: 0.64782, Train accuracy: 0.19037, Dev accuracy: 0.49100\n",
      "Epoch: 2, loss: 0.57402, Train accuracy: 0.19175, Dev accuracy: 0.50800\n",
      "Epoch: 2, loss: 0.69473, Train accuracy: 0.19237, Dev accuracy: 0.50000\n",
      "Epoch: 2, loss: 0.56795, Train accuracy: 0.19337, Dev accuracy: 0.51200\n",
      "Epoch: 2, loss: 0.75008, Train accuracy: 0.19387, Dev accuracy: 0.49200\n",
      "Epoch: 2, loss: 0.67082, Train accuracy: 0.19450, Dev accuracy: 0.49600\n",
      "Epoch: 2, loss: 0.64265, Train accuracy: 0.19537, Dev accuracy: 0.49800\n",
      "Epoch: 2, loss: 0.68912, Train accuracy: 0.19625, Dev accuracy: 0.49100\n",
      "Epoch: 2, loss: 0.63870, Train accuracy: 0.19712, Dev accuracy: 0.50200\n",
      "Epoch: 2, loss: 0.68754, Train accuracy: 0.19800, Dev accuracy: 0.50400\n",
      "Epoch: 2, loss: 0.63343, Train accuracy: 0.19912, Dev accuracy: 0.50800\n",
      "Epoch: 2, loss: 0.62833, Train accuracy: 0.20000, Dev accuracy: 0.50000\n",
      "Epoch: 2, loss: 0.64067, Train accuracy: 0.20100, Dev accuracy: 0.50100\n",
      "Epoch: 2, loss: 0.64158, Train accuracy: 0.20200, Dev accuracy: 0.51100\n",
      "Epoch: 2, loss: 0.71843, Train accuracy: 0.20287, Dev accuracy: 0.50400\n",
      "Epoch: 2, loss: 0.66827, Train accuracy: 0.20375, Dev accuracy: 0.50000\n",
      "Epoch: 2, loss: 0.73270, Train accuracy: 0.20450, Dev accuracy: 0.51400\n",
      "Epoch: 2, loss: 0.66897, Train accuracy: 0.20525, Dev accuracy: 0.49100\n",
      "Epoch: 2, loss: 0.58364, Train accuracy: 0.20638, Dev accuracy: 0.49700\n",
      "Epoch: 2, loss: 0.55347, Train accuracy: 0.20763, Dev accuracy: 0.48400\n",
      "Epoch: 2, loss: 0.59114, Train accuracy: 0.20850, Dev accuracy: 0.48600\n",
      "Epoch: 2, loss: 0.56158, Train accuracy: 0.20975, Dev accuracy: 0.49500\n",
      "Epoch: 2, loss: 0.62853, Train accuracy: 0.21075, Dev accuracy: 0.48300\n",
      "Epoch: 2, loss: 0.74741, Train accuracy: 0.21138, Dev accuracy: 0.50200\n",
      "Epoch: 2, loss: 0.61559, Train accuracy: 0.21263, Dev accuracy: 0.49200\n",
      "Epoch: 2, loss: 0.61762, Train accuracy: 0.21388, Dev accuracy: 0.49800\n",
      "Epoch: 2, loss: 0.63296, Train accuracy: 0.21513, Dev accuracy: 0.49900\n",
      "Epoch: 2, loss: 0.66457, Train accuracy: 0.21600, Dev accuracy: 0.48500\n",
      "Epoch: 2, loss: 0.65447, Train accuracy: 0.21713, Dev accuracy: 0.47900\n",
      "Epoch: 2, loss: 0.63863, Train accuracy: 0.21825, Dev accuracy: 0.49500\n",
      "Epoch: 2, loss: 0.60542, Train accuracy: 0.21925, Dev accuracy: 0.49200\n",
      "Epoch: 2, loss: 0.62917, Train accuracy: 0.22025, Dev accuracy: 0.48700\n",
      "Epoch: 2, loss: 0.63345, Train accuracy: 0.22137, Dev accuracy: 0.47400\n",
      "Epoch: 2, loss: 0.70619, Train accuracy: 0.22200, Dev accuracy: 0.50200\n",
      "Epoch: 2, loss: 0.64954, Train accuracy: 0.22300, Dev accuracy: 0.49200\n",
      "Epoch: 2, loss: 0.58262, Train accuracy: 0.22400, Dev accuracy: 0.49800\n",
      "Epoch: 2, loss: 0.65559, Train accuracy: 0.22475, Dev accuracy: 0.50400\n",
      "Epoch: 2, loss: 0.56568, Train accuracy: 0.22587, Dev accuracy: 0.51100\n",
      "Epoch: 2, loss: 0.88665, Train accuracy: 0.22637, Dev accuracy: 0.50500\n",
      "Epoch: 2, loss: 0.66003, Train accuracy: 0.22725, Dev accuracy: 0.50600\n",
      "Epoch: 2, loss: 0.64042, Train accuracy: 0.22837, Dev accuracy: 0.50000\n",
      "Epoch: 2, loss: 0.60709, Train accuracy: 0.22937, Dev accuracy: 0.49500\n",
      "Epoch: 2, loss: 0.58503, Train accuracy: 0.23037, Dev accuracy: 0.47900\n",
      "Epoch: 2, loss: 0.64508, Train accuracy: 0.23137, Dev accuracy: 0.48200\n",
      "Epoch: 2, loss: 0.68836, Train accuracy: 0.23212, Dev accuracy: 0.50300\n",
      "Epoch: 2, loss: 0.66503, Train accuracy: 0.23300, Dev accuracy: 0.50000\n",
      "Epoch: 2, loss: 0.62368, Train accuracy: 0.23425, Dev accuracy: 0.51200\n",
      "Epoch: 2, loss: 0.59796, Train accuracy: 0.23550, Dev accuracy: 0.48800\n",
      "Epoch: 2, loss: 0.66701, Train accuracy: 0.23613, Dev accuracy: 0.49900\n",
      "Epoch: 2, loss: 0.65725, Train accuracy: 0.23688, Dev accuracy: 0.50500\n",
      "Epoch: 2, loss: 0.57802, Train accuracy: 0.23813, Dev accuracy: 0.49900\n",
      "Epoch: 2, loss: 0.70165, Train accuracy: 0.23913, Dev accuracy: 0.49800\n",
      "Epoch: 2, loss: 0.58959, Train accuracy: 0.24025, Dev accuracy: 0.50300\n",
      "Epoch: 2, loss: 0.70137, Train accuracy: 0.24088, Dev accuracy: 0.50000\n",
      "Epoch: 2, loss: 0.66173, Train accuracy: 0.24175, Dev accuracy: 0.50600\n",
      "Epoch: 2, loss: 0.59749, Train accuracy: 0.24288, Dev accuracy: 0.50500\n",
      "Epoch: 2, loss: 0.61702, Train accuracy: 0.24400, Dev accuracy: 0.50200\n",
      "Epoch: 2, loss: 0.67113, Train accuracy: 0.24463, Dev accuracy: 0.49200\n",
      "Epoch: 2, loss: 0.65023, Train accuracy: 0.24525, Dev accuracy: 0.50400\n",
      "Epoch: 2, loss: 0.64830, Train accuracy: 0.24600, Dev accuracy: 0.50800\n",
      "Epoch: 2, loss: 0.57059, Train accuracy: 0.24738, Dev accuracy: 0.50000\n",
      "Epoch: 2, loss: 0.65214, Train accuracy: 0.24813, Dev accuracy: 0.49900\n",
      "Epoch: 2, loss: 0.61587, Train accuracy: 0.24925, Dev accuracy: 0.51400\n",
      "Epoch: 2, loss: 0.62496, Train accuracy: 0.25038, Dev accuracy: 0.50600\n",
      "Epoch: 2, loss: 0.53899, Train accuracy: 0.25150, Dev accuracy: 0.49900\n",
      "Epoch: 2, loss: 0.77560, Train accuracy: 0.25175, Dev accuracy: 0.49300\n",
      "Epoch: 2, loss: 0.56328, Train accuracy: 0.25275, Dev accuracy: 0.47800\n",
      "Epoch: 2, loss: 0.79487, Train accuracy: 0.25312, Dev accuracy: 0.50200\n",
      "Epoch: 2, loss: 0.58050, Train accuracy: 0.25450, Dev accuracy: 0.49200\n",
      "Epoch: 2, loss: 0.59628, Train accuracy: 0.25588, Dev accuracy: 0.49600\n",
      "Epoch: 2, loss: 0.61603, Train accuracy: 0.25700, Dev accuracy: 0.50900\n",
      "Epoch: 2, loss: 0.61110, Train accuracy: 0.25800, Dev accuracy: 0.49100\n",
      "Epoch: 2, loss: 0.72904, Train accuracy: 0.25875, Dev accuracy: 0.50400\n",
      "Epoch: 2, loss: 0.64057, Train accuracy: 0.25988, Dev accuracy: 0.50700\n",
      "Epoch: 2, loss: 0.61746, Train accuracy: 0.26100, Dev accuracy: 0.50800\n",
      "Epoch: 2, loss: 0.60917, Train accuracy: 0.26200, Dev accuracy: 0.51000\n",
      "Epoch: 2, loss: 0.63486, Train accuracy: 0.26288, Dev accuracy: 0.50600\n",
      "Epoch: 2, loss: 0.82428, Train accuracy: 0.26338, Dev accuracy: 0.50500\n",
      "Epoch: 2, loss: 0.64904, Train accuracy: 0.26425, Dev accuracy: 0.50400\n",
      "Epoch: 2, loss: 0.61678, Train accuracy: 0.26538, Dev accuracy: 0.50200\n",
      "Epoch: 2, loss: 0.67787, Train accuracy: 0.26625, Dev accuracy: 0.50800\n",
      "Epoch: 2, loss: 0.64634, Train accuracy: 0.26737, Dev accuracy: 0.49900\n",
      "Epoch: 2, loss: 0.73039, Train accuracy: 0.26800, Dev accuracy: 0.51800\n",
      "Epoch: 2, loss: 0.62244, Train accuracy: 0.26913, Dev accuracy: 0.50200\n",
      "Epoch: 2, loss: 0.67113, Train accuracy: 0.27013, Dev accuracy: 0.50900\n",
      "Epoch: 2, loss: 0.64474, Train accuracy: 0.27137, Dev accuracy: 0.49900\n",
      "Epoch: 2, loss: 0.71540, Train accuracy: 0.27237, Dev accuracy: 0.50700\n",
      "Epoch: 2, loss: 0.61294, Train accuracy: 0.27337, Dev accuracy: 0.50200\n",
      "Epoch: 2, loss: 0.46941, Train accuracy: 0.27487, Dev accuracy: 0.51400\n",
      "Epoch: 2, loss: 0.60401, Train accuracy: 0.27575, Dev accuracy: 0.51100\n",
      "Epoch: 2, loss: 0.65689, Train accuracy: 0.27663, Dev accuracy: 0.50300\n",
      "Epoch: 2, loss: 0.68922, Train accuracy: 0.27750, Dev accuracy: 0.50700\n",
      "Epoch: 2, loss: 0.64563, Train accuracy: 0.27837, Dev accuracy: 0.51000\n",
      "Epoch: 2, loss: 0.51441, Train accuracy: 0.27975, Dev accuracy: 0.51400\n",
      "Epoch: 2, loss: 0.59561, Train accuracy: 0.28075, Dev accuracy: 0.51300\n",
      "Epoch: 2, loss: 0.65428, Train accuracy: 0.28163, Dev accuracy: 0.50000\n",
      "Epoch: 2, loss: 0.60966, Train accuracy: 0.28237, Dev accuracy: 0.50600\n",
      "Epoch: 2, loss: 0.62448, Train accuracy: 0.28337, Dev accuracy: 0.51500\n",
      "Epoch: 2, loss: 0.66878, Train accuracy: 0.28437, Dev accuracy: 0.52000\n",
      "Epoch: 2, loss: 0.57947, Train accuracy: 0.28575, Dev accuracy: 0.51000\n",
      "Epoch: 2, loss: 0.66559, Train accuracy: 0.28637, Dev accuracy: 0.49900\n",
      "Epoch: 2, loss: 0.64288, Train accuracy: 0.28737, Dev accuracy: 0.51000\n",
      "Epoch: 2, loss: 0.63812, Train accuracy: 0.28813, Dev accuracy: 0.50100\n",
      "Epoch: 2, loss: 0.74327, Train accuracy: 0.28863, Dev accuracy: 0.47800\n",
      "Epoch: 2, loss: 0.58683, Train accuracy: 0.28987, Dev accuracy: 0.48100\n",
      "Epoch: 2, loss: 0.68713, Train accuracy: 0.29050, Dev accuracy: 0.51800\n",
      "Epoch: 2, loss: 0.57963, Train accuracy: 0.29187, Dev accuracy: 0.49700\n",
      "Epoch: 2, loss: 0.57618, Train accuracy: 0.29300, Dev accuracy: 0.50200\n",
      "Epoch: 2, loss: 0.62229, Train accuracy: 0.29413, Dev accuracy: 0.51500\n",
      "Epoch: 2, loss: 0.64786, Train accuracy: 0.29500, Dev accuracy: 0.52200\n",
      "Epoch: 2, loss: 0.61119, Train accuracy: 0.29625, Dev accuracy: 0.52300\n",
      "Epoch: 2, loss: 0.66542, Train accuracy: 0.29700, Dev accuracy: 0.49100\n",
      "Epoch: 2, loss: 0.61915, Train accuracy: 0.29800, Dev accuracy: 0.48900\n",
      "Epoch: 2, loss: 0.64589, Train accuracy: 0.29888, Dev accuracy: 0.50500\n",
      "Epoch: 2, loss: 0.59755, Train accuracy: 0.30012, Dev accuracy: 0.47900\n",
      "Epoch: 2, loss: 0.60718, Train accuracy: 0.30088, Dev accuracy: 0.48000\n",
      "Epoch: 2, loss: 0.59997, Train accuracy: 0.30188, Dev accuracy: 0.48500\n",
      "Epoch: 2, loss: 0.58751, Train accuracy: 0.30275, Dev accuracy: 0.47300\n",
      "Epoch: 2, loss: 0.67591, Train accuracy: 0.30350, Dev accuracy: 0.50700\n",
      "Epoch: 2, loss: 0.60846, Train accuracy: 0.30462, Dev accuracy: 0.50500\n",
      "Epoch: 2, loss: 0.66178, Train accuracy: 0.30562, Dev accuracy: 0.51600\n",
      "Epoch: 2, loss: 0.63661, Train accuracy: 0.30662, Dev accuracy: 0.51900\n",
      "Epoch: 2, loss: 0.58212, Train accuracy: 0.30762, Dev accuracy: 0.51500\n",
      "Epoch: 2, loss: 0.63116, Train accuracy: 0.30862, Dev accuracy: 0.51700\n",
      "Epoch: 2, loss: 0.70907, Train accuracy: 0.30962, Dev accuracy: 0.49900\n",
      "Epoch: 2, loss: 0.64568, Train accuracy: 0.31088, Dev accuracy: 0.49900\n",
      "Epoch: 2, loss: 0.66308, Train accuracy: 0.31162, Dev accuracy: 0.51700\n",
      "Epoch: 2, loss: 0.62012, Train accuracy: 0.31262, Dev accuracy: 0.51700\n",
      "Epoch: 2, loss: 0.66256, Train accuracy: 0.31362, Dev accuracy: 0.50900\n",
      "Epoch: 2, loss: 0.59685, Train accuracy: 0.31488, Dev accuracy: 0.51400\n",
      "Epoch: 2, loss: 0.65849, Train accuracy: 0.31575, Dev accuracy: 0.50000\n",
      "Epoch: 2, loss: 0.62335, Train accuracy: 0.31675, Dev accuracy: 0.51200\n",
      "Epoch: 2, loss: 0.68690, Train accuracy: 0.31725, Dev accuracy: 0.51800\n",
      "Epoch: 2, loss: 0.59012, Train accuracy: 0.31825, Dev accuracy: 0.50600\n",
      "Epoch: 2, loss: 0.56084, Train accuracy: 0.31950, Dev accuracy: 0.52000\n",
      "Epoch: 2, loss: 0.64222, Train accuracy: 0.32050, Dev accuracy: 0.48200\n",
      "Epoch: 2, loss: 0.60467, Train accuracy: 0.32175, Dev accuracy: 0.49400\n",
      "Epoch: 2, loss: 0.55018, Train accuracy: 0.32275, Dev accuracy: 0.48300\n",
      "Epoch: 2, loss: 0.67930, Train accuracy: 0.32362, Dev accuracy: 0.49000\n",
      "Epoch: 2, loss: 0.65051, Train accuracy: 0.32450, Dev accuracy: 0.48600\n",
      "Epoch: 2, loss: 0.61901, Train accuracy: 0.32538, Dev accuracy: 0.47800\n",
      "Epoch: 2, loss: 0.61402, Train accuracy: 0.32650, Dev accuracy: 0.48400\n",
      "Epoch: 2, loss: 0.57807, Train accuracy: 0.32738, Dev accuracy: 0.47800\n",
      "Epoch: 2, loss: 0.63505, Train accuracy: 0.32837, Dev accuracy: 0.49600\n",
      "Epoch: 2, loss: 0.59482, Train accuracy: 0.32950, Dev accuracy: 0.48100\n",
      "Epoch: 2, loss: 0.61113, Train accuracy: 0.33037, Dev accuracy: 0.49000\n",
      "Epoch: 2, loss: 0.55970, Train accuracy: 0.33150, Dev accuracy: 0.48500\n",
      "Epoch: 2, loss: 0.56977, Train accuracy: 0.33287, Dev accuracy: 0.51200\n",
      "Epoch: 2, loss: 0.68182, Train accuracy: 0.33375, Dev accuracy: 0.50200\n",
      "Epoch: 2, loss: 0.60071, Train accuracy: 0.33487, Dev accuracy: 0.48600\n",
      "Epoch: 2, loss: 0.56834, Train accuracy: 0.33587, Dev accuracy: 0.48100\n",
      "Epoch: 2, loss: 0.63472, Train accuracy: 0.33675, Dev accuracy: 0.48100\n",
      "Epoch: 2, loss: 0.66049, Train accuracy: 0.33737, Dev accuracy: 0.51300\n",
      "Epoch: 2, loss: 0.63567, Train accuracy: 0.33850, Dev accuracy: 0.48700\n",
      "Epoch: 2, loss: 0.62337, Train accuracy: 0.33950, Dev accuracy: 0.48900\n",
      "Epoch: 2, loss: 0.59430, Train accuracy: 0.34037, Dev accuracy: 0.47500\n",
      "Epoch: 2, loss: 0.69762, Train accuracy: 0.34100, Dev accuracy: 0.47500\n",
      "Epoch: 2, loss: 0.61705, Train accuracy: 0.34175, Dev accuracy: 0.50900\n",
      "Epoch: 2, loss: 0.59699, Train accuracy: 0.34275, Dev accuracy: 0.50100\n",
      "Epoch: 2, loss: 0.55564, Train accuracy: 0.34400, Dev accuracy: 0.49900\n",
      "Epoch: 2, loss: 0.64728, Train accuracy: 0.34487, Dev accuracy: 0.51300\n",
      "Epoch: 2, loss: 0.71914, Train accuracy: 0.34537, Dev accuracy: 0.50700\n",
      "Epoch: 2, loss: 0.63376, Train accuracy: 0.34625, Dev accuracy: 0.50500\n",
      "Epoch: 2, loss: 0.63146, Train accuracy: 0.34713, Dev accuracy: 0.51500\n",
      "Epoch: 2, loss: 0.59143, Train accuracy: 0.34813, Dev accuracy: 0.52300\n",
      "Epoch: 2, loss: 0.60812, Train accuracy: 0.34925, Dev accuracy: 0.51400\n",
      "Epoch: 2, loss: 0.62652, Train accuracy: 0.35037, Dev accuracy: 0.50900\n",
      "Epoch: 2, loss: 0.60344, Train accuracy: 0.35163, Dev accuracy: 0.51300\n",
      "Epoch: 2, loss: 0.51745, Train accuracy: 0.35300, Dev accuracy: 0.51200\n",
      "Epoch: 2, loss: 0.55799, Train accuracy: 0.35413, Dev accuracy: 0.51200\n",
      "Epoch: 2, loss: 0.62472, Train accuracy: 0.35513, Dev accuracy: 0.51000\n",
      "Epoch: 2, loss: 0.72366, Train accuracy: 0.35575, Dev accuracy: 0.51600\n",
      "Epoch: 2, loss: 0.64272, Train accuracy: 0.35650, Dev accuracy: 0.51800\n",
      "Epoch: 2, loss: 0.63247, Train accuracy: 0.35763, Dev accuracy: 0.51800\n",
      "Epoch: 2, loss: 0.63576, Train accuracy: 0.35850, Dev accuracy: 0.48800\n",
      "Epoch: 2, loss: 0.70743, Train accuracy: 0.35938, Dev accuracy: 0.50300\n",
      "Epoch: 2, loss: 0.74635, Train accuracy: 0.35988, Dev accuracy: 0.50700\n",
      "Epoch: 2, loss: 0.61401, Train accuracy: 0.36100, Dev accuracy: 0.48000\n",
      "Epoch: 2, loss: 0.71215, Train accuracy: 0.36188, Dev accuracy: 0.51200\n",
      "Epoch: 2, loss: 0.57379, Train accuracy: 0.36300, Dev accuracy: 0.50700\n",
      "Epoch: 2, loss: 0.58271, Train accuracy: 0.36412, Dev accuracy: 0.50900\n",
      "Epoch: 2, loss: 0.65954, Train accuracy: 0.36512, Dev accuracy: 0.48700\n",
      "Epoch: 2, loss: 0.61525, Train accuracy: 0.36612, Dev accuracy: 0.48600\n",
      "Epoch: 2, loss: 0.73431, Train accuracy: 0.36675, Dev accuracy: 0.50200\n",
      "Epoch: 2, loss: 0.66420, Train accuracy: 0.36738, Dev accuracy: 0.48100\n",
      "Epoch: 2, loss: 0.82485, Train accuracy: 0.36788, Dev accuracy: 0.51700\n",
      "Epoch: 2, loss: 0.64914, Train accuracy: 0.36888, Dev accuracy: 0.52100\n",
      "Epoch: 2, loss: 0.64104, Train accuracy: 0.36975, Dev accuracy: 0.51200\n",
      "Epoch: 2, loss: 0.72184, Train accuracy: 0.37038, Dev accuracy: 0.51000\n",
      "Epoch: 2, loss: 0.57758, Train accuracy: 0.37150, Dev accuracy: 0.49200\n",
      "Epoch: 2, loss: 0.66728, Train accuracy: 0.37250, Dev accuracy: 0.50400\n",
      "Epoch: 2, loss: 0.69750, Train accuracy: 0.37325, Dev accuracy: 0.52400\n",
      "Epoch: 2, loss: 0.63138, Train accuracy: 0.37388, Dev accuracy: 0.49000\n",
      "Epoch: 2, loss: 0.53421, Train accuracy: 0.37488, Dev accuracy: 0.48500\n",
      "Epoch: 2, loss: 0.68180, Train accuracy: 0.37550, Dev accuracy: 0.50700\n",
      "Epoch: 2, loss: 0.66192, Train accuracy: 0.37650, Dev accuracy: 0.51800\n",
      "Epoch: 2, loss: 0.65584, Train accuracy: 0.37712, Dev accuracy: 0.51900\n",
      "Epoch: 2, loss: 0.63959, Train accuracy: 0.37800, Dev accuracy: 0.51700\n",
      "Epoch: 2, loss: 0.63001, Train accuracy: 0.37888, Dev accuracy: 0.51800\n",
      "Epoch: 2, loss: 0.61865, Train accuracy: 0.37988, Dev accuracy: 0.52000\n",
      "Epoch: 2, loss: 0.66283, Train accuracy: 0.38100, Dev accuracy: 0.51700\n",
      "Epoch: 2, loss: 0.59775, Train accuracy: 0.38212, Dev accuracy: 0.51700\n",
      "Epoch: 2, loss: 0.66998, Train accuracy: 0.38288, Dev accuracy: 0.51300\n",
      "Epoch: 2, loss: 0.61858, Train accuracy: 0.38375, Dev accuracy: 0.49700\n",
      "Epoch: 2, loss: 0.70639, Train accuracy: 0.38450, Dev accuracy: 0.52200\n",
      "Epoch: 2, loss: 0.60309, Train accuracy: 0.38538, Dev accuracy: 0.50900\n",
      "Epoch: 2, loss: 0.62211, Train accuracy: 0.38638, Dev accuracy: 0.52000\n",
      "Epoch: 2, loss: 0.70877, Train accuracy: 0.38725, Dev accuracy: 0.52700\n",
      "Epoch: 2, loss: 0.65705, Train accuracy: 0.38838, Dev accuracy: 0.50200\n",
      "Epoch: 2, loss: 0.71869, Train accuracy: 0.38900, Dev accuracy: 0.49600\n",
      "Epoch: 2, loss: 0.65932, Train accuracy: 0.39000, Dev accuracy: 0.49700\n",
      "Epoch: 2, loss: 0.73773, Train accuracy: 0.39075, Dev accuracy: 0.51900\n",
      "Epoch: 2, loss: 0.60904, Train accuracy: 0.39175, Dev accuracy: 0.52500\n",
      "Epoch: 2, loss: 0.57448, Train accuracy: 0.39287, Dev accuracy: 0.51900\n",
      "Epoch: 2, loss: 0.71770, Train accuracy: 0.39375, Dev accuracy: 0.50200\n",
      "Epoch: 2, loss: 0.58137, Train accuracy: 0.39463, Dev accuracy: 0.51200\n",
      "Epoch: 2, loss: 0.59476, Train accuracy: 0.39550, Dev accuracy: 0.51900\n",
      "Epoch: 2, loss: 0.67746, Train accuracy: 0.39613, Dev accuracy: 0.50800\n",
      "Epoch: 2, loss: 0.49256, Train accuracy: 0.39737, Dev accuracy: 0.48400\n",
      "Epoch: 2, loss: 0.78173, Train accuracy: 0.39775, Dev accuracy: 0.52200\n",
      "Epoch: 2, loss: 0.51632, Train accuracy: 0.39925, Dev accuracy: 0.51400\n",
      "Epoch: 2, loss: 0.66144, Train accuracy: 0.40025, Dev accuracy: 0.51700\n",
      "Epoch: 2, loss: 0.66626, Train accuracy: 0.40113, Dev accuracy: 0.50500\n",
      "Epoch: 2, loss: 0.59913, Train accuracy: 0.40213, Dev accuracy: 0.50700\n",
      "Epoch: 2, loss: 0.57814, Train accuracy: 0.40337, Dev accuracy: 0.50500\n",
      "Epoch: 2, loss: 0.60437, Train accuracy: 0.40437, Dev accuracy: 0.52300\n",
      "Epoch: 2, loss: 0.60585, Train accuracy: 0.40525, Dev accuracy: 0.50400\n",
      "Epoch: 2, loss: 0.72663, Train accuracy: 0.40587, Dev accuracy: 0.51200\n",
      "Epoch: 2, loss: 0.58679, Train accuracy: 0.40700, Dev accuracy: 0.50000\n",
      "Epoch: 2, loss: 0.62548, Train accuracy: 0.40787, Dev accuracy: 0.50300\n",
      "Epoch: 2, loss: 0.66846, Train accuracy: 0.40875, Dev accuracy: 0.51300\n",
      "Epoch: 2, loss: 0.67680, Train accuracy: 0.40963, Dev accuracy: 0.51100\n",
      "Epoch: 2, loss: 0.65701, Train accuracy: 0.41037, Dev accuracy: 0.50500\n",
      "Epoch: 2, loss: 0.76429, Train accuracy: 0.41113, Dev accuracy: 0.48500\n",
      "Epoch: 2, loss: 0.78101, Train accuracy: 0.41187, Dev accuracy: 0.49600\n",
      "Epoch: 2, loss: 0.62677, Train accuracy: 0.41300, Dev accuracy: 0.50200\n",
      "Epoch: 2, loss: 0.53237, Train accuracy: 0.41413, Dev accuracy: 0.51400\n",
      "Epoch: 2, loss: 0.65444, Train accuracy: 0.41500, Dev accuracy: 0.50600\n",
      "Epoch: 2, loss: 0.59477, Train accuracy: 0.41587, Dev accuracy: 0.50100\n",
      "Epoch: 2, loss: 0.61267, Train accuracy: 0.41700, Dev accuracy: 0.50200\n",
      "Epoch: 2, loss: 0.66237, Train accuracy: 0.41800, Dev accuracy: 0.51200\n",
      "Epoch: 2, loss: 0.62702, Train accuracy: 0.41900, Dev accuracy: 0.51300\n",
      "Epoch: 2, loss: 0.66790, Train accuracy: 0.42000, Dev accuracy: 0.49000\n",
      "Epoch: 2, loss: 0.67524, Train accuracy: 0.42075, Dev accuracy: 0.51800\n",
      "Epoch: 2, loss: 0.63378, Train accuracy: 0.42188, Dev accuracy: 0.50900\n",
      "Epoch: 2, loss: 0.68286, Train accuracy: 0.42250, Dev accuracy: 0.48800\n",
      "Epoch: 2, loss: 0.64594, Train accuracy: 0.42350, Dev accuracy: 0.49600\n",
      "Epoch: 2, loss: 0.58554, Train accuracy: 0.42450, Dev accuracy: 0.49200\n",
      "Epoch: 2, loss: 0.75058, Train accuracy: 0.42525, Dev accuracy: 0.50600\n",
      "Epoch: 2, loss: 0.62499, Train accuracy: 0.42638, Dev accuracy: 0.51700\n",
      "Epoch: 2, loss: 0.68098, Train accuracy: 0.42738, Dev accuracy: 0.51900\n",
      "Epoch: 2, loss: 0.59621, Train accuracy: 0.42825, Dev accuracy: 0.50700\n",
      "Epoch: 2, loss: 0.59999, Train accuracy: 0.42950, Dev accuracy: 0.51100\n",
      "Epoch: 2, loss: 0.55179, Train accuracy: 0.43038, Dev accuracy: 0.50400\n",
      "Epoch: 2, loss: 0.67634, Train accuracy: 0.43112, Dev accuracy: 0.50500\n",
      "Epoch: 2, loss: 0.72572, Train accuracy: 0.43188, Dev accuracy: 0.48200\n",
      "Epoch: 2, loss: 0.58581, Train accuracy: 0.43300, Dev accuracy: 0.50000\n",
      "Epoch: 2, loss: 0.78258, Train accuracy: 0.43362, Dev accuracy: 0.52000\n",
      "Epoch: 2, loss: 0.57573, Train accuracy: 0.43500, Dev accuracy: 0.50300\n",
      "Epoch: 2, loss: 0.58922, Train accuracy: 0.43588, Dev accuracy: 0.51000\n",
      "Epoch: 2, loss: 0.60049, Train accuracy: 0.43688, Dev accuracy: 0.49800\n",
      "Epoch: 2, loss: 0.66602, Train accuracy: 0.43762, Dev accuracy: 0.50600\n",
      "Epoch: 2, loss: 0.67448, Train accuracy: 0.43850, Dev accuracy: 0.50900\n",
      "Epoch: 2, loss: 0.63215, Train accuracy: 0.43925, Dev accuracy: 0.50400\n",
      "Epoch: 2, loss: 0.57638, Train accuracy: 0.44038, Dev accuracy: 0.51400\n",
      "Epoch: 2, loss: 0.64745, Train accuracy: 0.44125, Dev accuracy: 0.50300\n",
      "Epoch: 2, loss: 0.60982, Train accuracy: 0.44238, Dev accuracy: 0.50200\n",
      "Epoch: 2, loss: 0.55191, Train accuracy: 0.44338, Dev accuracy: 0.48800\n",
      "Epoch: 2, loss: 0.53454, Train accuracy: 0.44450, Dev accuracy: 0.48200\n",
      "Epoch: 2, loss: 0.70527, Train accuracy: 0.44525, Dev accuracy: 0.50400\n",
      "Epoch: 2, loss: 0.73044, Train accuracy: 0.44600, Dev accuracy: 0.50900\n",
      "Epoch: 2, loss: 0.72208, Train accuracy: 0.44662, Dev accuracy: 0.51100\n",
      "Epoch: 2, loss: 0.76101, Train accuracy: 0.44725, Dev accuracy: 0.51100\n",
      "Epoch: 2, loss: 0.69061, Train accuracy: 0.44788, Dev accuracy: 0.51000\n",
      "Epoch: 2, loss: 0.69141, Train accuracy: 0.44850, Dev accuracy: 0.49400\n",
      "Epoch: 2, loss: 0.75674, Train accuracy: 0.44912, Dev accuracy: 0.50300\n",
      "Epoch: 2, loss: 0.56354, Train accuracy: 0.45012, Dev accuracy: 0.48100\n",
      "Epoch: 2, loss: 0.56979, Train accuracy: 0.45112, Dev accuracy: 0.49200\n",
      "Epoch: 2, loss: 0.64483, Train accuracy: 0.45212, Dev accuracy: 0.49900\n",
      "Epoch: 2, loss: 0.55087, Train accuracy: 0.45325, Dev accuracy: 0.48900\n",
      "Epoch: 2, loss: 0.57116, Train accuracy: 0.45437, Dev accuracy: 0.49000\n",
      "Epoch: 2, loss: 0.70021, Train accuracy: 0.45513, Dev accuracy: 0.48600\n",
      "Epoch: 2, loss: 0.68261, Train accuracy: 0.45600, Dev accuracy: 0.50700\n",
      "Epoch: 2, loss: 0.54232, Train accuracy: 0.45725, Dev accuracy: 0.49500\n",
      "Epoch: 2, loss: 0.64291, Train accuracy: 0.45813, Dev accuracy: 0.49800\n",
      "Epoch: 2, loss: 0.65079, Train accuracy: 0.45925, Dev accuracy: 0.50400\n",
      "Epoch: 2, loss: 0.71428, Train accuracy: 0.46025, Dev accuracy: 0.49700\n",
      "Epoch: 2, loss: 0.62436, Train accuracy: 0.46137, Dev accuracy: 0.50600\n",
      "Epoch: 2, loss: 0.61011, Train accuracy: 0.46250, Dev accuracy: 0.50000\n",
      "Epoch: 2, loss: 0.59059, Train accuracy: 0.46363, Dev accuracy: 0.50800\n",
      "Epoch: 2, loss: 0.63382, Train accuracy: 0.46463, Dev accuracy: 0.50700\n",
      "Epoch: 2, loss: 0.70686, Train accuracy: 0.46537, Dev accuracy: 0.50100\n",
      "Epoch: 2, loss: 0.70581, Train accuracy: 0.46637, Dev accuracy: 0.50400\n",
      "Epoch: 2, loss: 0.56729, Train accuracy: 0.46750, Dev accuracy: 0.49700\n",
      "Epoch: 2, loss: 0.58746, Train accuracy: 0.46863, Dev accuracy: 0.50300\n",
      "Epoch: 2, loss: 0.61634, Train accuracy: 0.46963, Dev accuracy: 0.51200\n",
      "Epoch: 2, loss: 0.58151, Train accuracy: 0.47087, Dev accuracy: 0.50100\n",
      "Epoch: 2, loss: 0.76125, Train accuracy: 0.47137, Dev accuracy: 0.50900\n",
      "Epoch: 2, loss: 0.63025, Train accuracy: 0.47237, Dev accuracy: 0.47800\n",
      "Epoch: 2, loss: 0.53506, Train accuracy: 0.47375, Dev accuracy: 0.47900\n",
      "Epoch: 2, loss: 0.62280, Train accuracy: 0.47513, Dev accuracy: 0.48500\n",
      "Epoch: 2, loss: 0.58431, Train accuracy: 0.47613, Dev accuracy: 0.48300\n",
      "Epoch: 2, loss: 0.73672, Train accuracy: 0.47675, Dev accuracy: 0.49700\n",
      "Epoch: 2, loss: 0.65341, Train accuracy: 0.47737, Dev accuracy: 0.51000\n",
      "Epoch: 2, loss: 0.60602, Train accuracy: 0.47863, Dev accuracy: 0.50500\n",
      "Epoch: 2, loss: 0.52146, Train accuracy: 0.47975, Dev accuracy: 0.50600\n",
      "Epoch: 2, loss: 0.68513, Train accuracy: 0.48050, Dev accuracy: 0.49700\n",
      "Epoch: 2, loss: 0.66696, Train accuracy: 0.48150, Dev accuracy: 0.50700\n",
      "Epoch: 2, loss: 0.64895, Train accuracy: 0.48237, Dev accuracy: 0.50400\n",
      "Epoch: 2, loss: 0.57662, Train accuracy: 0.48350, Dev accuracy: 0.51100\n",
      "Epoch: 2, loss: 0.58887, Train accuracy: 0.48462, Dev accuracy: 0.51000\n",
      "Epoch: 2, loss: 0.59984, Train accuracy: 0.48550, Dev accuracy: 0.50100\n",
      "Epoch: 2, loss: 0.66383, Train accuracy: 0.48625, Dev accuracy: 0.49200\n",
      "Epoch: 2, loss: 0.51941, Train accuracy: 0.48750, Dev accuracy: 0.51000\n",
      "Epoch: 2, loss: 0.63990, Train accuracy: 0.48825, Dev accuracy: 0.50100\n",
      "Epoch: 2, loss: 0.57528, Train accuracy: 0.48962, Dev accuracy: 0.50100\n",
      "Epoch: 2, loss: 0.73512, Train accuracy: 0.49025, Dev accuracy: 0.50600\n",
      "Epoch: 2, loss: 0.82184, Train accuracy: 0.49100, Dev accuracy: 0.49900\n",
      "Epoch: 2, loss: 0.52681, Train accuracy: 0.49200, Dev accuracy: 0.49300\n",
      "Epoch: 2, loss: 0.50686, Train accuracy: 0.49350, Dev accuracy: 0.49600\n",
      "Epoch: 2, loss: 0.54491, Train accuracy: 0.49462, Dev accuracy: 0.49200\n",
      "Epoch: 2, loss: 0.68692, Train accuracy: 0.49550, Dev accuracy: 0.48600\n",
      "Epoch: 2, loss: 0.65048, Train accuracy: 0.49638, Dev accuracy: 0.49200\n",
      "Epoch: 2, loss: 0.64827, Train accuracy: 0.49738, Dev accuracy: 0.49900\n",
      "Epoch: 2, loss: 0.59183, Train accuracy: 0.49850, Dev accuracy: 0.49800\n",
      "Epoch: 2, loss: 0.76153, Train accuracy: 0.49912, Dev accuracy: 0.51100\n",
      "Epoch: 2, loss: 0.68103, Train accuracy: 0.49988, Dev accuracy: 0.49800\n",
      "Epoch: 2, loss: 0.64320, Train accuracy: 0.50087, Dev accuracy: 0.49400\n",
      "Epoch: 2, loss: 0.62610, Train accuracy: 0.50187, Dev accuracy: 0.49400\n",
      "Epoch: 2, loss: 0.73105, Train accuracy: 0.50250, Dev accuracy: 0.51500\n",
      "Epoch: 2, loss: 0.55300, Train accuracy: 0.50375, Dev accuracy: 0.51400\n",
      "Epoch: 2, loss: 0.61779, Train accuracy: 0.50487, Dev accuracy: 0.52500\n",
      "Epoch: 2, loss: 0.55789, Train accuracy: 0.50613, Dev accuracy: 0.51300\n",
      "Epoch: 2, loss: 0.66219, Train accuracy: 0.50700, Dev accuracy: 0.50600\n",
      "Epoch: 2, loss: 0.57712, Train accuracy: 0.50813, Dev accuracy: 0.50100\n",
      "Epoch: 2, loss: 0.56810, Train accuracy: 0.50900, Dev accuracy: 0.51100\n",
      "Epoch: 2, loss: 0.59461, Train accuracy: 0.51025, Dev accuracy: 0.51700\n",
      "Epoch: 2, loss: 0.63916, Train accuracy: 0.51113, Dev accuracy: 0.49900\n",
      "Epoch: 2, loss: 0.78825, Train accuracy: 0.51150, Dev accuracy: 0.50500\n",
      "Epoch: 2, loss: 0.64512, Train accuracy: 0.51238, Dev accuracy: 0.49800\n",
      "Epoch: 2, loss: 0.57187, Train accuracy: 0.51362, Dev accuracy: 0.50100\n",
      "Epoch: 2, loss: 0.51926, Train accuracy: 0.51500, Dev accuracy: 0.50200\n",
      "Epoch: 2, loss: 0.58521, Train accuracy: 0.51600, Dev accuracy: 0.50200\n",
      "Epoch: 2, loss: 0.70685, Train accuracy: 0.51663, Dev accuracy: 0.51100\n",
      "Epoch: 2, loss: 0.54616, Train accuracy: 0.51787, Dev accuracy: 0.51000\n",
      "Epoch: 2, loss: 0.65281, Train accuracy: 0.51863, Dev accuracy: 0.51100\n",
      "Epoch: 2, loss: 0.66658, Train accuracy: 0.51963, Dev accuracy: 0.50800\n",
      "Epoch: 2, loss: 0.63281, Train accuracy: 0.52075, Dev accuracy: 0.50700\n",
      "Epoch: 2, loss: 0.64102, Train accuracy: 0.52187, Dev accuracy: 0.50300\n",
      "Epoch: 2, loss: 0.64356, Train accuracy: 0.52300, Dev accuracy: 0.51400\n",
      "Epoch: 2, loss: 0.55486, Train accuracy: 0.52425, Dev accuracy: 0.50600\n",
      "Epoch: 2, loss: 0.56426, Train accuracy: 0.52538, Dev accuracy: 0.50400\n",
      "Epoch: 2, loss: 0.60826, Train accuracy: 0.52650, Dev accuracy: 0.49400\n",
      "Epoch: 2, loss: 0.50191, Train accuracy: 0.52775, Dev accuracy: 0.50600\n",
      "Epoch: 2, loss: 0.73457, Train accuracy: 0.52850, Dev accuracy: 0.50800\n",
      "Epoch: 2, loss: 0.60905, Train accuracy: 0.52963, Dev accuracy: 0.52100\n",
      "Epoch: 2, loss: 0.59247, Train accuracy: 0.53075, Dev accuracy: 0.49900\n",
      "Epoch: 2, loss: 0.62439, Train accuracy: 0.53163, Dev accuracy: 0.49100\n",
      "Epoch: 2, loss: 0.79892, Train accuracy: 0.53238, Dev accuracy: 0.50200\n",
      "Epoch: 2, loss: 0.60771, Train accuracy: 0.53325, Dev accuracy: 0.51300\n",
      "Epoch: 2, loss: 0.63452, Train accuracy: 0.53412, Dev accuracy: 0.50400\n",
      "Epoch: 2, loss: 0.61482, Train accuracy: 0.53512, Dev accuracy: 0.51600\n",
      "Epoch: 2, loss: 0.60642, Train accuracy: 0.53625, Dev accuracy: 0.51000\n",
      "Epoch: 2, loss: 0.60929, Train accuracy: 0.53725, Dev accuracy: 0.50600\n",
      "Epoch: 2, loss: 0.66702, Train accuracy: 0.53800, Dev accuracy: 0.49900\n",
      "Epoch: 2, loss: 0.65192, Train accuracy: 0.53875, Dev accuracy: 0.50200\n",
      "Epoch: 2, loss: 0.57712, Train accuracy: 0.53987, Dev accuracy: 0.49900\n",
      "Epoch: 2, loss: 0.68849, Train accuracy: 0.54050, Dev accuracy: 0.51800\n",
      "Epoch: 2, loss: 0.62046, Train accuracy: 0.54175, Dev accuracy: 0.51300\n",
      "Epoch: 2, loss: 0.68983, Train accuracy: 0.54263, Dev accuracy: 0.49800\n",
      "Epoch: 2, loss: 0.73895, Train accuracy: 0.54363, Dev accuracy: 0.51500\n",
      "Epoch: 2, loss: 0.61092, Train accuracy: 0.54487, Dev accuracy: 0.49700\n",
      "Epoch: 2, loss: 0.76865, Train accuracy: 0.54587, Dev accuracy: 0.51500\n",
      "Epoch: 2, loss: 0.80505, Train accuracy: 0.54650, Dev accuracy: 0.50800\n",
      "Epoch: 2, loss: 0.67012, Train accuracy: 0.54750, Dev accuracy: 0.51900\n",
      "Epoch: 2, loss: 0.56836, Train accuracy: 0.54875, Dev accuracy: 0.51300\n",
      "Epoch: 2, loss: 0.60615, Train accuracy: 0.54975, Dev accuracy: 0.51700\n",
      "Epoch: 2, loss: 0.55575, Train accuracy: 0.55100, Dev accuracy: 0.50200\n",
      "Epoch: 2, loss: 0.59946, Train accuracy: 0.55188, Dev accuracy: 0.49100\n",
      "Epoch: 2, loss: 0.55840, Train accuracy: 0.55288, Dev accuracy: 0.50500\n",
      "Epoch: 2, loss: 0.60145, Train accuracy: 0.55375, Dev accuracy: 0.51300\n",
      "Epoch: 2, loss: 0.70751, Train accuracy: 0.55437, Dev accuracy: 0.50900\n",
      "Epoch: 2, loss: 0.57390, Train accuracy: 0.55563, Dev accuracy: 0.51100\n",
      "Epoch: 2, loss: 0.53438, Train accuracy: 0.55688, Dev accuracy: 0.50300\n",
      "Epoch: 2, loss: 0.63561, Train accuracy: 0.55788, Dev accuracy: 0.50400\n",
      "Epoch: 2, loss: 0.69056, Train accuracy: 0.55875, Dev accuracy: 0.49900\n",
      "Epoch: 2, loss: 0.52274, Train accuracy: 0.55988, Dev accuracy: 0.49900\n",
      "Epoch: 2, loss: 0.52249, Train accuracy: 0.56125, Dev accuracy: 0.50200\n",
      "Epoch: 2, loss: 0.62085, Train accuracy: 0.56237, Dev accuracy: 0.50300\n",
      "Epoch: 2, loss: 0.65840, Train accuracy: 0.56325, Dev accuracy: 0.50700\n",
      "Epoch: 2, loss: 0.73073, Train accuracy: 0.56388, Dev accuracy: 0.51600\n",
      "Epoch: 2, loss: 0.73160, Train accuracy: 0.56475, Dev accuracy: 0.50000\n",
      "Epoch: 2, loss: 0.66641, Train accuracy: 0.56550, Dev accuracy: 0.50200\n",
      "Epoch: 2, loss: 0.58234, Train accuracy: 0.56663, Dev accuracy: 0.51100\n",
      "Epoch: 2, loss: 0.58563, Train accuracy: 0.56775, Dev accuracy: 0.50900\n",
      "Epoch: 2, loss: 0.60846, Train accuracy: 0.56863, Dev accuracy: 0.49700\n",
      "Epoch: 2, loss: 0.64293, Train accuracy: 0.56963, Dev accuracy: 0.49900\n",
      "Epoch: 2, loss: 0.70292, Train accuracy: 0.57025, Dev accuracy: 0.49100\n",
      "Epoch: 2, loss: 0.62202, Train accuracy: 0.57150, Dev accuracy: 0.49400\n",
      "Epoch: 2, loss: 0.74893, Train accuracy: 0.57212, Dev accuracy: 0.49700\n",
      "Epoch: 2, loss: 0.64812, Train accuracy: 0.57312, Dev accuracy: 0.51400\n",
      "Epoch: 2, loss: 0.67026, Train accuracy: 0.57425, Dev accuracy: 0.50600\n",
      "Epoch: 2, loss: 0.70459, Train accuracy: 0.57500, Dev accuracy: 0.49800\n",
      "Epoch: 2, loss: 0.63350, Train accuracy: 0.57600, Dev accuracy: 0.51200\n",
      "Epoch: 2, loss: 0.52555, Train accuracy: 0.57712, Dev accuracy: 0.48800\n",
      "Epoch: 2, loss: 0.61591, Train accuracy: 0.57800, Dev accuracy: 0.48000\n",
      "Epoch: 2, loss: 0.62466, Train accuracy: 0.57888, Dev accuracy: 0.48700\n",
      "Epoch: 2, loss: 0.73194, Train accuracy: 0.57975, Dev accuracy: 0.52100\n",
      "Epoch: 2, loss: 0.64767, Train accuracy: 0.58088, Dev accuracy: 0.51100\n",
      "Epoch: 2, loss: 0.56239, Train accuracy: 0.58213, Dev accuracy: 0.50400\n",
      "Epoch: 2, loss: 0.62322, Train accuracy: 0.58300, Dev accuracy: 0.49900\n",
      "Epoch: 2, loss: 0.76722, Train accuracy: 0.58350, Dev accuracy: 0.50100\n",
      "Epoch: 2, loss: 0.65996, Train accuracy: 0.58450, Dev accuracy: 0.49700\n",
      "Epoch: 2, loss: 0.54688, Train accuracy: 0.58575, Dev accuracy: 0.52200\n",
      "Epoch: 2, loss: 0.59298, Train accuracy: 0.58675, Dev accuracy: 0.51400\n",
      "Epoch: 2, loss: 0.64194, Train accuracy: 0.58775, Dev accuracy: 0.51600\n",
      "Epoch: 2, loss: 0.48741, Train accuracy: 0.58900, Dev accuracy: 0.52400\n",
      "Epoch: 2, loss: 0.81031, Train accuracy: 0.58962, Dev accuracy: 0.49400\n",
      "Epoch: 2, loss: 0.68560, Train accuracy: 0.59037, Dev accuracy: 0.52200\n",
      "Epoch: 2, loss: 0.52390, Train accuracy: 0.59162, Dev accuracy: 0.48200\n",
      "Epoch: 2, loss: 0.48763, Train accuracy: 0.59275, Dev accuracy: 0.48500\n",
      "Epoch: 2, loss: 0.82946, Train accuracy: 0.59350, Dev accuracy: 0.52000\n",
      "Epoch: 2, loss: 0.61744, Train accuracy: 0.59450, Dev accuracy: 0.49800\n",
      "Epoch: 2, loss: 0.59448, Train accuracy: 0.59562, Dev accuracy: 0.49100\n",
      "Epoch: 2, loss: 0.63572, Train accuracy: 0.59650, Dev accuracy: 0.51100\n",
      "Epoch: 2, loss: 0.63819, Train accuracy: 0.59762, Dev accuracy: 0.50000\n",
      "Epoch: 2, loss: 0.64817, Train accuracy: 0.59862, Dev accuracy: 0.50600\n",
      "Epoch: 2, loss: 0.73532, Train accuracy: 0.59950, Dev accuracy: 0.50200\n",
      "Epoch: 2, loss: 0.62335, Train accuracy: 0.60062, Dev accuracy: 0.50200\n",
      "Epoch: 2, loss: 0.61910, Train accuracy: 0.60125, Dev accuracy: 0.50600\n",
      "Epoch: 2, loss: 0.66864, Train accuracy: 0.60213, Dev accuracy: 0.50200\n",
      "Epoch: 2, loss: 0.64048, Train accuracy: 0.60313, Dev accuracy: 0.50300\n",
      "Epoch: 2, loss: 0.75100, Train accuracy: 0.60375, Dev accuracy: 0.51000\n",
      "Epoch: 2, loss: 0.55552, Train accuracy: 0.60488, Dev accuracy: 0.50100\n",
      "Epoch: 2, loss: 0.69159, Train accuracy: 0.60588, Dev accuracy: 0.50600\n",
      "Epoch: 2, loss: 0.61635, Train accuracy: 0.60688, Dev accuracy: 0.50700\n",
      "Epoch: 2, loss: 0.63841, Train accuracy: 0.60800, Dev accuracy: 0.50400\n",
      "Epoch: 2, loss: 0.56058, Train accuracy: 0.60913, Dev accuracy: 0.50500\n",
      "Epoch: 2, loss: 0.53307, Train accuracy: 0.61025, Dev accuracy: 0.50400\n",
      "Epoch: 2, loss: 0.57767, Train accuracy: 0.61150, Dev accuracy: 0.50300\n",
      "Epoch: 2, loss: 0.66167, Train accuracy: 0.61225, Dev accuracy: 0.49600\n",
      "Epoch: 2, loss: 0.61583, Train accuracy: 0.61325, Dev accuracy: 0.49700\n",
      "Epoch: 2, loss: 0.58683, Train accuracy: 0.61450, Dev accuracy: 0.48300\n",
      "Epoch: 2, loss: 0.45019, Train accuracy: 0.61575, Dev accuracy: 0.48700\n",
      "Epoch: 2, loss: 0.70891, Train accuracy: 0.61675, Dev accuracy: 0.49800\n",
      "Epoch: 2, loss: 0.65298, Train accuracy: 0.61775, Dev accuracy: 0.50000\n",
      "Epoch: 2, loss: 0.55591, Train accuracy: 0.61913, Dev accuracy: 0.49300\n",
      "Epoch: 2, loss: 0.58269, Train accuracy: 0.62050, Dev accuracy: 0.47400\n",
      "Epoch: 2, loss: 0.71711, Train accuracy: 0.62150, Dev accuracy: 0.49100\n",
      "Epoch: 2, loss: 0.57716, Train accuracy: 0.62287, Dev accuracy: 0.49100\n",
      "Epoch: 2, loss: 0.55376, Train accuracy: 0.62387, Dev accuracy: 0.50300\n",
      "Epoch: 2, loss: 0.56978, Train accuracy: 0.62500, Dev accuracy: 0.50500\n",
      "Epoch: 2, loss: 0.53860, Train accuracy: 0.62613, Dev accuracy: 0.50300\n",
      "Epoch: 2, loss: 0.71169, Train accuracy: 0.62687, Dev accuracy: 0.50400\n",
      "Epoch: 2, loss: 0.63083, Train accuracy: 0.62787, Dev accuracy: 0.50800\n",
      "Epoch: 2, loss: 0.65149, Train accuracy: 0.62887, Dev accuracy: 0.51100\n",
      "Epoch: 2, loss: 0.65275, Train accuracy: 0.62962, Dev accuracy: 0.51300\n",
      "Epoch: 2, loss: 0.58387, Train accuracy: 0.63075, Dev accuracy: 0.50800\n",
      "Epoch: 2, loss: 0.58489, Train accuracy: 0.63200, Dev accuracy: 0.48700\n",
      "Epoch: 2, loss: 0.58527, Train accuracy: 0.63300, Dev accuracy: 0.49500\n",
      "Epoch: 2, loss: 0.69429, Train accuracy: 0.63387, Dev accuracy: 0.49300\n",
      "Epoch: 2, loss: 0.51684, Train accuracy: 0.63462, Dev accuracy: 0.49000\n",
      "2\n",
      "Epoch: 3, loss: 0.54477, Train accuracy: 0.00112, Dev accuracy: 0.50600\n",
      "Epoch: 3, loss: 0.59979, Train accuracy: 0.00200, Dev accuracy: 0.49500\n",
      "Epoch: 3, loss: 0.67578, Train accuracy: 0.00287, Dev accuracy: 0.51800\n",
      "Epoch: 3, loss: 0.53797, Train accuracy: 0.00387, Dev accuracy: 0.50300\n",
      "Epoch: 3, loss: 0.57767, Train accuracy: 0.00500, Dev accuracy: 0.49200\n",
      "Epoch: 3, loss: 0.44087, Train accuracy: 0.00650, Dev accuracy: 0.49000\n",
      "Epoch: 3, loss: 0.59748, Train accuracy: 0.00725, Dev accuracy: 0.50100\n",
      "Epoch: 3, loss: 0.64595, Train accuracy: 0.00838, Dev accuracy: 0.50500\n",
      "Epoch: 3, loss: 0.64263, Train accuracy: 0.00937, Dev accuracy: 0.49700\n",
      "Epoch: 3, loss: 0.52089, Train accuracy: 0.01050, Dev accuracy: 0.48600\n",
      "Epoch: 3, loss: 0.50049, Train accuracy: 0.01188, Dev accuracy: 0.49300\n",
      "Epoch: 3, loss: 0.50500, Train accuracy: 0.01300, Dev accuracy: 0.49300\n",
      "Epoch: 3, loss: 0.51614, Train accuracy: 0.01425, Dev accuracy: 0.49800\n",
      "Epoch: 3, loss: 0.52154, Train accuracy: 0.01550, Dev accuracy: 0.49400\n",
      "Epoch: 3, loss: 0.56329, Train accuracy: 0.01650, Dev accuracy: 0.50200\n",
      "Epoch: 3, loss: 0.56739, Train accuracy: 0.01750, Dev accuracy: 0.50200\n",
      "Epoch: 3, loss: 0.55369, Train accuracy: 0.01875, Dev accuracy: 0.51300\n",
      "Epoch: 3, loss: 0.54103, Train accuracy: 0.01988, Dev accuracy: 0.50000\n",
      "Epoch: 3, loss: 0.58884, Train accuracy: 0.02075, Dev accuracy: 0.50500\n",
      "Epoch: 3, loss: 0.46687, Train accuracy: 0.02212, Dev accuracy: 0.50700\n",
      "Epoch: 3, loss: 0.58420, Train accuracy: 0.02337, Dev accuracy: 0.50500\n",
      "Epoch: 3, loss: 0.39650, Train accuracy: 0.02475, Dev accuracy: 0.50600\n",
      "Epoch: 3, loss: 0.52825, Train accuracy: 0.02600, Dev accuracy: 0.50400\n",
      "Epoch: 3, loss: 0.54249, Train accuracy: 0.02700, Dev accuracy: 0.50300\n",
      "Epoch: 3, loss: 0.45811, Train accuracy: 0.02850, Dev accuracy: 0.49800\n",
      "Epoch: 3, loss: 0.52799, Train accuracy: 0.02975, Dev accuracy: 0.50000\n",
      "Epoch: 3, loss: 0.51139, Train accuracy: 0.03100, Dev accuracy: 0.50300\n",
      "Epoch: 3, loss: 0.54911, Train accuracy: 0.03213, Dev accuracy: 0.49500\n",
      "Epoch: 3, loss: 0.55064, Train accuracy: 0.03325, Dev accuracy: 0.50100\n",
      "Epoch: 3, loss: 0.47760, Train accuracy: 0.03438, Dev accuracy: 0.51500\n",
      "Epoch: 3, loss: 0.62976, Train accuracy: 0.03525, Dev accuracy: 0.50000\n",
      "Epoch: 3, loss: 0.57694, Train accuracy: 0.03637, Dev accuracy: 0.50500\n",
      "Epoch: 3, loss: 0.65389, Train accuracy: 0.03725, Dev accuracy: 0.49800\n",
      "Epoch: 3, loss: 0.53998, Train accuracy: 0.03862, Dev accuracy: 0.49400\n",
      "Epoch: 3, loss: 0.63896, Train accuracy: 0.03963, Dev accuracy: 0.50300\n",
      "Epoch: 3, loss: 0.52763, Train accuracy: 0.04088, Dev accuracy: 0.50700\n",
      "Epoch: 3, loss: 0.61790, Train accuracy: 0.04175, Dev accuracy: 0.49600\n",
      "Epoch: 3, loss: 0.56639, Train accuracy: 0.04300, Dev accuracy: 0.49900\n",
      "Epoch: 3, loss: 0.59449, Train accuracy: 0.04412, Dev accuracy: 0.50300\n",
      "Epoch: 3, loss: 0.43680, Train accuracy: 0.04562, Dev accuracy: 0.49300\n",
      "Epoch: 3, loss: 0.65700, Train accuracy: 0.04650, Dev accuracy: 0.49800\n",
      "Epoch: 3, loss: 0.50185, Train accuracy: 0.04775, Dev accuracy: 0.50600\n",
      "Epoch: 3, loss: 0.63202, Train accuracy: 0.04863, Dev accuracy: 0.51400\n",
      "Epoch: 3, loss: 0.46475, Train accuracy: 0.05000, Dev accuracy: 0.51300\n",
      "Epoch: 3, loss: 0.51061, Train accuracy: 0.05137, Dev accuracy: 0.50000\n",
      "Epoch: 3, loss: 0.65356, Train accuracy: 0.05250, Dev accuracy: 0.51400\n",
      "Epoch: 3, loss: 0.60020, Train accuracy: 0.05350, Dev accuracy: 0.52100\n",
      "Epoch: 3, loss: 0.56584, Train accuracy: 0.05450, Dev accuracy: 0.51300\n",
      "Epoch: 3, loss: 0.52339, Train accuracy: 0.05575, Dev accuracy: 0.51400\n",
      "Epoch: 3, loss: 0.70180, Train accuracy: 0.05650, Dev accuracy: 0.49900\n",
      "Epoch: 3, loss: 0.54083, Train accuracy: 0.05763, Dev accuracy: 0.51300\n",
      "Epoch: 3, loss: 0.54994, Train accuracy: 0.05887, Dev accuracy: 0.52900\n",
      "Epoch: 3, loss: 0.53911, Train accuracy: 0.06000, Dev accuracy: 0.50100\n",
      "Epoch: 3, loss: 0.53879, Train accuracy: 0.06112, Dev accuracy: 0.50200\n",
      "Epoch: 3, loss: 0.58534, Train accuracy: 0.06212, Dev accuracy: 0.48200\n",
      "Epoch: 3, loss: 0.61929, Train accuracy: 0.06300, Dev accuracy: 0.50300\n",
      "Epoch: 3, loss: 0.44487, Train accuracy: 0.06438, Dev accuracy: 0.48800\n",
      "Epoch: 3, loss: 0.75342, Train accuracy: 0.06500, Dev accuracy: 0.50500\n",
      "Epoch: 3, loss: 0.52213, Train accuracy: 0.06613, Dev accuracy: 0.51200\n",
      "Epoch: 3, loss: 0.61848, Train accuracy: 0.06713, Dev accuracy: 0.50700\n",
      "Epoch: 3, loss: 0.61346, Train accuracy: 0.06813, Dev accuracy: 0.50300\n",
      "Epoch: 3, loss: 0.56780, Train accuracy: 0.06950, Dev accuracy: 0.50700\n",
      "Epoch: 3, loss: 0.51296, Train accuracy: 0.07062, Dev accuracy: 0.50100\n",
      "Epoch: 3, loss: 0.52659, Train accuracy: 0.07162, Dev accuracy: 0.51500\n",
      "Epoch: 3, loss: 0.56525, Train accuracy: 0.07287, Dev accuracy: 0.51200\n",
      "Epoch: 3, loss: 0.45846, Train accuracy: 0.07412, Dev accuracy: 0.50800\n",
      "Epoch: 3, loss: 0.50039, Train accuracy: 0.07550, Dev accuracy: 0.51300\n",
      "Epoch: 3, loss: 0.41806, Train accuracy: 0.07687, Dev accuracy: 0.49100\n",
      "Epoch: 3, loss: 0.63282, Train accuracy: 0.07750, Dev accuracy: 0.50800\n",
      "Epoch: 3, loss: 0.56695, Train accuracy: 0.07875, Dev accuracy: 0.49600\n",
      "Epoch: 3, loss: 0.47167, Train accuracy: 0.08000, Dev accuracy: 0.48900\n",
      "Epoch: 3, loss: 0.47140, Train accuracy: 0.08113, Dev accuracy: 0.49100\n",
      "Epoch: 3, loss: 0.49579, Train accuracy: 0.08213, Dev accuracy: 0.50600\n",
      "Epoch: 3, loss: 0.65940, Train accuracy: 0.08313, Dev accuracy: 0.51100\n",
      "Epoch: 3, loss: 0.51786, Train accuracy: 0.08463, Dev accuracy: 0.50000\n",
      "Epoch: 3, loss: 0.51971, Train accuracy: 0.08588, Dev accuracy: 0.51700\n",
      "Epoch: 3, loss: 0.46367, Train accuracy: 0.08700, Dev accuracy: 0.51400\n",
      "Epoch: 3, loss: 0.60748, Train accuracy: 0.08787, Dev accuracy: 0.51000\n",
      "Epoch: 3, loss: 0.61616, Train accuracy: 0.08887, Dev accuracy: 0.50600\n",
      "Epoch: 3, loss: 0.40334, Train accuracy: 0.09025, Dev accuracy: 0.50300\n",
      "Epoch: 3, loss: 0.57446, Train accuracy: 0.09125, Dev accuracy: 0.51600\n",
      "Epoch: 3, loss: 0.45418, Train accuracy: 0.09250, Dev accuracy: 0.51000\n",
      "Epoch: 3, loss: 0.62384, Train accuracy: 0.09325, Dev accuracy: 0.50200\n",
      "Epoch: 3, loss: 0.52838, Train accuracy: 0.09438, Dev accuracy: 0.49800\n",
      "Epoch: 3, loss: 0.59867, Train accuracy: 0.09525, Dev accuracy: 0.49200\n",
      "Epoch: 3, loss: 0.55270, Train accuracy: 0.09650, Dev accuracy: 0.50900\n",
      "Epoch: 3, loss: 0.46874, Train accuracy: 0.09775, Dev accuracy: 0.50700\n",
      "Epoch: 3, loss: 0.65448, Train accuracy: 0.09888, Dev accuracy: 0.50400\n",
      "Epoch: 3, loss: 0.61046, Train accuracy: 0.09988, Dev accuracy: 0.50400\n",
      "Epoch: 3, loss: 0.44699, Train accuracy: 0.10125, Dev accuracy: 0.52000\n",
      "Epoch: 3, loss: 0.58990, Train accuracy: 0.10225, Dev accuracy: 0.51000\n",
      "Epoch: 3, loss: 0.57545, Train accuracy: 0.10325, Dev accuracy: 0.51700\n",
      "Epoch: 3, loss: 0.60956, Train accuracy: 0.10425, Dev accuracy: 0.50300\n",
      "Epoch: 3, loss: 0.36627, Train accuracy: 0.10550, Dev accuracy: 0.49900\n",
      "Epoch: 3, loss: 0.59886, Train accuracy: 0.10662, Dev accuracy: 0.51200\n",
      "Epoch: 3, loss: 0.49600, Train accuracy: 0.10787, Dev accuracy: 0.50300\n",
      "Epoch: 3, loss: 0.56855, Train accuracy: 0.10887, Dev accuracy: 0.51100\n",
      "Epoch: 3, loss: 0.49807, Train accuracy: 0.11013, Dev accuracy: 0.50700\n",
      "Epoch: 3, loss: 0.61019, Train accuracy: 0.11138, Dev accuracy: 0.50900\n",
      "Epoch: 3, loss: 0.43875, Train accuracy: 0.11275, Dev accuracy: 0.50400\n",
      "Epoch: 3, loss: 0.51095, Train accuracy: 0.11388, Dev accuracy: 0.50600\n",
      "Epoch: 3, loss: 0.48709, Train accuracy: 0.11500, Dev accuracy: 0.50400\n",
      "Epoch: 3, loss: 0.54874, Train accuracy: 0.11575, Dev accuracy: 0.51000\n",
      "Epoch: 3, loss: 0.58719, Train accuracy: 0.11675, Dev accuracy: 0.50900\n",
      "Epoch: 3, loss: 0.56746, Train accuracy: 0.11787, Dev accuracy: 0.51500\n",
      "Epoch: 3, loss: 0.50605, Train accuracy: 0.11900, Dev accuracy: 0.51500\n",
      "Epoch: 3, loss: 0.55166, Train accuracy: 0.12000, Dev accuracy: 0.51900\n",
      "Epoch: 3, loss: 0.53848, Train accuracy: 0.12125, Dev accuracy: 0.50400\n",
      "Epoch: 3, loss: 0.49937, Train accuracy: 0.12237, Dev accuracy: 0.50800\n",
      "Epoch: 3, loss: 0.60692, Train accuracy: 0.12337, Dev accuracy: 0.51400\n",
      "Epoch: 3, loss: 0.47215, Train accuracy: 0.12462, Dev accuracy: 0.52700\n",
      "Epoch: 3, loss: 0.47623, Train accuracy: 0.12587, Dev accuracy: 0.51700\n",
      "Epoch: 3, loss: 0.51522, Train accuracy: 0.12725, Dev accuracy: 0.50200\n",
      "Epoch: 3, loss: 0.51394, Train accuracy: 0.12837, Dev accuracy: 0.50700\n",
      "Epoch: 3, loss: 0.58321, Train accuracy: 0.12937, Dev accuracy: 0.50900\n",
      "Epoch: 3, loss: 0.48830, Train accuracy: 0.13075, Dev accuracy: 0.51800\n",
      "Epoch: 3, loss: 0.46263, Train accuracy: 0.13212, Dev accuracy: 0.51500\n",
      "Epoch: 3, loss: 0.58317, Train accuracy: 0.13325, Dev accuracy: 0.51100\n",
      "Epoch: 3, loss: 0.53533, Train accuracy: 0.13412, Dev accuracy: 0.50200\n",
      "Epoch: 3, loss: 0.50110, Train accuracy: 0.13512, Dev accuracy: 0.50700\n",
      "Epoch: 3, loss: 0.57113, Train accuracy: 0.13600, Dev accuracy: 0.51200\n",
      "Epoch: 3, loss: 0.57053, Train accuracy: 0.13712, Dev accuracy: 0.51500\n",
      "Epoch: 3, loss: 0.53787, Train accuracy: 0.13825, Dev accuracy: 0.51800\n",
      "Epoch: 3, loss: 0.44251, Train accuracy: 0.13950, Dev accuracy: 0.52200\n",
      "Epoch: 3, loss: 0.59693, Train accuracy: 0.14037, Dev accuracy: 0.51400\n",
      "Epoch: 3, loss: 0.52077, Train accuracy: 0.14175, Dev accuracy: 0.51200\n",
      "Epoch: 3, loss: 0.45047, Train accuracy: 0.14313, Dev accuracy: 0.51100\n",
      "Epoch: 3, loss: 0.53176, Train accuracy: 0.14425, Dev accuracy: 0.51500\n",
      "Epoch: 3, loss: 0.46215, Train accuracy: 0.14575, Dev accuracy: 0.50900\n",
      "Epoch: 3, loss: 0.58316, Train accuracy: 0.14700, Dev accuracy: 0.47800\n",
      "Epoch: 3, loss: 0.48198, Train accuracy: 0.14825, Dev accuracy: 0.48300\n",
      "Epoch: 3, loss: 0.57244, Train accuracy: 0.14913, Dev accuracy: 0.49500\n",
      "Epoch: 3, loss: 0.49352, Train accuracy: 0.15025, Dev accuracy: 0.48400\n",
      "Epoch: 3, loss: 0.56285, Train accuracy: 0.15138, Dev accuracy: 0.49100\n",
      "Epoch: 3, loss: 0.63652, Train accuracy: 0.15238, Dev accuracy: 0.49600\n",
      "Epoch: 3, loss: 0.41640, Train accuracy: 0.15363, Dev accuracy: 0.48900\n",
      "Epoch: 3, loss: 0.60647, Train accuracy: 0.15450, Dev accuracy: 0.51100\n",
      "Epoch: 3, loss: 0.53035, Train accuracy: 0.15563, Dev accuracy: 0.51000\n",
      "Epoch: 3, loss: 0.54613, Train accuracy: 0.15675, Dev accuracy: 0.50400\n",
      "Epoch: 3, loss: 0.56515, Train accuracy: 0.15787, Dev accuracy: 0.51400\n",
      "Epoch: 3, loss: 0.49841, Train accuracy: 0.15900, Dev accuracy: 0.51800\n",
      "Epoch: 3, loss: 0.50723, Train accuracy: 0.16012, Dev accuracy: 0.51300\n",
      "Epoch: 3, loss: 0.61499, Train accuracy: 0.16112, Dev accuracy: 0.49800\n",
      "Epoch: 3, loss: 0.61837, Train accuracy: 0.16212, Dev accuracy: 0.51100\n",
      "Epoch: 3, loss: 0.48578, Train accuracy: 0.16325, Dev accuracy: 0.51000\n",
      "Epoch: 3, loss: 0.50739, Train accuracy: 0.16450, Dev accuracy: 0.50400\n",
      "Epoch: 3, loss: 0.54937, Train accuracy: 0.16562, Dev accuracy: 0.49900\n",
      "Epoch: 3, loss: 0.37153, Train accuracy: 0.16700, Dev accuracy: 0.51200\n",
      "Epoch: 3, loss: 0.61438, Train accuracy: 0.16812, Dev accuracy: 0.49800\n",
      "Epoch: 3, loss: 0.61064, Train accuracy: 0.16875, Dev accuracy: 0.52200\n",
      "Epoch: 3, loss: 0.44918, Train accuracy: 0.17000, Dev accuracy: 0.51400\n",
      "Epoch: 3, loss: 0.62613, Train accuracy: 0.17112, Dev accuracy: 0.49900\n",
      "Epoch: 3, loss: 0.58589, Train accuracy: 0.17213, Dev accuracy: 0.49800\n",
      "Epoch: 3, loss: 0.52998, Train accuracy: 0.17325, Dev accuracy: 0.50400\n",
      "Epoch: 3, loss: 0.56077, Train accuracy: 0.17438, Dev accuracy: 0.50400\n",
      "Epoch: 3, loss: 0.59095, Train accuracy: 0.17538, Dev accuracy: 0.50600\n",
      "Epoch: 3, loss: 0.52060, Train accuracy: 0.17650, Dev accuracy: 0.50300\n",
      "Epoch: 3, loss: 0.56152, Train accuracy: 0.17750, Dev accuracy: 0.50800\n",
      "Epoch: 3, loss: 0.58373, Train accuracy: 0.17850, Dev accuracy: 0.50400\n",
      "Epoch: 3, loss: 0.55555, Train accuracy: 0.17975, Dev accuracy: 0.49900\n",
      "Epoch: 3, loss: 0.54252, Train accuracy: 0.18113, Dev accuracy: 0.50800\n",
      "Epoch: 3, loss: 0.52888, Train accuracy: 0.18225, Dev accuracy: 0.50500\n",
      "Epoch: 3, loss: 0.53643, Train accuracy: 0.18338, Dev accuracy: 0.51600\n",
      "Epoch: 3, loss: 0.63495, Train accuracy: 0.18413, Dev accuracy: 0.50800\n",
      "Epoch: 3, loss: 0.61839, Train accuracy: 0.18525, Dev accuracy: 0.50600\n",
      "Epoch: 3, loss: 0.51156, Train accuracy: 0.18638, Dev accuracy: 0.49600\n",
      "Epoch: 3, loss: 0.43519, Train accuracy: 0.18762, Dev accuracy: 0.51500\n",
      "Epoch: 3, loss: 0.39738, Train accuracy: 0.18900, Dev accuracy: 0.50400\n",
      "Epoch: 3, loss: 0.57506, Train accuracy: 0.19000, Dev accuracy: 0.49900\n",
      "Epoch: 3, loss: 0.49362, Train accuracy: 0.19112, Dev accuracy: 0.50600\n",
      "Epoch: 3, loss: 0.48356, Train accuracy: 0.19250, Dev accuracy: 0.50400\n",
      "Epoch: 3, loss: 0.48447, Train accuracy: 0.19362, Dev accuracy: 0.50600\n",
      "Epoch: 3, loss: 0.43552, Train accuracy: 0.19500, Dev accuracy: 0.50400\n",
      "Epoch: 3, loss: 0.41242, Train accuracy: 0.19637, Dev accuracy: 0.50400\n",
      "Epoch: 3, loss: 0.45374, Train accuracy: 0.19787, Dev accuracy: 0.50200\n",
      "Epoch: 3, loss: 0.58935, Train accuracy: 0.19875, Dev accuracy: 0.50900\n",
      "Epoch: 3, loss: 0.49179, Train accuracy: 0.19987, Dev accuracy: 0.50100\n",
      "Epoch: 3, loss: 0.46974, Train accuracy: 0.20112, Dev accuracy: 0.50200\n",
      "Epoch: 3, loss: 0.50846, Train accuracy: 0.20225, Dev accuracy: 0.49600\n",
      "Epoch: 3, loss: 0.63925, Train accuracy: 0.20338, Dev accuracy: 0.50000\n",
      "Epoch: 3, loss: 0.45375, Train accuracy: 0.20450, Dev accuracy: 0.50400\n",
      "Epoch: 3, loss: 0.49497, Train accuracy: 0.20575, Dev accuracy: 0.50000\n",
      "Epoch: 3, loss: 0.37646, Train accuracy: 0.20700, Dev accuracy: 0.49600\n",
      "Epoch: 3, loss: 0.51920, Train accuracy: 0.20813, Dev accuracy: 0.49800\n",
      "Epoch: 3, loss: 0.51915, Train accuracy: 0.20938, Dev accuracy: 0.50900\n",
      "Epoch: 3, loss: 0.57775, Train accuracy: 0.21050, Dev accuracy: 0.49800\n",
      "Epoch: 3, loss: 0.63167, Train accuracy: 0.21150, Dev accuracy: 0.51300\n",
      "Epoch: 3, loss: 0.49852, Train accuracy: 0.21250, Dev accuracy: 0.49700\n",
      "Epoch: 3, loss: 0.41087, Train accuracy: 0.21400, Dev accuracy: 0.50500\n",
      "Epoch: 3, loss: 0.48892, Train accuracy: 0.21538, Dev accuracy: 0.50400\n",
      "Epoch: 3, loss: 0.54971, Train accuracy: 0.21675, Dev accuracy: 0.49500\n",
      "Epoch: 3, loss: 0.46974, Train accuracy: 0.21800, Dev accuracy: 0.50900\n",
      "Epoch: 3, loss: 0.50432, Train accuracy: 0.21912, Dev accuracy: 0.48900\n",
      "Epoch: 3, loss: 0.60700, Train accuracy: 0.22012, Dev accuracy: 0.48900\n",
      "Epoch: 3, loss: 0.51864, Train accuracy: 0.22125, Dev accuracy: 0.49500\n",
      "Epoch: 3, loss: 0.77301, Train accuracy: 0.22200, Dev accuracy: 0.49500\n",
      "Epoch: 3, loss: 0.55088, Train accuracy: 0.22325, Dev accuracy: 0.49400\n",
      "Epoch: 3, loss: 0.52120, Train accuracy: 0.22450, Dev accuracy: 0.49100\n",
      "Epoch: 3, loss: 0.48853, Train accuracy: 0.22587, Dev accuracy: 0.48700\n",
      "Epoch: 3, loss: 0.49833, Train accuracy: 0.22700, Dev accuracy: 0.51100\n",
      "Epoch: 3, loss: 0.60067, Train accuracy: 0.22787, Dev accuracy: 0.51500\n",
      "Epoch: 3, loss: 0.57634, Train accuracy: 0.22887, Dev accuracy: 0.49900\n",
      "Epoch: 3, loss: 0.48448, Train accuracy: 0.23000, Dev accuracy: 0.49200\n",
      "Epoch: 3, loss: 0.50599, Train accuracy: 0.23125, Dev accuracy: 0.50100\n",
      "Epoch: 3, loss: 0.60822, Train accuracy: 0.23225, Dev accuracy: 0.50800\n",
      "Epoch: 3, loss: 0.53676, Train accuracy: 0.23350, Dev accuracy: 0.50800\n",
      "Epoch: 3, loss: 0.47997, Train accuracy: 0.23475, Dev accuracy: 0.50800\n",
      "Epoch: 3, loss: 0.64029, Train accuracy: 0.23550, Dev accuracy: 0.50600\n",
      "Epoch: 3, loss: 0.47982, Train accuracy: 0.23663, Dev accuracy: 0.50400\n",
      "Epoch: 3, loss: 0.66876, Train accuracy: 0.23738, Dev accuracy: 0.51100\n",
      "Epoch: 3, loss: 0.51555, Train accuracy: 0.23875, Dev accuracy: 0.50300\n",
      "Epoch: 3, loss: 0.56807, Train accuracy: 0.23975, Dev accuracy: 0.50700\n",
      "Epoch: 3, loss: 0.61284, Train accuracy: 0.24088, Dev accuracy: 0.50600\n",
      "Epoch: 3, loss: 0.55951, Train accuracy: 0.24175, Dev accuracy: 0.51000\n",
      "Epoch: 3, loss: 0.53238, Train accuracy: 0.24288, Dev accuracy: 0.50600\n",
      "Epoch: 3, loss: 0.49252, Train accuracy: 0.24438, Dev accuracy: 0.50500\n",
      "Epoch: 3, loss: 0.40427, Train accuracy: 0.24563, Dev accuracy: 0.51400\n",
      "Epoch: 3, loss: 0.56578, Train accuracy: 0.24675, Dev accuracy: 0.50400\n",
      "Epoch: 3, loss: 0.45365, Train accuracy: 0.24800, Dev accuracy: 0.51200\n",
      "Epoch: 3, loss: 0.68417, Train accuracy: 0.24888, Dev accuracy: 0.51300\n",
      "Epoch: 3, loss: 0.50958, Train accuracy: 0.25012, Dev accuracy: 0.50500\n",
      "Epoch: 3, loss: 0.64709, Train accuracy: 0.25112, Dev accuracy: 0.50200\n",
      "Epoch: 3, loss: 0.56081, Train accuracy: 0.25212, Dev accuracy: 0.50700\n",
      "Epoch: 3, loss: 0.47147, Train accuracy: 0.25338, Dev accuracy: 0.49700\n",
      "Epoch: 3, loss: 0.42186, Train accuracy: 0.25462, Dev accuracy: 0.49800\n",
      "Epoch: 3, loss: 0.46151, Train accuracy: 0.25575, Dev accuracy: 0.49800\n",
      "Epoch: 3, loss: 0.37067, Train accuracy: 0.25700, Dev accuracy: 0.49700\n",
      "Epoch: 3, loss: 0.48781, Train accuracy: 0.25838, Dev accuracy: 0.49100\n",
      "Epoch: 3, loss: 0.75169, Train accuracy: 0.25888, Dev accuracy: 0.50900\n",
      "Epoch: 3, loss: 0.45082, Train accuracy: 0.26012, Dev accuracy: 0.49400\n",
      "Epoch: 3, loss: 0.46826, Train accuracy: 0.26150, Dev accuracy: 0.50300\n",
      "Epoch: 3, loss: 0.48150, Train accuracy: 0.26275, Dev accuracy: 0.50500\n",
      "Epoch: 3, loss: 0.56933, Train accuracy: 0.26362, Dev accuracy: 0.49100\n",
      "Epoch: 3, loss: 0.51836, Train accuracy: 0.26512, Dev accuracy: 0.49700\n",
      "Epoch: 3, loss: 0.48743, Train accuracy: 0.26637, Dev accuracy: 0.49500\n",
      "Epoch: 3, loss: 0.48728, Train accuracy: 0.26775, Dev accuracy: 0.49200\n",
      "Epoch: 3, loss: 0.53799, Train accuracy: 0.26900, Dev accuracy: 0.49300\n",
      "Epoch: 3, loss: 0.51771, Train accuracy: 0.27025, Dev accuracy: 0.50000\n",
      "Epoch: 3, loss: 0.61125, Train accuracy: 0.27163, Dev accuracy: 0.49800\n",
      "Epoch: 3, loss: 0.51278, Train accuracy: 0.27287, Dev accuracy: 0.50800\n",
      "Epoch: 3, loss: 0.42521, Train accuracy: 0.27413, Dev accuracy: 0.51200\n",
      "Epoch: 3, loss: 0.57234, Train accuracy: 0.27513, Dev accuracy: 0.50200\n",
      "Epoch: 3, loss: 0.43312, Train accuracy: 0.27637, Dev accuracy: 0.49300\n",
      "Epoch: 3, loss: 0.82818, Train accuracy: 0.27713, Dev accuracy: 0.50300\n",
      "Epoch: 3, loss: 0.50736, Train accuracy: 0.27837, Dev accuracy: 0.49600\n",
      "Epoch: 3, loss: 0.52270, Train accuracy: 0.27950, Dev accuracy: 0.49500\n",
      "Epoch: 3, loss: 0.47065, Train accuracy: 0.28087, Dev accuracy: 0.49600\n",
      "Epoch: 3, loss: 0.42811, Train accuracy: 0.28225, Dev accuracy: 0.49100\n",
      "Epoch: 3, loss: 0.51306, Train accuracy: 0.28350, Dev accuracy: 0.49900\n",
      "Epoch: 3, loss: 0.53729, Train accuracy: 0.28463, Dev accuracy: 0.50200\n",
      "Epoch: 3, loss: 0.59031, Train accuracy: 0.28575, Dev accuracy: 0.49600\n",
      "Epoch: 3, loss: 0.54198, Train accuracy: 0.28700, Dev accuracy: 0.49700\n",
      "Epoch: 3, loss: 0.46880, Train accuracy: 0.28837, Dev accuracy: 0.49600\n",
      "Epoch: 3, loss: 0.58184, Train accuracy: 0.28900, Dev accuracy: 0.50400\n",
      "Epoch: 3, loss: 0.51424, Train accuracy: 0.29037, Dev accuracy: 0.50100\n",
      "Epoch: 3, loss: 0.48470, Train accuracy: 0.29150, Dev accuracy: 0.51200\n",
      "Epoch: 3, loss: 0.59406, Train accuracy: 0.29263, Dev accuracy: 0.51000\n",
      "Epoch: 3, loss: 0.41699, Train accuracy: 0.29387, Dev accuracy: 0.50900\n",
      "Epoch: 3, loss: 0.43534, Train accuracy: 0.29525, Dev accuracy: 0.49700\n",
      "Epoch: 3, loss: 0.48140, Train accuracy: 0.29650, Dev accuracy: 0.49200\n",
      "Epoch: 3, loss: 0.44190, Train accuracy: 0.29775, Dev accuracy: 0.51000\n",
      "Epoch: 3, loss: 0.48377, Train accuracy: 0.29888, Dev accuracy: 0.49800\n",
      "Epoch: 3, loss: 0.60444, Train accuracy: 0.29962, Dev accuracy: 0.49900\n",
      "Epoch: 3, loss: 0.55592, Train accuracy: 0.30062, Dev accuracy: 0.50600\n",
      "Epoch: 3, loss: 0.58719, Train accuracy: 0.30150, Dev accuracy: 0.51600\n",
      "Epoch: 3, loss: 0.38672, Train accuracy: 0.30288, Dev accuracy: 0.51000\n",
      "Epoch: 3, loss: 0.54425, Train accuracy: 0.30388, Dev accuracy: 0.50700\n",
      "Epoch: 3, loss: 0.50737, Train accuracy: 0.30512, Dev accuracy: 0.50800\n",
      "Epoch: 3, loss: 0.42347, Train accuracy: 0.30662, Dev accuracy: 0.51100\n",
      "Epoch: 3, loss: 0.36137, Train accuracy: 0.30788, Dev accuracy: 0.51300\n",
      "Epoch: 3, loss: 0.56738, Train accuracy: 0.30900, Dev accuracy: 0.50100\n",
      "Epoch: 3, loss: 0.40550, Train accuracy: 0.31038, Dev accuracy: 0.49700\n",
      "Epoch: 3, loss: 0.72900, Train accuracy: 0.31100, Dev accuracy: 0.50700\n",
      "Epoch: 3, loss: 0.46882, Train accuracy: 0.31238, Dev accuracy: 0.50300\n",
      "Epoch: 3, loss: 0.49857, Train accuracy: 0.31375, Dev accuracy: 0.49900\n",
      "Epoch: 3, loss: 0.45247, Train accuracy: 0.31512, Dev accuracy: 0.51800\n",
      "Epoch: 3, loss: 0.51447, Train accuracy: 0.31612, Dev accuracy: 0.50600\n",
      "Epoch: 3, loss: 0.64401, Train accuracy: 0.31688, Dev accuracy: 0.52300\n",
      "Epoch: 3, loss: 0.49805, Train accuracy: 0.31812, Dev accuracy: 0.51000\n",
      "Epoch: 3, loss: 0.46946, Train accuracy: 0.31938, Dev accuracy: 0.50900\n",
      "Epoch: 3, loss: 0.50393, Train accuracy: 0.32038, Dev accuracy: 0.51000\n",
      "Epoch: 3, loss: 0.54943, Train accuracy: 0.32138, Dev accuracy: 0.51100\n",
      "Epoch: 3, loss: 0.63105, Train accuracy: 0.32225, Dev accuracy: 0.51000\n",
      "Epoch: 3, loss: 0.50252, Train accuracy: 0.32350, Dev accuracy: 0.50700\n",
      "Epoch: 3, loss: 0.48275, Train accuracy: 0.32475, Dev accuracy: 0.51500\n",
      "Epoch: 3, loss: 0.54226, Train accuracy: 0.32562, Dev accuracy: 0.50600\n",
      "Epoch: 3, loss: 0.52557, Train accuracy: 0.32688, Dev accuracy: 0.51400\n",
      "Epoch: 3, loss: 0.67755, Train accuracy: 0.32788, Dev accuracy: 0.50900\n",
      "Epoch: 3, loss: 0.50112, Train accuracy: 0.32900, Dev accuracy: 0.51400\n",
      "Epoch: 3, loss: 0.59551, Train accuracy: 0.33000, Dev accuracy: 0.50600\n",
      "Epoch: 3, loss: 0.51451, Train accuracy: 0.33125, Dev accuracy: 0.51300\n",
      "Epoch: 3, loss: 0.60089, Train accuracy: 0.33237, Dev accuracy: 0.51000\n",
      "Epoch: 3, loss: 0.54353, Train accuracy: 0.33350, Dev accuracy: 0.50800\n",
      "Epoch: 3, loss: 0.31080, Train accuracy: 0.33500, Dev accuracy: 0.50500\n",
      "Epoch: 3, loss: 0.46460, Train accuracy: 0.33600, Dev accuracy: 0.50400\n",
      "Epoch: 3, loss: 0.56401, Train accuracy: 0.33700, Dev accuracy: 0.51400\n",
      "Epoch: 3, loss: 0.54454, Train accuracy: 0.33800, Dev accuracy: 0.51700\n",
      "Epoch: 3, loss: 0.46282, Train accuracy: 0.33913, Dev accuracy: 0.51600\n",
      "Epoch: 3, loss: 0.38726, Train accuracy: 0.34050, Dev accuracy: 0.51300\n",
      "Epoch: 3, loss: 0.49492, Train accuracy: 0.34175, Dev accuracy: 0.50700\n",
      "Epoch: 3, loss: 0.55104, Train accuracy: 0.34263, Dev accuracy: 0.50700\n",
      "Epoch: 3, loss: 0.46143, Train accuracy: 0.34363, Dev accuracy: 0.51300\n",
      "Epoch: 3, loss: 0.45331, Train accuracy: 0.34475, Dev accuracy: 0.52100\n",
      "Epoch: 3, loss: 0.57284, Train accuracy: 0.34587, Dev accuracy: 0.51000\n",
      "Epoch: 3, loss: 0.46197, Train accuracy: 0.34713, Dev accuracy: 0.51200\n",
      "Epoch: 3, loss: 0.46779, Train accuracy: 0.34850, Dev accuracy: 0.51300\n",
      "Epoch: 3, loss: 0.50703, Train accuracy: 0.34975, Dev accuracy: 0.53200\n",
      "Epoch: 3, loss: 0.44692, Train accuracy: 0.35113, Dev accuracy: 0.51200\n",
      "Epoch: 3, loss: 0.72367, Train accuracy: 0.35213, Dev accuracy: 0.49900\n",
      "Epoch: 3, loss: 0.44714, Train accuracy: 0.35337, Dev accuracy: 0.48900\n",
      "Epoch: 3, loss: 0.51082, Train accuracy: 0.35437, Dev accuracy: 0.50500\n",
      "Epoch: 3, loss: 0.39199, Train accuracy: 0.35587, Dev accuracy: 0.51500\n",
      "Epoch: 3, loss: 0.43503, Train accuracy: 0.35713, Dev accuracy: 0.51000\n",
      "Epoch: 3, loss: 0.46095, Train accuracy: 0.35825, Dev accuracy: 0.52300\n",
      "Epoch: 3, loss: 0.54463, Train accuracy: 0.35938, Dev accuracy: 0.51400\n",
      "Epoch: 3, loss: 0.40599, Train accuracy: 0.36062, Dev accuracy: 0.51200\n",
      "Epoch: 3, loss: 0.53286, Train accuracy: 0.36175, Dev accuracy: 0.49200\n",
      "Epoch: 3, loss: 0.50017, Train accuracy: 0.36288, Dev accuracy: 0.51400\n",
      "Epoch: 3, loss: 0.51185, Train accuracy: 0.36388, Dev accuracy: 0.51900\n",
      "Epoch: 3, loss: 0.40842, Train accuracy: 0.36525, Dev accuracy: 0.48700\n",
      "Epoch: 3, loss: 0.47766, Train accuracy: 0.36638, Dev accuracy: 0.49200\n",
      "Epoch: 3, loss: 0.51315, Train accuracy: 0.36750, Dev accuracy: 0.50000\n",
      "Epoch: 3, loss: 0.49611, Train accuracy: 0.36862, Dev accuracy: 0.48600\n",
      "Epoch: 3, loss: 0.49403, Train accuracy: 0.36988, Dev accuracy: 0.51600\n",
      "Epoch: 3, loss: 0.45807, Train accuracy: 0.37112, Dev accuracy: 0.51300\n",
      "Epoch: 3, loss: 0.59165, Train accuracy: 0.37225, Dev accuracy: 0.51900\n",
      "Epoch: 3, loss: 0.43452, Train accuracy: 0.37362, Dev accuracy: 0.52200\n",
      "Epoch: 3, loss: 0.44868, Train accuracy: 0.37488, Dev accuracy: 0.51800\n",
      "Epoch: 3, loss: 0.52042, Train accuracy: 0.37600, Dev accuracy: 0.51700\n",
      "Epoch: 3, loss: 0.57293, Train accuracy: 0.37712, Dev accuracy: 0.50700\n",
      "Epoch: 3, loss: 0.49249, Train accuracy: 0.37838, Dev accuracy: 0.51200\n",
      "Epoch: 3, loss: 0.48389, Train accuracy: 0.37962, Dev accuracy: 0.52500\n",
      "Epoch: 3, loss: 0.51367, Train accuracy: 0.38088, Dev accuracy: 0.51800\n",
      "Epoch: 3, loss: 0.56943, Train accuracy: 0.38200, Dev accuracy: 0.51100\n",
      "Epoch: 3, loss: 0.39613, Train accuracy: 0.38350, Dev accuracy: 0.52700\n",
      "Epoch: 3, loss: 0.52013, Train accuracy: 0.38450, Dev accuracy: 0.50600\n",
      "Epoch: 3, loss: 0.45847, Train accuracy: 0.38575, Dev accuracy: 0.52000\n",
      "Epoch: 3, loss: 0.67135, Train accuracy: 0.38625, Dev accuracy: 0.52900\n",
      "Epoch: 3, loss: 0.40858, Train accuracy: 0.38750, Dev accuracy: 0.52600\n",
      "Epoch: 3, loss: 0.42459, Train accuracy: 0.38888, Dev accuracy: 0.51500\n",
      "Epoch: 3, loss: 0.50761, Train accuracy: 0.39000, Dev accuracy: 0.50200\n",
      "Epoch: 3, loss: 0.39985, Train accuracy: 0.39137, Dev accuracy: 0.50900\n",
      "Epoch: 3, loss: 0.39184, Train accuracy: 0.39250, Dev accuracy: 0.48500\n",
      "Epoch: 3, loss: 0.58743, Train accuracy: 0.39337, Dev accuracy: 0.51100\n",
      "Epoch: 3, loss: 0.60246, Train accuracy: 0.39450, Dev accuracy: 0.48400\n",
      "Epoch: 3, loss: 0.51154, Train accuracy: 0.39575, Dev accuracy: 0.48800\n",
      "Epoch: 3, loss: 0.59207, Train accuracy: 0.39700, Dev accuracy: 0.48100\n",
      "Epoch: 3, loss: 0.45201, Train accuracy: 0.39800, Dev accuracy: 0.49400\n",
      "Epoch: 3, loss: 0.44465, Train accuracy: 0.39950, Dev accuracy: 0.50900\n",
      "Epoch: 3, loss: 0.40224, Train accuracy: 0.40087, Dev accuracy: 0.49900\n",
      "Epoch: 3, loss: 0.46596, Train accuracy: 0.40200, Dev accuracy: 0.50500\n",
      "Epoch: 3, loss: 0.40107, Train accuracy: 0.40350, Dev accuracy: 0.49800\n",
      "Epoch: 3, loss: 0.39243, Train accuracy: 0.40487, Dev accuracy: 0.50500\n",
      "Epoch: 3, loss: 0.53246, Train accuracy: 0.40600, Dev accuracy: 0.50100\n",
      "Epoch: 3, loss: 0.52490, Train accuracy: 0.40713, Dev accuracy: 0.48500\n",
      "Epoch: 3, loss: 0.41853, Train accuracy: 0.40850, Dev accuracy: 0.50000\n",
      "Epoch: 3, loss: 0.47901, Train accuracy: 0.40975, Dev accuracy: 0.50000\n",
      "Epoch: 3, loss: 0.47573, Train accuracy: 0.41113, Dev accuracy: 0.49800\n",
      "Epoch: 3, loss: 0.46092, Train accuracy: 0.41250, Dev accuracy: 0.49300\n",
      "Epoch: 3, loss: 0.53834, Train accuracy: 0.41350, Dev accuracy: 0.49100\n",
      "Epoch: 3, loss: 0.50285, Train accuracy: 0.41450, Dev accuracy: 0.49300\n",
      "Epoch: 3, loss: 0.60260, Train accuracy: 0.41513, Dev accuracy: 0.50100\n",
      "Epoch: 3, loss: 0.43033, Train accuracy: 0.41637, Dev accuracy: 0.51700\n",
      "Epoch: 3, loss: 0.46642, Train accuracy: 0.41750, Dev accuracy: 0.51800\n",
      "Epoch: 3, loss: 0.37856, Train accuracy: 0.41900, Dev accuracy: 0.51000\n",
      "Epoch: 3, loss: 0.50881, Train accuracy: 0.42013, Dev accuracy: 0.50700\n",
      "Epoch: 3, loss: 0.61333, Train accuracy: 0.42113, Dev accuracy: 0.49800\n",
      "Epoch: 3, loss: 0.50576, Train accuracy: 0.42225, Dev accuracy: 0.51100\n",
      "Epoch: 3, loss: 0.40877, Train accuracy: 0.42350, Dev accuracy: 0.50800\n",
      "Epoch: 3, loss: 0.48056, Train accuracy: 0.42462, Dev accuracy: 0.50800\n",
      "Epoch: 3, loss: 0.51711, Train accuracy: 0.42588, Dev accuracy: 0.51600\n",
      "Epoch: 3, loss: 0.48089, Train accuracy: 0.42725, Dev accuracy: 0.51800\n",
      "Epoch: 3, loss: 0.47787, Train accuracy: 0.42838, Dev accuracy: 0.51500\n",
      "Epoch: 3, loss: 0.40686, Train accuracy: 0.42962, Dev accuracy: 0.50400\n",
      "Epoch: 3, loss: 0.35314, Train accuracy: 0.43100, Dev accuracy: 0.51300\n",
      "Epoch: 3, loss: 0.49470, Train accuracy: 0.43200, Dev accuracy: 0.51000\n",
      "Epoch: 3, loss: 0.63460, Train accuracy: 0.43275, Dev accuracy: 0.51800\n",
      "Epoch: 3, loss: 0.48466, Train accuracy: 0.43400, Dev accuracy: 0.51700\n",
      "Epoch: 3, loss: 0.48207, Train accuracy: 0.43525, Dev accuracy: 0.51900\n",
      "Epoch: 3, loss: 0.51998, Train accuracy: 0.43638, Dev accuracy: 0.50800\n",
      "Epoch: 3, loss: 0.43321, Train accuracy: 0.43750, Dev accuracy: 0.50800\n",
      "Epoch: 3, loss: 0.53327, Train accuracy: 0.43862, Dev accuracy: 0.50900\n",
      "Epoch: 3, loss: 0.53739, Train accuracy: 0.43975, Dev accuracy: 0.50100\n",
      "Epoch: 3, loss: 0.60758, Train accuracy: 0.44075, Dev accuracy: 0.51100\n",
      "Epoch: 3, loss: 0.41645, Train accuracy: 0.44200, Dev accuracy: 0.51000\n",
      "Epoch: 3, loss: 0.37545, Train accuracy: 0.44338, Dev accuracy: 0.51300\n",
      "Epoch: 3, loss: 0.56655, Train accuracy: 0.44438, Dev accuracy: 0.48500\n",
      "Epoch: 3, loss: 0.53866, Train accuracy: 0.44550, Dev accuracy: 0.49500\n",
      "Epoch: 3, loss: 0.65644, Train accuracy: 0.44638, Dev accuracy: 0.50500\n",
      "Epoch: 3, loss: 0.55498, Train accuracy: 0.44762, Dev accuracy: 0.50300\n",
      "Epoch: 3, loss: 0.62452, Train accuracy: 0.44862, Dev accuracy: 0.50900\n",
      "Epoch: 3, loss: 0.57008, Train accuracy: 0.44950, Dev accuracy: 0.51000\n",
      "Epoch: 3, loss: 0.52213, Train accuracy: 0.45062, Dev accuracy: 0.50500\n",
      "Epoch: 3, loss: 0.69890, Train accuracy: 0.45150, Dev accuracy: 0.51000\n",
      "Epoch: 3, loss: 0.41909, Train accuracy: 0.45288, Dev accuracy: 0.51200\n",
      "Epoch: 3, loss: 0.55236, Train accuracy: 0.45400, Dev accuracy: 0.51200\n",
      "Epoch: 3, loss: 0.47481, Train accuracy: 0.45513, Dev accuracy: 0.51900\n",
      "Epoch: 3, loss: 0.50797, Train accuracy: 0.45600, Dev accuracy: 0.49800\n",
      "Epoch: 3, loss: 0.42003, Train accuracy: 0.45713, Dev accuracy: 0.48700\n",
      "Epoch: 3, loss: 0.49774, Train accuracy: 0.45813, Dev accuracy: 0.51100\n",
      "Epoch: 3, loss: 0.51216, Train accuracy: 0.45913, Dev accuracy: 0.52100\n",
      "Epoch: 3, loss: 0.61602, Train accuracy: 0.46000, Dev accuracy: 0.51700\n",
      "Epoch: 3, loss: 0.47731, Train accuracy: 0.46100, Dev accuracy: 0.51300\n",
      "Epoch: 3, loss: 0.52074, Train accuracy: 0.46200, Dev accuracy: 0.51500\n",
      "Epoch: 3, loss: 0.52003, Train accuracy: 0.46325, Dev accuracy: 0.51400\n",
      "Epoch: 3, loss: 0.54363, Train accuracy: 0.46450, Dev accuracy: 0.51600\n",
      "Epoch: 3, loss: 0.34388, Train accuracy: 0.46587, Dev accuracy: 0.50600\n",
      "Epoch: 3, loss: 0.56598, Train accuracy: 0.46675, Dev accuracy: 0.51300\n",
      "Epoch: 3, loss: 0.48707, Train accuracy: 0.46800, Dev accuracy: 0.51100\n",
      "Epoch: 3, loss: 0.56864, Train accuracy: 0.46887, Dev accuracy: 0.51800\n",
      "Epoch: 3, loss: 0.51173, Train accuracy: 0.47000, Dev accuracy: 0.51200\n",
      "Epoch: 3, loss: 0.53762, Train accuracy: 0.47100, Dev accuracy: 0.51100\n",
      "Epoch: 3, loss: 0.54838, Train accuracy: 0.47200, Dev accuracy: 0.51600\n",
      "Epoch: 3, loss: 0.61278, Train accuracy: 0.47325, Dev accuracy: 0.51400\n",
      "Epoch: 3, loss: 0.66531, Train accuracy: 0.47400, Dev accuracy: 0.51500\n",
      "Epoch: 3, loss: 0.56768, Train accuracy: 0.47513, Dev accuracy: 0.51100\n",
      "Epoch: 3, loss: 0.55481, Train accuracy: 0.47587, Dev accuracy: 0.52100\n",
      "Epoch: 3, loss: 0.41913, Train accuracy: 0.47713, Dev accuracy: 0.52000\n",
      "Epoch: 3, loss: 0.49165, Train accuracy: 0.47825, Dev accuracy: 0.51600\n",
      "Epoch: 3, loss: 0.54097, Train accuracy: 0.47950, Dev accuracy: 0.50200\n",
      "Epoch: 3, loss: 0.44334, Train accuracy: 0.48075, Dev accuracy: 0.51300\n",
      "Epoch: 3, loss: 0.45943, Train accuracy: 0.48200, Dev accuracy: 0.52100\n",
      "Epoch: 3, loss: 0.57346, Train accuracy: 0.48287, Dev accuracy: 0.50900\n",
      "Epoch: 3, loss: 0.34668, Train accuracy: 0.48425, Dev accuracy: 0.51200\n",
      "Epoch: 3, loss: 0.60089, Train accuracy: 0.48525, Dev accuracy: 0.51800\n",
      "Epoch: 3, loss: 0.35825, Train accuracy: 0.48675, Dev accuracy: 0.51500\n",
      "Epoch: 3, loss: 0.60187, Train accuracy: 0.48788, Dev accuracy: 0.51200\n",
      "Epoch: 3, loss: 0.59167, Train accuracy: 0.48900, Dev accuracy: 0.50500\n",
      "Epoch: 3, loss: 0.52576, Train accuracy: 0.49000, Dev accuracy: 0.49900\n",
      "Epoch: 3, loss: 0.51512, Train accuracy: 0.49125, Dev accuracy: 0.49900\n",
      "Epoch: 3, loss: 0.47488, Train accuracy: 0.49250, Dev accuracy: 0.50500\n",
      "Epoch: 3, loss: 0.45556, Train accuracy: 0.49362, Dev accuracy: 0.50500\n",
      "Epoch: 3, loss: 0.64342, Train accuracy: 0.49438, Dev accuracy: 0.49500\n",
      "Epoch: 3, loss: 0.46131, Train accuracy: 0.49550, Dev accuracy: 0.49700\n",
      "Epoch: 3, loss: 0.44950, Train accuracy: 0.49688, Dev accuracy: 0.50900\n",
      "Epoch: 3, loss: 0.55145, Train accuracy: 0.49812, Dev accuracy: 0.50200\n",
      "Epoch: 3, loss: 0.58906, Train accuracy: 0.49912, Dev accuracy: 0.51300\n",
      "Epoch: 3, loss: 0.62633, Train accuracy: 0.49988, Dev accuracy: 0.50300\n",
      "Epoch: 3, loss: 0.60848, Train accuracy: 0.50100, Dev accuracy: 0.49300\n",
      "Epoch: 3, loss: 0.78783, Train accuracy: 0.50175, Dev accuracy: 0.50800\n",
      "Epoch: 3, loss: 0.56080, Train accuracy: 0.50287, Dev accuracy: 0.50400\n",
      "Epoch: 3, loss: 0.34151, Train accuracy: 0.50425, Dev accuracy: 0.50200\n",
      "Epoch: 3, loss: 0.50648, Train accuracy: 0.50538, Dev accuracy: 0.50600\n",
      "Epoch: 3, loss: 0.51374, Train accuracy: 0.50625, Dev accuracy: 0.50700\n",
      "Epoch: 3, loss: 0.50377, Train accuracy: 0.50750, Dev accuracy: 0.50600\n",
      "Epoch: 3, loss: 0.53110, Train accuracy: 0.50862, Dev accuracy: 0.50100\n",
      "Epoch: 3, loss: 0.50347, Train accuracy: 0.50975, Dev accuracy: 0.49600\n",
      "Epoch: 3, loss: 0.54767, Train accuracy: 0.51075, Dev accuracy: 0.50600\n",
      "Epoch: 3, loss: 0.59764, Train accuracy: 0.51162, Dev accuracy: 0.50700\n",
      "Epoch: 3, loss: 0.44746, Train accuracy: 0.51300, Dev accuracy: 0.50100\n",
      "Epoch: 3, loss: 0.54786, Train accuracy: 0.51400, Dev accuracy: 0.50100\n",
      "Epoch: 3, loss: 0.55322, Train accuracy: 0.51500, Dev accuracy: 0.52100\n",
      "Epoch: 3, loss: 0.45086, Train accuracy: 0.51638, Dev accuracy: 0.52200\n",
      "Epoch: 3, loss: 0.52778, Train accuracy: 0.51763, Dev accuracy: 0.49600\n",
      "Epoch: 3, loss: 0.43847, Train accuracy: 0.51900, Dev accuracy: 0.50300\n",
      "Epoch: 3, loss: 0.62561, Train accuracy: 0.51987, Dev accuracy: 0.51300\n",
      "Epoch: 3, loss: 0.46771, Train accuracy: 0.52112, Dev accuracy: 0.49600\n",
      "Epoch: 3, loss: 0.48476, Train accuracy: 0.52225, Dev accuracy: 0.49400\n",
      "Epoch: 3, loss: 0.40704, Train accuracy: 0.52338, Dev accuracy: 0.50800\n",
      "Epoch: 3, loss: 0.54160, Train accuracy: 0.52438, Dev accuracy: 0.49700\n",
      "Epoch: 3, loss: 0.49814, Train accuracy: 0.52563, Dev accuracy: 0.50100\n",
      "Epoch: 3, loss: 0.41814, Train accuracy: 0.52700, Dev accuracy: 0.50900\n",
      "Epoch: 3, loss: 0.69271, Train accuracy: 0.52775, Dev accuracy: 0.51100\n",
      "Epoch: 3, loss: 0.44577, Train accuracy: 0.52925, Dev accuracy: 0.51800\n",
      "Epoch: 3, loss: 0.42456, Train accuracy: 0.53038, Dev accuracy: 0.51000\n",
      "Epoch: 3, loss: 0.44552, Train accuracy: 0.53150, Dev accuracy: 0.51900\n",
      "Epoch: 3, loss: 0.60106, Train accuracy: 0.53225, Dev accuracy: 0.49800\n",
      "Epoch: 3, loss: 0.56353, Train accuracy: 0.53325, Dev accuracy: 0.50200\n",
      "Epoch: 3, loss: 0.50884, Train accuracy: 0.53450, Dev accuracy: 0.51200\n",
      "Epoch: 3, loss: 0.40497, Train accuracy: 0.53587, Dev accuracy: 0.51500\n",
      "Epoch: 3, loss: 0.58174, Train accuracy: 0.53700, Dev accuracy: 0.50600\n",
      "Epoch: 3, loss: 0.48268, Train accuracy: 0.53800, Dev accuracy: 0.50700\n",
      "Epoch: 3, loss: 0.41070, Train accuracy: 0.53912, Dev accuracy: 0.51500\n",
      "Epoch: 3, loss: 0.34733, Train accuracy: 0.54050, Dev accuracy: 0.50900\n",
      "Epoch: 3, loss: 0.55537, Train accuracy: 0.54150, Dev accuracy: 0.49900\n",
      "Epoch: 3, loss: 0.59886, Train accuracy: 0.54250, Dev accuracy: 0.50900\n",
      "Epoch: 3, loss: 0.65454, Train accuracy: 0.54338, Dev accuracy: 0.50800\n",
      "Epoch: 3, loss: 0.63926, Train accuracy: 0.54438, Dev accuracy: 0.49600\n",
      "Epoch: 3, loss: 0.58263, Train accuracy: 0.54550, Dev accuracy: 0.50200\n",
      "Epoch: 3, loss: 0.56412, Train accuracy: 0.54650, Dev accuracy: 0.50400\n",
      "Epoch: 3, loss: 0.71109, Train accuracy: 0.54737, Dev accuracy: 0.50300\n",
      "Epoch: 3, loss: 0.41229, Train accuracy: 0.54875, Dev accuracy: 0.51300\n",
      "Epoch: 3, loss: 0.46911, Train accuracy: 0.54988, Dev accuracy: 0.51700\n",
      "Epoch: 3, loss: 0.44942, Train accuracy: 0.55125, Dev accuracy: 0.50400\n",
      "Epoch: 3, loss: 0.44756, Train accuracy: 0.55250, Dev accuracy: 0.52300\n",
      "Epoch: 3, loss: 0.44839, Train accuracy: 0.55363, Dev accuracy: 0.50700\n",
      "Epoch: 3, loss: 0.59119, Train accuracy: 0.55463, Dev accuracy: 0.50900\n",
      "Epoch: 3, loss: 0.55661, Train accuracy: 0.55550, Dev accuracy: 0.49000\n",
      "Epoch: 3, loss: 0.40043, Train accuracy: 0.55688, Dev accuracy: 0.50600\n",
      "Epoch: 3, loss: 0.50313, Train accuracy: 0.55800, Dev accuracy: 0.50400\n",
      "Epoch: 3, loss: 0.49082, Train accuracy: 0.55925, Dev accuracy: 0.50300\n",
      "Epoch: 3, loss: 0.65065, Train accuracy: 0.56025, Dev accuracy: 0.50600\n",
      "Epoch: 3, loss: 0.51760, Train accuracy: 0.56150, Dev accuracy: 0.50100\n",
      "Epoch: 3, loss: 0.48676, Train accuracy: 0.56263, Dev accuracy: 0.50800\n",
      "Epoch: 3, loss: 0.43409, Train accuracy: 0.56388, Dev accuracy: 0.49900\n",
      "Epoch: 3, loss: 0.51343, Train accuracy: 0.56500, Dev accuracy: 0.50200\n",
      "Epoch: 3, loss: 0.54882, Train accuracy: 0.56625, Dev accuracy: 0.50300\n",
      "Epoch: 3, loss: 0.61475, Train accuracy: 0.56737, Dev accuracy: 0.50900\n",
      "Epoch: 3, loss: 0.46386, Train accuracy: 0.56850, Dev accuracy: 0.51000\n",
      "Epoch: 3, loss: 0.38214, Train accuracy: 0.56988, Dev accuracy: 0.50000\n",
      "Epoch: 3, loss: 0.44043, Train accuracy: 0.57112, Dev accuracy: 0.50300\n",
      "Epoch: 3, loss: 0.45023, Train accuracy: 0.57250, Dev accuracy: 0.50000\n",
      "Epoch: 3, loss: 0.68386, Train accuracy: 0.57325, Dev accuracy: 0.50400\n",
      "Epoch: 3, loss: 0.47931, Train accuracy: 0.57437, Dev accuracy: 0.49600\n",
      "Epoch: 3, loss: 0.39357, Train accuracy: 0.57588, Dev accuracy: 0.49800\n",
      "Epoch: 3, loss: 0.49382, Train accuracy: 0.57725, Dev accuracy: 0.50000\n",
      "Epoch: 3, loss: 0.44748, Train accuracy: 0.57837, Dev accuracy: 0.50300\n",
      "Epoch: 3, loss: 0.63285, Train accuracy: 0.57925, Dev accuracy: 0.51000\n",
      "Epoch: 3, loss: 0.50717, Train accuracy: 0.58062, Dev accuracy: 0.50000\n",
      "Epoch: 3, loss: 0.45647, Train accuracy: 0.58200, Dev accuracy: 0.49900\n",
      "Epoch: 3, loss: 0.35387, Train accuracy: 0.58350, Dev accuracy: 0.50100\n",
      "Epoch: 3, loss: 0.55878, Train accuracy: 0.58450, Dev accuracy: 0.50100\n",
      "Epoch: 3, loss: 0.49304, Train accuracy: 0.58575, Dev accuracy: 0.50000\n",
      "Epoch: 3, loss: 0.51851, Train accuracy: 0.58662, Dev accuracy: 0.49900\n",
      "Epoch: 3, loss: 0.36616, Train accuracy: 0.58788, Dev accuracy: 0.51400\n",
      "Epoch: 3, loss: 0.41391, Train accuracy: 0.58913, Dev accuracy: 0.51000\n",
      "Epoch: 3, loss: 0.43626, Train accuracy: 0.59025, Dev accuracy: 0.51700\n",
      "Epoch: 3, loss: 0.50740, Train accuracy: 0.59137, Dev accuracy: 0.51600\n",
      "Epoch: 3, loss: 0.36353, Train accuracy: 0.59262, Dev accuracy: 0.51700\n",
      "Epoch: 3, loss: 0.55678, Train accuracy: 0.59362, Dev accuracy: 0.51100\n",
      "Epoch: 3, loss: 0.41584, Train accuracy: 0.59500, Dev accuracy: 0.51000\n",
      "Epoch: 3, loss: 0.64853, Train accuracy: 0.59600, Dev accuracy: 0.49900\n",
      "Epoch: 3, loss: 0.74815, Train accuracy: 0.59675, Dev accuracy: 0.50800\n",
      "Epoch: 3, loss: 0.42481, Train accuracy: 0.59788, Dev accuracy: 0.50100\n",
      "Epoch: 3, loss: 0.33492, Train accuracy: 0.59937, Dev accuracy: 0.50000\n",
      "Epoch: 3, loss: 0.35491, Train accuracy: 0.60075, Dev accuracy: 0.49800\n",
      "Epoch: 3, loss: 0.55033, Train accuracy: 0.60175, Dev accuracy: 0.49700\n",
      "Epoch: 3, loss: 0.51187, Train accuracy: 0.60300, Dev accuracy: 0.50300\n",
      "Epoch: 3, loss: 0.58651, Train accuracy: 0.60400, Dev accuracy: 0.50400\n",
      "Epoch: 3, loss: 0.47498, Train accuracy: 0.60525, Dev accuracy: 0.51600\n",
      "Epoch: 3, loss: 0.61934, Train accuracy: 0.60613, Dev accuracy: 0.50400\n",
      "Epoch: 3, loss: 0.53206, Train accuracy: 0.60737, Dev accuracy: 0.51000\n",
      "Epoch: 3, loss: 0.43843, Train accuracy: 0.60850, Dev accuracy: 0.50900\n",
      "Epoch: 3, loss: 0.58511, Train accuracy: 0.60950, Dev accuracy: 0.52000\n",
      "Epoch: 3, loss: 0.56940, Train accuracy: 0.61025, Dev accuracy: 0.52200\n",
      "Epoch: 3, loss: 0.34749, Train accuracy: 0.61175, Dev accuracy: 0.51000\n",
      "Epoch: 3, loss: 0.44607, Train accuracy: 0.61313, Dev accuracy: 0.51000\n",
      "Epoch: 3, loss: 0.45502, Train accuracy: 0.61438, Dev accuracy: 0.51500\n",
      "Epoch: 3, loss: 0.53318, Train accuracy: 0.61538, Dev accuracy: 0.50600\n",
      "Epoch: 3, loss: 0.43732, Train accuracy: 0.61662, Dev accuracy: 0.52200\n",
      "Epoch: 3, loss: 0.35680, Train accuracy: 0.61787, Dev accuracy: 0.50700\n",
      "Epoch: 3, loss: 0.49228, Train accuracy: 0.61925, Dev accuracy: 0.52000\n",
      "Epoch: 3, loss: 0.50748, Train accuracy: 0.62038, Dev accuracy: 0.50800\n",
      "Epoch: 3, loss: 0.62660, Train accuracy: 0.62150, Dev accuracy: 0.51900\n",
      "Epoch: 3, loss: 0.56701, Train accuracy: 0.62250, Dev accuracy: 0.51500\n",
      "Epoch: 3, loss: 0.45558, Train accuracy: 0.62400, Dev accuracy: 0.51500\n",
      "Epoch: 3, loss: 0.40411, Train accuracy: 0.62538, Dev accuracy: 0.51300\n",
      "Epoch: 3, loss: 0.46654, Train accuracy: 0.62650, Dev accuracy: 0.51400\n",
      "Epoch: 3, loss: 0.49372, Train accuracy: 0.62775, Dev accuracy: 0.51800\n",
      "Epoch: 3, loss: 0.37738, Train accuracy: 0.62913, Dev accuracy: 0.51000\n",
      "Epoch: 3, loss: 0.51394, Train accuracy: 0.63025, Dev accuracy: 0.51100\n",
      "Epoch: 3, loss: 0.57916, Train accuracy: 0.63138, Dev accuracy: 0.51300\n",
      "Epoch: 3, loss: 0.49796, Train accuracy: 0.63262, Dev accuracy: 0.51300\n",
      "Epoch: 3, loss: 0.47391, Train accuracy: 0.63387, Dev accuracy: 0.51200\n",
      "Epoch: 3, loss: 0.43350, Train accuracy: 0.63525, Dev accuracy: 0.50700\n",
      "Epoch: 3, loss: 0.32493, Train accuracy: 0.63675, Dev accuracy: 0.49800\n",
      "Epoch: 3, loss: 0.41877, Train accuracy: 0.63787, Dev accuracy: 0.50700\n",
      "Epoch: 3, loss: 0.47699, Train accuracy: 0.63925, Dev accuracy: 0.51100\n",
      "Epoch: 3, loss: 0.32001, Train accuracy: 0.64062, Dev accuracy: 0.51700\n",
      "Epoch: 3, loss: 0.59696, Train accuracy: 0.64150, Dev accuracy: 0.49900\n",
      "Epoch: 3, loss: 0.47775, Train accuracy: 0.64287, Dev accuracy: 0.50700\n",
      "Epoch: 3, loss: 0.39401, Train accuracy: 0.64438, Dev accuracy: 0.51400\n",
      "Epoch: 3, loss: 0.53183, Train accuracy: 0.64538, Dev accuracy: 0.51600\n",
      "Epoch: 3, loss: 0.73001, Train accuracy: 0.64625, Dev accuracy: 0.51100\n",
      "Epoch: 3, loss: 0.46913, Train accuracy: 0.64750, Dev accuracy: 0.51600\n",
      "Epoch: 3, loss: 0.50952, Train accuracy: 0.64875, Dev accuracy: 0.51000\n",
      "Epoch: 3, loss: 0.44976, Train accuracy: 0.65012, Dev accuracy: 0.51000\n",
      "Epoch: 3, loss: 0.44867, Train accuracy: 0.65163, Dev accuracy: 0.51000\n",
      "Epoch: 3, loss: 0.47279, Train accuracy: 0.65300, Dev accuracy: 0.52100\n",
      "Epoch: 3, loss: 0.49993, Train accuracy: 0.65400, Dev accuracy: 0.50600\n",
      "Epoch: 3, loss: 0.55562, Train accuracy: 0.65500, Dev accuracy: 0.50800\n",
      "Epoch: 3, loss: 0.41282, Train accuracy: 0.65650, Dev accuracy: 0.50700\n",
      "Epoch: 3, loss: 0.43629, Train accuracy: 0.65787, Dev accuracy: 0.50600\n",
      "Epoch: 3, loss: 0.49269, Train accuracy: 0.65925, Dev accuracy: 0.51100\n",
      "Epoch: 3, loss: 0.57864, Train accuracy: 0.66012, Dev accuracy: 0.51300\n",
      "Epoch: 3, loss: 0.63102, Train accuracy: 0.66138, Dev accuracy: 0.51500\n",
      "Epoch: 3, loss: 0.50428, Train accuracy: 0.66250, Dev accuracy: 0.51800\n",
      "Epoch: 3, loss: 0.67858, Train accuracy: 0.66338, Dev accuracy: 0.50500\n",
      "Epoch: 3, loss: 0.86241, Train accuracy: 0.66412, Dev accuracy: 0.50700\n",
      "Epoch: 3, loss: 0.53629, Train accuracy: 0.66538, Dev accuracy: 0.51500\n",
      "Epoch: 3, loss: 0.45977, Train accuracy: 0.66675, Dev accuracy: 0.50900\n",
      "Epoch: 3, loss: 0.47000, Train accuracy: 0.66787, Dev accuracy: 0.51500\n",
      "Epoch: 3, loss: 0.41732, Train accuracy: 0.66912, Dev accuracy: 0.50600\n",
      "Epoch: 3, loss: 0.48416, Train accuracy: 0.67038, Dev accuracy: 0.50200\n",
      "Epoch: 3, loss: 0.37651, Train accuracy: 0.67175, Dev accuracy: 0.50600\n",
      "Epoch: 3, loss: 0.49600, Train accuracy: 0.67300, Dev accuracy: 0.51100\n",
      "Epoch: 3, loss: 0.54465, Train accuracy: 0.67412, Dev accuracy: 0.50900\n",
      "Epoch: 3, loss: 0.48280, Train accuracy: 0.67525, Dev accuracy: 0.51000\n",
      "Epoch: 3, loss: 0.36895, Train accuracy: 0.67675, Dev accuracy: 0.51200\n",
      "Epoch: 3, loss: 0.40336, Train accuracy: 0.67812, Dev accuracy: 0.50700\n",
      "Epoch: 3, loss: 0.59643, Train accuracy: 0.67900, Dev accuracy: 0.50600\n",
      "Epoch: 3, loss: 0.41830, Train accuracy: 0.68025, Dev accuracy: 0.50200\n",
      "Epoch: 3, loss: 0.34741, Train accuracy: 0.68150, Dev accuracy: 0.50400\n",
      "Epoch: 3, loss: 0.46649, Train accuracy: 0.68263, Dev accuracy: 0.49600\n",
      "Epoch: 3, loss: 0.59936, Train accuracy: 0.68363, Dev accuracy: 0.50200\n",
      "Epoch: 3, loss: 0.65118, Train accuracy: 0.68425, Dev accuracy: 0.51300\n",
      "Epoch: 3, loss: 0.56701, Train accuracy: 0.68537, Dev accuracy: 0.49900\n",
      "Epoch: 3, loss: 0.53644, Train accuracy: 0.68625, Dev accuracy: 0.50800\n",
      "Epoch: 3, loss: 0.40304, Train accuracy: 0.68750, Dev accuracy: 0.50400\n",
      "Epoch: 3, loss: 0.49710, Train accuracy: 0.68875, Dev accuracy: 0.50400\n",
      "Epoch: 3, loss: 0.55041, Train accuracy: 0.68988, Dev accuracy: 0.49700\n",
      "Epoch: 3, loss: 0.54928, Train accuracy: 0.69088, Dev accuracy: 0.50100\n",
      "Epoch: 3, loss: 0.62411, Train accuracy: 0.69175, Dev accuracy: 0.49900\n",
      "Epoch: 3, loss: 0.53159, Train accuracy: 0.69300, Dev accuracy: 0.50800\n",
      "Epoch: 3, loss: 0.59047, Train accuracy: 0.69388, Dev accuracy: 0.50300\n",
      "Epoch: 3, loss: 0.49022, Train accuracy: 0.69500, Dev accuracy: 0.51300\n",
      "Epoch: 3, loss: 0.52397, Train accuracy: 0.69600, Dev accuracy: 0.50100\n",
      "Epoch: 3, loss: 0.58291, Train accuracy: 0.69700, Dev accuracy: 0.50100\n",
      "Epoch: 3, loss: 0.46609, Train accuracy: 0.69812, Dev accuracy: 0.50800\n",
      "Epoch: 3, loss: 0.38421, Train accuracy: 0.69937, Dev accuracy: 0.51700\n",
      "Epoch: 3, loss: 0.48168, Train accuracy: 0.70050, Dev accuracy: 0.49900\n",
      "Epoch: 3, loss: 0.48035, Train accuracy: 0.70150, Dev accuracy: 0.50500\n",
      "Epoch: 3, loss: 0.61240, Train accuracy: 0.70250, Dev accuracy: 0.50500\n",
      "Epoch: 3, loss: 0.57459, Train accuracy: 0.70388, Dev accuracy: 0.51400\n",
      "Epoch: 3, loss: 0.41399, Train accuracy: 0.70525, Dev accuracy: 0.51700\n",
      "Epoch: 3, loss: 0.59185, Train accuracy: 0.70625, Dev accuracy: 0.51400\n",
      "Epoch: 3, loss: 0.66351, Train accuracy: 0.70700, Dev accuracy: 0.49800\n",
      "Epoch: 3, loss: 0.56527, Train accuracy: 0.70825, Dev accuracy: 0.50500\n",
      "Epoch: 3, loss: 0.40568, Train accuracy: 0.70937, Dev accuracy: 0.52300\n",
      "Epoch: 3, loss: 0.40290, Train accuracy: 0.71075, Dev accuracy: 0.50500\n",
      "Epoch: 3, loss: 0.50494, Train accuracy: 0.71175, Dev accuracy: 0.50500\n",
      "Epoch: 3, loss: 0.33731, Train accuracy: 0.71325, Dev accuracy: 0.50900\n",
      "Epoch: 3, loss: 0.67337, Train accuracy: 0.71425, Dev accuracy: 0.50100\n",
      "Epoch: 3, loss: 0.60131, Train accuracy: 0.71525, Dev accuracy: 0.52200\n",
      "Epoch: 3, loss: 0.35395, Train accuracy: 0.71662, Dev accuracy: 0.49100\n",
      "Epoch: 3, loss: 0.37953, Train accuracy: 0.71775, Dev accuracy: 0.49200\n",
      "Epoch: 3, loss: 0.65533, Train accuracy: 0.71875, Dev accuracy: 0.50700\n",
      "Epoch: 3, loss: 0.40866, Train accuracy: 0.72025, Dev accuracy: 0.50300\n",
      "Epoch: 3, loss: 0.48624, Train accuracy: 0.72125, Dev accuracy: 0.50000\n",
      "Epoch: 3, loss: 0.51348, Train accuracy: 0.72262, Dev accuracy: 0.50000\n",
      "Epoch: 3, loss: 0.46396, Train accuracy: 0.72400, Dev accuracy: 0.50100\n",
      "Epoch: 3, loss: 0.50642, Train accuracy: 0.72525, Dev accuracy: 0.50600\n",
      "Epoch: 3, loss: 0.61987, Train accuracy: 0.72613, Dev accuracy: 0.49400\n",
      "Epoch: 3, loss: 0.50568, Train accuracy: 0.72725, Dev accuracy: 0.50300\n",
      "Epoch: 3, loss: 0.49939, Train accuracy: 0.72813, Dev accuracy: 0.51400\n",
      "Epoch: 3, loss: 0.61491, Train accuracy: 0.72888, Dev accuracy: 0.50800\n",
      "Epoch: 3, loss: 0.58636, Train accuracy: 0.72975, Dev accuracy: 0.50700\n",
      "Epoch: 3, loss: 0.69021, Train accuracy: 0.73075, Dev accuracy: 0.51800\n",
      "Epoch: 3, loss: 0.42415, Train accuracy: 0.73213, Dev accuracy: 0.49700\n",
      "Epoch: 3, loss: 0.53782, Train accuracy: 0.73313, Dev accuracy: 0.51800\n",
      "Epoch: 3, loss: 0.46891, Train accuracy: 0.73438, Dev accuracy: 0.50200\n",
      "Epoch: 3, loss: 0.56859, Train accuracy: 0.73538, Dev accuracy: 0.50500\n",
      "Epoch: 3, loss: 0.44334, Train accuracy: 0.73638, Dev accuracy: 0.50300\n",
      "Epoch: 3, loss: 0.37701, Train accuracy: 0.73762, Dev accuracy: 0.51400\n",
      "Epoch: 3, loss: 0.44457, Train accuracy: 0.73900, Dev accuracy: 0.50300\n",
      "Epoch: 3, loss: 0.59982, Train accuracy: 0.74000, Dev accuracy: 0.51600\n",
      "Epoch: 3, loss: 0.46031, Train accuracy: 0.74138, Dev accuracy: 0.52000\n",
      "Epoch: 3, loss: 0.43446, Train accuracy: 0.74275, Dev accuracy: 0.49500\n",
      "Epoch: 3, loss: 0.29610, Train accuracy: 0.74425, Dev accuracy: 0.49600\n",
      "Epoch: 3, loss: 0.54668, Train accuracy: 0.74525, Dev accuracy: 0.51400\n",
      "Epoch: 3, loss: 0.55682, Train accuracy: 0.74638, Dev accuracy: 0.51100\n",
      "Epoch: 3, loss: 0.41729, Train accuracy: 0.74775, Dev accuracy: 0.51800\n",
      "Epoch: 3, loss: 0.45159, Train accuracy: 0.74925, Dev accuracy: 0.49700\n",
      "Epoch: 3, loss: 0.57239, Train accuracy: 0.75025, Dev accuracy: 0.51300\n",
      "Epoch: 3, loss: 0.37521, Train accuracy: 0.75175, Dev accuracy: 0.50900\n",
      "Epoch: 3, loss: 0.46860, Train accuracy: 0.75287, Dev accuracy: 0.50500\n",
      "Epoch: 3, loss: 0.46413, Train accuracy: 0.75413, Dev accuracy: 0.50200\n",
      "Epoch: 3, loss: 0.31310, Train accuracy: 0.75550, Dev accuracy: 0.50800\n",
      "Epoch: 3, loss: 0.60727, Train accuracy: 0.75650, Dev accuracy: 0.50500\n",
      "Epoch: 3, loss: 0.44153, Train accuracy: 0.75775, Dev accuracy: 0.50300\n",
      "Epoch: 3, loss: 0.50509, Train accuracy: 0.75875, Dev accuracy: 0.50800\n",
      "Epoch: 3, loss: 0.52543, Train accuracy: 0.75975, Dev accuracy: 0.51800\n",
      "Epoch: 3, loss: 0.38327, Train accuracy: 0.76125, Dev accuracy: 0.51100\n",
      "Epoch: 3, loss: 0.35862, Train accuracy: 0.76262, Dev accuracy: 0.50900\n",
      "Epoch: 3, loss: 0.42517, Train accuracy: 0.76400, Dev accuracy: 0.51400\n",
      "Epoch: 3, loss: 0.57020, Train accuracy: 0.76500, Dev accuracy: 0.51500\n",
      "Epoch: 3, loss: 0.30004, Train accuracy: 0.76600, Dev accuracy: 0.49800\n"
     ]
    }
   ],
   "source": [
    "import torch\n",
    "\n",
    "# Starts training phase\n",
    "# for epoch in range(params.epochs):\n",
    "for epoch in range(3):\n",
    "    print(epoch)\n",
    "    # Set model in training model\n",
    "    model.train()\n",
    "    predictions = []\n",
    "    # Starts batch training\n",
    "    for x_batch, y_batch in loader_train:\n",
    "\n",
    "        y_batch = y_batch.type(torch.FloatTensor)\n",
    "\n",
    "        # Feed the model\n",
    "        y_pred = model(x_batch)\n",
    "\n",
    "        # Loss calculation\n",
    "        loss = F.binary_cross_entropy(y_pred, y_batch)\n",
    "\n",
    "        # Clean gradientes\n",
    "        optimizer.zero_grad()\n",
    "\n",
    "        # Gradients calculation\n",
    "        loss.backward()\n",
    "\n",
    "        # Gradients update\n",
    "        optimizer.step()\n",
    "\n",
    "        # Save predictions\n",
    "        predictions += list(y_pred.detach().numpy())\n",
    "        \n",
    "        # Evaluation phase\n",
    "        dev_predictions = evaluation(model, loader_dev)\n",
    "\n",
    "        # Metrics calculation\n",
    "        train_accurary = calculate_accuracy(y_train, predictions)\n",
    "        dev_accuracy = calculate_accuracy(y_dev, dev_predictions)\n",
    "        print(\"Epoch: %d, loss: %.5f, Train accuracy: %.5f, Dev accuracy: %.5f\" % (epoch+1, loss.item(), train_accurary, dev_accuracy))"
   ]
  }
 ],
 "metadata": {
  "kernelspec": {
   "display_name": "Python 3",
   "language": "python",
   "name": "python3"
  },
  "language_info": {
   "codemirror_mode": {
    "name": "ipython",
    "version": 3
   },
   "file_extension": ".py",
   "mimetype": "text/x-python",
   "name": "python",
   "nbconvert_exporter": "python",
   "pygments_lexer": "ipython3",
   "version": "3.6.12"
  }
 },
 "nbformat": 4,
 "nbformat_minor": 5
}
